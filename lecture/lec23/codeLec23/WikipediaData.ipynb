{
 "cells": [
  {
   "cell_type": "markdown",
   "metadata": {},
   "source": [
    "# Scraping Data from a Wikipedia Table"
   ]
  },
  {
   "cell_type": "code",
   "execution_count": 1,
   "metadata": {},
   "outputs": [],
   "source": [
    "import requests\n",
    "from lxml import html\n",
    "from bs4 import BeautifulSoup\n",
    "import pandas as pd\n",
    "import numpy as np\n",
    "import matplotlib.pyplot as plt\n",
    "import seaborn as sns\n",
    "%matplotlib inline\n",
    "sns.set_context(\"talk\")\n",
    "sns.set(style=\"white\")"
   ]
  },
  {
   "cell_type": "markdown",
   "metadata": {},
   "source": [
    "There's a lot of data on the Web, and we can programmatically scrape these data to explore, visualize and model.\n",
    "\n",
    "We will show three ways to extract the world records for the men's 1500 meter race. These data are available on a Wikipedia page at the follwoing URL:\n",
    "\n",
    "https://en.wikipedia.org/wiki/1500_metres_world_record_progression\n",
    "\n",
    "Visit the page and scroll around to see that there are multiple tables. We want the information in only one of them."
   ]
  },
  {
   "cell_type": "code",
   "execution_count": 2,
   "metadata": {},
   "outputs": [],
   "source": [
    "url = \"https://en.wikipedia.org/wiki/1500_metres_world_record_progression\""
   ]
  },
  {
   "cell_type": "markdown",
   "metadata": {},
   "source": [
    "## Pandas"
   ]
  },
  {
   "cell_type": "markdown",
   "metadata": {},
   "source": [
    "We can read html documents with Pandas' `read_html()`, which returns a list of tables found in the document. This can be handy when the data we want are in a table. "
   ]
  },
  {
   "cell_type": "code",
   "execution_count": 3,
   "metadata": {},
   "outputs": [],
   "source": [
    "tables = pd.read_html(url)"
   ]
  },
  {
   "cell_type": "code",
   "execution_count": 4,
   "metadata": {},
   "outputs": [
    {
     "data": {
      "text/plain": [
       "6"
      ]
     },
     "execution_count": 4,
     "metadata": {},
     "output_type": "execute_result"
    }
   ],
   "source": [
    "len(tables)"
   ]
  },
  {
   "cell_type": "markdown",
   "metadata": {},
   "source": [
    "Pandas has found six tables, and created six data frames for us. We examine the first fiew rows of each table to figure out which one we want."
   ]
  },
  {
   "cell_type": "code",
   "execution_count": 5,
   "metadata": {},
   "outputs": [
    {
     "data": {
      "text/html": [
       "<div>\n",
       "<style scoped>\n",
       "    .dataframe tbody tr th:only-of-type {\n",
       "        vertical-align: middle;\n",
       "    }\n",
       "\n",
       "    .dataframe tbody tr th {\n",
       "        vertical-align: top;\n",
       "    }\n",
       "\n",
       "    .dataframe thead th {\n",
       "        text-align: right;\n",
       "    }\n",
       "</style>\n",
       "<table border=\"1\" class=\"dataframe\">\n",
       "  <thead>\n",
       "    <tr style=\"text-align: right;\">\n",
       "      <th></th>\n",
       "      <th>Time</th>\n",
       "      <th>Athlete</th>\n",
       "      <th>Date</th>\n",
       "      <th>Place</th>\n",
       "    </tr>\n",
       "  </thead>\n",
       "  <tbody>\n",
       "    <tr>\n",
       "      <td>0</td>\n",
       "      <td>4:24+3/5</td>\n",
       "      <td>J. Borel (FRA)</td>\n",
       "      <td>1892</td>\n",
       "      <td>NaN</td>\n",
       "    </tr>\n",
       "    <tr>\n",
       "      <td>1</td>\n",
       "      <td>4:21</td>\n",
       "      <td>Fernand Meiers (FRA)</td>\n",
       "      <td>1893-05-28</td>\n",
       "      <td>Paris, France</td>\n",
       "    </tr>\n",
       "    <tr>\n",
       "      <td>2</td>\n",
       "      <td>4:19+4/5</td>\n",
       "      <td>Felix Bourdier (FRA)</td>\n",
       "      <td>1894-07-22</td>\n",
       "      <td>Paris, France</td>\n",
       "    </tr>\n",
       "    <tr>\n",
       "      <td>3</td>\n",
       "      <td>4:18+2/5</td>\n",
       "      <td>Albin Lermusiaux (FRA)</td>\n",
       "      <td>1895-05-12</td>\n",
       "      <td>Paris, France</td>\n",
       "    </tr>\n",
       "    <tr>\n",
       "      <td>4</td>\n",
       "      <td>4:16+4/5</td>\n",
       "      <td>Michel Soalhat (FRA)</td>\n",
       "      <td>1895-05-26</td>\n",
       "      <td>Paris, France</td>\n",
       "    </tr>\n",
       "  </tbody>\n",
       "</table>\n",
       "</div>"
      ],
      "text/plain": [
       "       Time                 Athlete        Date          Place\n",
       "0  4:24+3/5          J. Borel (FRA)        1892            NaN\n",
       "1      4:21    Fernand Meiers (FRA)  1893-05-28  Paris, France\n",
       "2  4:19+4/5    Felix Bourdier (FRA)  1894-07-22  Paris, France\n",
       "3  4:18+2/5  Albin Lermusiaux (FRA)  1895-05-12  Paris, France\n",
       "4  4:16+4/5    Michel Soalhat (FRA)  1895-05-26  Paris, France"
      ]
     },
     "metadata": {},
     "output_type": "display_data"
    },
    {
     "data": {
      "text/html": [
       "<div>\n",
       "<style scoped>\n",
       "    .dataframe tbody tr th:only-of-type {\n",
       "        vertical-align: middle;\n",
       "    }\n",
       "\n",
       "    .dataframe tbody tr th {\n",
       "        vertical-align: top;\n",
       "    }\n",
       "\n",
       "    .dataframe thead th {\n",
       "        text-align: right;\n",
       "    }\n",
       "</style>\n",
       "<table border=\"1\" class=\"dataframe\">\n",
       "  <thead>\n",
       "    <tr style=\"text-align: right;\">\n",
       "      <th></th>\n",
       "      <th>Time</th>\n",
       "      <th>Auto</th>\n",
       "      <th>Athlete</th>\n",
       "      <th>Date</th>\n",
       "      <th>Place</th>\n",
       "    </tr>\n",
       "  </thead>\n",
       "  <tbody>\n",
       "    <tr>\n",
       "      <td>0</td>\n",
       "      <td>3:55.8</td>\n",
       "      <td>NaN</td>\n",
       "      <td>Abel Kiviat (USA)</td>\n",
       "      <td>1912-06-08</td>\n",
       "      <td>Cambridge, Massachusetts, United States</td>\n",
       "    </tr>\n",
       "    <tr>\n",
       "      <td>1</td>\n",
       "      <td>3:54.7</td>\n",
       "      <td>NaN</td>\n",
       "      <td>John Zander (SWE)</td>\n",
       "      <td>1917-08-05</td>\n",
       "      <td>Stockholm, Sweden</td>\n",
       "    </tr>\n",
       "    <tr>\n",
       "      <td>2</td>\n",
       "      <td>3:52.6</td>\n",
       "      <td>NaN</td>\n",
       "      <td>Paavo Nurmi (FIN)</td>\n",
       "      <td>1924-06-19</td>\n",
       "      <td>Helsinki, Finland</td>\n",
       "    </tr>\n",
       "    <tr>\n",
       "      <td>3</td>\n",
       "      <td>3:51.0</td>\n",
       "      <td>NaN</td>\n",
       "      <td>Otto Peltzer (GER)</td>\n",
       "      <td>1926-09-11</td>\n",
       "      <td>Berlin, Germany</td>\n",
       "    </tr>\n",
       "    <tr>\n",
       "      <td>4</td>\n",
       "      <td>3:49.2</td>\n",
       "      <td>NaN</td>\n",
       "      <td>Jules Ladoumegue (FRA)</td>\n",
       "      <td>1930-10-05</td>\n",
       "      <td>Paris, France</td>\n",
       "    </tr>\n",
       "  </tbody>\n",
       "</table>\n",
       "</div>"
      ],
      "text/plain": [
       "     Time Auto                 Athlete        Date  \\\n",
       "0  3:55.8  NaN       Abel Kiviat (USA)  1912-06-08   \n",
       "1  3:54.7  NaN       John Zander (SWE)  1917-08-05   \n",
       "2  3:52.6  NaN       Paavo Nurmi (FIN)  1924-06-19   \n",
       "3  3:51.0  NaN      Otto Peltzer (GER)  1926-09-11   \n",
       "4  3:49.2  NaN  Jules Ladoumegue (FRA)  1930-10-05   \n",
       "\n",
       "                                     Place  \n",
       "0  Cambridge, Massachusetts, United States  \n",
       "1                        Stockholm, Sweden  \n",
       "2                        Helsinki, Finland  \n",
       "3                          Berlin, Germany  \n",
       "4                            Paris, France  "
      ]
     },
     "metadata": {},
     "output_type": "display_data"
    },
    {
     "data": {
      "text/html": [
       "<div>\n",
       "<style scoped>\n",
       "    .dataframe tbody tr th:only-of-type {\n",
       "        vertical-align: middle;\n",
       "    }\n",
       "\n",
       "    .dataframe tbody tr th {\n",
       "        vertical-align: top;\n",
       "    }\n",
       "\n",
       "    .dataframe thead th {\n",
       "        text-align: right;\n",
       "    }\n",
       "</style>\n",
       "<table border=\"1\" class=\"dataframe\">\n",
       "  <thead>\n",
       "    <tr style=\"text-align: right;\">\n",
       "      <th></th>\n",
       "      <th>Time</th>\n",
       "      <th>Athlete</th>\n",
       "      <th>Date</th>\n",
       "      <th>Place</th>\n",
       "    </tr>\n",
       "  </thead>\n",
       "  <tbody>\n",
       "    <tr>\n",
       "      <td>0</td>\n",
       "      <td>5:18.2</td>\n",
       "      <td>Anna Mushkina (URS)</td>\n",
       "      <td>1927-08-19</td>\n",
       "      <td>Moscow, Soviet Union</td>\n",
       "    </tr>\n",
       "    <tr>\n",
       "      <td>1</td>\n",
       "      <td>5:07.0</td>\n",
       "      <td>Anna Mushkina (URS)</td>\n",
       "      <td>1934-09-16</td>\n",
       "      <td>Alma-Ata, Soviet Union</td>\n",
       "    </tr>\n",
       "    <tr>\n",
       "      <td>2</td>\n",
       "      <td>5:02.0</td>\n",
       "      <td>Lydia Freiberg (URS)</td>\n",
       "      <td>1936-07-13</td>\n",
       "      <td>Moscow, Soviet Union</td>\n",
       "    </tr>\n",
       "    <tr>\n",
       "      <td>3</td>\n",
       "      <td>4:47.2</td>\n",
       "      <td>Yevdokiya Vasilyeva (URS)</td>\n",
       "      <td>1936-07-30</td>\n",
       "      <td>Moscow, Soviet Union</td>\n",
       "    </tr>\n",
       "    <tr>\n",
       "      <td>4</td>\n",
       "      <td>4:45.2</td>\n",
       "      <td>Yevdokiya Vasilyeva (URS)</td>\n",
       "      <td>1937-09-13</td>\n",
       "      <td>Moscow, Soviet Union</td>\n",
       "    </tr>\n",
       "  </tbody>\n",
       "</table>\n",
       "</div>"
      ],
      "text/plain": [
       "     Time                    Athlete        Date                   Place\n",
       "0  5:18.2        Anna Mushkina (URS)  1927-08-19    Moscow, Soviet Union\n",
       "1  5:07.0        Anna Mushkina (URS)  1934-09-16  Alma-Ata, Soviet Union\n",
       "2  5:02.0       Lydia Freiberg (URS)  1936-07-13    Moscow, Soviet Union\n",
       "3  4:47.2  Yevdokiya Vasilyeva (URS)  1936-07-30    Moscow, Soviet Union\n",
       "4  4:45.2  Yevdokiya Vasilyeva (URS)  1937-09-13    Moscow, Soviet Union"
      ]
     },
     "metadata": {},
     "output_type": "display_data"
    },
    {
     "data": {
      "text/html": [
       "<div>\n",
       "<style scoped>\n",
       "    .dataframe tbody tr th:only-of-type {\n",
       "        vertical-align: middle;\n",
       "    }\n",
       "\n",
       "    .dataframe tbody tr th {\n",
       "        vertical-align: top;\n",
       "    }\n",
       "\n",
       "    .dataframe thead th {\n",
       "        text-align: right;\n",
       "    }\n",
       "</style>\n",
       "<table border=\"1\" class=\"dataframe\">\n",
       "  <thead>\n",
       "    <tr style=\"text-align: right;\">\n",
       "      <th></th>\n",
       "      <th>Time</th>\n",
       "      <th>Auto</th>\n",
       "      <th>Athlete</th>\n",
       "      <th>Date</th>\n",
       "      <th>Place</th>\n",
       "    </tr>\n",
       "  </thead>\n",
       "  <tbody>\n",
       "    <tr>\n",
       "      <td>0</td>\n",
       "      <td>4:17.3+</td>\n",
       "      <td>NaN</td>\n",
       "      <td>Anne Smith (GBR)</td>\n",
       "      <td>1967-06-03</td>\n",
       "      <td>Chiswick, Great Britain</td>\n",
       "    </tr>\n",
       "    <tr>\n",
       "      <td>1</td>\n",
       "      <td>4:15.6</td>\n",
       "      <td>NaN</td>\n",
       "      <td>Maria Gommers (NED)</td>\n",
       "      <td>1967-10-24</td>\n",
       "      <td>Sittard, Netherlands</td>\n",
       "    </tr>\n",
       "    <tr>\n",
       "      <td>2</td>\n",
       "      <td>4:12.4</td>\n",
       "      <td>NaN</td>\n",
       "      <td>Paola Pigni (ITA)</td>\n",
       "      <td>1969-07-02</td>\n",
       "      <td>Milan, Italy</td>\n",
       "    </tr>\n",
       "    <tr>\n",
       "      <td>3</td>\n",
       "      <td>4:10.7</td>\n",
       "      <td>4:10.77</td>\n",
       "      <td>Jaroslava Jehličková (CZE)</td>\n",
       "      <td>1969-09-20</td>\n",
       "      <td>Athens, Greece</td>\n",
       "    </tr>\n",
       "    <tr>\n",
       "      <td>4</td>\n",
       "      <td>4:09.6</td>\n",
       "      <td>4:09.62</td>\n",
       "      <td>Karin Burneleit (GDR)</td>\n",
       "      <td>1971-08-15</td>\n",
       "      <td>Helsinki, Finland</td>\n",
       "    </tr>\n",
       "  </tbody>\n",
       "</table>\n",
       "</div>"
      ],
      "text/plain": [
       "      Time     Auto                     Athlete        Date  \\\n",
       "0  4:17.3+      NaN            Anne Smith (GBR)  1967-06-03   \n",
       "1   4:15.6      NaN         Maria Gommers (NED)  1967-10-24   \n",
       "2   4:12.4      NaN           Paola Pigni (ITA)  1969-07-02   \n",
       "3   4:10.7  4:10.77  Jaroslava Jehličková (CZE)  1969-09-20   \n",
       "4   4:09.6  4:09.62       Karin Burneleit (GDR)  1971-08-15   \n",
       "\n",
       "                     Place  \n",
       "0  Chiswick, Great Britain  \n",
       "1     Sittard, Netherlands  \n",
       "2             Milan, Italy  \n",
       "3           Athens, Greece  \n",
       "4        Helsinki, Finland  "
      ]
     },
     "metadata": {},
     "output_type": "display_data"
    },
    {
     "data": {
      "text/html": [
       "<div>\n",
       "<style scoped>\n",
       "    .dataframe tbody tr th:only-of-type {\n",
       "        vertical-align: middle;\n",
       "    }\n",
       "\n",
       "    .dataframe tbody tr th {\n",
       "        vertical-align: top;\n",
       "    }\n",
       "\n",
       "    .dataframe thead th {\n",
       "        text-align: right;\n",
       "    }\n",
       "</style>\n",
       "<table border=\"1\" class=\"dataframe\">\n",
       "  <thead>\n",
       "    <tr style=\"text-align: right;\">\n",
       "      <th></th>\n",
       "      <th>vteAthletics record progressions</th>\n",
       "      <th>vteAthletics record progressions.1</th>\n",
       "    </tr>\n",
       "  </thead>\n",
       "  <tbody>\n",
       "    <tr>\n",
       "      <td>0</td>\n",
       "      <td>World</td>\n",
       "      <td>Running 60 metres men women 100 metres men wom...</td>\n",
       "    </tr>\n",
       "    <tr>\n",
       "      <td>1</td>\n",
       "      <td>Running</td>\n",
       "      <td>60 metres men women 100 metres men women 200 m...</td>\n",
       "    </tr>\n",
       "    <tr>\n",
       "      <td>2</td>\n",
       "      <td>Walking</td>\n",
       "      <td>10 km men women 20 km men women 50 km men women</td>\n",
       "    </tr>\n",
       "    <tr>\n",
       "      <td>3</td>\n",
       "      <td>Jumping</td>\n",
       "      <td>High jump men outdoor men indoor women Long ju...</td>\n",
       "    </tr>\n",
       "    <tr>\n",
       "      <td>4</td>\n",
       "      <td>Throwing</td>\n",
       "      <td>Shot put men women Discus men women Hammer men...</td>\n",
       "    </tr>\n",
       "  </tbody>\n",
       "</table>\n",
       "</div>"
      ],
      "text/plain": [
       "  vteAthletics record progressions  \\\n",
       "0                            World   \n",
       "1                          Running   \n",
       "2                          Walking   \n",
       "3                          Jumping   \n",
       "4                         Throwing   \n",
       "\n",
       "                  vteAthletics record progressions.1  \n",
       "0  Running 60 metres men women 100 metres men wom...  \n",
       "1  60 metres men women 100 metres men women 200 m...  \n",
       "2    10 km men women 20 km men women 50 km men women  \n",
       "3  High jump men outdoor men indoor women Long ju...  \n",
       "4  Shot put men women Discus men women Hammer men...  "
      ]
     },
     "metadata": {},
     "output_type": "display_data"
    },
    {
     "data": {
      "text/html": [
       "<div>\n",
       "<style scoped>\n",
       "    .dataframe tbody tr th:only-of-type {\n",
       "        vertical-align: middle;\n",
       "    }\n",
       "\n",
       "    .dataframe tbody tr th {\n",
       "        vertical-align: top;\n",
       "    }\n",
       "\n",
       "    .dataframe thead th {\n",
       "        text-align: right;\n",
       "    }\n",
       "</style>\n",
       "<table border=\"1\" class=\"dataframe\">\n",
       "  <thead>\n",
       "    <tr style=\"text-align: right;\">\n",
       "      <th></th>\n",
       "      <th>0</th>\n",
       "      <th>1</th>\n",
       "    </tr>\n",
       "  </thead>\n",
       "  <tbody>\n",
       "    <tr>\n",
       "      <td>0</td>\n",
       "      <td>Running</td>\n",
       "      <td>60 metres men women 100 metres men women 200 m...</td>\n",
       "    </tr>\n",
       "    <tr>\n",
       "      <td>1</td>\n",
       "      <td>Walking</td>\n",
       "      <td>10 km men women 20 km men women 50 km men women</td>\n",
       "    </tr>\n",
       "    <tr>\n",
       "      <td>2</td>\n",
       "      <td>Jumping</td>\n",
       "      <td>High jump men outdoor men indoor women Long ju...</td>\n",
       "    </tr>\n",
       "    <tr>\n",
       "      <td>3</td>\n",
       "      <td>Throwing</td>\n",
       "      <td>Shot put men women Discus men women Hammer men...</td>\n",
       "    </tr>\n",
       "    <tr>\n",
       "      <td>4</td>\n",
       "      <td>Combined events</td>\n",
       "      <td>Decathlon Heptathlon men women Pentathlon</td>\n",
       "    </tr>\n",
       "  </tbody>\n",
       "</table>\n",
       "</div>"
      ],
      "text/plain": [
       "                 0                                                  1\n",
       "0          Running  60 metres men women 100 metres men women 200 m...\n",
       "1          Walking    10 km men women 20 km men women 50 km men women\n",
       "2          Jumping  High jump men outdoor men indoor women Long ju...\n",
       "3         Throwing  Shot put men women Discus men women Hammer men...\n",
       "4  Combined events          Decathlon Heptathlon men women Pentathlon"
      ]
     },
     "metadata": {},
     "output_type": "display_data"
    }
   ],
   "source": [
    "for t in tables:\n",
    "    display(t.head())"
   ]
  },
  {
   "cell_type": "markdown",
   "metadata": {},
   "source": [
    "We see that it's the second table that we want.\n",
    "Let's look at more of the records, and examine their values more closely."
   ]
  },
  {
   "cell_type": "code",
   "execution_count": 6,
   "metadata": {},
   "outputs": [
    {
     "data": {
      "text/html": [
       "<div>\n",
       "<style scoped>\n",
       "    .dataframe tbody tr th:only-of-type {\n",
       "        vertical-align: middle;\n",
       "    }\n",
       "\n",
       "    .dataframe tbody tr th {\n",
       "        vertical-align: top;\n",
       "    }\n",
       "\n",
       "    .dataframe thead th {\n",
       "        text-align: right;\n",
       "    }\n",
       "</style>\n",
       "<table border=\"1\" class=\"dataframe\">\n",
       "  <thead>\n",
       "    <tr style=\"text-align: right;\">\n",
       "      <th></th>\n",
       "      <th>Time</th>\n",
       "      <th>Auto</th>\n",
       "      <th>Athlete</th>\n",
       "      <th>Date</th>\n",
       "      <th>Place</th>\n",
       "    </tr>\n",
       "  </thead>\n",
       "  <tbody>\n",
       "    <tr>\n",
       "      <td>0</td>\n",
       "      <td>3:55.8</td>\n",
       "      <td>NaN</td>\n",
       "      <td>Abel Kiviat (USA)</td>\n",
       "      <td>1912-06-08</td>\n",
       "      <td>Cambridge, Massachusetts, United States</td>\n",
       "    </tr>\n",
       "    <tr>\n",
       "      <td>1</td>\n",
       "      <td>3:54.7</td>\n",
       "      <td>NaN</td>\n",
       "      <td>John Zander (SWE)</td>\n",
       "      <td>1917-08-05</td>\n",
       "      <td>Stockholm, Sweden</td>\n",
       "    </tr>\n",
       "    <tr>\n",
       "      <td>2</td>\n",
       "      <td>3:52.6</td>\n",
       "      <td>NaN</td>\n",
       "      <td>Paavo Nurmi (FIN)</td>\n",
       "      <td>1924-06-19</td>\n",
       "      <td>Helsinki, Finland</td>\n",
       "    </tr>\n",
       "    <tr>\n",
       "      <td>3</td>\n",
       "      <td>3:51.0</td>\n",
       "      <td>NaN</td>\n",
       "      <td>Otto Peltzer (GER)</td>\n",
       "      <td>1926-09-11</td>\n",
       "      <td>Berlin, Germany</td>\n",
       "    </tr>\n",
       "    <tr>\n",
       "      <td>4</td>\n",
       "      <td>3:49.2</td>\n",
       "      <td>NaN</td>\n",
       "      <td>Jules Ladoumegue (FRA)</td>\n",
       "      <td>1930-10-05</td>\n",
       "      <td>Paris, France</td>\n",
       "    </tr>\n",
       "    <tr>\n",
       "      <td>5</td>\n",
       "      <td>3:49.2</td>\n",
       "      <td>NaN</td>\n",
       "      <td>Luigi Beccali (ITA)</td>\n",
       "      <td>1933-09-09</td>\n",
       "      <td>Turin, Italy</td>\n",
       "    </tr>\n",
       "    <tr>\n",
       "      <td>6</td>\n",
       "      <td>3:49.0</td>\n",
       "      <td>NaN</td>\n",
       "      <td>Luigi Beccali (ITA)</td>\n",
       "      <td>1933-09-17</td>\n",
       "      <td>Milan, Italy</td>\n",
       "    </tr>\n",
       "    <tr>\n",
       "      <td>7</td>\n",
       "      <td>3:48.8</td>\n",
       "      <td>NaN</td>\n",
       "      <td>Bill Bonthron (USA)</td>\n",
       "      <td>1934-06-30</td>\n",
       "      <td>Milwaukee, United States</td>\n",
       "    </tr>\n",
       "    <tr>\n",
       "      <td>8</td>\n",
       "      <td>3:47.8</td>\n",
       "      <td>NaN</td>\n",
       "      <td>Jack Lovelock (NZL)</td>\n",
       "      <td>1936-08-06</td>\n",
       "      <td>Berlin, Germany</td>\n",
       "    </tr>\n",
       "    <tr>\n",
       "      <td>9</td>\n",
       "      <td>3:47.6</td>\n",
       "      <td>NaN</td>\n",
       "      <td>Gunder Hägg (SWE)</td>\n",
       "      <td>1941-08-10</td>\n",
       "      <td>Stockholm, Sweden</td>\n",
       "    </tr>\n",
       "    <tr>\n",
       "      <td>10</td>\n",
       "      <td>3:45.8</td>\n",
       "      <td>NaN</td>\n",
       "      <td>Gunder Hägg (SWE)</td>\n",
       "      <td>1942-07-17</td>\n",
       "      <td>Stockholm, Sweden</td>\n",
       "    </tr>\n",
       "    <tr>\n",
       "      <td>11</td>\n",
       "      <td>3:45.0</td>\n",
       "      <td>NaN</td>\n",
       "      <td>Arne Andersson (SWE)</td>\n",
       "      <td>1943-08-17</td>\n",
       "      <td>Gothenburg, Sweden</td>\n",
       "    </tr>\n",
       "    <tr>\n",
       "      <td>12</td>\n",
       "      <td>3:43.0</td>\n",
       "      <td>NaN</td>\n",
       "      <td>Gunder Hägg (SWE)</td>\n",
       "      <td>1944-07-07</td>\n",
       "      <td>Gothenburg, Sweden</td>\n",
       "    </tr>\n",
       "    <tr>\n",
       "      <td>13</td>\n",
       "      <td>3:43.0</td>\n",
       "      <td>NaN</td>\n",
       "      <td>Lennart Strand (SWE)</td>\n",
       "      <td>1947-07-15</td>\n",
       "      <td>Malmö, Sweden</td>\n",
       "    </tr>\n",
       "    <tr>\n",
       "      <td>14</td>\n",
       "      <td>3:43.0</td>\n",
       "      <td>NaN</td>\n",
       "      <td>Werner Lueg (FRG)</td>\n",
       "      <td>1952-06-29</td>\n",
       "      <td>Berlin, Germany</td>\n",
       "    </tr>\n",
       "    <tr>\n",
       "      <td>15</td>\n",
       "      <td>3:42.8+</td>\n",
       "      <td>NaN</td>\n",
       "      <td>Wes Santee (USA)</td>\n",
       "      <td>1954-06-04</td>\n",
       "      <td>Compton, United States</td>\n",
       "    </tr>\n",
       "    <tr>\n",
       "      <td>16</td>\n",
       "      <td>3:41.8+</td>\n",
       "      <td>NaN</td>\n",
       "      <td>John Landy (AUS)</td>\n",
       "      <td>1954-06-21</td>\n",
       "      <td>Turku, Finland</td>\n",
       "    </tr>\n",
       "    <tr>\n",
       "      <td>17</td>\n",
       "      <td>3:40.8</td>\n",
       "      <td>NaN</td>\n",
       "      <td>Sándor Iharos (HUN)</td>\n",
       "      <td>1955-07-28</td>\n",
       "      <td>Helsinki, Finland</td>\n",
       "    </tr>\n",
       "    <tr>\n",
       "      <td>18</td>\n",
       "      <td>3:40.8</td>\n",
       "      <td>NaN</td>\n",
       "      <td>László Tábori (HUN)</td>\n",
       "      <td>1955-09-06</td>\n",
       "      <td>Oslo, Norway</td>\n",
       "    </tr>\n",
       "    <tr>\n",
       "      <td>19</td>\n",
       "      <td>3:40.8</td>\n",
       "      <td>NaN</td>\n",
       "      <td>Gunnar Nielsen (DEN)</td>\n",
       "      <td>1955-09-06</td>\n",
       "      <td>Oslo, Norway</td>\n",
       "    </tr>\n",
       "  </tbody>\n",
       "</table>\n",
       "</div>"
      ],
      "text/plain": [
       "       Time Auto                 Athlete        Date  \\\n",
       "0    3:55.8  NaN       Abel Kiviat (USA)  1912-06-08   \n",
       "1    3:54.7  NaN       John Zander (SWE)  1917-08-05   \n",
       "2    3:52.6  NaN       Paavo Nurmi (FIN)  1924-06-19   \n",
       "3    3:51.0  NaN      Otto Peltzer (GER)  1926-09-11   \n",
       "4    3:49.2  NaN  Jules Ladoumegue (FRA)  1930-10-05   \n",
       "5    3:49.2  NaN     Luigi Beccali (ITA)  1933-09-09   \n",
       "6    3:49.0  NaN     Luigi Beccali (ITA)  1933-09-17   \n",
       "7    3:48.8  NaN     Bill Bonthron (USA)  1934-06-30   \n",
       "8    3:47.8  NaN     Jack Lovelock (NZL)  1936-08-06   \n",
       "9    3:47.6  NaN       Gunder Hägg (SWE)  1941-08-10   \n",
       "10   3:45.8  NaN       Gunder Hägg (SWE)  1942-07-17   \n",
       "11   3:45.0  NaN    Arne Andersson (SWE)  1943-08-17   \n",
       "12   3:43.0  NaN       Gunder Hägg (SWE)  1944-07-07   \n",
       "13   3:43.0  NaN    Lennart Strand (SWE)  1947-07-15   \n",
       "14   3:43.0  NaN       Werner Lueg (FRG)  1952-06-29   \n",
       "15  3:42.8+  NaN        Wes Santee (USA)  1954-06-04   \n",
       "16  3:41.8+  NaN        John Landy (AUS)  1954-06-21   \n",
       "17   3:40.8  NaN     Sándor Iharos (HUN)  1955-07-28   \n",
       "18   3:40.8  NaN     László Tábori (HUN)  1955-09-06   \n",
       "19   3:40.8  NaN    Gunnar Nielsen (DEN)  1955-09-06   \n",
       "\n",
       "                                      Place  \n",
       "0   Cambridge, Massachusetts, United States  \n",
       "1                         Stockholm, Sweden  \n",
       "2                         Helsinki, Finland  \n",
       "3                           Berlin, Germany  \n",
       "4                             Paris, France  \n",
       "5                              Turin, Italy  \n",
       "6                              Milan, Italy  \n",
       "7                  Milwaukee, United States  \n",
       "8                           Berlin, Germany  \n",
       "9                         Stockholm, Sweden  \n",
       "10                        Stockholm, Sweden  \n",
       "11                       Gothenburg, Sweden  \n",
       "12                       Gothenburg, Sweden  \n",
       "13                            Malmö, Sweden  \n",
       "14                          Berlin, Germany  \n",
       "15                   Compton, United States  \n",
       "16                           Turku, Finland  \n",
       "17                        Helsinki, Finland  \n",
       "18                             Oslo, Norway  \n",
       "19                             Oslo, Norway  "
      ]
     },
     "execution_count": 6,
     "metadata": {},
     "output_type": "execute_result"
    }
   ],
   "source": [
    "tables[1].head(20)"
   ]
  },
  {
   "cell_type": "markdown",
   "metadata": {},
   "source": [
    "The variables are strings that we will need to clean and transform. Specifically, \n",
    " \n",
    "+ Run times:\n",
    "    + we will want to convert these strings from min:sec to either seconds or minutes, e.g. convert '3:55.8' to  180+55.8 = 235.8 seconds  \n",
    "    + A few of the rows have +-signs in the race time fields\n",
    "+ Date: we will want to transform to a date type so that we can visualize the programm in time\n",
    "\n",
    "We hold off on cleaning and transforming these variables until after we show two other approaches to acquire these data. "
   ]
  },
  {
   "cell_type": "markdown",
   "metadata": {},
   "source": [
    "## HTTP \n",
    "\n",
    "Before we introduce Beautiful Soup and XPath, we first examine the HTTP request to retrieve the page. \n",
    "\n",
    "We use the 'requests' library. HTTP has a GET and PUT method. To retrieve a Web page, we use GET. In another notebook, we use PUT to retrieve data using a Web form."
   ]
  },
  {
   "cell_type": "code",
   "execution_count": 7,
   "metadata": {},
   "outputs": [],
   "source": [
    "resp = requests.get(url)"
   ]
  },
  {
   "cell_type": "code",
   "execution_count": 8,
   "metadata": {
    "scrolled": true
   },
   "outputs": [
    {
     "data": {
      "text/plain": [
       "requests.models.Response"
      ]
     },
     "execution_count": 8,
     "metadata": {},
     "output_type": "execute_result"
    }
   ],
   "source": [
    "type(resp)"
   ]
  },
  {
   "cell_type": "code",
   "execution_count": 9,
   "metadata": {},
   "outputs": [
    {
     "data": {
      "text/plain": [
       "'GET'"
      ]
     },
     "execution_count": 9,
     "metadata": {},
     "output_type": "execute_result"
    }
   ],
   "source": [
    "resp.request.method"
   ]
  },
  {
   "cell_type": "markdown",
   "metadata": {},
   "source": [
    "We examine the:\n",
    "\n",
    "+ status of our request \n",
    "+ header for our request\n",
    "+ header for the response to our request\n",
    "+ content of the response (the web page)"
   ]
  },
  {
   "cell_type": "code",
   "execution_count": 10,
   "metadata": {},
   "outputs": [
    {
     "data": {
      "text/plain": [
       "200"
      ]
     },
     "execution_count": 10,
     "metadata": {},
     "output_type": "execute_result"
    }
   ],
   "source": [
    "resp.status_code"
   ]
  },
  {
   "cell_type": "code",
   "execution_count": 11,
   "metadata": {},
   "outputs": [
    {
     "data": {
      "text/plain": [
       "{'User-Agent': 'python-requests/2.22.0',\n",
       " 'Accept-Encoding': 'gzip, deflate',\n",
       " 'Accept': '*/*',\n",
       " 'Connection': 'keep-alive'}"
      ]
     },
     "execution_count": 11,
     "metadata": {},
     "output_type": "execute_result"
    }
   ],
   "source": [
    "dict(resp.request.headers)"
   ]
  },
  {
   "cell_type": "code",
   "execution_count": 12,
   "metadata": {},
   "outputs": [
    {
     "data": {
      "text/plain": [
       "{'Date': 'Sat, 16 Nov 2019 22:12:06 GMT',\n",
       " 'Vary': 'Accept-Encoding,Cookie,Authorization',\n",
       " 'Server': 'ATS/8.0.5',\n",
       " 'X-ATS-Timestamp': '1573942326',\n",
       " 'Content-Type': 'text/html; charset=UTF-8',\n",
       " 'X-Powered-By': 'PHP/7.2.22-1+0~20190902.26+debian9~1.gbpd64eb7+wmf1',\n",
       " 'X-Content-Type-Options': 'nosniff',\n",
       " 'P3P': 'CP=\"See https://en.wikipedia.org/wiki/Special:CentralAutoLogin/P3P for more info.\"',\n",
       " 'Content-language': 'en',\n",
       " 'Last-Modified': 'Tue, 12 Nov 2019 05:43:43 GMT',\n",
       " 'Backend-Timing': 'D=125006 t=1573590915596246',\n",
       " 'Content-Encoding': 'gzip',\n",
       " 'X-Varnish': '970484137 979023273',\n",
       " 'Age': '0',\n",
       " 'X-Cache': 'cp4030 miss, cp4031 hit/1',\n",
       " 'X-Cache-Status': 'hit-front',\n",
       " 'Server-Timing': 'cache;desc=\"hit-front\"',\n",
       " 'Strict-Transport-Security': 'max-age=106384710; includeSubDomains; preload',\n",
       " 'Set-Cookie': 'WMF-Last-Access=16-Nov-2019;Path=/;HttpOnly;secure;Expires=Wed, 18 Dec 2019 12:00:00 GMT, WMF-Last-Access-Global=16-Nov-2019;Path=/;Domain=.wikipedia.org;HttpOnly;secure;Expires=Wed, 18 Dec 2019 12:00:00 GMT, GeoIP=US:CA:Berkeley:37.87:-122.29:v4; Path=/; secure; Domain=.wikipedia.org',\n",
       " 'X-Analytics': 'ns=0;page_id=14824822;https=1;nocookies=1',\n",
       " 'X-Client-IP': '135.180.102.101',\n",
       " 'Cache-Control': 'private, s-maxage=0, max-age=0, must-revalidate',\n",
       " 'Accept-Ranges': 'bytes',\n",
       " 'Content-Length': '19317',\n",
       " 'Connection': 'keep-alive'}"
      ]
     },
     "execution_count": 12,
     "metadata": {},
     "output_type": "execute_result"
    }
   ],
   "source": [
    "dict(resp.headers)"
   ]
  },
  {
   "cell_type": "code",
   "execution_count": 13,
   "metadata": {},
   "outputs": [
    {
     "data": {
      "text/plain": [
       "b'<!DOCTYPE html>\\n<html class=\"client-nojs\" lang=\"en\" dir=\"ltr\">\\n<head>\\n<meta charset=\"UTF-8\"/>\\n<title>1500 metres world record progression - Wikipedia</title>\\n<script>document.documentElement.className=\"client-js\";RLCONF={\"wgBreakFrames\":!1,\"wgSeparatorTransformTable\":[\"\",\"\"],\"wgDigitTransformTable\":[\"\",\"\"],\"wgDefaultDateFormat\":\"dmy\",\"wgMonthNames\":[\"\",\"January\",\"February\",\"March\",\"April\",\"May\",\"June\",\"July\",\"August\",\"September\",\"October\",\"November\",\"December\"],\"wgMonthNamesShort\":[\"\",\"Jan\",\"Feb\",\"Mar\",\"Apr\",\"May\",\"Jun\",\"Jul\",\"Aug\",\"Sep\",\"Oct\",\"Nov\",\"Dec\"],\"wgRequestId\":\"XcsXgwpAMEsAAHVxav4AAACM\",\"wgCSPNonce\":!1,\"wgCanonicalNamespace\":\"\",\"wgCanonicalSpecialPageName\":!1,\"wgNamespaceNumber\":0,\"wgPageName\":\"1500_metres_world_record_progression\",\"wgTitle\":\"1500 metres world record progression\",\"wgCurRevisionId\":914710775,\"wgRevisionId\":914710775,\"wgArticleId\":14824822,\"wgIsArticle\":!0,\"wgIsRedirect\":!1,\"wgAction\":\"view\",\"wgUserName\":null,\"wgUserGroups\":[\"*\"],\"wgCategories\":[\"World athletic'"
      ]
     },
     "execution_count": 13,
     "metadata": {},
     "output_type": "execute_result"
    }
   ],
   "source": [
    "resp.content[:1000]"
   ]
  },
  {
   "cell_type": "markdown",
   "metadata": {},
   "source": [
    "Now that we have the page, we need to extract the data from it. We will use Beautiful Soup and then XPath to do this."
   ]
  },
  {
   "cell_type": "markdown",
   "metadata": {},
   "source": [
    "## Beautiful Soup\n",
    "\n",
    "Beautiful Soup parses the HTML document and creates a BeautifulSoup object, which represents the document as a nested data structure (a tree).  Beautiful Soup provides functionality to search for elements in the tree.\n",
    "The most useful ones are `find()` and `find_all()`. We can also travel up and down the tree by specifying tag names (e.g., `table`) and `parent` and `children` and `text`.\n",
    "\n",
    "First we parse the document in `resp.content`."
   ]
  },
  {
   "cell_type": "code",
   "execution_count": 14,
   "metadata": {},
   "outputs": [],
   "source": [
    "soup = BeautifulSoup(resp.content, \"html.parser\")"
   ]
  },
  {
   "cell_type": "markdown",
   "metadata": {},
   "source": [
    "We can follow the Pandas example, and use `find_all()` to retrieve all 'table' nodes. We get six of them as expected."
   ]
  },
  {
   "cell_type": "code",
   "execution_count": 15,
   "metadata": {},
   "outputs": [],
   "source": [
    "tableSoup = soup.find_all('table')"
   ]
  },
  {
   "cell_type": "code",
   "execution_count": 16,
   "metadata": {},
   "outputs": [
    {
     "data": {
      "text/plain": [
       "6"
      ]
     },
     "execution_count": 16,
     "metadata": {},
     "output_type": "execute_result"
    }
   ],
   "source": [
    "len(tableSoup)"
   ]
  },
  {
   "cell_type": "markdown",
   "metadata": {},
   "source": [
    "From our earlier work, we know that the table of interest is the second one. We locate all of the rows in this table, i.e., all of the 'tr' nodes in the second table with another call to `find_all()`"
   ]
  },
  {
   "cell_type": "code",
   "execution_count": 17,
   "metadata": {},
   "outputs": [],
   "source": [
    "rowSoup = tableSoup[1].find_all('tr')"
   ]
  },
  {
   "cell_type": "code",
   "execution_count": 18,
   "metadata": {},
   "outputs": [
    {
     "data": {
      "text/plain": [
       "[<tr>\n",
       " <th>Time</th>\n",
       " <th>Auto</th>\n",
       " <th>Athlete</th>\n",
       " <th>Date</th>\n",
       " <th>Place\n",
       " </th></tr>, <tr>\n",
       " <td><b>3:55.8</b>\n",
       " </td>\n",
       " <td>\n",
       " </td>\n",
       " <td align=\"left\"><span class=\"flagicon\"><img alt=\"\" class=\"thumbborder\" data-file-height=\"650\" data-file-width=\"1235\" decoding=\"async\" height=\"12\" src=\"//upload.wikimedia.org/wikipedia/en/thumb/a/a4/Flag_of_the_United_States.svg/23px-Flag_of_the_United_States.svg.png\" srcset=\"//upload.wikimedia.org/wikipedia/en/thumb/a/a4/Flag_of_the_United_States.svg/35px-Flag_of_the_United_States.svg.png 1.5x, //upload.wikimedia.org/wikipedia/en/thumb/a/a4/Flag_of_the_United_States.svg/46px-Flag_of_the_United_States.svg.png 2x\" width=\"23\"/> </span><a href=\"/wiki/Abel_Kiviat\" title=\"Abel Kiviat\">Abel Kiviat</a> <span style=\"font-size:90%;\">(<abbr title=\"United States\">USA</abbr>)</span>\n",
       " </td>\n",
       " <td>1912-06-08\n",
       " </td>\n",
       " <td><a href=\"/wiki/Cambridge,_Massachusetts\" title=\"Cambridge, Massachusetts\">Cambridge, Massachusetts</a>, United States\n",
       " </td></tr>, <tr>\n",
       " <td><b>3:54.7</b>\n",
       " </td>\n",
       " <td>\n",
       " </td>\n",
       " <td align=\"left\"><span class=\"flagicon\"><img alt=\"\" class=\"thumbborder\" data-file-height=\"1000\" data-file-width=\"1600\" decoding=\"async\" height=\"14\" src=\"//upload.wikimedia.org/wikipedia/en/thumb/4/4c/Flag_of_Sweden.svg/23px-Flag_of_Sweden.svg.png\" srcset=\"//upload.wikimedia.org/wikipedia/en/thumb/4/4c/Flag_of_Sweden.svg/35px-Flag_of_Sweden.svg.png 1.5x, //upload.wikimedia.org/wikipedia/en/thumb/4/4c/Flag_of_Sweden.svg/46px-Flag_of_Sweden.svg.png 2x\" width=\"23\"/> </span><a href=\"/wiki/John_Zander\" title=\"John Zander\">John Zander</a> <span style=\"font-size:90%;\">(<abbr title=\"Sweden\">SWE</abbr>)</span>\n",
       " </td>\n",
       " <td>1917-08-05\n",
       " </td>\n",
       " <td><a class=\"mw-redirect\" href=\"/wiki/Stockholm,_Sweden\" title=\"Stockholm, Sweden\">Stockholm, Sweden</a>\n",
       " </td></tr>]"
      ]
     },
     "execution_count": 18,
     "metadata": {},
     "output_type": "execute_result"
    }
   ],
   "source": [
    "rowSoup[:3]"
   ]
  },
  {
   "cell_type": "markdown",
   "metadata": {},
   "source": [
    "The first row is a header and then there are the data rows. From each row, we can extract the time from the first 'td' node in each row, the date from the fourth, and the name from the title attribute in the 'a' element of the third 'td' node.\n",
    "\n",
    "We explore the BeautifulSoup expression to do this with the second row in the table."
   ]
  },
  {
   "cell_type": "code",
   "execution_count": 19,
   "metadata": {},
   "outputs": [
    {
     "data": {
      "text/plain": [
       "<tr>\n",
       "<td><b>3:55.8</b>\n",
       "</td>\n",
       "<td>\n",
       "</td>\n",
       "<td align=\"left\"><span class=\"flagicon\"><img alt=\"\" class=\"thumbborder\" data-file-height=\"650\" data-file-width=\"1235\" decoding=\"async\" height=\"12\" src=\"//upload.wikimedia.org/wikipedia/en/thumb/a/a4/Flag_of_the_United_States.svg/23px-Flag_of_the_United_States.svg.png\" srcset=\"//upload.wikimedia.org/wikipedia/en/thumb/a/a4/Flag_of_the_United_States.svg/35px-Flag_of_the_United_States.svg.png 1.5x, //upload.wikimedia.org/wikipedia/en/thumb/a/a4/Flag_of_the_United_States.svg/46px-Flag_of_the_United_States.svg.png 2x\" width=\"23\"/> </span><a href=\"/wiki/Abel_Kiviat\" title=\"Abel Kiviat\">Abel Kiviat</a> <span style=\"font-size:90%;\">(<abbr title=\"United States\">USA</abbr>)</span>\n",
       "</td>\n",
       "<td>1912-06-08\n",
       "</td>\n",
       "<td><a href=\"/wiki/Cambridge,_Massachusetts\" title=\"Cambridge, Massachusetts\">Cambridge, Massachusetts</a>, United States\n",
       "</td></tr>"
      ]
     },
     "execution_count": 19,
     "metadata": {},
     "output_type": "execute_result"
    }
   ],
   "source": [
    "rowAbel = rowSoup[1]\n",
    "rowAbel"
   ]
  },
  {
   "cell_type": "code",
   "execution_count": 20,
   "metadata": {},
   "outputs": [
    {
     "data": {
      "text/plain": [
       "'3:55.8\\n'"
      ]
     },
     "execution_count": 20,
     "metadata": {},
     "output_type": "execute_result"
    }
   ],
   "source": [
    "rowAbel.find_all('td')[0].text"
   ]
  },
  {
   "cell_type": "markdown",
   "metadata": {},
   "source": [
    "We have retrieved the text content of the first 'td' element in the second row.\n",
    "\n",
    "\n",
    "Next we retrieve the name of the runner. Rather than retrieve it from the text content, we noticed that the name also appears in the 'title' attribute of the 'a' node in the third 'td' in the row. We show how to retrieve the name from this part of the table. "
   ]
  },
  {
   "cell_type": "code",
   "execution_count": 21,
   "metadata": {},
   "outputs": [
    {
     "data": {
      "text/plain": [
       "'Abel Kiviat'"
      ]
     },
     "execution_count": 21,
     "metadata": {},
     "output_type": "execute_result"
    }
   ],
   "source": [
    "rowAbel.find_all('td')[2].a['title']"
   ]
  },
  {
   "cell_type": "markdown",
   "metadata": {},
   "source": [
    "Notice that 'a['title'] retrieves the value of the 'title' attribute of the 'a' tag.\n",
    "\n",
    "\n",
    "Lastly, we get the date with"
   ]
  },
  {
   "cell_type": "code",
   "execution_count": 22,
   "metadata": {},
   "outputs": [
    {
     "data": {
      "text/plain": [
       "'1912-06-08\\n'"
      ]
     },
     "execution_count": 22,
     "metadata": {},
     "output_type": "execute_result"
    }
   ],
   "source": [
    "rowAbel.find_all('td')[3].text"
   ]
  },
  {
   "cell_type": "markdown",
   "metadata": {},
   "source": [
    "We now retrieve these three values for all of the world record rows in the table."
   ]
  },
  {
   "cell_type": "code",
   "execution_count": 23,
   "metadata": {},
   "outputs": [],
   "source": [
    "namesSoup = []\n",
    "datesSoup = []\n",
    "timesSoup = []\n",
    "for r in rowSoup[1:]:\n",
    "    tds = r.find_all('td')\n",
    "    timesSoup.append(tds[0].text)\n",
    "    namesSoup.append(tds[2].a['title'])\n",
    "    datesSoup.append(tds[3].text)"
   ]
  },
  {
   "cell_type": "code",
   "execution_count": 24,
   "metadata": {},
   "outputs": [
    {
     "data": {
      "text/plain": [
       "['Abel Kiviat', 'John Zander', 'Paavo Nurmi']"
      ]
     },
     "execution_count": 24,
     "metadata": {},
     "output_type": "execute_result"
    }
   ],
   "source": [
    "namesSoup[:3]"
   ]
  },
  {
   "cell_type": "code",
   "execution_count": 25,
   "metadata": {},
   "outputs": [
    {
     "data": {
      "text/plain": [
       "['3:43.0\\n', '3:43.0\\n', '3:43.0\\n', '3:42.8+\\n', '3:41.8+\\n', '3:40.8\\n']"
      ]
     },
     "execution_count": 25,
     "metadata": {},
     "output_type": "execute_result"
    }
   ],
   "source": [
    "timesSoup[12:18]"
   ]
  },
  {
   "cell_type": "code",
   "execution_count": 26,
   "metadata": {},
   "outputs": [
    {
     "data": {
      "text/plain": [
       "['1944-07-07\\n',\n",
       " '1947-07-15\\n',\n",
       " '1952-06-29\\n',\n",
       " '1954-06-04\\n',\n",
       " '1954-06-21\\n',\n",
       " '1955-07-28\\n']"
      ]
     },
     "execution_count": 26,
     "metadata": {},
     "output_type": "execute_result"
    }
   ],
   "source": [
    "datesSoup[12:18]"
   ]
  },
  {
   "cell_type": "markdown",
   "metadata": {},
   "source": [
    "We need to clean these up too, but we will do that after looking at XPath.\n",
    "\n",
    "Below is another way to retrieve the desired rows from our table that combines the two steps from above. That is, we:\n",
    "\n",
    "+ find all tables, \n",
    "+ select the second table,\n",
    "+ find all rows in that table, and\n",
    "+ drop the first row (it holds the table header)."
   ]
  },
  {
   "cell_type": "code",
   "execution_count": 27,
   "metadata": {},
   "outputs": [
    {
     "data": {
      "text/plain": [
       "[<tr>\n",
       " <td><b>3:55.8</b>\n",
       " </td>\n",
       " <td>\n",
       " </td>\n",
       " <td align=\"left\"><span class=\"flagicon\"><img alt=\"\" class=\"thumbborder\" data-file-height=\"650\" data-file-width=\"1235\" decoding=\"async\" height=\"12\" src=\"//upload.wikimedia.org/wikipedia/en/thumb/a/a4/Flag_of_the_United_States.svg/23px-Flag_of_the_United_States.svg.png\" srcset=\"//upload.wikimedia.org/wikipedia/en/thumb/a/a4/Flag_of_the_United_States.svg/35px-Flag_of_the_United_States.svg.png 1.5x, //upload.wikimedia.org/wikipedia/en/thumb/a/a4/Flag_of_the_United_States.svg/46px-Flag_of_the_United_States.svg.png 2x\" width=\"23\"/> </span><a href=\"/wiki/Abel_Kiviat\" title=\"Abel Kiviat\">Abel Kiviat</a> <span style=\"font-size:90%;\">(<abbr title=\"United States\">USA</abbr>)</span>\n",
       " </td>\n",
       " <td>1912-06-08\n",
       " </td>\n",
       " <td><a href=\"/wiki/Cambridge,_Massachusetts\" title=\"Cambridge, Massachusetts\">Cambridge, Massachusetts</a>, United States\n",
       " </td></tr>, <tr>\n",
       " <td><b>3:54.7</b>\n",
       " </td>\n",
       " <td>\n",
       " </td>\n",
       " <td align=\"left\"><span class=\"flagicon\"><img alt=\"\" class=\"thumbborder\" data-file-height=\"1000\" data-file-width=\"1600\" decoding=\"async\" height=\"14\" src=\"//upload.wikimedia.org/wikipedia/en/thumb/4/4c/Flag_of_Sweden.svg/23px-Flag_of_Sweden.svg.png\" srcset=\"//upload.wikimedia.org/wikipedia/en/thumb/4/4c/Flag_of_Sweden.svg/35px-Flag_of_Sweden.svg.png 1.5x, //upload.wikimedia.org/wikipedia/en/thumb/4/4c/Flag_of_Sweden.svg/46px-Flag_of_Sweden.svg.png 2x\" width=\"23\"/> </span><a href=\"/wiki/John_Zander\" title=\"John Zander\">John Zander</a> <span style=\"font-size:90%;\">(<abbr title=\"Sweden\">SWE</abbr>)</span>\n",
       " </td>\n",
       " <td>1917-08-05\n",
       " </td>\n",
       " <td><a class=\"mw-redirect\" href=\"/wiki/Stockholm,_Sweden\" title=\"Stockholm, Sweden\">Stockholm, Sweden</a>\n",
       " </td></tr>]"
      ]
     },
     "execution_count": 27,
     "metadata": {},
     "output_type": "execute_result"
    }
   ],
   "source": [
    "rowsAlt = soup.find_all('table')[1].find_all('tr')[1:]\n",
    "rowsAlt[:2]"
   ]
  },
  {
   "attachments": {},
   "cell_type": "markdown",
   "metadata": {},
   "source": [
    "## XPath\n",
    "\n",
    "XPath is a language designed for locating content in XML and HTML documents. The syntax is similar to path names for files in Unix, but with a few important differences:\n",
    "\n",
    "+ Multiple nodes in a document can be located with one expression\n",
    "+ Nodes can be filtered \n",
    "\n",
    "The core concept to an XPath expression is the location step. A location step consists of three pieces:\n",
    "\n",
    "+ axis: direction to look (down one level to children, up one level to parent, self, etc.)\n",
    "+ node test: typically the name of a node\n",
    "+ predicate: a condition that the nodes must satisfy (this is an optional piece)\n",
    "\n",
    "The syntax is: axis/nodetext[predicate]  (It's a bit more comples than that, but we will keep to this simple approach).\n",
    "\n",
    "We string location steps together, separated by /s, to form a location path.\n",
    "\n",
    "We introduce only a few of the most common axes. These have short cuts to describe them:\n",
    "\n",
    "+ child is the default and can be dropped \n",
    "+ down the tree from current node: // \n",
    "+ self: . \n",
    "+ parent: ..\n",
    "+ root: /\n",
    "\n",
    "We provide examples of location paths in our search for content in the Wikipedia page.\n",
    "\n",
    "XPath is provided as part of the 'lxml' library.\n",
    "We use it to parse the page contents into a tree with:"
   ]
  },
  {
   "cell_type": "code",
   "execution_count": 28,
   "metadata": {},
   "outputs": [],
   "source": [
    "dom = html.document_fromstring(resp.content) "
   ]
  },
  {
   "cell_type": "markdown",
   "metadata": {},
   "source": [
    "Like with Beautiful Soup, we can traverse the DOM (Document Object Model), i.e., the tree with  'find()' and 'getchildren()'. However, we will focus on using XPath expressions."
   ]
  },
  {
   "cell_type": "code",
   "execution_count": 29,
   "metadata": {},
   "outputs": [
    {
     "data": {
      "text/plain": [
       "[<Element head at 0x1a1dacaf50>, <Element body at 0x1a1dacaad0>]"
      ]
     },
     "execution_count": 29,
     "metadata": {},
     "output_type": "execute_result"
    }
   ],
   "source": [
    "dom.getchildren()"
   ]
  },
  {
   "cell_type": "code",
   "execution_count": 30,
   "metadata": {},
   "outputs": [],
   "source": [
    "body = dom.find(\"body\")"
   ]
  },
  {
   "cell_type": "code",
   "execution_count": 31,
   "metadata": {},
   "outputs": [
    {
     "data": {
      "text/plain": [
       "[<Element div at 0x1a1dae0470>,\n",
       " <Element div at 0x1a1dae0230>,\n",
       " <Element div at 0x1a1dae04d0>,\n",
       " <Element div at 0x1a1dae0530>,\n",
       " <Element div at 0x1a1dae0590>,\n",
       " <Element div at 0x1a1dae05f0>,\n",
       " <Element script at 0x1a1dae0650>,\n",
       " <Element script at 0x1a1dae06b0>,\n",
       " <Element script at 0x1a1dae0710>]"
      ]
     },
     "execution_count": 31,
     "metadata": {},
     "output_type": "execute_result"
    }
   ],
   "source": [
    "body.getchildren()"
   ]
  },
  {
   "cell_type": "markdown",
   "metadata": {},
   "source": [
    "We provide three ways to access the table and the contents of interest."
   ]
  },
  {
   "cell_type": "markdown",
   "metadata": {},
   "source": [
    "### Locate the Second Table\n",
    "\n",
    "We know that the table we want is the second table in the document. From the top of the document we search anywhere below for a 'table' node and the filter the resulting node set by selecting the second one.\n",
    "\n",
    "We do this with the following simple XPath expression: \"//table[2]\"\n",
    "Notice that:\n",
    "\n",
    "+ the axis \"//\" stands for all nodes down from the root of the tree\n",
    "+ the nodetest is 'table', which means the tag-name is table\n",
    "+ the predicate filters the set of table nodes to the second one found.\n"
   ]
  },
  {
   "cell_type": "code",
   "execution_count": 32,
   "metadata": {},
   "outputs": [
    {
     "name": "stdout",
     "output_type": "stream",
     "text": [
      "<table class=\"wikitable sortable\" style=\"font-size:95%; text-align:center;\">\n",
      "<tbody>\n",
      "<tr>\n",
      "<th>Time</th>\n",
      "<th>Auto</th>\n",
      "<th>Athlete</th>\n",
      "<th>Date</th>\n",
      "<th>Place\n",
      "</th>\n",
      "</tr>\n",
      "<tr>\n",
      "<td>\n",
      "<b>3:55.8</b>\n",
      "</td>\n",
      "<td>\n",
      "</td>\n",
      "<td align=\"left\">\n",
      "<span class=\"flagicon\"><img alt=\"\" src=\"//upload.wikimedia.org/wikipedia/en/thumb/a/a4/Flag_of_the_United_States.svg/23px-Flag_of_the_United_States.svg.png\" decoding=\"async\" width=\"23\" height=\"12\" class=\"thumbborder\" srcset=\"//upload.wikimedia.org/wikipedia/en/thumb/a/a\n"
     ]
    }
   ],
   "source": [
    "table1 = dom.xpath(\"//table[2]\")\n",
    "print(html.tostring(table1[0], pretty_print=True).decode('UTF8')[:500])"
   ]
  },
  {
   "cell_type": "markdown",
   "metadata": {},
   "source": [
    "### Filter on the Table Contents\n",
    "\n",
    "Rather than rely on the position of the table in the document, we can use the contents of the table to select the correct table. Specifically, we know that the table contains a row with a link that has a title attribute of \"John Zander\".\n",
    "\n",
    "The following XPath expressions will retrieve this table.\n",
    "\n",
    "'//table[.//a/@title=\"John Zander\"]' \n",
    "\n",
    "This expression again contains only one location step. The parts of the step are:\n",
    "\n",
    "+ axis: \"//\" meaning any descendant (or self)\n",
    "+ nodetest: table meaning any node with tag name \"table\"\n",
    "+ predicate: from the table (i.e., axis \".\") any descendant (i.e., \"//\") with nodetest \"a\"  having a 'title' attribute. The condition is that this attribute must have the value \"John Zander\"."
   ]
  },
  {
   "cell_type": "code",
   "execution_count": 33,
   "metadata": {},
   "outputs": [
    {
     "name": "stdout",
     "output_type": "stream",
     "text": [
      "<table class=\"wikitable sortable\" style=\"font-size:95%; text-align:center;\">\n",
      "<tbody>\n",
      "<tr>\n",
      "<th>Time</th>\n",
      "<th>Auto</th>\n",
      "<th>Athlete</th>\n",
      "<th>Date</th>\n",
      "<th>Place\n",
      "</th>\n",
      "</tr>\n",
      "<tr>\n",
      "<td>\n",
      "<b>3:55.8</b>\n",
      "</td>\n",
      "<td>\n",
      "</td>\n",
      "<td align=\"left\">\n",
      "<span class=\"flagicon\"><img alt=\"\" src=\"//upload.wikimedia.org/wikipedia/en/thumb/a/a4/Flag_of_the_United_States.svg/23px-Flag_of_the_United_States.svg.png\" decoding=\"async\" width=\"23\" height=\"12\" class=\"thumbborder\" srcset=\"//upload.wikimedia.org/wikipedia/en/thumb/a/a\n"
     ]
    }
   ],
   "source": [
    "table2 = dom.xpath('//table[.//a/@title=\"John Zander\"]')\n",
    "print(html.tostring(table2[0], pretty_print=True).decode('UTF8')[:500])"
   ]
  },
  {
   "cell_type": "markdown",
   "metadata": {},
   "source": [
    "The following XPath expression is very similar. The difference is that the path within the predicate is completely specified.  That is the predicate starts from the table and says:  \n",
    "+ go to the child 'tbody' then \n",
    "+ to the child(ren) 'tr' then \n",
    "+ to child(ren) 'td' then \n",
    "+ to child(ren) 'a' and finally \n",
    "+ to the attribute of 'a' called title.\n"
   ]
  },
  {
   "cell_type": "code",
   "execution_count": 34,
   "metadata": {},
   "outputs": [
    {
     "name": "stdout",
     "output_type": "stream",
     "text": [
      "<table class=\"wikitable sortable\" style=\"font-size:95%; text-align:center;\">\n",
      "<tbody>\n",
      "<tr>\n",
      "<th>Time</th>\n",
      "<th>Auto</th>\n",
      "<th>Athlete</th>\n",
      "<th>Date</th>\n",
      "<th>Place\n",
      "</th>\n",
      "</tr>\n",
      "<tr>\n",
      "<td>\n",
      "<b>3:55.8</b>\n",
      "</td>\n",
      "<td>\n",
      "</td>\n",
      "<td align=\"left\">\n",
      "<span class=\"flagicon\"><img alt=\"\" src=\"//upload.wikimedia.org/wikipedia/en/thumb/a/a4/Flag_of_the_United_States.svg/23px-Flag_of_the_United_States.svg.png\" decoding=\"async\" width=\"23\" height=\"12\" class=\"thumbborder\" srcset=\"//upload.wikimedia.org/wikipedia/en/thumb/a/a\n"
     ]
    }
   ],
   "source": [
    "table2A = dom.xpath('//table[./tbody/tr/td/a/@title=\"John Zander\"]')\n",
    "print(html.tostring(table2A[0], pretty_print=True).decode('UTF8')[:500])"
   ]
  },
  {
   "cell_type": "markdown",
   "metadata": {},
   "source": [
    "## Use the structure of the table\n",
    "\n",
    "Again, we know that John Zander is in the table, and we can precisely state where to find this text content with an XPath expression. To do this we travel down the table descendants to locate the 'a' tag with the 'title' attribute and then reverse back up to the table node.\n",
    "\n",
    "'//table/tbody/tr/td/a[@title=\"John Zander\"]/../../../..'  \n",
    "\n",
    "Here we have a long location path and one location step has a predicate. The location steps are as follows:\n",
    "\n",
    "+ go to any table anywhere in the document \n",
    "+ go to the child 'tbody' then \n",
    "+ to the child(ren) 'tr' then \n",
    "+ to child(ren) 'td' then \n",
    "+ to child(ren) 'a' and select only those with a title attribute value of \"John Zander\" and then \n",
    "+ go to 'a's parent then\n",
    "+ go to 'a's grandparent then  \n",
    "+ go to 'a's great-grandparent then\n",
    "+ go to 'a's great-great-grandparent (which is the 'table' node)\n",
    "\n",
    "We know that only one table will have John Zander in it's 'a' node, and from this 'a' node, we travel back up the tree, one step at a time to the 'table' ancestor.  "
   ]
  },
  {
   "cell_type": "code",
   "execution_count": 35,
   "metadata": {},
   "outputs": [
    {
     "name": "stdout",
     "output_type": "stream",
     "text": [
      "<table class=\"wikitable sortable\" style=\"font-size:95%; text-align:center;\">\n",
      "<tbody>\n",
      "<tr>\n",
      "<th>Time</th>\n",
      "<th>Auto</th>\n",
      "<th>Athlete</th>\n",
      "<th>Date</th>\n",
      "<th>Place\n",
      "</th>\n",
      "</tr>\n",
      "<tr>\n",
      "<td>\n",
      "<b>3:55.8</b>\n",
      "</td>\n",
      "<td>\n",
      "</td>\n",
      "<td align=\"left\">\n",
      "<span class=\"flagicon\"><img alt=\"\" src=\"//upload.wikimedia.org/wikipedia/en/thumb/a/a4/Flag_of_the_United_States.svg/23px-Flag_of_the_United_States.svg.png\" decoding=\"async\" width=\"23\" height=\"12\" class=\"thumbborder\" srcset=\"//upload.wikimedia.org/wikipedia/en/thumb/a/a\n"
     ]
    }
   ],
   "source": [
    "table3 = dom.xpath('//table/tbody/tr/td/a[@title=\"John Zander\"]/../../../..')\n",
    "print(html.tostring(table3[0], pretty_print=True).decode('UTF8')[:500])"
   ]
  },
  {
   "cell_type": "markdown",
   "metadata": {},
   "source": [
    "### Extract the data from the table\n",
    "\n",
    "No matter which approach we take, we can now access the text content in the desired columns of the table. We again use XPath expressions to do this. Note that\n",
    "\n",
    "+ text() returns the text content of a node\n",
    "+ a/@title returns the value for the title attribute in the a node\n"
   ]
  },
  {
   "cell_type": "code",
   "execution_count": 36,
   "metadata": {},
   "outputs": [
    {
     "data": {
      "text/plain": [
       "['1912-06-08\\n', '1917-08-05\\n', '1924-06-19\\n']"
      ]
     },
     "execution_count": 36,
     "metadata": {},
     "output_type": "execute_result"
    }
   ],
   "source": [
    "datesDom = table1[0].xpath('.//tr/td[4]/text()')\n",
    "datesDom[:3]"
   ]
  },
  {
   "cell_type": "code",
   "execution_count": 37,
   "metadata": {},
   "outputs": [
    {
     "data": {
      "text/plain": [
       "['3:43.0', '3:42.8+', '3:41.8+', '3:40.8']"
      ]
     },
     "execution_count": 37,
     "metadata": {},
     "output_type": "execute_result"
    }
   ],
   "source": [
    "timesDom = table1[0].xpath('.//tr/td[1]/b/text()')\n",
    "timesDom[14:18]"
   ]
  },
  {
   "cell_type": "code",
   "execution_count": 38,
   "metadata": {},
   "outputs": [
    {
     "data": {
      "text/plain": [
       "['Abel Kiviat', 'John Zander', 'Paavo Nurmi', 'Otto Peltzer']"
      ]
     },
     "execution_count": 38,
     "metadata": {},
     "output_type": "execute_result"
    }
   ],
   "source": [
    "namesDom = table1[0].xpath('.//tr/td[3]/a/@title')\n",
    "namesDom[:4]"
   ]
  },
  {
   "cell_type": "markdown",
   "metadata": {},
   "source": [
    "## Clean and Transform"
   ]
  },
  {
   "cell_type": "markdown",
   "metadata": {},
   "source": [
    "Whether we use Pandas 'read_html()' or Beautiful Soup or XPath, we have acquired the data, but they are not ready to be visualized. As mentioned above the data are strings that we need to clean and transform.\n",
    " \n",
    "+ Run times:\n",
    "    + convert from \"min:sec\" to either numeric seconds, e.g. convert \"3:55.8\" to  180+55.8 = 235.8 seconds  \n",
    "    + Remove any +-signs before the conversion\n",
    "+ Dates: transform to a date type so we can visualize the progress in time\n",
    "\n",
    "We use the data acquired from the XPath approach, but the same cleaning and transformations will work for the other two approaches."
   ]
  },
  {
   "cell_type": "code",
   "execution_count": 39,
   "metadata": {},
   "outputs": [],
   "source": [
    "df = pd.DataFrame({'name': namesDom, 'time': timesDom,'date': datesDom})"
   ]
  },
  {
   "cell_type": "code",
   "execution_count": 40,
   "metadata": {},
   "outputs": [],
   "source": [
    "df[\"time\"] = df[\"time\"].str.replace(\"+\", \"\")\n",
    "time_pieces = df[\"time\"].str.split(r':')\n",
    "df['runTime'] = time_pieces.str[0].astype(float) * 60 +  time_pieces.str[1].astype(float)"
   ]
  },
  {
   "cell_type": "code",
   "execution_count": 41,
   "metadata": {},
   "outputs": [],
   "source": [
    "df['newDate'] = pd.to_datetime(df['date'], infer_datetime_format=True)"
   ]
  },
  {
   "cell_type": "code",
   "execution_count": 42,
   "metadata": {},
   "outputs": [
    {
     "data": {
      "text/html": [
       "<div>\n",
       "<style scoped>\n",
       "    .dataframe tbody tr th:only-of-type {\n",
       "        vertical-align: middle;\n",
       "    }\n",
       "\n",
       "    .dataframe tbody tr th {\n",
       "        vertical-align: top;\n",
       "    }\n",
       "\n",
       "    .dataframe thead th {\n",
       "        text-align: right;\n",
       "    }\n",
       "</style>\n",
       "<table border=\"1\" class=\"dataframe\">\n",
       "  <thead>\n",
       "    <tr style=\"text-align: right;\">\n",
       "      <th></th>\n",
       "      <th>name</th>\n",
       "      <th>time</th>\n",
       "      <th>date</th>\n",
       "      <th>runTime</th>\n",
       "      <th>newDate</th>\n",
       "    </tr>\n",
       "  </thead>\n",
       "  <tbody>\n",
       "    <tr>\n",
       "      <td>0</td>\n",
       "      <td>Abel Kiviat</td>\n",
       "      <td>3:55.8</td>\n",
       "      <td>1912-06-08\\n</td>\n",
       "      <td>235.8</td>\n",
       "      <td>1912-06-08</td>\n",
       "    </tr>\n",
       "    <tr>\n",
       "      <td>1</td>\n",
       "      <td>John Zander</td>\n",
       "      <td>3:54.7</td>\n",
       "      <td>1917-08-05\\n</td>\n",
       "      <td>234.7</td>\n",
       "      <td>1917-08-05</td>\n",
       "    </tr>\n",
       "    <tr>\n",
       "      <td>2</td>\n",
       "      <td>Paavo Nurmi</td>\n",
       "      <td>3:52.6</td>\n",
       "      <td>1924-06-19\\n</td>\n",
       "      <td>232.6</td>\n",
       "      <td>1924-06-19</td>\n",
       "    </tr>\n",
       "    <tr>\n",
       "      <td>3</td>\n",
       "      <td>Otto Peltzer</td>\n",
       "      <td>3:51.0</td>\n",
       "      <td>1926-09-11\\n</td>\n",
       "      <td>231.0</td>\n",
       "      <td>1926-09-11</td>\n",
       "    </tr>\n",
       "    <tr>\n",
       "      <td>4</td>\n",
       "      <td>Jules Ladoumegue</td>\n",
       "      <td>3:49.2</td>\n",
       "      <td>1930-10-05\\n</td>\n",
       "      <td>229.2</td>\n",
       "      <td>1930-10-05</td>\n",
       "    </tr>\n",
       "  </tbody>\n",
       "</table>\n",
       "</div>"
      ],
      "text/plain": [
       "               name    time          date  runTime    newDate\n",
       "0       Abel Kiviat  3:55.8  1912-06-08\\n    235.8 1912-06-08\n",
       "1       John Zander  3:54.7  1917-08-05\\n    234.7 1917-08-05\n",
       "2       Paavo Nurmi  3:52.6  1924-06-19\\n    232.6 1924-06-19\n",
       "3      Otto Peltzer  3:51.0  1926-09-11\\n    231.0 1926-09-11\n",
       "4  Jules Ladoumegue  3:49.2  1930-10-05\\n    229.2 1930-10-05"
      ]
     },
     "execution_count": 42,
     "metadata": {},
     "output_type": "execute_result"
    }
   ],
   "source": [
    "df.head()"
   ]
  },
  {
   "cell_type": "markdown",
   "metadata": {},
   "source": [
    "## Plot the Progression in World Record \n",
    "\n",
    "Now that our data are cleaned and transformed, we can make a step-plot to see when world records were broken and for how long a record stood. "
   ]
  },
  {
   "cell_type": "code",
   "execution_count": 43,
   "metadata": {},
   "outputs": [
    {
     "data": {
      "image/png": "[encoded data removed]",
      "text/plain": [
       "<Figure size 1296x432 with 1 Axes>"
      ]
     },
     "metadata": {
      "needs_background": "light"
     },
     "output_type": "display_data"
    }
   ],
   "source": [
    "from pandas.plotting import register_matplotlib_converters\n",
    "register_matplotlib_converters()\n",
    "plt.figure(figsize=(18,6))\n",
    "axs = sns.lineplot(y=df['runTime'], x=df['newDate'], drawstyle='steps-pre')\n",
    "#axs.figure.savefig(\"worldRecords.png\", dpi=300, bbox_inches = \"tight\")"
   ]
  }
 ],
 "metadata": {
  "kernelspec": {
   "display_name": "Python 3",
   "language": "python",
   "name": "python3"
  },
  "language_info": {
   "codemirror_mode": {
    "name": "ipython",
    "version": 3
   },
   "file_extension": ".py",
   "mimetype": "text/x-python",
   "name": "python",
   "nbconvert_exporter": "python",
   "pygments_lexer": "ipython3",
   "version": "3.7.4"
  }
 },
 "nbformat": 4,
 "nbformat_minor": 2
}

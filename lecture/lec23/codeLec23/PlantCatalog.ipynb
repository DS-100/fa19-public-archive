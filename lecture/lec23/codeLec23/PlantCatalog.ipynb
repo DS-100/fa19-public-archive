{
 "cells": [
  {
   "cell_type": "code",
   "execution_count": 1,
   "metadata": {},
   "outputs": [],
   "source": [
    "import requests\n",
    "from lxml import html\n",
    "from bs4 import BeautifulSoup\n",
    "import pandas as pd\n",
    "import numpy as np\n",
    "import matplotlib.pyplot as plt\n",
    "import seaborn as sns\n",
    "%matplotlib inline\n",
    "sns.set_context(\"talk\")\n",
    "sns.set(style=\"white\")"
   ]
  },
  {
   "cell_type": "markdown",
   "metadata": {},
   "source": [
    "# Practice with Beautiful Soup and XPath\n",
    "\n",
    "We will use the simple plant catalog to show how to retrieve information from XML and xHTML documents.\n",
    "\n"
   ]
  },
  {
   "cell_type": "markdown",
   "metadata": {},
   "source": [
    "## Tasks\n",
    "\n",
    "We will carry out four tasks:\n",
    "\n",
    "1. Retrieve the common names of all plants \n",
    "2. Retrieve the plants that grow in zone 4\n",
    "3. Retrieve the common names of plants that grow in zone 4\n",
    "4. Retrieve the prices of plants whose prices are listed in USD"
   ]
  },
  {
   "cell_type": "markdown",
   "metadata": {},
   "source": [
    "# Beautiful Soup Examples"
   ]
  },
  {
   "cell_type": "code",
   "execution_count": 2,
   "metadata": {},
   "outputs": [],
   "source": [
    "soup = BeautifulSoup(open(\"plant_catalog.xml\"), \"lxml-xml\")"
   ]
  },
  {
   "cell_type": "code",
   "execution_count": 3,
   "metadata": {},
   "outputs": [
    {
     "data": {
      "text/plain": [
       "<?xml version=\"1.0\" encoding=\"utf-8\"?>\n",
       "<catalog>\n",
       "<plant>\n",
       "<common>Bloodroot</common>\n",
       "<botanical>Sanguinaria canadensis</botanical>\n",
       "<zone>4</zone>\n",
       "<light>Mostly Shady</light>\n",
       "<price currency=\"USD\">$2.44</price>\n",
       "<availability>031599</availability>\n",
       "</plant>\n",
       "<plant>\n",
       "<common>Columbine</common>\n",
       "<botanical>Aquilegia canadensis</botanical>\n",
       "<zone>3</zone>\n",
       "<light>Mostly Shady</light>\n",
       "<price currency=\"USD\">$9.37</price>\n",
       "<availability>030699</availability>\n",
       "</plant>\n",
       "<plant>\n",
       "<common>Marsh Marigold</common>\n",
       "<botanical>Caltha palustris</botanical>\n",
       "<zone>4</zone>\n",
       "<light>Mostly Sunny</light>\n",
       "<price currency=\"CAD\">$6.81</price>\n",
       "<availability>051799</availability>\n",
       "</plant>\n",
       "</catalog>"
      ]
     },
     "execution_count": 3,
     "metadata": {},
     "output_type": "execute_result"
    }
   ],
   "source": [
    "soup"
   ]
  },
  {
   "cell_type": "code",
   "execution_count": 4,
   "metadata": {},
   "outputs": [
    {
     "name": "stdout",
     "output_type": "stream",
     "text": [
      "<?xml version=\"1.0\" encoding=\"utf-8\"?>\n",
      "<catalog>\n",
      " <plant>\n",
      "  <common>\n",
      "   Bloodroot\n",
      "  </common>\n",
      "  <botanical>\n",
      "   Sanguinaria canadensis\n",
      "  </botanical>\n",
      "  <zone>\n",
      "   4\n",
      "  </zone>\n",
      "  <light>\n",
      "   Mostly Shady\n",
      "  </light>\n",
      "  <price currency=\"USD\">\n",
      "   $2.44\n",
      "  </price>\n",
      "  <availability>\n",
      "   031599\n",
      "  </availability>\n",
      " </plant>\n",
      " <plant>\n",
      "  <common>\n",
      "   Columbine\n",
      "  </common>\n",
      "  <botanical>\n",
      "   Aquilegia canadensis\n",
      "  </botanical>\n",
      "  <zone>\n",
      "   3\n",
      "  </zone>\n",
      "  <light>\n",
      "   Mostly Shady\n",
      "  </light>\n",
      "  <price currency=\"USD\">\n",
      "   $9.37\n",
      "  </price>\n",
      "  <availability>\n",
      "   030699\n",
      "  </availability>\n",
      " </plant>\n",
      " <plant>\n",
      "  <common>\n",
      "   Marsh Marigold\n",
      "  </common>\n",
      "  <botanical>\n",
      "   Caltha palustris\n",
      "  </botanical>\n",
      "  <zone>\n",
      "   4\n",
      "  </zone>\n",
      "  <light>\n",
      "   Mostly Sunny\n",
      "  </light>\n",
      "  <price currency=\"CAD\">\n",
      "   $6.81\n",
      "  </price>\n",
      "  <availability>\n",
      "   051799\n",
      "  </availability>\n",
      " </plant>\n",
      "</catalog>\n"
     ]
    }
   ],
   "source": [
    "print(soup.prettify())"
   ]
  },
  {
   "cell_type": "markdown",
   "metadata": {},
   "source": [
    "### 1. Retrieve the common names of all plants "
   ]
  },
  {
   "cell_type": "code",
   "execution_count": 5,
   "metadata": {},
   "outputs": [
    {
     "data": {
      "text/plain": [
       "<plant>\n",
       "<common>Bloodroot</common>\n",
       "<botanical>Sanguinaria canadensis</botanical>\n",
       "<zone>4</zone>\n",
       "<light>Mostly Shady</light>\n",
       "<price currency=\"USD\">$2.44</price>\n",
       "<availability>031599</availability>\n",
       "</plant>"
      ]
     },
     "execution_count": 5,
     "metadata": {},
     "output_type": "execute_result"
    }
   ],
   "source": [
    "soup.catalog.plant"
   ]
  },
  {
   "cell_type": "markdown",
   "metadata": {},
   "source": [
    "We locate all common nodes with `find_all` and then from each we retrieve the text (string) content. "
   ]
  },
  {
   "cell_type": "code",
   "execution_count": 6,
   "metadata": {},
   "outputs": [],
   "source": [
    "c_nodes = soup.find_all('common')"
   ]
  },
  {
   "cell_type": "code",
   "execution_count": 7,
   "metadata": {},
   "outputs": [
    {
     "name": "stdout",
     "output_type": "stream",
     "text": [
      "Bloodroot\n",
      "Columbine\n",
      "Marsh Marigold\n"
     ]
    }
   ],
   "source": [
    "for c in c_nodes:\n",
    "    print(c.string)"
   ]
  },
  {
   "cell_type": "markdown",
   "metadata": {},
   "source": [
    "Alternatively, we locate all plant nodes with `find_all` and then from each we travel to the common child (can only have one) and on to the text (string) content. "
   ]
  },
  {
   "cell_type": "code",
   "execution_count": 8,
   "metadata": {},
   "outputs": [
    {
     "data": {
      "text/plain": [
       "['Bloodroot', 'Columbine', 'Marsh Marigold']"
      ]
     },
     "execution_count": 8,
     "metadata": {},
     "output_type": "execute_result"
    }
   ],
   "source": [
    "plants = soup.find_all('plant')\n",
    "common_names = []\n",
    "for p in plants:\n",
    "    common_names.append(p.common.string)\n",
    "    \n",
    "common_names    "
   ]
  },
  {
   "cell_type": "markdown",
   "metadata": {},
   "source": [
    "### 2. Retrieve the plants that grow in zone 4"
   ]
  },
  {
   "cell_type": "markdown",
   "metadata": {},
   "source": [
    "The following call to 'find_all' finds all zone nodes that have a text content of \"4\". That is, it filters on node names of 'zone' with text content \"4\". Then, for each of these zone nodes, we go up one step to the parent (e.g., 'z.parent')"
   ]
  },
  {
   "cell_type": "code",
   "execution_count": 9,
   "metadata": {},
   "outputs": [
    {
     "data": {
      "text/plain": [
       "[<zone>4</zone>, <zone>4</zone>]"
      ]
     },
     "execution_count": 9,
     "metadata": {},
     "output_type": "execute_result"
    }
   ],
   "source": [
    "zone4 = soup.find_all('zone', text = \"4\")\n",
    "\n",
    "zone4"
   ]
  },
  {
   "cell_type": "code",
   "execution_count": 10,
   "metadata": {},
   "outputs": [],
   "source": [
    "zone4_plants = []\n",
    "for z in zone4:\n",
    "    zone4_plants.append(z.parent)"
   ]
  },
  {
   "cell_type": "code",
   "execution_count": 11,
   "metadata": {},
   "outputs": [
    {
     "data": {
      "text/plain": [
       "[<plant>\n",
       " <common>Bloodroot</common>\n",
       " <botanical>Sanguinaria canadensis</botanical>\n",
       " <zone>4</zone>\n",
       " <light>Mostly Shady</light>\n",
       " <price currency=\"USD\">$2.44</price>\n",
       " <availability>031599</availability>\n",
       " </plant>, <plant>\n",
       " <common>Marsh Marigold</common>\n",
       " <botanical>Caltha palustris</botanical>\n",
       " <zone>4</zone>\n",
       " <light>Mostly Sunny</light>\n",
       " <price currency=\"CAD\">$6.81</price>\n",
       " <availability>051799</availability>\n",
       " </plant>]"
      ]
     },
     "execution_count": 11,
     "metadata": {},
     "output_type": "execute_result"
    }
   ],
   "source": [
    "zone4_plants"
   ]
  },
  {
   "cell_type": "markdown",
   "metadata": {},
   "source": [
    "### 3. Retrieve the common names of plants that grow in zone 4\n",
    "\n",
    "We can use the zone nodes that we found in the previous step. \n",
    "For each of these nodes, we go up the tree to the parent, then down one level to the child named 'common' and on to its text content.\n",
    "\n",
    "Note that this will be problematic if a plant node has more than one common node."
   ]
  },
  {
   "cell_type": "code",
   "execution_count": 12,
   "metadata": {},
   "outputs": [
    {
     "data": {
      "text/plain": [
       "['Bloodroot', 'Marsh Marigold']"
      ]
     },
     "execution_count": 12,
     "metadata": {},
     "output_type": "execute_result"
    }
   ],
   "source": [
    "zone4_names = []\n",
    "for z in zone4:\n",
    "    zone4_names.append(z.parent.common.string)\n",
    "    \n",
    "zone4_names    "
   ]
  },
  {
   "cell_type": "markdown",
   "metadata": {},
   "source": [
    "### 4. Retrieve the prices of plants whose prices are listed in USD\n",
    "\n",
    "In addition to filtering on the node name in 'find_all', we can also include a filter on the value of an attribute. The following code adds the constraint that the price nodes must have a currency attribute with a value of \"USD\". "
   ]
  },
  {
   "cell_type": "code",
   "execution_count": 13,
   "metadata": {},
   "outputs": [
    {
     "data": {
      "text/plain": [
       "[<price currency=\"USD\">$2.44</price>, <price currency=\"USD\">$9.37</price>]"
      ]
     },
     "execution_count": 13,
     "metadata": {},
     "output_type": "execute_result"
    }
   ],
   "source": [
    "soup.find_all('price', currency=\"USD\")"
   ]
  },
  {
   "cell_type": "code",
   "execution_count": 14,
   "metadata": {},
   "outputs": [
    {
     "data": {
      "text/plain": [
       "['$2.44', '$9.37']"
      ]
     },
     "execution_count": 14,
     "metadata": {},
     "output_type": "execute_result"
    }
   ],
   "source": [
    "us_price_nodes = soup.find_all('price', currency=\"USD\")\n",
    "\n",
    "prices = []\n",
    "for p in us_price_nodes:\n",
    "    prices.append(p.string)\n",
    "    \n",
    "prices"
   ]
  },
  {
   "cell_type": "markdown",
   "metadata": {},
   "source": [
    "# XPath Examples"
   ]
  },
  {
   "cell_type": "code",
   "execution_count": 15,
   "metadata": {},
   "outputs": [],
   "source": [
    "from lxml import etree\n",
    "\n",
    "root = etree.parse(\"plant_catalog.xml\")"
   ]
  },
  {
   "cell_type": "markdown",
   "metadata": {},
   "source": [
    "### 1. Retrieve the common names of all plants \n",
    "\n",
    "Here are three ways to access this content.\n",
    "\n",
    "+ from all common nodes, retrieve the text content"
   ]
  },
  {
   "cell_type": "code",
   "execution_count": 16,
   "metadata": {},
   "outputs": [
    {
     "data": {
      "text/plain": [
       "['Bloodroot', 'Columbine', 'Marsh Marigold']"
      ]
     },
     "execution_count": 16,
     "metadata": {},
     "output_type": "execute_result"
    }
   ],
   "source": [
    "root.xpath('//common/text()')"
   ]
  },
  {
   "cell_type": "markdown",
   "metadata": {},
   "source": [
    "+ From all plant nodes, go to the child nodes named 'common' and then to the text content."
   ]
  },
  {
   "cell_type": "code",
   "execution_count": 17,
   "metadata": {},
   "outputs": [
    {
     "data": {
      "text/plain": [
       "['Bloodroot', 'Columbine', 'Marsh Marigold']"
      ]
     },
     "execution_count": 17,
     "metadata": {},
     "output_type": "execute_result"
    }
   ],
   "source": [
    "root.xpath('//plant/common/text()')"
   ]
  },
  {
   "cell_type": "markdown",
   "metadata": {},
   "source": [
    "+ Beginning at the top go one step to the catalog node then to all children named 'plant', then to all children of the plant nodes that are named 'common' and on the to the text content of these common nodes."
   ]
  },
  {
   "cell_type": "code",
   "execution_count": 18,
   "metadata": {},
   "outputs": [
    {
     "data": {
      "text/plain": [
       "['Bloodroot', 'Columbine', 'Marsh Marigold']"
      ]
     },
     "execution_count": 18,
     "metadata": {},
     "output_type": "execute_result"
    }
   ],
   "source": [
    "root.xpath('/catalog/plant/common/text()')"
   ]
  },
  {
   "cell_type": "markdown",
   "metadata": {},
   "source": [
    "### 2. Retrieve the plants that grow in zone 4\n",
    "\n",
    "Here are two approaches.\n",
    "\n",
    "+ From all of the plant nodes, filter to those that have a zone child(ren) with text content of \"4\". "
   ]
  },
  {
   "cell_type": "code",
   "execution_count": 19,
   "metadata": {},
   "outputs": [
    {
     "name": "stdout",
     "output_type": "stream",
     "text": [
      "<plant>\n",
      "        <common>Bloodroot</common>\n",
      "        <botanical>Sanguinaria canadensis</botanical>\n",
      "        <zone>4</zone>\n",
      "        <light>Mostly Shady</light>\n",
      "        <price currency=\"USD\">$2.44</price>\n",
      "        <availability>031599</availability>\n",
      "    </plant>\n",
      "    \n",
      "\n",
      "<plant>\n",
      "        <common>Marsh Marigold</common>\n",
      "        <botanical>Caltha palustris</botanical>\n",
      "        <zone>4</zone>\n",
      "        <light>Mostly Sunny</light>\n",
      "        <price currency=\"CAD\">$6.81</price>\n",
      "        <availability>051799</availability>\n",
      "    </plant>\n",
      "\n",
      "\n"
     ]
    }
   ],
   "source": [
    "zone4_plants = root.xpath('//plant[./zone/text()=\"4\"]')\n",
    "\n",
    "for k in zone4_plants:\n",
    "    print(html.tostring(k, pretty_print=True).decode('UTF8'))"
   ]
  },
  {
   "cell_type": "markdown",
   "metadata": {},
   "source": [
    "Alternatively, \n",
    "\n",
    "+ From all of the zone nodes, filter to those that have text content of \"4\". Then go up one level to the parent of the zone node."
   ]
  },
  {
   "cell_type": "code",
   "execution_count": 20,
   "metadata": {},
   "outputs": [
    {
     "name": "stdout",
     "output_type": "stream",
     "text": [
      "<plant>\n",
      "        <common>Bloodroot</common>\n",
      "        <botanical>Sanguinaria canadensis</botanical>\n",
      "        <zone>4</zone>\n",
      "        <light>Mostly Shady</light>\n",
      "        <price currency=\"USD\">$2.44</price>\n",
      "        <availability>031599</availability>\n",
      "    </plant>\n",
      "    \n",
      "\n",
      "<plant>\n",
      "        <common>Marsh Marigold</common>\n",
      "        <botanical>Caltha palustris</botanical>\n",
      "        <zone>4</zone>\n",
      "        <light>Mostly Sunny</light>\n",
      "        <price currency=\"CAD\">$6.81</price>\n",
      "        <availability>051799</availability>\n",
      "    </plant>\n",
      "\n",
      "\n"
     ]
    }
   ],
   "source": [
    "zone4_plants = root.xpath('//zone[text()=\"4\"]/..')\n",
    "\n",
    "for k in zone4_plants:\n",
    "    print(html.tostring(k, pretty_print=True).decode('UTF8'))"
   ]
  },
  {
   "cell_type": "markdown",
   "metadata": {},
   "source": [
    "### 3. Retrieve the common names of plants that grow in zone 4\n",
    "\n",
    "Here are two ways to retrieve the common names.\n",
    "\n",
    "+ Filter all plant nodes to keep only those with a zone child that has text content \"4\". Then from those plant nodes, go to the child named 'common' and on to the 'common' nodes text content."
   ]
  },
  {
   "cell_type": "code",
   "execution_count": 21,
   "metadata": {},
   "outputs": [
    {
     "data": {
      "text/plain": [
       "['Bloodroot', 'Marsh Marigold']"
      ]
     },
     "execution_count": 21,
     "metadata": {},
     "output_type": "execute_result"
    }
   ],
   "source": [
    "root.xpath('//plant[zone/text() = \"4\"]/common/text()')"
   ]
  },
  {
   "cell_type": "markdown",
   "metadata": {},
   "source": [
    "+ Filter all of the common nodes to keep only those whose parent has a zone child with text content \"4\". Then from those common nodes get the text content."
   ]
  },
  {
   "cell_type": "code",
   "execution_count": 22,
   "metadata": {},
   "outputs": [
    {
     "data": {
      "text/plain": [
       "['Bloodroot', 'Marsh Marigold']"
      ]
     },
     "execution_count": 22,
     "metadata": {},
     "output_type": "execute_result"
    }
   ],
   "source": [
    "root.xpath('//common[../zone/text() = \"4\"]/text()')"
   ]
  },
  {
   "cell_type": "markdown",
   "metadata": {},
   "source": [
    "### 4. Retrieve the prices of plants whose prices are listed in USD\n",
    "\n",
    "Here is one way to get the prices. \n",
    "\n",
    "Start with all price nodes, and filter them according to whether they have a 'currency' attribute with  value \"USD\". "
   ]
  },
  {
   "cell_type": "code",
   "execution_count": 23,
   "metadata": {},
   "outputs": [
    {
     "data": {
      "text/plain": [
       "['$2.44', '$9.37']"
      ]
     },
     "execution_count": 23,
     "metadata": {},
     "output_type": "execute_result"
    }
   ],
   "source": [
    "root.xpath('//price[@currency = \"USD\"]/text()')"
   ]
  },
  {
   "cell_type": "markdown",
   "metadata": {},
   "source": [
    "Note that we can retrieve the values of an attribute as follows:"
   ]
  },
  {
   "cell_type": "code",
   "execution_count": 24,
   "metadata": {},
   "outputs": [
    {
     "data": {
      "text/plain": [
       "['USD', 'USD', 'CAD']"
      ]
     },
     "execution_count": 24,
     "metadata": {},
     "output_type": "execute_result"
    }
   ],
   "source": [
    "root.xpath('//price/@currency')"
   ]
  }
 ],
 "metadata": {
  "kernelspec": {
   "display_name": "Python 3",
   "language": "python",
   "name": "python3"
  },
  "language_info": {
   "codemirror_mode": {
    "name": "ipython",
    "version": 3
   },
   "file_extension": ".py",
   "mimetype": "text/x-python",
   "name": "python",
   "nbconvert_exporter": "python",
   "pygments_lexer": "ipython3",
   "version": "3.7.4"
  }
 },
 "nbformat": 4,
 "nbformat_minor": 2
}

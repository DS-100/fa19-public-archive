{
 "cells": [
  {
   "cell_type": "code",
   "execution_count": 1,
   "metadata": {},
   "outputs": [],
   "source": [
    "import numpy as np\n",
    "import pandas as pd\n",
    "import matplotlib.pyplot as plt\n",
    "import seaborn as sns\n",
    "%matplotlib inline\n",
    "\n",
    "plt.rcParams['figure.figsize'] = (3, 3)\n",
    "plt.rcParams['figure.dpi'] = 150\n",
    "plt.rcParams['lines.linewidth'] = 3\n",
    "sns.set()"
   ]
  },
  {
   "cell_type": "markdown",
   "metadata": {},
   "source": [
    "## Classification"
   ]
  },
  {
   "cell_type": "markdown",
   "metadata": {},
   "source": [
    "In this notebook, our goal will be to find the parameter vector $\\vec{\\hat{\\beta}}$ that minimizes our empirical risk $R(\\vec{\\beta}, \\Bbb{x}, \\vec{y})$, where $\\Bbb{X}$ is our design matrix and $\\vec{y}$ are our observed classes. That is we want:"
   ]
  },
  {
   "cell_type": "markdown",
   "metadata": {},
   "source": [
    "$$\n",
    "\\vec{\\hat\\beta} = \\text{argmin}_{\\vec{\\beta}} R(\\vec{\\beta}, \\Bbb{x}, \\vec{y}) = \\text{argmin}_{\\vec{\\beta}} \\dfrac{1}{n}\n",
    "\\sum_i \\ell(y_i, \\hat{y}_i) $$"
   ]
  },
  {
   "cell_type": "markdown",
   "metadata": {},
   "source": [
    "In this notebook, we'll choose the logistic regression model $\\hat{y}_i = \\sigma(\\Bbb{X}_i^T \\vec{\\beta})$ to produce our predicted probability. Here $\\Bbb{X}_i$ is the ith row of the design matrix. (Note: In keeping with common mathematical convention, the row is given as a column vector, hence $\\Bbb{X}_i^T \\vec{\\beta}$ is just the dot product of the ith row of $\\Bbb{X}$ and $\\vec{\\beta}$. I also think it is weird that rows are given as column vectors, but oh well)."
   ]
  },
  {
   "cell_type": "markdown",
   "metadata": {},
   "source": [
    "In other words, we can write the expression above as:"
   ]
  },
  {
   "cell_type": "markdown",
   "metadata": {},
   "source": [
    "$$\n",
    "\\vec{\\hat\\beta} = \\text{argmin}_{\\vec{\\beta}} R(\\vec{\\beta}, \\Bbb{x}, \\vec{y}) = \\text{argmin}_{\\vec{\\beta}} \\dfrac{1}{n}\n",
    "\\sum_i \\ell(y_i, \\sigma(\\Bbb{X}_i^T \\vec{\\beta})) $$"
   ]
  },
  {
   "cell_type": "markdown",
   "metadata": {},
   "source": [
    "In this problem, we'll choose $\\ell$ to be the cross entropy loss. That is, the empirical risk will be the average cross entropy loss across all observations."
   ]
  },
  {
   "cell_type": "markdown",
   "metadata": {},
   "source": [
    "$$\\ell(y_i, \\hat{y}_i) =  -y_i \\log(\\hat{y}_i) - (1 - y_i) \\log(1 - \\hat{y}_i)) \n",
    "$$"
   ]
  },
  {
   "cell_type": "markdown",
   "metadata": {},
   "source": [
    "$\\sigma(\\Bbb{X}_i^T \\vec{\\beta})$, $\\ell(y_i, \\hat{y}_i)$, and $R(\\vec{\\beta}, \\Bbb{x}, \\vec{y})$ can all be computed using the code below."
   ]
  },
  {
   "cell_type": "code",
   "execution_count": 2,
   "metadata": {},
   "outputs": [],
   "source": [
    "def sigma(t):\n",
    "    \"\"\"The logistic or sigmoid function, denoted σ(t).\n",
    "    \n",
    "    Note: This is actually a special case of what is generally \n",
    "          named the \"logistic\" function,\n",
    "          which allows for a different numerator and offset, \n",
    "          but lots of people call this the logistic function in practice.\n",
    "    \"\"\"\n",
    "    return 1 / (1 + np.exp(-t))\n",
    "\n",
    "def prediction(X, beta): # this is sigma(x dot beta)\n",
    "    \"\"\"Prediction under the logistic model for features x and parameters b.\"\"\"\n",
    "    return sigma(X @ beta)\n",
    "\n",
    "\n",
    "def cross_entropy_loss(y, y_hat): #this is l(y, y_hat)\n",
    "    \"\"\"Log loss or cross-entropy loss, assuming y is in [0, 1].\"\"\"\n",
    "    assert y in [0, 1]\n",
    "    return -y * np.log(y_hat) - (1-y) * np.log(1-y_hat)\n",
    "\n",
    "def average_cross_entropy_loss(beta, X, y_obs): # this is R(beta, X, y)\n",
    "    \"\"\"The average cross entropy loss.\"\"\"\n",
    "    y_hat = sigma(X @ beta)\n",
    "    losses = [cross_entropy_loss(y_obs_i, y_hat_i) for y_obs_i, y_hat_i in zip(y_obs, y_hat)]\n",
    "    return np.average(losses)\n"
   ]
  },
  {
   "cell_type": "markdown",
   "metadata": {},
   "source": [
    "## Optimizing With Brute Force Guess and Check"
   ]
  },
  {
   "cell_type": "markdown",
   "metadata": {},
   "source": [
    "Let's consider a cancer dataset."
   ]
  },
  {
   "cell_type": "code",
   "execution_count": 3,
   "metadata": {},
   "outputs": [
    {
     "data": {
      "text/plain": [
       "bias                          1.000000\n",
       "mean radius                  17.990000\n",
       "mean texture                 10.380000\n",
       "mean perimeter              122.800000\n",
       "mean area                  1001.000000\n",
       "mean smoothness               0.118400\n",
       "mean compactness              0.277600\n",
       "mean concavity                0.300100\n",
       "mean concave points           0.147100\n",
       "mean symmetry                 0.241900\n",
       "mean fractal dimension        0.078710\n",
       "radius error                  1.095000\n",
       "texture error                 0.905300\n",
       "perimeter error               8.589000\n",
       "area error                  153.400000\n",
       "smoothness error              0.006399\n",
       "compactness error             0.049040\n",
       "concavity error               0.053730\n",
       "concave points error          0.015870\n",
       "symmetry error                0.030030\n",
       "fractal dimension error       0.006193\n",
       "worst radius                 25.380000\n",
       "worst texture                17.330000\n",
       "worst perimeter             184.600000\n",
       "worst area                 2019.000000\n",
       "worst smoothness              0.162200\n",
       "worst compactness             0.665600\n",
       "worst concavity               0.711900\n",
       "worst concave points          0.265400\n",
       "worst symmetry                0.460100\n",
       "worst fractal dimension       0.118900\n",
       "malignant                     1.000000\n",
       "Name: 0, dtype: float64"
      ]
     },
     "execution_count": 3,
     "metadata": {},
     "output_type": "execute_result"
    }
   ],
   "source": [
    "import sklearn.datasets\n",
    "data_dict = sklearn.datasets.load_breast_cancer()\n",
    "cancer = pd.DataFrame(data_dict['data'], columns=data_dict['feature_names'])\n",
    "\n",
    "#put bias column at the front of the dataframe\n",
    "cancer.insert(0, 'bias', 1.0)\n",
    "\n",
    "\n",
    "# Target data_dict['target'] = 0 is malignant; 1 is benign\n",
    "cancer['malignant'] = 1 - data_dict['target']\n",
    "cancer.iloc[0]"
   ]
  },
  {
   "cell_type": "code",
   "execution_count": 4,
   "metadata": {},
   "outputs": [
    {
     "data": {
      "text/html": [
       "<div>\n",
       "<style scoped>\n",
       "    .dataframe tbody tr th:only-of-type {\n",
       "        vertical-align: middle;\n",
       "    }\n",
       "\n",
       "    .dataframe tbody tr th {\n",
       "        vertical-align: top;\n",
       "    }\n",
       "\n",
       "    .dataframe thead th {\n",
       "        text-align: right;\n",
       "    }\n",
       "</style>\n",
       "<table border=\"1\" class=\"dataframe\">\n",
       "  <thead>\n",
       "    <tr style=\"text-align: right;\">\n",
       "      <th></th>\n",
       "      <th>bias</th>\n",
       "      <th>mean radius</th>\n",
       "      <th>mean texture</th>\n",
       "      <th>mean perimeter</th>\n",
       "      <th>mean area</th>\n",
       "      <th>mean smoothness</th>\n",
       "      <th>mean compactness</th>\n",
       "      <th>mean concavity</th>\n",
       "      <th>mean concave points</th>\n",
       "      <th>mean symmetry</th>\n",
       "      <th>...</th>\n",
       "      <th>worst texture</th>\n",
       "      <th>worst perimeter</th>\n",
       "      <th>worst area</th>\n",
       "      <th>worst smoothness</th>\n",
       "      <th>worst compactness</th>\n",
       "      <th>worst concavity</th>\n",
       "      <th>worst concave points</th>\n",
       "      <th>worst symmetry</th>\n",
       "      <th>worst fractal dimension</th>\n",
       "      <th>malignant</th>\n",
       "    </tr>\n",
       "  </thead>\n",
       "  <tbody>\n",
       "    <tr>\n",
       "      <th>count</th>\n",
       "      <td>569.0</td>\n",
       "      <td>569.000000</td>\n",
       "      <td>569.000000</td>\n",
       "      <td>569.000000</td>\n",
       "      <td>569.000000</td>\n",
       "      <td>569.000000</td>\n",
       "      <td>569.000000</td>\n",
       "      <td>569.000000</td>\n",
       "      <td>569.000000</td>\n",
       "      <td>569.000000</td>\n",
       "      <td>...</td>\n",
       "      <td>569.000000</td>\n",
       "      <td>569.000000</td>\n",
       "      <td>569.000000</td>\n",
       "      <td>569.000000</td>\n",
       "      <td>569.000000</td>\n",
       "      <td>569.000000</td>\n",
       "      <td>569.000000</td>\n",
       "      <td>569.000000</td>\n",
       "      <td>569.000000</td>\n",
       "      <td>569.000000</td>\n",
       "    </tr>\n",
       "    <tr>\n",
       "      <th>mean</th>\n",
       "      <td>1.0</td>\n",
       "      <td>14.127292</td>\n",
       "      <td>19.289649</td>\n",
       "      <td>91.969033</td>\n",
       "      <td>654.889104</td>\n",
       "      <td>0.096360</td>\n",
       "      <td>0.104341</td>\n",
       "      <td>0.088799</td>\n",
       "      <td>0.048919</td>\n",
       "      <td>0.181162</td>\n",
       "      <td>...</td>\n",
       "      <td>25.677223</td>\n",
       "      <td>107.261213</td>\n",
       "      <td>880.583128</td>\n",
       "      <td>0.132369</td>\n",
       "      <td>0.254265</td>\n",
       "      <td>0.272188</td>\n",
       "      <td>0.114606</td>\n",
       "      <td>0.290076</td>\n",
       "      <td>0.083946</td>\n",
       "      <td>0.372583</td>\n",
       "    </tr>\n",
       "    <tr>\n",
       "      <th>std</th>\n",
       "      <td>0.0</td>\n",
       "      <td>3.524049</td>\n",
       "      <td>4.301036</td>\n",
       "      <td>24.298981</td>\n",
       "      <td>351.914129</td>\n",
       "      <td>0.014064</td>\n",
       "      <td>0.052813</td>\n",
       "      <td>0.079720</td>\n",
       "      <td>0.038803</td>\n",
       "      <td>0.027414</td>\n",
       "      <td>...</td>\n",
       "      <td>6.146258</td>\n",
       "      <td>33.602542</td>\n",
       "      <td>569.356993</td>\n",
       "      <td>0.022832</td>\n",
       "      <td>0.157336</td>\n",
       "      <td>0.208624</td>\n",
       "      <td>0.065732</td>\n",
       "      <td>0.061867</td>\n",
       "      <td>0.018061</td>\n",
       "      <td>0.483918</td>\n",
       "    </tr>\n",
       "    <tr>\n",
       "      <th>min</th>\n",
       "      <td>1.0</td>\n",
       "      <td>6.981000</td>\n",
       "      <td>9.710000</td>\n",
       "      <td>43.790000</td>\n",
       "      <td>143.500000</td>\n",
       "      <td>0.052630</td>\n",
       "      <td>0.019380</td>\n",
       "      <td>0.000000</td>\n",
       "      <td>0.000000</td>\n",
       "      <td>0.106000</td>\n",
       "      <td>...</td>\n",
       "      <td>12.020000</td>\n",
       "      <td>50.410000</td>\n",
       "      <td>185.200000</td>\n",
       "      <td>0.071170</td>\n",
       "      <td>0.027290</td>\n",
       "      <td>0.000000</td>\n",
       "      <td>0.000000</td>\n",
       "      <td>0.156500</td>\n",
       "      <td>0.055040</td>\n",
       "      <td>0.000000</td>\n",
       "    </tr>\n",
       "    <tr>\n",
       "      <th>25%</th>\n",
       "      <td>1.0</td>\n",
       "      <td>11.700000</td>\n",
       "      <td>16.170000</td>\n",
       "      <td>75.170000</td>\n",
       "      <td>420.300000</td>\n",
       "      <td>0.086370</td>\n",
       "      <td>0.064920</td>\n",
       "      <td>0.029560</td>\n",
       "      <td>0.020310</td>\n",
       "      <td>0.161900</td>\n",
       "      <td>...</td>\n",
       "      <td>21.080000</td>\n",
       "      <td>84.110000</td>\n",
       "      <td>515.300000</td>\n",
       "      <td>0.116600</td>\n",
       "      <td>0.147200</td>\n",
       "      <td>0.114500</td>\n",
       "      <td>0.064930</td>\n",
       "      <td>0.250400</td>\n",
       "      <td>0.071460</td>\n",
       "      <td>0.000000</td>\n",
       "    </tr>\n",
       "    <tr>\n",
       "      <th>50%</th>\n",
       "      <td>1.0</td>\n",
       "      <td>13.370000</td>\n",
       "      <td>18.840000</td>\n",
       "      <td>86.240000</td>\n",
       "      <td>551.100000</td>\n",
       "      <td>0.095870</td>\n",
       "      <td>0.092630</td>\n",
       "      <td>0.061540</td>\n",
       "      <td>0.033500</td>\n",
       "      <td>0.179200</td>\n",
       "      <td>...</td>\n",
       "      <td>25.410000</td>\n",
       "      <td>97.660000</td>\n",
       "      <td>686.500000</td>\n",
       "      <td>0.131300</td>\n",
       "      <td>0.211900</td>\n",
       "      <td>0.226700</td>\n",
       "      <td>0.099930</td>\n",
       "      <td>0.282200</td>\n",
       "      <td>0.080040</td>\n",
       "      <td>0.000000</td>\n",
       "    </tr>\n",
       "    <tr>\n",
       "      <th>75%</th>\n",
       "      <td>1.0</td>\n",
       "      <td>15.780000</td>\n",
       "      <td>21.800000</td>\n",
       "      <td>104.100000</td>\n",
       "      <td>782.700000</td>\n",
       "      <td>0.105300</td>\n",
       "      <td>0.130400</td>\n",
       "      <td>0.130700</td>\n",
       "      <td>0.074000</td>\n",
       "      <td>0.195700</td>\n",
       "      <td>...</td>\n",
       "      <td>29.720000</td>\n",
       "      <td>125.400000</td>\n",
       "      <td>1084.000000</td>\n",
       "      <td>0.146000</td>\n",
       "      <td>0.339100</td>\n",
       "      <td>0.382900</td>\n",
       "      <td>0.161400</td>\n",
       "      <td>0.317900</td>\n",
       "      <td>0.092080</td>\n",
       "      <td>1.000000</td>\n",
       "    </tr>\n",
       "    <tr>\n",
       "      <th>max</th>\n",
       "      <td>1.0</td>\n",
       "      <td>28.110000</td>\n",
       "      <td>39.280000</td>\n",
       "      <td>188.500000</td>\n",
       "      <td>2501.000000</td>\n",
       "      <td>0.163400</td>\n",
       "      <td>0.345400</td>\n",
       "      <td>0.426800</td>\n",
       "      <td>0.201200</td>\n",
       "      <td>0.304000</td>\n",
       "      <td>...</td>\n",
       "      <td>49.540000</td>\n",
       "      <td>251.200000</td>\n",
       "      <td>4254.000000</td>\n",
       "      <td>0.222600</td>\n",
       "      <td>1.058000</td>\n",
       "      <td>1.252000</td>\n",
       "      <td>0.291000</td>\n",
       "      <td>0.663800</td>\n",
       "      <td>0.207500</td>\n",
       "      <td>1.000000</td>\n",
       "    </tr>\n",
       "  </tbody>\n",
       "</table>\n",
       "<p>8 rows × 32 columns</p>\n",
       "</div>"
      ],
      "text/plain": [
       "        bias  mean radius  mean texture  mean perimeter    mean area  \\\n",
       "count  569.0   569.000000    569.000000      569.000000   569.000000   \n",
       "mean     1.0    14.127292     19.289649       91.969033   654.889104   \n",
       "std      0.0     3.524049      4.301036       24.298981   351.914129   \n",
       "min      1.0     6.981000      9.710000       43.790000   143.500000   \n",
       "25%      1.0    11.700000     16.170000       75.170000   420.300000   \n",
       "50%      1.0    13.370000     18.840000       86.240000   551.100000   \n",
       "75%      1.0    15.780000     21.800000      104.100000   782.700000   \n",
       "max      1.0    28.110000     39.280000      188.500000  2501.000000   \n",
       "\n",
       "       mean smoothness  mean compactness  mean concavity  mean concave points  \\\n",
       "count       569.000000        569.000000      569.000000           569.000000   \n",
       "mean          0.096360          0.104341        0.088799             0.048919   \n",
       "std           0.014064          0.052813        0.079720             0.038803   \n",
       "min           0.052630          0.019380        0.000000             0.000000   \n",
       "25%           0.086370          0.064920        0.029560             0.020310   \n",
       "50%           0.095870          0.092630        0.061540             0.033500   \n",
       "75%           0.105300          0.130400        0.130700             0.074000   \n",
       "max           0.163400          0.345400        0.426800             0.201200   \n",
       "\n",
       "       mean symmetry     ...      worst texture  worst perimeter   worst area  \\\n",
       "count     569.000000     ...         569.000000       569.000000   569.000000   \n",
       "mean        0.181162     ...          25.677223       107.261213   880.583128   \n",
       "std         0.027414     ...           6.146258        33.602542   569.356993   \n",
       "min         0.106000     ...          12.020000        50.410000   185.200000   \n",
       "25%         0.161900     ...          21.080000        84.110000   515.300000   \n",
       "50%         0.179200     ...          25.410000        97.660000   686.500000   \n",
       "75%         0.195700     ...          29.720000       125.400000  1084.000000   \n",
       "max         0.304000     ...          49.540000       251.200000  4254.000000   \n",
       "\n",
       "       worst smoothness  worst compactness  worst concavity  \\\n",
       "count        569.000000         569.000000       569.000000   \n",
       "mean           0.132369           0.254265         0.272188   \n",
       "std            0.022832           0.157336         0.208624   \n",
       "min            0.071170           0.027290         0.000000   \n",
       "25%            0.116600           0.147200         0.114500   \n",
       "50%            0.131300           0.211900         0.226700   \n",
       "75%            0.146000           0.339100         0.382900   \n",
       "max            0.222600           1.058000         1.252000   \n",
       "\n",
       "       worst concave points  worst symmetry  worst fractal dimension  \\\n",
       "count            569.000000      569.000000               569.000000   \n",
       "mean               0.114606        0.290076                 0.083946   \n",
       "std                0.065732        0.061867                 0.018061   \n",
       "min                0.000000        0.156500                 0.055040   \n",
       "25%                0.064930        0.250400                 0.071460   \n",
       "50%                0.099930        0.282200                 0.080040   \n",
       "75%                0.161400        0.317900                 0.092080   \n",
       "max                0.291000        0.663800                 0.207500   \n",
       "\n",
       "        malignant  \n",
       "count  569.000000  \n",
       "mean     0.372583  \n",
       "std      0.483918  \n",
       "min      0.000000  \n",
       "25%      0.000000  \n",
       "50%      0.000000  \n",
       "75%      1.000000  \n",
       "max      1.000000  \n",
       "\n",
       "[8 rows x 32 columns]"
      ]
     },
     "execution_count": 4,
     "metadata": {},
     "output_type": "execute_result"
    }
   ],
   "source": [
    "cancer.describe()"
   ]
  },
  {
   "cell_type": "code",
   "execution_count": 5,
   "metadata": {
    "scrolled": true
   },
   "outputs": [
    {
     "name": "stdout",
     "output_type": "stream",
     "text": [
      "Training Data Size:  426\n",
      "Test Data Size:  143\n"
     ]
    }
   ],
   "source": [
    "from sklearn.model_selection import train_test_split\n",
    "\n",
    "train, test = train_test_split(cancer, test_size=0.25, random_state=100)\n",
    "print(\"Training Data Size: \", len(train))\n",
    "print(\"Test Data Size: \", len(test))"
   ]
  },
  {
   "cell_type": "code",
   "execution_count": 6,
   "metadata": {},
   "outputs": [
    {
     "data": {
      "image/png": "[encoded data removed]",
      "text/plain": [
       "<Figure size 432x288 with 1 Axes>"
      ]
     },
     "metadata": {},
     "output_type": "display_data"
    }
   ],
   "source": [
    "plt.scatter(train['mean radius'], train['malignant']);"
   ]
  },
  {
   "cell_type": "code",
   "execution_count": 7,
   "metadata": {},
   "outputs": [
    {
     "data": {
      "image/png": "[encoded data removed]",
      "text/plain": [
       "<Figure size 432x288 with 1 Axes>"
      ]
     },
     "metadata": {},
     "output_type": "display_data"
    }
   ],
   "source": [
    "beta1 = -14\n",
    "beta2 = 1\n",
    "radii = np.linspace(5, 30, 50)\n",
    "plt.scatter(train['mean radius'], train['malignant']);\n",
    "plt.plot(radii, sigma(beta1 + radii * beta2), 'orange');"
   ]
  },
  {
   "cell_type": "markdown",
   "metadata": {},
   "source": [
    "To evaluate the quality of a beta, we can also create a function that computes the empirical risk, in this case the cross entropy loss.\n",
    "\n",
    "To do this, we need to create a design matrix. For now, let's create a design matrix with two columns. The first column will be the bias, and second will be the mean radius. Since we only have one meaningful feature, we call this `X_1f_train`."
   ]
  },
  {
   "cell_type": "code",
   "execution_count": 8,
   "metadata": {},
   "outputs": [],
   "source": [
    "def create_radius_and_bias_design_matrix(t):\n",
    "    \"\"\"Returns a design matrix with just 1 feature (radius) and a bias term\"\"\"\n",
    "    return t[['bias', 'mean radius']].values\n",
    "    \n",
    "X_1f_train = create_radius_and_bias_design_matrix(train)"
   ]
  },
  {
   "cell_type": "code",
   "execution_count": 9,
   "metadata": {},
   "outputs": [
    {
     "data": {
      "text/plain": [
       "(426, 2)"
      ]
     },
     "execution_count": 9,
     "metadata": {},
     "output_type": "execute_result"
    }
   ],
   "source": [
    "X_1f_train.shape"
   ]
  },
  {
   "cell_type": "code",
   "execution_count": 10,
   "metadata": {},
   "outputs": [
    {
     "data": {
      "text/plain": [
       "array([[  1.  ,  12.63],\n",
       "       [  1.  ,  13.71],\n",
       "       [  1.  ,  10.26],\n",
       "       [  1.  ,  10.95],\n",
       "       [  1.  ,  15.37]])"
      ]
     },
     "execution_count": 10,
     "metadata": {},
     "output_type": "execute_result"
    }
   ],
   "source": [
    "X_1f_train[0:5, :]"
   ]
  },
  {
   "cell_type": "markdown",
   "metadata": {},
   "source": [
    "Similarly, we'll also want to create a convenient vector of our training data."
   ]
  },
  {
   "cell_type": "code",
   "execution_count": 11,
   "metadata": {},
   "outputs": [],
   "source": [
    "y_train = train['malignant'].values"
   ]
  },
  {
   "cell_type": "code",
   "execution_count": 12,
   "metadata": {},
   "outputs": [
    {
     "data": {
      "text/plain": [
       "array([0, 0, 0, 1, 1])"
      ]
     },
     "execution_count": 12,
     "metadata": {},
     "output_type": "execute_result"
    }
   ],
   "source": [
    "y_train[0:5]"
   ]
  },
  {
   "cell_type": "markdown",
   "metadata": {},
   "source": [
    "Using our `average_cross_entropy_loss` function defined above, we can in principle find the optimal beta through brute force guess and check."
   ]
  },
  {
   "cell_type": "code",
   "execution_count": 13,
   "metadata": {
    "scrolled": false
   },
   "outputs": [
    {
     "data": {
      "text/plain": [
       "0.30259113309678815"
      ]
     },
     "execution_count": 13,
     "metadata": {},
     "output_type": "execute_result"
    }
   ],
   "source": [
    "average_cross_entropy_loss(np.array([-14.5, 1]), X_1f_train, y_train)"
   ]
  },
  {
   "cell_type": "markdown",
   "metadata": {},
   "source": [
    "## Optimizing With Gradient Descent"
   ]
  },
  {
   "cell_type": "markdown",
   "metadata": {},
   "source": [
    "Optimizing gradient descent means traversing the 2D loss surface shown below, where one coordinate is the weight of the intercept term, and the other is the weight of the mean radius."
   ]
  },
  {
   "cell_type": "code",
   "execution_count": 14,
   "metadata": {},
   "outputs": [
    {
     "ename": "ModuleNotFoundError",
     "evalue": "No module named 'plotly.graph_objects'",
     "output_type": "error",
     "traceback": [
      "\u001b[0;31m---------------------------------------------------------------------------\u001b[0m",
      "\u001b[0;31mModuleNotFoundError\u001b[0m                       Traceback (most recent call last)",
      "\u001b[0;32m<ipython-input-14-d3dde2f3ebf5>\u001b[0m in \u001b[0;36m<module>\u001b[0;34m()\u001b[0m\n\u001b[0;32m----> 1\u001b[0;31m \u001b[0;32mimport\u001b[0m \u001b[0mplotly\u001b[0m\u001b[0;34m.\u001b[0m\u001b[0mgraph_objects\u001b[0m \u001b[0;32mas\u001b[0m \u001b[0mgo\u001b[0m\u001b[0;34m\u001b[0m\u001b[0m\n\u001b[0m\u001b[1;32m      2\u001b[0m \u001b[0;34m\u001b[0m\u001b[0m\n\u001b[1;32m      3\u001b[0m \u001b[0mnum_points\u001b[0m \u001b[0;34m=\u001b[0m \u001b[0;36m10\u001b[0m\u001b[0;34m\u001b[0m\u001b[0m\n\u001b[1;32m      4\u001b[0m \u001b[0muvalues\u001b[0m \u001b[0;34m=\u001b[0m \u001b[0mnp\u001b[0m\u001b[0;34m.\u001b[0m\u001b[0mlinspace\u001b[0m\u001b[0;34m(\u001b[0m\u001b[0;34m-\u001b[0m\u001b[0;36m16\u001b[0m\u001b[0;34m,\u001b[0m \u001b[0;34m-\u001b[0m\u001b[0;36m12\u001b[0m\u001b[0;34m,\u001b[0m \u001b[0mnum_points\u001b[0m\u001b[0;34m)\u001b[0m\u001b[0;34m\u001b[0m\u001b[0m\n\u001b[1;32m      5\u001b[0m \u001b[0mvvalues\u001b[0m \u001b[0;34m=\u001b[0m \u001b[0mnp\u001b[0m\u001b[0;34m.\u001b[0m\u001b[0mlinspace\u001b[0m\u001b[0;34m(\u001b[0m\u001b[0;36m0\u001b[0m\u001b[0;34m,\u001b[0m \u001b[0;36m1.3\u001b[0m\u001b[0;34m,\u001b[0m \u001b[0mnum_points\u001b[0m\u001b[0;34m)\u001b[0m\u001b[0;34m\u001b[0m\u001b[0m\n",
      "\u001b[0;31mModuleNotFoundError\u001b[0m: No module named 'plotly.graph_objects'"
     ]
    }
   ],
   "source": [
    "import plotly.graph_objects as go\n",
    "\n",
    "num_points = 10\n",
    "uvalues = np.linspace(-16, -12, num_points)\n",
    "vvalues = np.linspace(0, 1.3, num_points)\n",
    "(u,v) = np.meshgrid(uvalues, vvalues)\n",
    "betas = np.vstack((u.flatten(),v.flatten()))\n",
    "\n",
    "losses = np.array([average_cross_entropy_loss(b, X_1f_train, y_train) for b in betas.T])\n",
    "loss_surface = go.Surface(x=u, y=v, z=np.reshape(losses, u.shape))\n",
    "\n",
    "fig = go.Figure(data=[loss_surface])\n",
    "fig.update_layout(scene = dict(\n",
    "    xaxis_title = \"beta1\",\n",
    "    yaxis_title = \"beta2\",\n",
    "    zaxis_title = \"Mean CE Loss\"))\n",
    "fig.show()\n"
   ]
  },
  {
   "cell_type": "markdown",
   "metadata": {},
   "source": [
    "To use gradient descent to solve this problem, we need the gradient of our empirical risk, i.e. the average cross entropy loss. The function below yields the gradient of the function above."
   ]
  },
  {
   "cell_type": "code",
   "execution_count": null,
   "metadata": {},
   "outputs": [],
   "source": [
    "def risk_gradient(beta, X, y):\n",
    "    \"\"\"Gradient of the cross entropy loss.\n",
    "       Here X is our design matrix, and y is a vector of observations, \n",
    "       one for each row of the design matrix.\"\"\"\n",
    "    n = X.shape[0]\n",
    "    return -(1/n) * X.T @ (y - sigma(X @ beta)) "
   ]
  },
  {
   "cell_type": "markdown",
   "metadata": {},
   "source": [
    "For example at beta1 = -14, beta2 = 0.5 is `[-0.3588, -6.18]`, implying we should sharply increase beta2 and slightly increase beta1. This matches what we'd expect from the plot above."
   ]
  },
  {
   "cell_type": "code",
   "execution_count": null,
   "metadata": {},
   "outputs": [],
   "source": [
    "risk_gradient(np.array([-14, 0.5]), X_1f_train, y_train)"
   ]
  },
  {
   "cell_type": "markdown",
   "metadata": {},
   "source": [
    "Where did this magic python function come from? It starts from the definition of the gradient of our risk function."
   ]
  },
  {
   "cell_type": "markdown",
   "metadata": {},
   "source": [
    "$$\\nabla_{\\vec{\\beta}} R(\\vec{\\beta}, \\Bbb{x}, \\vec{y}) = \\nabla_{\\vec{\\beta}}\\dfrac{1}{n}\n",
    "\\sum_i \\ell(y_i, \\sigma(\\vec{x}_i^T \\vec{\\beta})) $$"
   ]
  },
  {
   "cell_type": "markdown",
   "metadata": {},
   "source": [
    "From there, after a ton of fairly boring algebra (i.e. start by substituting in $\\ell(y_i, \\hat{y}_i) =  -y_i \\log(\\hat{y}_i) - (1 - y_i) \\log(1 - \\hat{y}_i))$), we arrive at the symbolic expression below."
   ]
  },
  {
   "cell_type": "markdown",
   "metadata": {},
   "source": [
    "$$\\nabla_{\\vec{\\beta}} R(\\vec{\\beta}, \\Bbb{x}, \\vec{y}) = - \\frac{1}{n}\\sum_{i=1}^n \\left(y_i - \\sigma(x_i^T\\beta)\\right) x_i$$"
   ]
  },
  {
   "cell_type": "markdown",
   "metadata": {},
   "source": [
    "The details of this derivation are at the end of this notebook if you're curious."
   ]
  },
  {
   "cell_type": "code",
   "execution_count": 101,
   "metadata": {},
   "outputs": [],
   "source": [
    "def risk_gradient_slow(beta, X, y):\n",
    "    \"\"\"Gradient of our empirical risk. Here X is our design matrix, and y is a vector of observations, one\n",
    "       for each row of the design matrix.\"\"\"\n",
    "    n = X.shape[0]\n",
    "    total_ce_loss = 0\n",
    "    for i in range(X.shape[0]):\n",
    "        total_ce_loss += (y[i] - sigma(np.dot(X[i, :], beta))) * X[i, :]\n",
    "    return -(1/n) * total_ce_loss"
   ]
  },
  {
   "cell_type": "markdown",
   "metadata": {},
   "source": [
    "Unfortunately this code is extremely slow because of its use of for loops. With a little matix multiplication magic, we can get the much faster implementation below. The reason the matrix multiplication based version is faster is beyond the scope of our class.\n",
    "\n",
    "Note: It's fairly challenging to convert the code above into the matrix multiplication form below. This is not something we expect you to be comforable doing and takes a lot of practice."
   ]
  },
  {
   "cell_type": "code",
   "execution_count": 102,
   "metadata": {},
   "outputs": [],
   "source": [
    "def risk_gradient(beta, X, y):\n",
    "    \"\"\"Gradient of our empirical risk. Here X is our design matrix, and y is a vector of observations, one\n",
    "       for each row of the design matrix.\"\"\"\n",
    "    n = X.shape[0]\n",
    "    return -(1/n) * X.T @ (y - sigma(X @ beta)) "
   ]
  },
  {
   "cell_type": "markdown",
   "metadata": {},
   "source": [
    "We can also plot the gradient using a quiver plot:"
   ]
  },
  {
   "cell_type": "code",
   "execution_count": 172,
   "metadata": {
    "scrolled": true
   },
   "outputs": [
    {
     "data": {
      "application/vnd.plotly.v1+json": {
       "config": {
        "plotlyServerURL": "https://plot.ly"
       },
       "data": [
        {
         "line": {
          "width": 1
         },
         "mode": "lines",
         "name": "quiver",
         "type": "scatter",
         "x": [
          -16,
          -16.036619707056342,
          null,
          -15.555555555555555,
          -15.592175256314167,
          null,
          -15.11111111111111,
          -15.147730802047635,
          null,
          -14.666666666666666,
          -14.703286342284436,
          null,
          -14.222222222222221,
          -14.25884187394851,
          null,
          -13.777777777777779,
          -13.814397392242375,
          null,
          -13.333333333333334,
          -13.369952889683777,
          null,
          -12.88888888888889,
          -12.925508354603265,
          null,
          -12.444444444444445,
          -12.48106376880101,
          null,
          -12,
          -12.036619103892399,
          null,
          -16,
          -16.03661961908979,
          null,
          -15.555555555555555,
          -15.592175119119592,
          null,
          -15.11111111111111,
          -15.147730588076058,
          null,
          -14.666666666666666,
          -14.703286008570085,
          null,
          -14.222222222222221,
          -14.258841353481587,
          null,
          -13.777777777777779,
          -13.814396580514359,
          null,
          -13.333333333333334,
          -13.369951623704454,
          null,
          -12.88888888888889,
          -12.925506380178351,
          null,
          -12.444444444444445,
          -12.481060689505211,
          null,
          -12,
          -12.03661430150523,
          null,
          -16,
          -16.03661841991264,
          null,
          -15.555555555555555,
          -15.592173248941451,
          null,
          -15.11111111111111,
          -15.147727671513172,
          null,
          -14.666666666666666,
          -14.703281460342774,
          null,
          -14.222222222222221,
          -14.25883426120553,
          null,
          -13.777777777777779,
          -13.814385522261375,
          null,
          -13.333333333333334,
          -13.369934384343189,
          null,
          -12.88888888888889,
          -12.925479511090714,
          null,
          -12.444444444444445,
          -12.481018827004378,
          null,
          -12,
          -12.03654911600192,
          null,
          -16,
          -16.03659238248648,
          null,
          -15.555555555555555,
          -15.592132807089133,
          null,
          -15.11111111111111,
          -15.147664993632368,
          null,
          -14.666666666666666,
          -14.703184636373875,
          null,
          -14.222222222222221,
          -14.258685395908797,
          null,
          -13.777777777777779,
          -13.814158163745637,
          null,
          -13.333333333333334,
          -13.36959023034535,
          null,
          -12.88888888888889,
          -12.924964378972978,
          null,
          -12.444444444444445,
          -12.48025779514338,
          null,
          -12,
          -12.035440504817858,
          null,
          -16,
          -16.036009314718264,
          null,
          -15.555555555555555,
          -15.591324061874092,
          null,
          -15.11111111111111,
          -15.146559102817543,
          null,
          -14.666666666666666,
          -14.701689724938467,
          null,
          -14.222222222222221,
          -14.25668464695234,
          null,
          -13.777777777777779,
          -13.81150614990788,
          null,
          -13.333333333333334,
          -13.366110333636934,
          null,
          -12.88888888888889,
          -12.92044823914383,
          null,
          -12.444444444444445,
          -12.47446933086437,
          null,
          -12,
          -12.028127197239046,
          null,
          -16,
          -16.0322529668926,
          null,
          -15.555555555555555,
          -15.586661088858456,
          null,
          -15.11111111111111,
          -15.140822662032008,
          null,
          -14.666666666666666,
          -14.694717986741964,
          null,
          -14.222222222222221,
          -14.24833814736875,
          null,
          -13.777777777777779,
          -13.80168029979028,
          null,
          -13.333333333333334,
          -13.354738503703514,
          null,
          -12.88888888888889,
          -12.907493129812936,
          null,
          -12.444444444444445,
          -12.459902671396232,
          null,
          -12,
          -12.011902717225269,
          null,
          -16,
          -16.022204598669045,
          null,
          -15.555555555555555,
          -15.57552461731368,
          null,
          -15.11111111111111,
          -15.128640410945971,
          null,
          -14.666666666666666,
          -14.681507602042355,
          null,
          -14.222222222222221,
          -14.234061158719282,
          null,
          -13.777777777777779,
          -13.78622530926385,
          null,
          -13.333333333333334,
          -13.337930960733026,
          null,
          -12.88888888888889,
          -12.889136030998177,
          null,
          -12.444444444444445,
          -12.439842362064095,
          null,
          -12,
          -11.990104628598836,
          null,
          -16,
          -16.008876029439158,
          null,
          -15.555555555555555,
          -15.56114966946053,
          null,
          -15.11111111111111,
          -15.11299429942279,
          null,
          -14.666666666666666,
          -14.664398318322771,
          null,
          -14.222222222222221,
          -14.215387130625274,
          null,
          -13.777777777777779,
          -13.766023470081022,
          null,
          -13.333333333333334,
          -13.31640457998736,
          null,
          -12.88888888888889,
          -12.866655961793548,
          null,
          -12.444444444444445,
          -12.416920324096873,
          null,
          -12,
          -11.967342439230514,
          null,
          -16,
          -15.991265766637559,
          null,
          -15.555555555555555,
          -15.542237756613197,
          null,
          -15.11111111111111,
          -15.09301733940699,
          null,
          -14.666666666666666,
          -14.643707154408515,
          null,
          -14.222222222222221,
          -14.194420821818255,
          null,
          -13.777777777777779,
          -13.745272183355988,
          null,
          -13.333333333333334,
          -13.296364255380567,
          null,
          -12.88888888888889,
          -12.847780272006425,
          null,
          -12.444444444444445,
          -12.399577967662038,
          null,
          -12,
          -11.951787749115947,
          null,
          -16,
          -15.971982230043928,
          null,
          -15.555555555555555,
          -15.523203210215113,
          null,
          -15.11111111111111,
          -15.074627439140611,
          null,
          -14.666666666666666,
          -14.626322553803627,
          null,
          -14.222222222222221,
          -14.17833762957961,
          null,
          -13.777777777777779,
          -13.730700963403496,
          null,
          -13.333333333333334,
          -13.28342057492272,
          null,
          -12.88888888888889,
          -12.836488496618557,
          null,
          -12.444444444444445,
          -12.389887460228815,
          null,
          -12,
          -11.943596861161993,
          null,
          -16.109730863627437,
          -16.036619707056342,
          -15.935979535688297,
          null,
          -15.665286403164265,
          -15.592175256314167,
          -15.491535099401464,
          null,
          -15.220841933736638,
          -15.147730802047635,
          -15.047090667679822,
          null,
          -14.776397450327847,
          -14.703286342284436,
          -14.602646243078151,
          null,
          -14.331952945113713,
          -14.25884187394851,
          -14.158201829580953,
          null,
          -13.887508405891493,
          -13.814397392242375,
          -13.713757433402531,
          null,
          -13.443063813629545,
          -13.369952889683777,
          -13.269313064234838,
          null,
          -12.998619138645786,
          -12.925508354603265,
          -12.824868737193606,
          null,
          -12.554174334647646,
          -12.48106376880101,
          -12.380424475853548,
          null,
          -12.10972932943684,
          -12.036619103892399,
          -11.935980316981974,
          null,
          -16.109730609416303,
          -16.03661961908979,
          -15.935979680095548,
          null,
          -15.665286006691018,
          -15.592175119119592,
          -15.491535324622145,
          null,
          -15.220841315388657,
          -15.147730588076058,
          -15.047091018938659,
          null,
          -14.776396485940268,
          -14.703286008570085,
          -14.602646790908159,
          null,
          -14.331951441038175,
          -14.258841353481587,
          -14.158202683985786,
          null,
          -13.887506060114513,
          -13.814396580514359,
          -13.713758765943341,
          null,
          -13.443060155136083,
          -13.369951623704454,
          -13.269315142474795,
          null,
          -12.998613432859615,
          -12.925506380178351,
          -12.824871978411968,
          null,
          -12.55416543597912,
          -12.481060689505211,
          -12.38042953080371,
          null,
          -12.109715451374242,
          -12.03661430150523,
          -11.935988200484461,
          null,
          -16.109726626630728,
          -16.03661841991264,
          -15.935982166013153,
          null,
          -15.66527979539712,
          -15.592173248941451,
          -15.49153920147384,
          null,
          -15.220831628964834,
          -15.147727671513172,
          -15.047097064774805,
          null,
          -14.776381380847315,
          -14.703281460342774,
          -14.602656218695003,
          null,
          -14.33192788783852,
          -14.25883426120553,
          -14.158217384280908,
          null,
          -13.88746933827864,
          -13.814385522261375,
          -13.713781684360228,
          null,
          -13.443002912726346,
          -13.369934384343189,
          -13.269350865922457,
          null,
          -12.998524228578578,
          -12.925479511090714,
          -12.824927643464434,
          null,
          -12.554026485952672,
          -12.481018827004378,
          -12.380516226134988,
          null,
          -12.109499164254927,
          -12.03654911600192,
          -11.93612312006631,
          null,
          -16.10962888022582,
          -16.03659238248648,
          -15.936047411307522,
          null,
          -15.66512806939032,
          -15.592132807089133,
          -15.491640446104158,
          null,
          -15.220596707279231,
          -15.147664993632368,
          -15.047253749052466,
          null,
          -14.776019010882266,
          -14.703184636373875,
          -14.602897728537528,
          null,
          -14.331371981330188,
          -14.258685395908797,
          -14.158587470292439,
          null,
          -13.886623082493005,
          -13.814158163745637,
          -13.714344140809997,
          null,
          -13.441727928358333,
          -13.36959023034535,
          -13.270196261472538,
          null,
          -12.996628220158176,
          -12.924964378972978,
          -12.826180640329179,
          null,
          -12.551249573685771,
          -12.48025779514338,
          -12.382343183499064,
          null,
          -12.10549803052346,
          -12.035440504817858,
          -11.93874043442884,
          null,
          -16.107340844851453,
          -16.036009314718264,
          -15.937607634728824,
          null,
          -15.66199394433612,
          -15.591324061874092,
          -15.493765058256814,
          null,
          -15.216373183833952,
          -15.146559102817543,
          -15.050096848818564,
          null,
          -14.770401862503366,
          -14.701689724938467,
          -14.606648859841274,
          null,
          -14.323984523722231,
          -14.25668464695234,
          -14.163477501211824,
          null,
          -13.877009510926648,
          -13.81150614990788,
          -13.72064734696769,
          null,
          -13.429351773582818,
          -13.366110333636934,
          -13.278228649437619,
          null,
          -12.980878110187456,
          -12.92044823914383,
          -12.836293497259113,
          null,
          -12.531460229790678,
          -12.47446933086437,
          -12.39490710057107,
          null,
          -12.08099547892525,
          -12.028127197239046,
          -11.954114179801707,
          null,
          -16.093920096229247,
          -16.0322529668926,
          -15.946339537566011,
          null,
          -15.645645871842584,
          -15.586661088858456,
          -15.504292593786051,
          null,
          -15.196630323763426,
          -15.140822662032008,
          -15.062679220178612,
          null,
          -14.746839712426313,
          -14.694717986741964,
          -14.621508566275164,
          null,
          -14.296283346879251,
          -14.24833814736875,
          -14.180760194142097,
          null,
          -13.844998145328875,
          -13.80168029979028,
          -13.740393635409031,
          null,
          -13.393019020976434,
          -13.354738503703514,
          -13.300366561915775,
          null,
          -12.940345698730177,
          -12.907493129812936,
          -12.860654746566375,
          null,
          -12.486917761400218,
          -12.459902671396232,
          -12.421266795954624,
          null,
          -12.032611022493985,
          -12.011902717225269,
          -11.982246495521444,
          null,
          -16.061523508593407,
          -16.022204598669045,
          -15.966193290731233,
          null,
          -15.61037327444325,
          -15.57552461731368,
          -15.525664136201609,
          null,
          -15.15879191005526,
          -15.128640410945971,
          -15.085311188874792,
          null,
          -14.706689531903177,
          -14.681507602042355,
          -14.645168938215058,
          null,
          -14.253919734257696,
          -14.234061158719282,
          -14.205302614169476,
          null,
          -13.800308205041652,
          -13.78622530926385,
          -13.765791947084994,
          null,
          -13.345700678626303,
          -13.337930960733026,
          -13.326704957607257,
          null,
          -12.890016321723031,
          -12.889136030998177,
          -12.888069950180217,
          null,
          -12.433288779691862,
          -12.439842362064095,
          -12.449855578718779,
          null,
          -11.975683095668685,
          -11.990104628598836,
          -12.011965047517474,
          null,
          -16.023175601509163,
          -16.008876029439158,
          -15.98790386587647,
          null,
          -15.570032191567874,
          -15.56114966946053,
          -15.548061749308113,
          null,
          -15.115940978082609,
          -15.11299429942279,
          -15.108631926234942,
          null,
          -14.660896863056315,
          -14.664398318322771,
          -14.66960501374933,
          null,
          -14.204989903624481,
          -14.215387130625274,
          -14.230922665734905,
          null,
          -13.74840051129428,
          -13.766023470081022,
          -13.792482777831836,
          null,
          -13.291386497588219,
          -13.31640457998736,
          -13.354148922065153,
          null,
          -12.834262848786187,
          -12.866655961793548,
          -12.91576276882488,
          null,
          -12.377371851206744,
          -12.416920324096873,
          -12.477160167214391,
          null,
          -11.92104582125123,
          -11.967342439230514,
          -12.038189512304161,
          null,
          -15.977694043178696,
          -15.991265766637559,
          -16.01140348580755,
          null,
          -15.521995624539208,
          -15.542237756613197,
          -15.572491598600182,
          null,
          -15.065999593266021,
          -15.09301733940699,
          -15.133637152549996,
          null,
          -14.609961567072409,
          -14.643707154408515,
          -14.694712649141284,
          null,
          -14.154152734960446,
          -14.194420821818255,
          -14.255588725321761,
          null,
          -13.69883374179673,
          -13.745272183355988,
          -13.81614683868518,
          null,
          -13.244229491271868,
          -13.296364255380567,
          -13.376290675288844,
          null,
          -12.790510376221066,
          -12.847780272006425,
          -12.935953738939917,
          null,
          -12.33778214072302,
          -12.399577967662038,
          -12.49510235232353,
          null,
          -11.886084960115353,
          -11.951787749115947,
          -12.053734295226322,
          null,
          -15.931156597233636,
          -15.971982230043928,
          -16.033870336197097,
          null,
          -15.476700586595697,
          -15.523203210215113,
          -15.594026841979755,
          null,
          -15.022851828420963,
          -15.074627439140611,
          -15.153829799724141,
          null,
          -14.56974932883631,
          -14.626322553803627,
          -14.713224630890586,
          null,
          -14.117484700434746,
          -14.17833762957961,
          -14.27218098102244,
          null,
          -13.666099630509432,
          -13.730700963403496,
          -13.830692484359657,
          null,
          -13.215589163875395,
          -13.28342057492272,
          -13.388774106579264,
          null,
          -12.765912677081205,
          -12.836488496618557,
          -12.946456525710083,
          null,
          -12.317009489747935,
          -12.389887460228815,
          -12.503778867093503,
          null,
          -11.868812606036368,
          -11.943596861161993,
          -12.060782406971809,
          null
         ],
         "y": [
          0,
          -0.6350186214533021,
          null,
          0,
          -0.6350185330946874,
          null,
          0,
          -0.6350183952885382,
          null,
          0,
          -0.6350181803628832,
          null,
          0,
          -0.6350178451599133,
          null,
          0,
          -0.6350173223698051,
          null,
          0,
          -0.6350165070148455,
          null,
          0,
          -0.6350152353699832,
          null,
          0,
          -0.6350132520873761,
          null,
          0,
          -0.6350101589244114,
          null,
          0.14444444444444446,
          -0.4905727201561155,
          null,
          0.14444444444444446,
          -0.4905718165109394,
          null,
          0.14444444444444446,
          -0.49057040716824296,
          null,
          0.14444444444444446,
          -0.4905682091329012,
          null,
          0.14444444444444446,
          -0.49056478104636014,
          null,
          0.14444444444444446,
          -0.4905594345731811,
          null,
          0.14444444444444446,
          -0.4905510962123797,
          null,
          0.14444444444444446,
          -0.49053809181151353,
          null,
          0.14444444444444446,
          -0.49051781057828536,
          null,
          0.14444444444444446,
          -0.4904861812802832,
          null,
          0.2888888888888889,
          -0.34610463418315146,
          null,
          0.2888888888888889,
          -0.34609050236090994,
          null,
          0.2888888888888889,
          -0.34606846516014095,
          null,
          0.2888888888888889,
          -0.34603410301108223,
          null,
          0.2888888888888889,
          -0.34598052943147334,
          null,
          0.2888888888888889,
          -0.3458970195869326,
          null,
          0.2888888888888889,
          -0.3457668842892793,
          null,
          0.2888888888888889,
          -0.3455641853736398,
          null,
          0.2888888888888889,
          -0.34524868752159305,
          null,
          0.2888888888888889,
          -0.3447581622130514,
          null,
          0.43333333333333335,
          -0.20106449492928813,
          null,
          0.43333333333333335,
          -0.2007215120890592,
          null,
          0.43333333333333335,
          -0.2001927966675472,
          null,
          0.43333333333333335,
          -0.199382625518442,
          null,
          0.43333333333333335,
          -0.19815180873190807,
          null,
          0.43333333333333335,
          -0.1963040763519327,
          null,
          0.43333333333333335,
          -0.19357296967665727,
          null,
          0.43333333333333335,
          -0.18961089654312568,
          null,
          0.43333333333333335,
          -0.18397822522112006,
          null,
          0.43333333333333335,
          -0.17612490819425353,
          null,
          0.5777777777777778,
          -0.04255560548516224,
          null,
          0.5777777777777778,
          -0.03705766891372664,
          null,
          0.5777777777777778,
          -0.029921572173451483,
          null,
          0.5777777777777778,
          -0.020699409376403133,
          null,
          0.5777777777777778,
          -0.008836145563475672,
          null,
          0.5777777777777778,
          0.006312299024997081,
          null,
          0.5777777777777778,
          0.025459708600120923,
          null,
          0.5777777777777778,
          0.04935636843307112,
          null,
          0.5777777777777778,
          0.07870947769236414,
          null,
          0.5777777777777778,
          0.11405765193299727,
          null,
          0.7222222222222223,
          0.18285136372460598,
          null,
          0.7222222222222223,
          0.20561055177326726,
          null,
          0.7222222222222223,
          0.23266368963724532,
          null,
          0.7222222222222223,
          0.2641675264794574,
          null,
          0.7222222222222223,
          0.3000133443552211,
          null,
          0.7222222222222223,
          0.3399183142465479,
          null,
          0.7222222222222223,
          0.3836001378628648,
          null,
          0.7222222222222223,
          0.4309712764850897,
          null,
          0.7222222222222223,
          0.48228399516624165,
          null,
          0.7222222222222223,
          0.5381521902541657,
          null,
          0.8666666666666667,
          0.518258028599254,
          null,
          0.8666666666666667,
          0.5570754777604973,
          null,
          0.8666666666666667,
          0.5981125967734044,
          null,
          0.8666666666666667,
          0.6418239385092122,
          null,
          0.8666666666666667,
          0.6889829796201716,
          null,
          0.8666666666666667,
          0.7405181830531148,
          null,
          0.8666666666666667,
          0.7972419507919708,
          null,
          0.8666666666666667,
          0.8595531545651248,
          null,
          0.8666666666666667,
          0.9272142665310613,
          null,
          0.8666666666666667,
          0.9992683297441634,
          null,
          1.0111111111111113,
          0.882201541305799,
          null,
          1.0111111111111113,
          0.9308145164203355,
          null,
          1.0111111111111113,
          0.9843983136695769,
          null,
          1.0111111111111113,
          1.042937272753008,
          null,
          1.0111111111111113,
          1.1058890160696602,
          null,
          1.0111111111111113,
          1.1722210172006988,
          null,
          1.0111111111111113,
          1.2404924271743178,
          null,
          1.0111111111111113,
          1.3089733921386988,
          null,
          1.0111111111111113,
          1.37581300789614,
          null,
          1.0111111111111113,
          1.4392426603009878,
          null,
          1.1555555555555557,
          1.278755326412162,
          null,
          1.1555555555555557,
          1.3401059944930518,
          null,
          1.1555555555555557,
          1.402754297369022,
          null,
          1.1555555555555557,
          1.4653000388950033,
          null,
          1.1555555555555557,
          1.5262792992471956,
          null,
          1.1555555555555557,
          1.5843062416545655,
          null,
          1.1555555555555557,
          1.6382068942050285,
          null,
          1.1555555555555557,
          1.6871154854204216,
          null,
          1.1555555555555557,
          1.7305224641957553,
          null,
          1.1555555555555557,
          1.7682728851578906,
          null,
          1.3,
          1.675393602423207,
          null,
          1.3,
          1.728798777183207,
          null,
          1.3,
          1.7786924610258357,
          null,
          1.3,
          1.8243671493262839,
          null,
          1.3,
          1.865377082338962,
          null,
          1.3,
          1.9015466379033603,
          null,
          1.3,
          1.932948621899461,
          null,
          1.3,
          1.959843623804368,
          null,
          1.3,
          1.982596409123369,
          null,
          1.3,
          2.0016026858418416,
          null,
          -0.3913198254143972,
          -0.6350186214533021,
          -0.40133956737916054,
          null,
          -0.3913197711293379,
          -0.6350185330946874,
          -0.4013395113709408,
          null,
          -0.3913196864650982,
          -0.6350183952885382,
          -0.4013394240192194,
          null,
          -0.39131955442079297,
          -0.6350181803628832,
          -0.40133928778345623,
          null,
          -0.3913193484814731,
          -0.6350178451599133,
          -0.4013390753070422,
          null,
          -0.39131902729386736,
          -0.6350173223698051,
          -0.401338743924037,
          null,
          -0.3913185263626078,
          -0.6350165070148455,
          -0.40133822709180855,
          null,
          -0.39131774509960715,
          -0.6350152353699832,
          -0.40133742102931924,
          null,
          -0.3913165266262999,
          -0.6350132520873761,
          -0.401336163878237,
          null,
          -0.3913146262735745,
          -0.6350101589244114,
          -0.4013342032029631,
          null,
          -0.2468744837492521,
          -0.4905727201561155,
          -0.25689420164494947,
          null,
          -0.24687392735992814,
          -0.4905718165109394,
          -0.25689363006288424,
          null,
          -0.24687305960425757,
          -0.49057040716824296,
          -0.2568927386123075,
          null,
          -0.2468717062374575,
          -0.4905682091329012,
          -0.2568913482904968,
          null,
          -0.24686959550777055,
          -0.49056478104636014,
          -0.25688917992520244,
          null,
          -0.24686630359571307,
          -0.4905594345731811,
          -0.2568857981240167,
          null,
          -0.24686116952908072,
          -0.4905510962123797,
          -0.2568805238659378,
          null,
          -0.2468531625048365,
          -0.49053809181151353,
          -0.2568722982000751,
          null,
          -0.2468406750158171,
          -0.49051781057828536,
          -0.2568594697228021,
          null,
          -0.24682120033904556,
          -0.4904861812802832,
          -0.25683946325791596,
          null,
          -0.10241544814134224,
          -0.34610463418315146,
          -0.11243483792284639,
          null,
          -0.10240672754144442,
          -0.34609050236090994,
          -0.11242591853352407,
          null,
          -0.10239312861997105,
          -0.34606846516014095,
          -0.11241200960941583,
          null,
          -0.10237192411641971,
          -0.34603410301108223,
          -0.11239032170117355,
          null,
          -0.10233886447995227,
          -0.34598052943147334,
          -0.11235650833636532,
          null,
          -0.10228733159144549,
          -0.3458970195869326,
          -0.11230380040353283,
          null,
          -0.10220702688649505,
          -0.3457668842892793,
          -0.11222166425630364,
          null,
          -0.10208194458592956,
          -0.3455641853736398,
          -0.11209372846580432,
          null,
          -0.10188725684911845,
          -0.34524868752159305,
          -0.11189459730127557,
          null,
          -0.10158456541439223,
          -0.3447581622130514,
          -0.11158499252911477,
          null,
          0.042397220976169686,
          -0.20106449492928813,
          0.03238495545404721,
          null,
          0.042609214402518886,
          -0.2007215120890592,
          0.03260108895294034,
          null,
          0.042936000762817506,
          -0.2001927966675472,
          0.03293426945159339,
          null,
          0.04343673400944434,
          -0.199382625518442,
          0.033444829022866746,
          null,
          0.04419741847810785,
          -0.19815180873190807,
          0.034220506565794756,
          null,
          0.045339304638054606,
          -0.1963040763519327,
          0.03538504477967866,
          null,
          0.047026956713445395,
          -0.19357296967665727,
          0.037106485423370306,
          null,
          0.04947495956294359,
          -0.18961089654312568,
          0.03960412413166045,
          null,
          0.0529545762342761,
          -0.18397822522112006,
          0.04315546636305814,
          null,
          0.057805003316933334,
          -0.17612490819425353,
          0.04810791008706303,
          null,
          0.19553983997897428,
          -0.04255560548516224,
          0.1856871111941745,
          null,
          0.19893828385076356,
          -0.03705766891372664,
          0.1891514441246748,
          null,
          0.20334823663039034,
          -0.029921572173451483,
          0.19364909486715756,
          null,
          0.20904586577852302,
          -0.020699409376403133,
          0.19946299265066342,
          null,
          0.2163733018203611,
          -0.008836145563475672,
          0.20694382706392478,
          null,
          0.22572736946017824,
          0.006312299024997081,
          0.21649874332411537,
          null,
          0.23754755190995608,
          0.025459708600120923,
          0.22857923643665784,
          null,
          0.2522954214426594,
          0.04935636843307112,
          0.24366027464469142,
          null,
          0.27040544361840824,
          0.07870947769236414,
          0.2621901508530645,
          null,
          0.2922074312919177,
          0.11405765193299727,
          0.2845113768670794,
          null,
          0.3900009557071881,
          0.18285136372460598,
          0.3811760242197602,
          null,
          0.40404850916976487,
          0.20561055177326726,
          0.3955375340029813,
          null,
          0.4207422854041548,
          0.23266368963724532,
          0.4126127262806403,
          null,
          0.4401774200868327,
          0.2641675264794574,
          0.4325021268767307,
          null,
          0.46228484012466836,
          0.3000133443552211,
          0.4551391021553097,
          null,
          0.4868876363373148,
          0.3399183142465479,
          0.480347521133666,
          null,
          0.5138088072010851,
          0.3836001378628648,
          0.5079520076507498,
          null,
          0.5429910323464531,
          0.4309712764850897,
          0.5379006122286069,
          null,
          0.5745860777288696,
          0.48228399516624165,
          0.5703564577307807,
          null,
          0.6089682781739898,
          0.5381521902541657,
          0.6057115029329089,
          null,
          0.6522546070909707,
          0.518258028599254,
          0.6461790710755501,
          null,
          0.67617562857652,
          0.5570754777604973,
          0.6707117714848454,
          null,
          0.7014540573344601,
          0.5981125967734044,
          0.696657758420926,
          null,
          0.728367519041697,
          0.6418239385092122,
          0.7243067999662729,
          null,
          0.7573898613438406,
          0.6889829796201716,
          0.754150537537802,
          null,
          0.7890901930949552,
          0.7405181830531148,
          0.7867788123512638,
          null,
          0.8239661005478951,
          0.7972419507919708,
          0.8227081156021346,
          null,
          0.862260771528857,
          0.8595531545651248,
          0.8621931494651447,
          null,
          0.903826211461384,
          0.9272142665310613,
          0.905085415361643,
          null,
          0.9480726414870635,
          0.9992683297441634,
          0.9507801745629729,
          null,
          0.9318700022480716,
          0.882201541305799,
          0.9294413775593168,
          null,
          0.9617614832782229,
          0.9308145164203355,
          0.9602308435665753,
          null,
          0.9946966764586281,
          0.9843983136695769,
          0.9941814057896124,
          null,
          1.0306642207255994,
          1.042937272753008,
          1.0312848773861527,
          null,
          1.0693290813053686,
          1.1058890160696602,
          1.0711992725114743,
          null,
          1.110055417244285,
          1.1722210172006988,
          1.1132715852467958,
          null,
          1.1519572652957297,
          1.2404924271743178,
          1.1565892450123016,
          null,
          1.1939721535771866,
          1.3089733921386988,
          1.200055440706545,
          null,
          1.234964413983458,
          1.37581300789614,
          1.2424954568524096,
          null,
          1.2738500198552227,
          1.4392426603009878,
          1.28278565474726,
          null,
          1.2312524466909902,
          1.278755326412162,
          1.2336422736881596,
          null,
          1.2689157380388865,
          1.3401059944930518,
          1.2725597024413247,
          null,
          1.3073625901925336,
          1.402754297369022,
          1.31231333770577,
          null,
          1.345733150496426,
          1.4653000388950033,
          1.3520152430350023,
          null,
          1.3831292971480038,
          1.5262792992471956,
          1.390736208308659,
          null,
          1.4187016720757009,
          1.5843062416545655,
          1.4275957265261223,
          null,
          1.4517316659324793,
          1.6382068942050285,
          1.4618470014044977,
          null,
          1.4816903179654015,
          1.6871154854204216,
          1.4929382979958499,
          null,
          1.5082675041697882,
          1.7305224641957553,
          1.5205436952254974,
          null,
          1.5313706794729394,
          1.7682728851578906,
          1.5445623282388727,
          null,
          1.5304587065098598,
          1.675393602423207,
          1.538124819866693,
          null,
          1.563197096978671,
          1.728798777183207,
          1.5720492200108787,
          null,
          1.5937716914385474,
          1.7786924610258357,
          1.603754212011665,
          null,
          1.6217501732989978,
          1.8243671493262839,
          1.6327889727100087,
          null,
          1.6468610475786405,
          1.865377082338962,
          1.6588685793109719,
          null,
          1.668998575704973,
          1.9015466379033603,
          1.6818795507446593,
          null,
          1.6882092946510965,
          1.932948621899461,
          1.7018662296793985,
          null,
          1.704654754269881,
          1.959843623804368,
          1.718992346009577,
          null,
          1.718560250647755,
          1.982596409123369,
          1.733487920696432,
          null,
          1.7301699353464235,
          2.0016026858418416,
          1.745602743049938,
          null
         ]
        }
       ],
       "layout": {
        "hovermode": "closest",
        "template": {
         "data": {
          "bar": [
           {
            "error_x": {
             "color": "#2a3f5f"
            },
            "error_y": {
             "color": "#2a3f5f"
            },
            "marker": {
             "line": {
              "color": "#E5ECF6",
              "width": 0.5
             }
            },
            "type": "bar"
           }
          ],
          "barpolar": [
           {
            "marker": {
             "line": {
              "color": "#E5ECF6",
              "width": 0.5
             }
            },
            "type": "barpolar"
           }
          ],
          "carpet": [
           {
            "aaxis": {
             "endlinecolor": "#2a3f5f",
             "gridcolor": "white",
             "linecolor": "white",
             "minorgridcolor": "white",
             "startlinecolor": "#2a3f5f"
            },
            "baxis": {
             "endlinecolor": "#2a3f5f",
             "gridcolor": "white",
             "linecolor": "white",
             "minorgridcolor": "white",
             "startlinecolor": "#2a3f5f"
            },
            "type": "carpet"
           }
          ],
          "choropleth": [
           {
            "colorbar": {
             "outlinewidth": 0,
             "ticks": ""
            },
            "type": "choropleth"
           }
          ],
          "contour": [
           {
            "colorbar": {
             "outlinewidth": 0,
             "ticks": ""
            },
            "colorscale": [
             [
              0,
              "#0d0887"
             ],
             [
              0.1111111111111111,
              "#46039f"
             ],
             [
              0.2222222222222222,
              "#7201a8"
             ],
             [
              0.3333333333333333,
              "#9c179e"
             ],
             [
              0.4444444444444444,
              "#bd3786"
             ],
             [
              0.5555555555555556,
              "#d8576b"
             ],
             [
              0.6666666666666666,
              "#ed7953"
             ],
             [
              0.7777777777777778,
              "#fb9f3a"
             ],
             [
              0.8888888888888888,
              "#fdca26"
             ],
             [
              1,
              "#f0f921"
             ]
            ],
            "type": "contour"
           }
          ],
          "contourcarpet": [
           {
            "colorbar": {
             "outlinewidth": 0,
             "ticks": ""
            },
            "type": "contourcarpet"
           }
          ],
          "heatmap": [
           {
            "colorbar": {
             "outlinewidth": 0,
             "ticks": ""
            },
            "colorscale": [
             [
              0,
              "#0d0887"
             ],
             [
              0.1111111111111111,
              "#46039f"
             ],
             [
              0.2222222222222222,
              "#7201a8"
             ],
             [
              0.3333333333333333,
              "#9c179e"
             ],
             [
              0.4444444444444444,
              "#bd3786"
             ],
             [
              0.5555555555555556,
              "#d8576b"
             ],
             [
              0.6666666666666666,
              "#ed7953"
             ],
             [
              0.7777777777777778,
              "#fb9f3a"
             ],
             [
              0.8888888888888888,
              "#fdca26"
             ],
             [
              1,
              "#f0f921"
             ]
            ],
            "type": "heatmap"
           }
          ],
          "heatmapgl": [
           {
            "colorbar": {
             "outlinewidth": 0,
             "ticks": ""
            },
            "colorscale": [
             [
              0,
              "#0d0887"
             ],
             [
              0.1111111111111111,
              "#46039f"
             ],
             [
              0.2222222222222222,
              "#7201a8"
             ],
             [
              0.3333333333333333,
              "#9c179e"
             ],
             [
              0.4444444444444444,
              "#bd3786"
             ],
             [
              0.5555555555555556,
              "#d8576b"
             ],
             [
              0.6666666666666666,
              "#ed7953"
             ],
             [
              0.7777777777777778,
              "#fb9f3a"
             ],
             [
              0.8888888888888888,
              "#fdca26"
             ],
             [
              1,
              "#f0f921"
             ]
            ],
            "type": "heatmapgl"
           }
          ],
          "histogram": [
           {
            "marker": {
             "colorbar": {
              "outlinewidth": 0,
              "ticks": ""
             }
            },
            "type": "histogram"
           }
          ],
          "histogram2d": [
           {
            "colorbar": {
             "outlinewidth": 0,
             "ticks": ""
            },
            "colorscale": [
             [
              0,
              "#0d0887"
             ],
             [
              0.1111111111111111,
              "#46039f"
             ],
             [
              0.2222222222222222,
              "#7201a8"
             ],
             [
              0.3333333333333333,
              "#9c179e"
             ],
             [
              0.4444444444444444,
              "#bd3786"
             ],
             [
              0.5555555555555556,
              "#d8576b"
             ],
             [
              0.6666666666666666,
              "#ed7953"
             ],
             [
              0.7777777777777778,
              "#fb9f3a"
             ],
             [
              0.8888888888888888,
              "#fdca26"
             ],
             [
              1,
              "#f0f921"
             ]
            ],
            "type": "histogram2d"
           }
          ],
          "histogram2dcontour": [
           {
            "colorbar": {
             "outlinewidth": 0,
             "ticks": ""
            },
            "colorscale": [
             [
              0,
              "#0d0887"
             ],
             [
              0.1111111111111111,
              "#46039f"
             ],
             [
              0.2222222222222222,
              "#7201a8"
             ],
             [
              0.3333333333333333,
              "#9c179e"
             ],
             [
              0.4444444444444444,
              "#bd3786"
             ],
             [
              0.5555555555555556,
              "#d8576b"
             ],
             [
              0.6666666666666666,
              "#ed7953"
             ],
             [
              0.7777777777777778,
              "#fb9f3a"
             ],
             [
              0.8888888888888888,
              "#fdca26"
             ],
             [
              1,
              "#f0f921"
             ]
            ],
            "type": "histogram2dcontour"
           }
          ],
          "mesh3d": [
           {
            "colorbar": {
             "outlinewidth": 0,
             "ticks": ""
            },
            "type": "mesh3d"
           }
          ],
          "parcoords": [
           {
            "line": {
             "colorbar": {
              "outlinewidth": 0,
              "ticks": ""
             }
            },
            "type": "parcoords"
           }
          ],
          "scatter": [
           {
            "marker": {
             "colorbar": {
              "outlinewidth": 0,
              "ticks": ""
             }
            },
            "type": "scatter"
           }
          ],
          "scatter3d": [
           {
            "line": {
             "colorbar": {
              "outlinewidth": 0,
              "ticks": ""
             }
            },
            "marker": {
             "colorbar": {
              "outlinewidth": 0,
              "ticks": ""
             }
            },
            "type": "scatter3d"
           }
          ],
          "scattercarpet": [
           {
            "marker": {
             "colorbar": {
              "outlinewidth": 0,
              "ticks": ""
             }
            },
            "type": "scattercarpet"
           }
          ],
          "scattergeo": [
           {
            "marker": {
             "colorbar": {
              "outlinewidth": 0,
              "ticks": ""
             }
            },
            "type": "scattergeo"
           }
          ],
          "scattergl": [
           {
            "marker": {
             "colorbar": {
              "outlinewidth": 0,
              "ticks": ""
             }
            },
            "type": "scattergl"
           }
          ],
          "scattermapbox": [
           {
            "marker": {
             "colorbar": {
              "outlinewidth": 0,
              "ticks": ""
             }
            },
            "type": "scattermapbox"
           }
          ],
          "scatterpolar": [
           {
            "marker": {
             "colorbar": {
              "outlinewidth": 0,
              "ticks": ""
             }
            },
            "type": "scatterpolar"
           }
          ],
          "scatterpolargl": [
           {
            "marker": {
             "colorbar": {
              "outlinewidth": 0,
              "ticks": ""
             }
            },
            "type": "scatterpolargl"
           }
          ],
          "scatterternary": [
           {
            "marker": {
             "colorbar": {
              "outlinewidth": 0,
              "ticks": ""
             }
            },
            "type": "scatterternary"
           }
          ],
          "surface": [
           {
            "colorbar": {
             "outlinewidth": 0,
             "ticks": ""
            },
            "colorscale": [
             [
              0,
              "#0d0887"
             ],
             [
              0.1111111111111111,
              "#46039f"
             ],
             [
              0.2222222222222222,
              "#7201a8"
             ],
             [
              0.3333333333333333,
              "#9c179e"
             ],
             [
              0.4444444444444444,
              "#bd3786"
             ],
             [
              0.5555555555555556,
              "#d8576b"
             ],
             [
              0.6666666666666666,
              "#ed7953"
             ],
             [
              0.7777777777777778,
              "#fb9f3a"
             ],
             [
              0.8888888888888888,
              "#fdca26"
             ],
             [
              1,
              "#f0f921"
             ]
            ],
            "type": "surface"
           }
          ],
          "table": [
           {
            "cells": {
             "fill": {
              "color": "#EBF0F8"
             },
             "line": {
              "color": "white"
             }
            },
            "header": {
             "fill": {
              "color": "#C8D4E3"
             },
             "line": {
              "color": "white"
             }
            },
            "type": "table"
           }
          ]
         },
         "layout": {
          "annotationdefaults": {
           "arrowcolor": "#2a3f5f",
           "arrowhead": 0,
           "arrowwidth": 1
          },
          "colorscale": {
           "diverging": [
            [
             0,
             "#8e0152"
            ],
            [
             0.1,
             "#c51b7d"
            ],
            [
             0.2,
             "#de77ae"
            ],
            [
             0.3,
             "#f1b6da"
            ],
            [
             0.4,
             "#fde0ef"
            ],
            [
             0.5,
             "#f7f7f7"
            ],
            [
             0.6,
             "#e6f5d0"
            ],
            [
             0.7,
             "#b8e186"
            ],
            [
             0.8,
             "#7fbc41"
            ],
            [
             0.9,
             "#4d9221"
            ],
            [
             1,
             "#276419"
            ]
           ],
           "sequential": [
            [
             0,
             "#0d0887"
            ],
            [
             0.1111111111111111,
             "#46039f"
            ],
            [
             0.2222222222222222,
             "#7201a8"
            ],
            [
             0.3333333333333333,
             "#9c179e"
            ],
            [
             0.4444444444444444,
             "#bd3786"
            ],
            [
             0.5555555555555556,
             "#d8576b"
            ],
            [
             0.6666666666666666,
             "#ed7953"
            ],
            [
             0.7777777777777778,
             "#fb9f3a"
            ],
            [
             0.8888888888888888,
             "#fdca26"
            ],
            [
             1,
             "#f0f921"
            ]
           ],
           "sequentialminus": [
            [
             0,
             "#0d0887"
            ],
            [
             0.1111111111111111,
             "#46039f"
            ],
            [
             0.2222222222222222,
             "#7201a8"
            ],
            [
             0.3333333333333333,
             "#9c179e"
            ],
            [
             0.4444444444444444,
             "#bd3786"
            ],
            [
             0.5555555555555556,
             "#d8576b"
            ],
            [
             0.6666666666666666,
             "#ed7953"
            ],
            [
             0.7777777777777778,
             "#fb9f3a"
            ],
            [
             0.8888888888888888,
             "#fdca26"
            ],
            [
             1,
             "#f0f921"
            ]
           ]
          },
          "colorway": [
           "#636efa",
           "#EF553B",
           "#00cc96",
           "#ab63fa",
           "#FFA15A",
           "#19d3f3",
           "#FF6692",
           "#B6E880",
           "#FF97FF",
           "#FECB52"
          ],
          "font": {
           "color": "#2a3f5f"
          },
          "geo": {
           "bgcolor": "white",
           "lakecolor": "white",
           "landcolor": "#E5ECF6",
           "showlakes": true,
           "showland": true,
           "subunitcolor": "white"
          },
          "hoverlabel": {
           "align": "left"
          },
          "hovermode": "closest",
          "mapbox": {
           "style": "light"
          },
          "paper_bgcolor": "white",
          "plot_bgcolor": "#E5ECF6",
          "polar": {
           "angularaxis": {
            "gridcolor": "white",
            "linecolor": "white",
            "ticks": ""
           },
           "bgcolor": "#E5ECF6",
           "radialaxis": {
            "gridcolor": "white",
            "linecolor": "white",
            "ticks": ""
           }
          },
          "scene": {
           "xaxis": {
            "backgroundcolor": "#E5ECF6",
            "gridcolor": "white",
            "gridwidth": 2,
            "linecolor": "white",
            "showbackground": true,
            "ticks": "",
            "zerolinecolor": "white"
           },
           "yaxis": {
            "backgroundcolor": "#E5ECF6",
            "gridcolor": "white",
            "gridwidth": 2,
            "linecolor": "white",
            "showbackground": true,
            "ticks": "",
            "zerolinecolor": "white"
           },
           "zaxis": {
            "backgroundcolor": "#E5ECF6",
            "gridcolor": "white",
            "gridwidth": 2,
            "linecolor": "white",
            "showbackground": true,
            "ticks": "",
            "zerolinecolor": "white"
           }
          },
          "shapedefaults": {
           "line": {
            "color": "#2a3f5f"
           }
          },
          "ternary": {
           "aaxis": {
            "gridcolor": "white",
            "linecolor": "white",
            "ticks": ""
           },
           "baxis": {
            "gridcolor": "white",
            "linecolor": "white",
            "ticks": ""
           },
           "bgcolor": "#E5ECF6",
           "caxis": {
            "gridcolor": "white",
            "linecolor": "white",
            "ticks": ""
           }
          },
          "title": {
           "x": 0.05
          },
          "xaxis": {
           "automargin": true,
           "gridcolor": "white",
           "linecolor": "white",
           "ticks": "",
           "zerolinecolor": "white",
           "zerolinewidth": 2
          },
          "yaxis": {
           "automargin": true,
           "gridcolor": "white",
           "linecolor": "white",
           "ticks": "",
           "zerolinecolor": "white",
           "zerolinewidth": 2
          }
         }
        }
       }
      },
      "text/html": [
       "<div>\n",
       "        \n",
       "        \n",
       "            <div id=\"907e21ce-11cd-4e0b-9168-b8842ca67143\" class=\"plotly-graph-div\" style=\"height:525px; width:100%;\"></div>\n",
       "            <script type=\"text/javascript\">\n",
       "                require([\"plotly\"], function(Plotly) {\n",
       "                    window.PLOTLYENV=window.PLOTLYENV || {};\n",
       "                    \n",
       "                if (document.getElementById(\"907e21ce-11cd-4e0b-9168-b8842ca67143\")) {\n",
       "                    Plotly.newPlot(\n",
       "                        '907e21ce-11cd-4e0b-9168-b8842ca67143',\n",
       "                        [{\"line\": {\"width\": 1}, \"mode\": \"lines\", \"name\": \"quiver\", \"type\": \"scatter\", \"x\": [-16.0, -16.036619707056342, null, -15.555555555555555, -15.592175256314167, null, -15.11111111111111, -15.147730802047635, null, -14.666666666666666, -14.703286342284436, null, -14.222222222222221, -14.25884187394851, null, -13.777777777777779, -13.814397392242375, null, -13.333333333333334, -13.369952889683777, null, -12.88888888888889, -12.925508354603265, null, -12.444444444444445, -12.48106376880101, null, -12.0, -12.036619103892399, null, -16.0, -16.03661961908979, null, -15.555555555555555, -15.592175119119592, null, -15.11111111111111, -15.147730588076058, null, -14.666666666666666, -14.703286008570085, null, -14.222222222222221, -14.258841353481587, null, -13.777777777777779, -13.814396580514359, null, -13.333333333333334, -13.369951623704454, null, -12.88888888888889, -12.925506380178351, null, -12.444444444444445, -12.481060689505211, null, -12.0, -12.03661430150523, null, -16.0, -16.03661841991264, null, -15.555555555555555, -15.592173248941451, null, -15.11111111111111, -15.147727671513172, null, -14.666666666666666, -14.703281460342774, null, -14.222222222222221, -14.25883426120553, null, -13.777777777777779, -13.814385522261375, null, -13.333333333333334, -13.369934384343189, null, -12.88888888888889, -12.925479511090714, null, -12.444444444444445, -12.481018827004378, null, -12.0, -12.03654911600192, null, -16.0, -16.03659238248648, null, -15.555555555555555, -15.592132807089133, null, -15.11111111111111, -15.147664993632368, null, -14.666666666666666, -14.703184636373875, null, -14.222222222222221, -14.258685395908797, null, -13.777777777777779, -13.814158163745637, null, -13.333333333333334, -13.36959023034535, null, -12.88888888888889, -12.924964378972978, null, -12.444444444444445, -12.48025779514338, null, -12.0, -12.035440504817858, null, -16.0, -16.036009314718264, null, -15.555555555555555, -15.591324061874092, null, -15.11111111111111, -15.146559102817543, null, -14.666666666666666, -14.701689724938467, null, -14.222222222222221, -14.25668464695234, null, -13.777777777777779, -13.81150614990788, null, -13.333333333333334, -13.366110333636934, null, -12.88888888888889, -12.92044823914383, null, -12.444444444444445, -12.47446933086437, null, -12.0, -12.028127197239046, null, -16.0, -16.0322529668926, null, -15.555555555555555, -15.586661088858456, null, -15.11111111111111, -15.140822662032008, null, -14.666666666666666, -14.694717986741964, null, -14.222222222222221, -14.24833814736875, null, -13.777777777777779, -13.80168029979028, null, -13.333333333333334, -13.354738503703514, null, -12.88888888888889, -12.907493129812936, null, -12.444444444444445, -12.459902671396232, null, -12.0, -12.011902717225269, null, -16.0, -16.022204598669045, null, -15.555555555555555, -15.57552461731368, null, -15.11111111111111, -15.128640410945971, null, -14.666666666666666, -14.681507602042355, null, -14.222222222222221, -14.234061158719282, null, -13.777777777777779, -13.78622530926385, null, -13.333333333333334, -13.337930960733026, null, -12.88888888888889, -12.889136030998177, null, -12.444444444444445, -12.439842362064095, null, -12.0, -11.990104628598836, null, -16.0, -16.008876029439158, null, -15.555555555555555, -15.56114966946053, null, -15.11111111111111, -15.11299429942279, null, -14.666666666666666, -14.664398318322771, null, -14.222222222222221, -14.215387130625274, null, -13.777777777777779, -13.766023470081022, null, -13.333333333333334, -13.31640457998736, null, -12.88888888888889, -12.866655961793548, null, -12.444444444444445, -12.416920324096873, null, -12.0, -11.967342439230514, null, -16.0, -15.991265766637559, null, -15.555555555555555, -15.542237756613197, null, -15.11111111111111, -15.09301733940699, null, -14.666666666666666, -14.643707154408515, null, -14.222222222222221, -14.194420821818255, null, -13.777777777777779, -13.745272183355988, null, -13.333333333333334, -13.296364255380567, null, -12.88888888888889, -12.847780272006425, null, -12.444444444444445, -12.399577967662038, null, -12.0, -11.951787749115947, null, -16.0, -15.971982230043928, null, -15.555555555555555, -15.523203210215113, null, -15.11111111111111, -15.074627439140611, null, -14.666666666666666, -14.626322553803627, null, -14.222222222222221, -14.17833762957961, null, -13.777777777777779, -13.730700963403496, null, -13.333333333333334, -13.28342057492272, null, -12.88888888888889, -12.836488496618557, null, -12.444444444444445, -12.389887460228815, null, -12.0, -11.943596861161993, null, -16.109730863627437, -16.036619707056342, -15.935979535688297, null, -15.665286403164265, -15.592175256314167, -15.491535099401464, null, -15.220841933736638, -15.147730802047635, -15.047090667679822, null, -14.776397450327847, -14.703286342284436, -14.602646243078151, null, -14.331952945113713, -14.25884187394851, -14.158201829580953, null, -13.887508405891493, -13.814397392242375, -13.713757433402531, null, -13.443063813629545, -13.369952889683777, -13.269313064234838, null, -12.998619138645786, -12.925508354603265, -12.824868737193606, null, -12.554174334647646, -12.48106376880101, -12.380424475853548, null, -12.10972932943684, -12.036619103892399, -11.935980316981974, null, -16.109730609416303, -16.03661961908979, -15.935979680095548, null, -15.665286006691018, -15.592175119119592, -15.491535324622145, null, -15.220841315388657, -15.147730588076058, -15.047091018938659, null, -14.776396485940268, -14.703286008570085, -14.602646790908159, null, -14.331951441038175, -14.258841353481587, -14.158202683985786, null, -13.887506060114513, -13.814396580514359, -13.713758765943341, null, -13.443060155136083, -13.369951623704454, -13.269315142474795, null, -12.998613432859615, -12.925506380178351, -12.824871978411968, null, -12.55416543597912, -12.481060689505211, -12.38042953080371, null, -12.109715451374242, -12.03661430150523, -11.935988200484461, null, -16.109726626630728, -16.03661841991264, -15.935982166013153, null, -15.66527979539712, -15.592173248941451, -15.49153920147384, null, -15.220831628964834, -15.147727671513172, -15.047097064774805, null, -14.776381380847315, -14.703281460342774, -14.602656218695003, null, -14.33192788783852, -14.25883426120553, -14.158217384280908, null, -13.88746933827864, -13.814385522261375, -13.713781684360228, null, -13.443002912726346, -13.369934384343189, -13.269350865922457, null, -12.998524228578578, -12.925479511090714, -12.824927643464434, null, -12.554026485952672, -12.481018827004378, -12.380516226134988, null, -12.109499164254927, -12.03654911600192, -11.93612312006631, null, -16.10962888022582, -16.03659238248648, -15.936047411307522, null, -15.66512806939032, -15.592132807089133, -15.491640446104158, null, -15.220596707279231, -15.147664993632368, -15.047253749052466, null, -14.776019010882266, -14.703184636373875, -14.602897728537528, null, -14.331371981330188, -14.258685395908797, -14.158587470292439, null, -13.886623082493005, -13.814158163745637, -13.714344140809997, null, -13.441727928358333, -13.36959023034535, -13.270196261472538, null, -12.996628220158176, -12.924964378972978, -12.826180640329179, null, -12.551249573685771, -12.48025779514338, -12.382343183499064, null, -12.10549803052346, -12.035440504817858, -11.93874043442884, null, -16.107340844851453, -16.036009314718264, -15.937607634728824, null, -15.66199394433612, -15.591324061874092, -15.493765058256814, null, -15.216373183833952, -15.146559102817543, -15.050096848818564, null, -14.770401862503366, -14.701689724938467, -14.606648859841274, null, -14.323984523722231, -14.25668464695234, -14.163477501211824, null, -13.877009510926648, -13.81150614990788, -13.72064734696769, null, -13.429351773582818, -13.366110333636934, -13.278228649437619, null, -12.980878110187456, -12.92044823914383, -12.836293497259113, null, -12.531460229790678, -12.47446933086437, -12.39490710057107, null, -12.08099547892525, -12.028127197239046, -11.954114179801707, null, -16.093920096229247, -16.0322529668926, -15.946339537566011, null, -15.645645871842584, -15.586661088858456, -15.504292593786051, null, -15.196630323763426, -15.140822662032008, -15.062679220178612, null, -14.746839712426313, -14.694717986741964, -14.621508566275164, null, -14.296283346879251, -14.24833814736875, -14.180760194142097, null, -13.844998145328875, -13.80168029979028, -13.740393635409031, null, -13.393019020976434, -13.354738503703514, -13.300366561915775, null, -12.940345698730177, -12.907493129812936, -12.860654746566375, null, -12.486917761400218, -12.459902671396232, -12.421266795954624, null, -12.032611022493985, -12.011902717225269, -11.982246495521444, null, -16.061523508593407, -16.022204598669045, -15.966193290731233, null, -15.61037327444325, -15.57552461731368, -15.525664136201609, null, -15.15879191005526, -15.128640410945971, -15.085311188874792, null, -14.706689531903177, -14.681507602042355, -14.645168938215058, null, -14.253919734257696, -14.234061158719282, -14.205302614169476, null, -13.800308205041652, -13.78622530926385, -13.765791947084994, null, -13.345700678626303, -13.337930960733026, -13.326704957607257, null, -12.890016321723031, -12.889136030998177, -12.888069950180217, null, -12.433288779691862, -12.439842362064095, -12.449855578718779, null, -11.975683095668685, -11.990104628598836, -12.011965047517474, null, -16.023175601509163, -16.008876029439158, -15.98790386587647, null, -15.570032191567874, -15.56114966946053, -15.548061749308113, null, -15.115940978082609, -15.11299429942279, -15.108631926234942, null, -14.660896863056315, -14.664398318322771, -14.66960501374933, null, -14.204989903624481, -14.215387130625274, -14.230922665734905, null, -13.74840051129428, -13.766023470081022, -13.792482777831836, null, -13.291386497588219, -13.31640457998736, -13.354148922065153, null, -12.834262848786187, -12.866655961793548, -12.91576276882488, null, -12.377371851206744, -12.416920324096873, -12.477160167214391, null, -11.92104582125123, -11.967342439230514, -12.038189512304161, null, -15.977694043178696, -15.991265766637559, -16.01140348580755, null, -15.521995624539208, -15.542237756613197, -15.572491598600182, null, -15.065999593266021, -15.09301733940699, -15.133637152549996, null, -14.609961567072409, -14.643707154408515, -14.694712649141284, null, -14.154152734960446, -14.194420821818255, -14.255588725321761, null, -13.69883374179673, -13.745272183355988, -13.81614683868518, null, -13.244229491271868, -13.296364255380567, -13.376290675288844, null, -12.790510376221066, -12.847780272006425, -12.935953738939917, null, -12.33778214072302, -12.399577967662038, -12.49510235232353, null, -11.886084960115353, -11.951787749115947, -12.053734295226322, null, -15.931156597233636, -15.971982230043928, -16.033870336197097, null, -15.476700586595697, -15.523203210215113, -15.594026841979755, null, -15.022851828420963, -15.074627439140611, -15.153829799724141, null, -14.56974932883631, -14.626322553803627, -14.713224630890586, null, -14.117484700434746, -14.17833762957961, -14.27218098102244, null, -13.666099630509432, -13.730700963403496, -13.830692484359657, null, -13.215589163875395, -13.28342057492272, -13.388774106579264, null, -12.765912677081205, -12.836488496618557, -12.946456525710083, null, -12.317009489747935, -12.389887460228815, -12.503778867093503, null, -11.868812606036368, -11.943596861161993, -12.060782406971809, null], \"y\": [0.0, -0.6350186214533021, null, 0.0, -0.6350185330946874, null, 0.0, -0.6350183952885382, null, 0.0, -0.6350181803628832, null, 0.0, -0.6350178451599133, null, 0.0, -0.6350173223698051, null, 0.0, -0.6350165070148455, null, 0.0, -0.6350152353699832, null, 0.0, -0.6350132520873761, null, 0.0, -0.6350101589244114, null, 0.14444444444444446, -0.4905727201561155, null, 0.14444444444444446, -0.4905718165109394, null, 0.14444444444444446, -0.49057040716824296, null, 0.14444444444444446, -0.4905682091329012, null, 0.14444444444444446, -0.49056478104636014, null, 0.14444444444444446, -0.4905594345731811, null, 0.14444444444444446, -0.4905510962123797, null, 0.14444444444444446, -0.49053809181151353, null, 0.14444444444444446, -0.49051781057828536, null, 0.14444444444444446, -0.4904861812802832, null, 0.2888888888888889, -0.34610463418315146, null, 0.2888888888888889, -0.34609050236090994, null, 0.2888888888888889, -0.34606846516014095, null, 0.2888888888888889, -0.34603410301108223, null, 0.2888888888888889, -0.34598052943147334, null, 0.2888888888888889, -0.3458970195869326, null, 0.2888888888888889, -0.3457668842892793, null, 0.2888888888888889, -0.3455641853736398, null, 0.2888888888888889, -0.34524868752159305, null, 0.2888888888888889, -0.3447581622130514, null, 0.43333333333333335, -0.20106449492928813, null, 0.43333333333333335, -0.2007215120890592, null, 0.43333333333333335, -0.2001927966675472, null, 0.43333333333333335, -0.199382625518442, null, 0.43333333333333335, -0.19815180873190807, null, 0.43333333333333335, -0.1963040763519327, null, 0.43333333333333335, -0.19357296967665727, null, 0.43333333333333335, -0.18961089654312568, null, 0.43333333333333335, -0.18397822522112006, null, 0.43333333333333335, -0.17612490819425353, null, 0.5777777777777778, -0.04255560548516224, null, 0.5777777777777778, -0.03705766891372664, null, 0.5777777777777778, -0.029921572173451483, null, 0.5777777777777778, -0.020699409376403133, null, 0.5777777777777778, -0.008836145563475672, null, 0.5777777777777778, 0.006312299024997081, null, 0.5777777777777778, 0.025459708600120923, null, 0.5777777777777778, 0.04935636843307112, null, 0.5777777777777778, 0.07870947769236414, null, 0.5777777777777778, 0.11405765193299727, null, 0.7222222222222223, 0.18285136372460598, null, 0.7222222222222223, 0.20561055177326726, null, 0.7222222222222223, 0.23266368963724532, null, 0.7222222222222223, 0.2641675264794574, null, 0.7222222222222223, 0.3000133443552211, null, 0.7222222222222223, 0.3399183142465479, null, 0.7222222222222223, 0.3836001378628648, null, 0.7222222222222223, 0.4309712764850897, null, 0.7222222222222223, 0.48228399516624165, null, 0.7222222222222223, 0.5381521902541657, null, 0.8666666666666667, 0.518258028599254, null, 0.8666666666666667, 0.5570754777604973, null, 0.8666666666666667, 0.5981125967734044, null, 0.8666666666666667, 0.6418239385092122, null, 0.8666666666666667, 0.6889829796201716, null, 0.8666666666666667, 0.7405181830531148, null, 0.8666666666666667, 0.7972419507919708, null, 0.8666666666666667, 0.8595531545651248, null, 0.8666666666666667, 0.9272142665310613, null, 0.8666666666666667, 0.9992683297441634, null, 1.0111111111111113, 0.882201541305799, null, 1.0111111111111113, 0.9308145164203355, null, 1.0111111111111113, 0.9843983136695769, null, 1.0111111111111113, 1.042937272753008, null, 1.0111111111111113, 1.1058890160696602, null, 1.0111111111111113, 1.1722210172006988, null, 1.0111111111111113, 1.2404924271743178, null, 1.0111111111111113, 1.3089733921386988, null, 1.0111111111111113, 1.37581300789614, null, 1.0111111111111113, 1.4392426603009878, null, 1.1555555555555557, 1.278755326412162, null, 1.1555555555555557, 1.3401059944930518, null, 1.1555555555555557, 1.402754297369022, null, 1.1555555555555557, 1.4653000388950033, null, 1.1555555555555557, 1.5262792992471956, null, 1.1555555555555557, 1.5843062416545655, null, 1.1555555555555557, 1.6382068942050285, null, 1.1555555555555557, 1.6871154854204216, null, 1.1555555555555557, 1.7305224641957553, null, 1.1555555555555557, 1.7682728851578906, null, 1.3, 1.675393602423207, null, 1.3, 1.728798777183207, null, 1.3, 1.7786924610258357, null, 1.3, 1.8243671493262839, null, 1.3, 1.865377082338962, null, 1.3, 1.9015466379033603, null, 1.3, 1.932948621899461, null, 1.3, 1.959843623804368, null, 1.3, 1.982596409123369, null, 1.3, 2.0016026858418416, null, -0.3913198254143972, -0.6350186214533021, -0.40133956737916054, null, -0.3913197711293379, -0.6350185330946874, -0.4013395113709408, null, -0.3913196864650982, -0.6350183952885382, -0.4013394240192194, null, -0.39131955442079297, -0.6350181803628832, -0.40133928778345623, null, -0.3913193484814731, -0.6350178451599133, -0.4013390753070422, null, -0.39131902729386736, -0.6350173223698051, -0.401338743924037, null, -0.3913185263626078, -0.6350165070148455, -0.40133822709180855, null, -0.39131774509960715, -0.6350152353699832, -0.40133742102931924, null, -0.3913165266262999, -0.6350132520873761, -0.401336163878237, null, -0.3913146262735745, -0.6350101589244114, -0.4013342032029631, null, -0.2468744837492521, -0.4905727201561155, -0.25689420164494947, null, -0.24687392735992814, -0.4905718165109394, -0.25689363006288424, null, -0.24687305960425757, -0.49057040716824296, -0.2568927386123075, null, -0.2468717062374575, -0.4905682091329012, -0.2568913482904968, null, -0.24686959550777055, -0.49056478104636014, -0.25688917992520244, null, -0.24686630359571307, -0.4905594345731811, -0.2568857981240167, null, -0.24686116952908072, -0.4905510962123797, -0.2568805238659378, null, -0.2468531625048365, -0.49053809181151353, -0.2568722982000751, null, -0.2468406750158171, -0.49051781057828536, -0.2568594697228021, null, -0.24682120033904556, -0.4904861812802832, -0.25683946325791596, null, -0.10241544814134224, -0.34610463418315146, -0.11243483792284639, null, -0.10240672754144442, -0.34609050236090994, -0.11242591853352407, null, -0.10239312861997105, -0.34606846516014095, -0.11241200960941583, null, -0.10237192411641971, -0.34603410301108223, -0.11239032170117355, null, -0.10233886447995227, -0.34598052943147334, -0.11235650833636532, null, -0.10228733159144549, -0.3458970195869326, -0.11230380040353283, null, -0.10220702688649505, -0.3457668842892793, -0.11222166425630364, null, -0.10208194458592956, -0.3455641853736398, -0.11209372846580432, null, -0.10188725684911845, -0.34524868752159305, -0.11189459730127557, null, -0.10158456541439223, -0.3447581622130514, -0.11158499252911477, null, 0.042397220976169686, -0.20106449492928813, 0.03238495545404721, null, 0.042609214402518886, -0.2007215120890592, 0.03260108895294034, null, 0.042936000762817506, -0.2001927966675472, 0.03293426945159339, null, 0.04343673400944434, -0.199382625518442, 0.033444829022866746, null, 0.04419741847810785, -0.19815180873190807, 0.034220506565794756, null, 0.045339304638054606, -0.1963040763519327, 0.03538504477967866, null, 0.047026956713445395, -0.19357296967665727, 0.037106485423370306, null, 0.04947495956294359, -0.18961089654312568, 0.03960412413166045, null, 0.0529545762342761, -0.18397822522112006, 0.04315546636305814, null, 0.057805003316933334, -0.17612490819425353, 0.04810791008706303, null, 0.19553983997897428, -0.04255560548516224, 0.1856871111941745, null, 0.19893828385076356, -0.03705766891372664, 0.1891514441246748, null, 0.20334823663039034, -0.029921572173451483, 0.19364909486715756, null, 0.20904586577852302, -0.020699409376403133, 0.19946299265066342, null, 0.2163733018203611, -0.008836145563475672, 0.20694382706392478, null, 0.22572736946017824, 0.006312299024997081, 0.21649874332411537, null, 0.23754755190995608, 0.025459708600120923, 0.22857923643665784, null, 0.2522954214426594, 0.04935636843307112, 0.24366027464469142, null, 0.27040544361840824, 0.07870947769236414, 0.2621901508530645, null, 0.2922074312919177, 0.11405765193299727, 0.2845113768670794, null, 0.3900009557071881, 0.18285136372460598, 0.3811760242197602, null, 0.40404850916976487, 0.20561055177326726, 0.3955375340029813, null, 0.4207422854041548, 0.23266368963724532, 0.4126127262806403, null, 0.4401774200868327, 0.2641675264794574, 0.4325021268767307, null, 0.46228484012466836, 0.3000133443552211, 0.4551391021553097, null, 0.4868876363373148, 0.3399183142465479, 0.480347521133666, null, 0.5138088072010851, 0.3836001378628648, 0.5079520076507498, null, 0.5429910323464531, 0.4309712764850897, 0.5379006122286069, null, 0.5745860777288696, 0.48228399516624165, 0.5703564577307807, null, 0.6089682781739898, 0.5381521902541657, 0.6057115029329089, null, 0.6522546070909707, 0.518258028599254, 0.6461790710755501, null, 0.67617562857652, 0.5570754777604973, 0.6707117714848454, null, 0.7014540573344601, 0.5981125967734044, 0.696657758420926, null, 0.728367519041697, 0.6418239385092122, 0.7243067999662729, null, 0.7573898613438406, 0.6889829796201716, 0.754150537537802, null, 0.7890901930949552, 0.7405181830531148, 0.7867788123512638, null, 0.8239661005478951, 0.7972419507919708, 0.8227081156021346, null, 0.862260771528857, 0.8595531545651248, 0.8621931494651447, null, 0.903826211461384, 0.9272142665310613, 0.905085415361643, null, 0.9480726414870635, 0.9992683297441634, 0.9507801745629729, null, 0.9318700022480716, 0.882201541305799, 0.9294413775593168, null, 0.9617614832782229, 0.9308145164203355, 0.9602308435665753, null, 0.9946966764586281, 0.9843983136695769, 0.9941814057896124, null, 1.0306642207255994, 1.042937272753008, 1.0312848773861527, null, 1.0693290813053686, 1.1058890160696602, 1.0711992725114743, null, 1.110055417244285, 1.1722210172006988, 1.1132715852467958, null, 1.1519572652957297, 1.2404924271743178, 1.1565892450123016, null, 1.1939721535771866, 1.3089733921386988, 1.200055440706545, null, 1.234964413983458, 1.37581300789614, 1.2424954568524096, null, 1.2738500198552227, 1.4392426603009878, 1.28278565474726, null, 1.2312524466909902, 1.278755326412162, 1.2336422736881596, null, 1.2689157380388865, 1.3401059944930518, 1.2725597024413247, null, 1.3073625901925336, 1.402754297369022, 1.31231333770577, null, 1.345733150496426, 1.4653000388950033, 1.3520152430350023, null, 1.3831292971480038, 1.5262792992471956, 1.390736208308659, null, 1.4187016720757009, 1.5843062416545655, 1.4275957265261223, null, 1.4517316659324793, 1.6382068942050285, 1.4618470014044977, null, 1.4816903179654015, 1.6871154854204216, 1.4929382979958499, null, 1.5082675041697882, 1.7305224641957553, 1.5205436952254974, null, 1.5313706794729394, 1.7682728851578906, 1.5445623282388727, null, 1.5304587065098598, 1.675393602423207, 1.538124819866693, null, 1.563197096978671, 1.728798777183207, 1.5720492200108787, null, 1.5937716914385474, 1.7786924610258357, 1.603754212011665, null, 1.6217501732989978, 1.8243671493262839, 1.6327889727100087, null, 1.6468610475786405, 1.865377082338962, 1.6588685793109719, null, 1.668998575704973, 1.9015466379033603, 1.6818795507446593, null, 1.6882092946510965, 1.932948621899461, 1.7018662296793985, null, 1.704654754269881, 1.959843623804368, 1.718992346009577, null, 1.718560250647755, 1.982596409123369, 1.733487920696432, null, 1.7301699353464235, 2.0016026858418416, 1.745602743049938, null]}],\n",
       "                        {\"hovermode\": \"closest\", \"template\": {\"data\": {\"bar\": [{\"error_x\": {\"color\": \"#2a3f5f\"}, \"error_y\": {\"color\": \"#2a3f5f\"}, \"marker\": {\"line\": {\"color\": \"#E5ECF6\", \"width\": 0.5}}, \"type\": \"bar\"}], \"barpolar\": [{\"marker\": {\"line\": {\"color\": \"#E5ECF6\", \"width\": 0.5}}, \"type\": \"barpolar\"}], \"carpet\": [{\"aaxis\": {\"endlinecolor\": \"#2a3f5f\", \"gridcolor\": \"white\", \"linecolor\": \"white\", \"minorgridcolor\": \"white\", \"startlinecolor\": \"#2a3f5f\"}, \"baxis\": {\"endlinecolor\": \"#2a3f5f\", \"gridcolor\": \"white\", \"linecolor\": \"white\", \"minorgridcolor\": \"white\", \"startlinecolor\": \"#2a3f5f\"}, \"type\": \"carpet\"}], \"choropleth\": [{\"colorbar\": {\"outlinewidth\": 0, \"ticks\": \"\"}, \"type\": \"choropleth\"}], \"contour\": [{\"colorbar\": {\"outlinewidth\": 0, \"ticks\": \"\"}, \"colorscale\": [[0.0, \"#0d0887\"], [0.1111111111111111, \"#46039f\"], [0.2222222222222222, \"#7201a8\"], [0.3333333333333333, \"#9c179e\"], [0.4444444444444444, \"#bd3786\"], [0.5555555555555556, \"#d8576b\"], [0.6666666666666666, \"#ed7953\"], [0.7777777777777778, \"#fb9f3a\"], [0.8888888888888888, \"#fdca26\"], [1.0, \"#f0f921\"]], \"type\": \"contour\"}], \"contourcarpet\": [{\"colorbar\": {\"outlinewidth\": 0, \"ticks\": \"\"}, \"type\": \"contourcarpet\"}], \"heatmap\": [{\"colorbar\": {\"outlinewidth\": 0, \"ticks\": \"\"}, \"colorscale\": [[0.0, \"#0d0887\"], [0.1111111111111111, \"#46039f\"], [0.2222222222222222, \"#7201a8\"], [0.3333333333333333, \"#9c179e\"], [0.4444444444444444, \"#bd3786\"], [0.5555555555555556, \"#d8576b\"], [0.6666666666666666, \"#ed7953\"], [0.7777777777777778, \"#fb9f3a\"], [0.8888888888888888, \"#fdca26\"], [1.0, \"#f0f921\"]], \"type\": \"heatmap\"}], \"heatmapgl\": [{\"colorbar\": {\"outlinewidth\": 0, \"ticks\": \"\"}, \"colorscale\": [[0.0, \"#0d0887\"], [0.1111111111111111, \"#46039f\"], [0.2222222222222222, \"#7201a8\"], [0.3333333333333333, \"#9c179e\"], [0.4444444444444444, \"#bd3786\"], [0.5555555555555556, \"#d8576b\"], [0.6666666666666666, \"#ed7953\"], [0.7777777777777778, \"#fb9f3a\"], [0.8888888888888888, \"#fdca26\"], [1.0, \"#f0f921\"]], \"type\": \"heatmapgl\"}], \"histogram\": [{\"marker\": {\"colorbar\": {\"outlinewidth\": 0, \"ticks\": \"\"}}, \"type\": \"histogram\"}], \"histogram2d\": [{\"colorbar\": {\"outlinewidth\": 0, \"ticks\": \"\"}, \"colorscale\": [[0.0, \"#0d0887\"], [0.1111111111111111, \"#46039f\"], [0.2222222222222222, \"#7201a8\"], [0.3333333333333333, \"#9c179e\"], [0.4444444444444444, \"#bd3786\"], [0.5555555555555556, \"#d8576b\"], [0.6666666666666666, \"#ed7953\"], [0.7777777777777778, \"#fb9f3a\"], [0.8888888888888888, \"#fdca26\"], [1.0, \"#f0f921\"]], \"type\": \"histogram2d\"}], \"histogram2dcontour\": [{\"colorbar\": {\"outlinewidth\": 0, \"ticks\": \"\"}, \"colorscale\": [[0.0, \"#0d0887\"], [0.1111111111111111, \"#46039f\"], [0.2222222222222222, \"#7201a8\"], [0.3333333333333333, \"#9c179e\"], [0.4444444444444444, \"#bd3786\"], [0.5555555555555556, \"#d8576b\"], [0.6666666666666666, \"#ed7953\"], [0.7777777777777778, \"#fb9f3a\"], [0.8888888888888888, \"#fdca26\"], [1.0, \"#f0f921\"]], \"type\": \"histogram2dcontour\"}], \"mesh3d\": [{\"colorbar\": {\"outlinewidth\": 0, \"ticks\": \"\"}, \"type\": \"mesh3d\"}], \"parcoords\": [{\"line\": {\"colorbar\": {\"outlinewidth\": 0, \"ticks\": \"\"}}, \"type\": \"parcoords\"}], \"scatter\": [{\"marker\": {\"colorbar\": {\"outlinewidth\": 0, \"ticks\": \"\"}}, \"type\": \"scatter\"}], \"scatter3d\": [{\"line\": {\"colorbar\": {\"outlinewidth\": 0, \"ticks\": \"\"}}, \"marker\": {\"colorbar\": {\"outlinewidth\": 0, \"ticks\": \"\"}}, \"type\": \"scatter3d\"}], \"scattercarpet\": [{\"marker\": {\"colorbar\": {\"outlinewidth\": 0, \"ticks\": \"\"}}, \"type\": \"scattercarpet\"}], \"scattergeo\": [{\"marker\": {\"colorbar\": {\"outlinewidth\": 0, \"ticks\": \"\"}}, \"type\": \"scattergeo\"}], \"scattergl\": [{\"marker\": {\"colorbar\": {\"outlinewidth\": 0, \"ticks\": \"\"}}, \"type\": \"scattergl\"}], \"scattermapbox\": [{\"marker\": {\"colorbar\": {\"outlinewidth\": 0, \"ticks\": \"\"}}, \"type\": \"scattermapbox\"}], \"scatterpolar\": [{\"marker\": {\"colorbar\": {\"outlinewidth\": 0, \"ticks\": \"\"}}, \"type\": \"scatterpolar\"}], \"scatterpolargl\": [{\"marker\": {\"colorbar\": {\"outlinewidth\": 0, \"ticks\": \"\"}}, \"type\": \"scatterpolargl\"}], \"scatterternary\": [{\"marker\": {\"colorbar\": {\"outlinewidth\": 0, \"ticks\": \"\"}}, \"type\": \"scatterternary\"}], \"surface\": [{\"colorbar\": {\"outlinewidth\": 0, \"ticks\": \"\"}, \"colorscale\": [[0.0, \"#0d0887\"], [0.1111111111111111, \"#46039f\"], [0.2222222222222222, \"#7201a8\"], [0.3333333333333333, \"#9c179e\"], [0.4444444444444444, \"#bd3786\"], [0.5555555555555556, \"#d8576b\"], [0.6666666666666666, \"#ed7953\"], [0.7777777777777778, \"#fb9f3a\"], [0.8888888888888888, \"#fdca26\"], [1.0, \"#f0f921\"]], \"type\": \"surface\"}], \"table\": [{\"cells\": {\"fill\": {\"color\": \"#EBF0F8\"}, \"line\": {\"color\": \"white\"}}, \"header\": {\"fill\": {\"color\": \"#C8D4E3\"}, \"line\": {\"color\": \"white\"}}, \"type\": \"table\"}]}, \"layout\": {\"annotationdefaults\": {\"arrowcolor\": \"#2a3f5f\", \"arrowhead\": 0, \"arrowwidth\": 1}, \"colorscale\": {\"diverging\": [[0, \"#8e0152\"], [0.1, \"#c51b7d\"], [0.2, \"#de77ae\"], [0.3, \"#f1b6da\"], [0.4, \"#fde0ef\"], [0.5, \"#f7f7f7\"], [0.6, \"#e6f5d0\"], [0.7, \"#b8e186\"], [0.8, \"#7fbc41\"], [0.9, \"#4d9221\"], [1, \"#276419\"]], \"sequential\": [[0.0, \"#0d0887\"], [0.1111111111111111, \"#46039f\"], [0.2222222222222222, \"#7201a8\"], [0.3333333333333333, \"#9c179e\"], [0.4444444444444444, \"#bd3786\"], [0.5555555555555556, \"#d8576b\"], [0.6666666666666666, \"#ed7953\"], [0.7777777777777778, \"#fb9f3a\"], [0.8888888888888888, \"#fdca26\"], [1.0, \"#f0f921\"]], \"sequentialminus\": [[0.0, \"#0d0887\"], [0.1111111111111111, \"#46039f\"], [0.2222222222222222, \"#7201a8\"], [0.3333333333333333, \"#9c179e\"], [0.4444444444444444, \"#bd3786\"], [0.5555555555555556, \"#d8576b\"], [0.6666666666666666, \"#ed7953\"], [0.7777777777777778, \"#fb9f3a\"], [0.8888888888888888, \"#fdca26\"], [1.0, \"#f0f921\"]]}, \"colorway\": [\"#636efa\", \"#EF553B\", \"#00cc96\", \"#ab63fa\", \"#FFA15A\", \"#19d3f3\", \"#FF6692\", \"#B6E880\", \"#FF97FF\", \"#FECB52\"], \"font\": {\"color\": \"#2a3f5f\"}, \"geo\": {\"bgcolor\": \"white\", \"lakecolor\": \"white\", \"landcolor\": \"#E5ECF6\", \"showlakes\": true, \"showland\": true, \"subunitcolor\": \"white\"}, \"hoverlabel\": {\"align\": \"left\"}, \"hovermode\": \"closest\", \"mapbox\": {\"style\": \"light\"}, \"paper_bgcolor\": \"white\", \"plot_bgcolor\": \"#E5ECF6\", \"polar\": {\"angularaxis\": {\"gridcolor\": \"white\", \"linecolor\": \"white\", \"ticks\": \"\"}, \"bgcolor\": \"#E5ECF6\", \"radialaxis\": {\"gridcolor\": \"white\", \"linecolor\": \"white\", \"ticks\": \"\"}}, \"scene\": {\"xaxis\": {\"backgroundcolor\": \"#E5ECF6\", \"gridcolor\": \"white\", \"gridwidth\": 2, \"linecolor\": \"white\", \"showbackground\": true, \"ticks\": \"\", \"zerolinecolor\": \"white\"}, \"yaxis\": {\"backgroundcolor\": \"#E5ECF6\", \"gridcolor\": \"white\", \"gridwidth\": 2, \"linecolor\": \"white\", \"showbackground\": true, \"ticks\": \"\", \"zerolinecolor\": \"white\"}, \"zaxis\": {\"backgroundcolor\": \"#E5ECF6\", \"gridcolor\": \"white\", \"gridwidth\": 2, \"linecolor\": \"white\", \"showbackground\": true, \"ticks\": \"\", \"zerolinecolor\": \"white\"}}, \"shapedefaults\": {\"line\": {\"color\": \"#2a3f5f\"}}, \"ternary\": {\"aaxis\": {\"gridcolor\": \"white\", \"linecolor\": \"white\", \"ticks\": \"\"}, \"baxis\": {\"gridcolor\": \"white\", \"linecolor\": \"white\", \"ticks\": \"\"}, \"bgcolor\": \"#E5ECF6\", \"caxis\": {\"gridcolor\": \"white\", \"linecolor\": \"white\", \"ticks\": \"\"}}, \"title\": {\"x\": 0.05}, \"xaxis\": {\"automargin\": true, \"gridcolor\": \"white\", \"linecolor\": \"white\", \"ticks\": \"\", \"zerolinecolor\": \"white\", \"zerolinewidth\": 2}, \"yaxis\": {\"automargin\": true, \"gridcolor\": \"white\", \"linecolor\": \"white\", \"ticks\": \"\", \"zerolinecolor\": \"white\", \"zerolinewidth\": 2}}}},\n",
       "                        {\"responsive\": true}\n",
       "                    ).then(function(){\n",
       "                            \n",
       "var gd = document.getElementById('907e21ce-11cd-4e0b-9168-b8842ca67143');\n",
       "var x = new MutationObserver(function (mutations, observer) {{\n",
       "        var display = window.getComputedStyle(gd).display;\n",
       "        if (!display || display === 'none') {{\n",
       "            console.log([gd, 'removed!']);\n",
       "            Plotly.purge(gd);\n",
       "            observer.disconnect();\n",
       "        }}\n",
       "}});\n",
       "\n",
       "// Listen for the removal of the full notebook cells\n",
       "var notebookContainer = gd.closest('#notebook-container');\n",
       "if (notebookContainer) {{\n",
       "    x.observe(notebookContainer, {childList: true});\n",
       "}}\n",
       "\n",
       "// Listen for the clearing of the current output cell\n",
       "var outputEl = gd.closest('.output');\n",
       "if (outputEl) {{\n",
       "    x.observe(outputEl, {childList: true});\n",
       "}}\n",
       "\n",
       "                        })\n",
       "                };\n",
       "                });\n",
       "            </script>\n",
       "        </div>"
      ]
     },
     "metadata": {},
     "output_type": "display_data"
    }
   ],
   "source": [
    "import plotly.graph_objects as go\n",
    "import plotly.figure_factory as ff\n",
    "\n",
    "\n",
    "num_points = 10\n",
    "uvalues = np.linspace(-16, -12, num_points)\n",
    "vvalues = np.linspace(0, 1.3, num_points)\n",
    "(u,v) = np.meshgrid(uvalues, vvalues)\n",
    "betas = np.vstack((u.flatten(),v.flatten()))\n",
    "\n",
    "gradients = np.array([risk_gradient(b, X_1f_train, y_train) for b in betas.T])\n",
    "gradients_u = np.reshape(gradients[:, 0], u.shape)\n",
    "gradients_v = np.reshape(gradients[:, 1], u.shape)\n",
    "\n",
    "fig = ff.create_quiver(u, v, gradients_u, gradients_v,\n",
    "                       scale=.1,\n",
    "                       arrow_scale=.4,\n",
    "                       name='quiver',\n",
    "                       line_width=1)\n",
    "\n",
    "fig.show()\n"
   ]
  },
  {
   "cell_type": "markdown",
   "metadata": {},
   "source": [
    "## Solving With Gradient Descent"
   ]
  },
  {
   "cell_type": "markdown",
   "metadata": {},
   "source": [
    "Below we have implemented our gradient descent algorithm. This version is very similar to the version of gradient descent with a decaying learning rate that you implemented in hw7. \n",
    "\n",
    "This version also has a call to `np.clip`, which is used to keep the algorithm from making too large of a jump. Specifically `np.clip(grad, -clip, clip)` returns `-clip` if `grad` is less than `-clip` and returns `clip` if `grad` is greater than `clip`.\n",
    "\n",
    "This technique is known as \"gradient clipping\". "
   ]
  },
  {
   "cell_type": "code",
   "execution_count": 202,
   "metadata": {},
   "outputs": [],
   "source": [
    "def gradient_descent(X, y, beta0, gradient_function, max_iter=100000,  \n",
    "                     epsilon=1e-8, lr=1, clip=1):\n",
    "    \"\"\"Run gradient descent on a dataset (x, y) \n",
    "    with gradient clipping and learning rate decay.\"\"\"\n",
    "    beta = beta0\n",
    "    for t in range(1, max_iter):\n",
    "        grad = gradient_function(beta, X, y)\n",
    "       # print(f\"grad: {grad}, beta: {beta}\")\n",
    "        \n",
    "        beta = beta - (lr/(1 + t/1000)) * np.clip(grad, -clip, clip) \n",
    "        # Detect approximate convergence: small gradient\n",
    "        if np.linalg.norm(grad) < epsilon:\n",
    "            print(f\"Completed in {t} iterations, norm of gradient is {np.linalg.norm(grad)}\")\n",
    "            return beta\n",
    "    print(f\"Completed in {t} iterations, norm of gradient is {np.linalg.norm(grad)}\")\n",
    "    return beta\n"
   ]
  },
  {
   "cell_type": "markdown",
   "metadata": {},
   "source": [
    "Given the `gradient_descent` and `risk_gradient` functions defined above, it is trivial to write a function that will fit a logistic regression model:"
   ]
  },
  {
   "cell_type": "code",
   "execution_count": 207,
   "metadata": {},
   "outputs": [],
   "source": [
    "def logistic_regression(X, y, lr=1):\n",
    "    \"\"\"Train a logistic regression classifier using gradient descent.\"\"\"\n",
    "    beta0 = np.zeros(X.shape[1])\n",
    "    beta = gradient_descent(X, y, beta0, risk_gradient, lr=lr)\n",
    "    return beta    "
   ]
  },
  {
   "cell_type": "code",
   "execution_count": 208,
   "metadata": {},
   "outputs": [
    {
     "name": "stdout",
     "output_type": "stream",
     "text": [
      "Completed in 99999 iterations, norm of gradient is 0.0008482375791765371\n",
      "optimal beta is approximately [-14.13203913   0.95705058]\n",
      "CPU times: user 17.4 s, sys: 62.5 ms, total: 17.5 s\n",
      "Wall time: 17.8 s\n"
     ]
    }
   ],
   "source": [
    "%%time\n",
    "beta_1f = logistic_regression(X_1f_train, y_train)\n",
    "print(f\"optimal beta is approximately {beta_1f}\")"
   ]
  },
  {
   "cell_type": "code",
   "execution_count": 209,
   "metadata": {},
   "outputs": [
    {
     "data": {
      "text/plain": [
       "array([ 8.46155266e-04, -5.92575489e-05])"
      ]
     },
     "execution_count": 209,
     "metadata": {},
     "output_type": "execute_result"
    }
   ],
   "source": [
    "risk_gradient(beta_1f, X_1f_train, y_train)"
   ]
  },
  {
   "cell_type": "code",
   "execution_count": 178,
   "metadata": {},
   "outputs": [
    {
     "data": {
      "image/png": "[encoded data removed]",
      "text/plain": [
       "<Figure size 450x450 with 1 Axes>"
      ]
     },
     "metadata": {},
     "output_type": "display_data"
    }
   ],
   "source": [
    "radii = np.linspace(5, 30, 50)\n",
    "plt.scatter(train['mean radius'], train['malignant']);\n",
    "plt.plot(radii, sigma(beta_1f[0] + radii * beta_1f[1]), 'orange');"
   ]
  },
  {
   "cell_type": "code",
   "execution_count": 179,
   "metadata": {},
   "outputs": [
    {
     "data": {
      "text/plain": [
       "0.29998088634608877"
      ]
     },
     "execution_count": 179,
     "metadata": {},
     "output_type": "execute_result"
    }
   ],
   "source": [
    "average_cross_entropy_loss(beta_1f, X_1f_train, y_train)"
   ]
  },
  {
   "cell_type": "markdown",
   "metadata": {},
   "source": [
    "## Let's Compare With Scikit Learn"
   ]
  },
  {
   "cell_type": "code",
   "execution_count": 180,
   "metadata": {
    "scrolled": true
   },
   "outputs": [
    {
     "data": {
      "text/plain": [
       "array([[-14.8970826 ,   1.01064211]])"
      ]
     },
     "execution_count": 180,
     "metadata": {},
     "output_type": "execute_result"
    }
   ],
   "source": [
    "from sklearn.linear_model import LogisticRegression\n",
    "model = LogisticRegression(fit_intercept=False, C=1e9, solver='lbfgs')\n",
    "model.fit(X_1f_train, y_train)\n",
    "model.coef_"
   ]
  },
  {
   "cell_type": "code",
   "execution_count": 181,
   "metadata": {},
   "outputs": [
    {
     "data": {
      "text/plain": [
       "0.2996624823521378"
      ]
     },
     "execution_count": 181,
     "metadata": {},
     "output_type": "execute_result"
    }
   ],
   "source": [
    "average_cross_entropy_loss(model.coef_[0], X_1f_train, y_train)"
   ]
  },
  {
   "cell_type": "code",
   "execution_count": 112,
   "metadata": {
    "scrolled": true
   },
   "outputs": [
    {
     "data": {
      "image/png": "[encoded data removed]",
      "text/plain": [
       "<Figure size 450x450 with 1 Axes>"
      ]
     },
     "metadata": {},
     "output_type": "display_data"
    }
   ],
   "source": [
    "plt.scatter(train['mean radius'], train['malignant']);\n",
    "plt.plot(radii, sigma(model.coef_[0,0] + radii * model.coef_[0,1]), 'black');"
   ]
  },
  {
   "cell_type": "markdown",
   "metadata": {},
   "source": [
    "As you can see, our model is quite similar! What we've learned in this course does really get us the same result as scikit learn."
   ]
  },
  {
   "cell_type": "markdown",
   "metadata": {},
   "source": [
    "## Using Feature Scaling to Accelerate Gradient Descent"
   ]
  },
  {
   "cell_type": "markdown",
   "metadata": {},
   "source": [
    "Our gradient descent algorithm took a long time to converge. On my laptop it takes 15 seconds.\n",
    "\n",
    "If we center and scale our data, gradient descent will tend to converge much more quickly. This is because if our features are of different scales, the size of the steps we need to take in each dimension can be quite different. \n",
    "\n",
    "By bringing everything into the same scale, we avoid this problem."
   ]
  },
  {
   "cell_type": "markdown",
   "metadata": {},
   "source": [
    "One approach is to center and scale our data manually. Note that we do not center and scale the bias column, otherwise it will be zeroed out."
   ]
  },
  {
   "cell_type": "code",
   "execution_count": 114,
   "metadata": {},
   "outputs": [
    {
     "data": {
      "text/plain": [
       "array([[ 1.        , -0.40016643],\n",
       "       [ 1.        , -0.09151733],\n",
       "       [ 1.        , -1.07747972],\n",
       "       [ 1.        , -0.88028724],\n",
       "       [ 1.        ,  0.38288777]])"
      ]
     },
     "execution_count": 114,
     "metadata": {},
     "output_type": "execute_result"
    }
   ],
   "source": [
    "X_1f_scaled_train = X_1f_train.copy()\n",
    "\n",
    "X_1f_scaled_train[:, 1] = (X_1f_scaled_train[:, 1] - np.mean(X_1f_scaled_train[:, 1])) / np.std(X_1f_scaled_train[:, 1])\n",
    "X_1f_scaled_train[0:5, :]"
   ]
  },
  {
   "cell_type": "markdown",
   "metadata": {},
   "source": [
    "Alternately we can use the sklearn standard scaler, which does the same thing."
   ]
  },
  {
   "cell_type": "code",
   "execution_count": 115,
   "metadata": {},
   "outputs": [],
   "source": [
    "from sklearn import preprocessing\n",
    "\n",
    "def train_scaler_that_ignores_bias(X_train):\n",
    "    \"\"\"Assumes there is a bias column in X_train[:, 0]\"\"\"\n",
    "    scaler = preprocessing.StandardScaler()\n",
    "    scaler.fit(X_train)\n",
    "\n",
    "    # force scaler to ignore the bias term\n",
    "    scaler.var_[0] = 0\n",
    "    scaler.mean_[0] = 0\n",
    "    scaler.scale_[0] = 1\n",
    "    return scaler\n",
    "\n",
    "X_1f_scaler = train_scaler_that_ignores_bias(X_1f_train)"
   ]
  },
  {
   "cell_type": "code",
   "execution_count": 182,
   "metadata": {},
   "outputs": [],
   "source": [
    "X_1f_scaled_train = X_1f_scaler.transform(X_1f_train)"
   ]
  },
  {
   "cell_type": "code",
   "execution_count": 183,
   "metadata": {},
   "outputs": [
    {
     "data": {
      "text/plain": [
       "array([[ 1.        , -0.40016643],\n",
       "       [ 1.        , -0.09151733],\n",
       "       [ 1.        , -1.07747972],\n",
       "       [ 1.        , -0.88028724],\n",
       "       [ 1.        ,  0.38288777]])"
      ]
     },
     "execution_count": 183,
     "metadata": {},
     "output_type": "execute_result"
    }
   ],
   "source": [
    "X_1f_scaled_train[0:5, :]"
   ]
  },
  {
   "cell_type": "markdown",
   "metadata": {},
   "source": [
    "If we run gradient descent on the scaled training data, we see that our code is much much faster, completing in a fraction of a secnd."
   ]
  },
  {
   "cell_type": "code",
   "execution_count": 210,
   "metadata": {},
   "outputs": [
    {
     "name": "stdout",
     "output_type": "stream",
     "text": [
      "Completed in 1331 iterations, norm of gradient is 9.950949397773562e-09\n",
      "optimal beta is approximately [-0.71754814  3.53645544]\n",
      "CPU times: user 234 ms, sys: 31.2 ms, total: 266 ms\n",
      "Wall time: 241 ms\n"
     ]
    }
   ],
   "source": [
    "%%time\n",
    "beta_1f_scaled = logistic_regression(X_1f_scaled_train, y_train)\n",
    "print(f\"optimal beta is approximately {beta_1f_scaled}\")"
   ]
  },
  {
   "cell_type": "markdown",
   "metadata": {},
   "source": [
    "Note: The beta we get back is different, because the data is different. The empirical risks, however, are quite similar, with our scaled version achieving slightly better results."
   ]
  },
  {
   "cell_type": "code",
   "execution_count": 193,
   "metadata": {},
   "outputs": [
    {
     "data": {
      "text/plain": [
       "0.29998088634608877"
      ]
     },
     "execution_count": 193,
     "metadata": {},
     "output_type": "execute_result"
    }
   ],
   "source": [
    "average_cross_entropy_loss(beta_1f, X_1f_train, y_train)"
   ]
  },
  {
   "cell_type": "code",
   "execution_count": 194,
   "metadata": {},
   "outputs": [
    {
     "data": {
      "text/plain": [
       "0.299662482267711"
      ]
     },
     "execution_count": 194,
     "metadata": {},
     "output_type": "execute_result"
    }
   ],
   "source": [
    "average_cross_entropy_loss(beta_1f_scaled, X_1f_scaled_train, y_train)"
   ]
  },
  {
   "cell_type": "markdown",
   "metadata": {},
   "source": [
    "The quiver plot below gives some insight into why the gradient descent is faster. We see that both components of the gradient are of roughly the same scale (i.e. our lines look more diagonal than straight)."
   ]
  },
  {
   "cell_type": "code",
   "execution_count": 195,
   "metadata": {},
   "outputs": [
    {
     "data": {
      "application/vnd.plotly.v1+json": {
       "config": {
        "plotlyServerURL": "https://plot.ly"
       },
       "data": [
        {
         "line": {
          "width": 1
         },
         "mode": "lines",
         "name": "quiver",
         "type": "scatter",
         "x": [
          -8,
          -8.229699757908502,
          null,
          -6.222222222222222,
          -6.373890321511931,
          null,
          -4.444444444444445,
          -4.495752446991567,
          null,
          -2.666666666666667,
          -2.6047879379161687,
          null,
          -0.8888888888888893,
          -0.7165842963310035,
          null,
          0.8888888888888893,
          1.1558959043295762,
          null,
          2.666666666666666,
          3.0081402120707956,
          null,
          4.444444444444443,
          4.837156008277038,
          null,
          6.222222222222221,
          6.651249882116451,
          null,
          8,
          8.460898493601654,
          null,
          -8,
          -8.292177438692745,
          null,
          -6.222222222222222,
          -6.444805294260585,
          null,
          -4.444444444444445,
          -4.563317119689373,
          null,
          -2.666666666666667,
          -2.6526424857547806,
          null,
          -0.8888888888888893,
          -0.7358073013907482,
          null,
          0.8888888888888893,
          1.161319727215317,
          null,
          2.666666666666666,
          3.0263445374788605,
          null,
          4.444444444444443,
          4.861275094696925,
          null,
          6.222222222222221,
          6.682855142209337,
          null,
          8,
          8.502579459125505,
          null,
          -8,
          -8.3455287635502,
          null,
          -6.222222222222222,
          -6.5223784511221945,
          null,
          -4.444444444444445,
          -4.652206199638037,
          null,
          -2.666666666666667,
          -2.7262238171037905,
          null,
          -0.8888888888888893,
          -0.7686337267765629,
          null,
          0.8888888888888893,
          1.1678740229994125,
          null,
          2.666666666666666,
          3.053674015533837,
          null,
          4.444444444444443,
          4.902418410781265,
          null,
          6.222222222222221,
          6.738567550934479,
          null,
          8,
          8.564597973253147,
          null,
          -8,
          -8.363712962661777,
          null,
          -6.222222222222222,
          -6.574767273322243,
          null,
          -4.444444444444445,
          -4.749104383199749,
          null,
          -2.666666666666667,
          -2.83709915460016,
          null,
          -0.8888888888888893,
          -0.8297022230074315,
          null,
          0.8888888888888893,
          1.1779636025807574,
          null,
          2.666666666666666,
          3.107784758554794,
          null,
          4.444444444444443,
          4.981206498038966,
          null,
          6.222222222222221,
          6.814824146209586,
          null,
          8,
          8.617894559639693,
          null,
          -8,
          -8.365740747382052,
          null,
          -6.222222222222222,
          -6.585727921500696,
          null,
          -4.444444444444445,
          -4.795026319102731,
          null,
          -2.666666666666667,
          -2.949703333615735,
          null,
          -0.8888888888888893,
          -0.9334586670012816,
          null,
          0.8888888888888893,
          1.2104909659892247,
          null,
          2.666666666666666,
          3.2114485998110105,
          null,
          4.444444444444443,
          5.059780754898,
          null,
          6.222222222222221,
          6.852727704015159,
          null,
          8,
          8.633239518298343,
          null,
          -8,
          -8.365633884495526,
          null,
          -6.222222222222222,
          -6.585122070212343,
          null,
          -4.444444444444445,
          -4.792175121095185,
          null,
          -2.666666666666667,
          -2.9438429660081944,
          null,
          -0.8888888888888893,
          -0.9428853321864079,
          null,
          0.8888888888888893,
          1.2010643008040982,
          null,
          2.666666666666666,
          3.217308967418551,
          null,
          4.444444444444443,
          5.062631952905546,
          null,
          6.222222222222221,
          6.853333555303512,
          null,
          8,
          8.63334638118487,
          null,
          -8,
          -8.350288925836875,
          null,
          -6.222222222222222,
          -6.54721851240677,
          null,
          -4.444444444444445,
          -4.713600864236151,
          null,
          -2.666666666666667,
          -2.840179124751978,
          null,
          -0.8888888888888893,
          -0.9103579687779408,
          null,
          0.8888888888888893,
          1.0973078568102483,
          null,
          2.666666666666666,
          3.104704788402976,
          null,
          4.444444444444443,
          5.0167100170025645,
          null,
          6.222222222222221,
          6.842372907125058,
          null,
          8,
          8.631318596464594,
          null,
          -8,
          -8.29699233945033,
          null,
          -6.222222222222222,
          -6.470961917131663,
          null,
          -4.444444444444445,
          -4.63481277697845,
          null,
          -2.666666666666667,
          -2.7860683817310212,
          null,
          -0.8888888888888893,
          -0.9002683891965957,
          null,
          0.8888888888888893,
          1.0362393605793798,
          null,
          2.666666666666666,
          2.9938294509066066,
          null,
          4.444444444444443,
          4.9198118334408525,
          null,
          6.222222222222221,
          6.78998408492501,
          null,
          8,
          8.613134397353017,
          null,
          -8,
          -8.234973825322687,
          null,
          -6.222222222222222,
          -6.415249508406521,
          null,
          -4.444444444444445,
          -4.59366946089411,
          null,
          -2.666666666666667,
          -2.7587389036760444,
          null,
          -0.8888888888888893,
          -0.8937140934125002,
          null,
          0.8888888888888893,
          1.0034129351935652,
          null,
          2.666666666666666,
          2.9202481195575967,
          null,
          4.444444444444443,
          4.830922753492187,
          null,
          6.222222222222221,
          6.7124109280634014,
          null,
          8,
          8.559783072495563,
          null,
          -8,
          -8.193292859798836,
          null,
          -6.222222222222222,
          -6.383644248313635,
          null,
          -4.444444444444445,
          -4.569550374474223,
          null,
          -2.666666666666667,
          -2.7405345782679795,
          null,
          -0.8888888888888893,
          -0.8882902705267592,
          null,
          0.8888888888888893,
          0.9841899301338204,
          null,
          2.666666666666666,
          2.8723935717189844,
          null,
          4.444444444444443,
          4.763358080794382,
          null,
          6.222222222222221,
          6.641495955314746,
          null,
          8,
          8.49730539171132,
          null,
          -8.213816141150222,
          -8.229699757908502,
          -8.072905640664441,
          null,
          -6.396042996181928,
          -6.373890321511931,
          -6.237720531873004,
          null,
          -4.564187497726574,
          -4.495752446991567,
          -4.388746395151923,
          null,
          -2.722472310926219,
          -2.6047879379161687,
          -2.5336211527384833,
          null,
          -0.8794563396130897,
          -0.7165842963310035,
          -0.6832429363722515,
          null,
          0.9568171366157007,
          1.1558959043295762,
          1.1542510543573057,
          null,
          2.7826012819433386,
          3.0081402120707956,
          2.9769750055503628,
          null,
          4.594811778771366,
          4.837156008277038,
          4.784277710878084,
          null,
          6.398239240287072,
          6.651249882116451,
          6.581737223053306,
          null,
          8.199732323810862,
          8.460898493601654,
          8.375582332697395,
          null,
          -8.243504565432746,
          -8.292177438692745,
          -8.121204725472984,
          null,
          -6.4318558819618294,
          -6.444805294260585,
          -6.290426970314296,
          null,
          -4.600102086971616,
          -4.563317119689373,
          -4.437169131814538,
          null,
          -2.7489827007650702,
          -2.6526424857547806,
          -2.566845006196864,
          null,
          -0.8901636932193215,
          -0.7358073013907482,
          -0.6965306200823314,
          null,
          0.9609734713637144,
          1.161319727215317,
          1.1568649843070293,
          null,
          2.7952357762430275,
          3.0263445374788605,
          2.9870639858649284,
          null,
          4.612198837562117,
          4.861275094696925,
          4.796997202904014,
          null,
          6.422137751157285,
          6.682855142209337,
          6.597289848619022,
          null,
          8.232554100714864,
          8.502579459125505,
          8.394788650257096,
          null,
          -8.267141287263701,
          -8.3455287635502,
          -8.164163576334778,
          null,
          -6.4686344571862975,
          -6.5223784511221945,
          -6.350478770353908,
          null,
          -4.645241709180416,
          -4.652206199638037,
          -4.502984939506101,
          null,
          -2.788418379765777,
          -2.7262238171037905,
          -2.619256922617163,
          null,
          -0.907926918528482,
          -0.7686337267765629,
          -0.719742845783337,
          null,
          0.9666598287929953,
          1.1678740229994125,
          1.159359999739729,
          null,
          2.8150199061985495,
          3.053674015533837,
          3.0013937649328057,
          null,
          4.643403581639545,
          4.902418410781265,
          4.817149434579973,
          null,
          6.46652452700702,
          6.738567550934479,
          6.622445858727391,
          null,
          8.28414751655706,
          8.564597973253147,
          8.420609590607905,
          null,
          -8.274820205811027,
          -8.363712962661777,
          -8.179183009834565,
          null,
          -6.491893641347313,
          -6.574767273322243,
          -6.3926137188865475,
          null,
          -4.691218386741053,
          -4.749104383199749,
          -4.577961022620489,
          null,
          -2.8446757465052714,
          -2.83709915460016,
          -2.701399241692419,
          null,
          -0.9392257646452914,
          -0.8297022230074315,
          -0.7646724999117531,
          null,
          0.9774967776685796,
          1.1779636025807574,
          1.161117327243297,
          null,
          2.8571694524391815,
          3.107784758554794,
          3.0267877319964596,
          null,
          4.707463383428603,
          4.981206498038966,
          4.851436539944797,
          null,
          6.53163651951137,
          6.814824146209586,
          6.652520848880235,
          null,
          8.332116356610069,
          8.617894559639693,
          8.439167996175573,
          null,
          -8.275706494756323,
          -8.365740747382052,
          -8.180827894859272,
          null,
          -6.4967230232706905,
          -6.585727921500696,
          -6.401465921150218,
          null,
          -4.711959140959839,
          -4.795026319102731,
          -4.6145421367674775,
          null,
          -2.8972811966797285,
          -2.949703333615735,
          -2.7893514966766393,
          null,
          -0.9842803465437928,
          -0.9334586670012816,
          -0.849131474176946,
          null,
          1.0177004428329117,
          1.2104909659892247,
          1.161515810201053,
          null,
          2.947470634137433,
          3.2114485998110105,
          3.06588451547401,
          null,
          4.77802480200715,
          5.059780754898,
          4.8789551156009825,
          null,
          6.567751063733598,
          6.852727704015159,
          6.66371926541201,
          null,
          8.347717788590641,
          8.633239518298343,
          8.442720845978064,
          null,
          -8.27550009246952,
          -8.365633884495526,
          -8.180900905985748,
          null,
          -6.495533367612476,
          -6.585122070212343,
          -6.401899325419695,
          null,
          -4.705807105886029,
          -4.792175121095185,
          -4.617135175608668,
          null,
          -2.8752529380163105,
          -2.9438429660081944,
          -2.8040645754816946,
          null,
          -0.9454827467117887,
          -0.9428853321864079,
          -0.8996958702087368,
          null,
          1.0564980426649158,
          1.2010643008040982,
          1.1109514141692622,
          null,
          2.9694988928008508,
          3.217308967418551,
          3.0511714366689544,
          null,
          4.78417683708096,
          5.062631952905546,
          4.876362076759793,
          null,
          6.568940719391813,
          6.853333555303512,
          6.663285861142533,
          null,
          8.347924190877446,
          8.63334638118487,
          8.442647834851588,
          null,
          -8.259898660488945,
          -8.350288925836875,
          -8.177348056183257,
          null,
          -6.459418823390248,
          -6.54721851240677,
          -6.39070090888792,
          null,
          -4.635245687307482,
          -4.713600864236151,
          -4.589616599952483,
          null,
          -2.7849517563180592,
          -2.840179124751978,
          -2.764967792004144,
          null,
          -0.9052790815474567,
          -0.9103579687779408,
          -0.899297387250981,
          null,
          1.0114434607664144,
          1.0973078568102483,
          1.0264924399040694,
          null,
          2.9168934426263937,
          3.104704788402976,
          2.9632191816847344,
          null,
          4.7634360828621745,
          5.0167100170025645,
          4.839780962612803,
          null,
          6.564111337468435,
          6.842372907125058,
          6.654433658878863,
          null,
          8.347037901932149,
          8.631318596464594,
          8.441002949826881,
          null,
          -8.211929820435937,
          -8.29699233945033,
          -8.158789650615589,
          null,
          -6.394306830885898,
          -6.470961917131663,
          -6.360625918735076,
          null,
          -4.571185885518423,
          -4.63481277697845,
          -4.555329494587658,
          null,
          -2.7428022100774276,
          -2.7860683817310212,
          -2.73957382494049,
          null,
          -0.8944421326718723,
          -0.9002683891965957,
          -0.8975400597474129,
          null,
          0.9801446146496049,
          1.0362393605793798,
          0.9815627857756533,
          null,
          2.8606360758868994,
          2.9938294509066066,
          2.8810768626094783,
          null,
          4.717459405301537,
          4.9198118334408525,
          4.764804879498415,
          null,
          6.540852153307419,
          6.78998408492501,
          6.612298710346223,
          null,
          8.339358983384825,
          8.613134397353017,
          8.425983516327094,
          null,
          -8.16033640459374,
          -8.234973825322687,
          -8.13296871026478,
          null,
          -6.349920055036162,
          -6.415249508406521,
          -6.335469908626707,
          null,
          -4.539981141440995,
          -4.59366946089411,
          -4.5351772629116995,
          null,
          -2.7230180801219053,
          -2.7587389036760444,
          -2.725244045872613,
          null,
          -0.8887557752425913,
          -0.8937140934125002,
          -0.8950450443147131,
          null,
          0.9623813893404447,
          1.0034129351935652,
          0.9583505600746477,
          null,
          2.8212003968861925,
          2.9202481195575967,
          2.8286649461891793,
          null,
          4.672319783092737,
          4.830922753492187,
          4.698989071806852,
          null,
          6.504073578082951,
          6.7124109280634014,
          6.552246910306611,
          null,
          8.31572226155387,
          8.559783072495563,
          8.383024665465301,
          null,
          -8.127514627689738,
          -8.193292859798836,
          -8.113762392705077,
          null,
          -6.32602154416595,
          -6.383644248313635,
          -6.319917283060991,
          null,
          -4.522594082650244,
          -4.569550374474223,
          -4.522457770885769,
          null,
          -2.7103835858222167,
          -2.7405345782679795,
          -2.715155065558047,
          null,
          -0.8845994404945776,
          -0.8882902705267592,
          -0.8924311143649893,
          null,
          0.9516740357342127,
          0.9841899301338204,
          0.9450628763645679,
          null,
          2.794690007047341,
          2.8723935717189844,
          2.7954410927307984,
          null,
          4.636405193847695,
          4.763358080794382,
          4.650566335144238,
          null,
          6.4682606923030495,
          6.641495955314746,
          6.499540471865318,
          null,
          8.286033837271345,
          8.49730539171132,
          8.334725580656757,
          null
         ],
         "y": [
          -8,
          -8.514993426686885,
          null,
          -8,
          -8.578629897238871,
          null,
          -8,
          -8.641194334596536,
          null,
          -8,
          -8.690204809106497,
          null,
          -8,
          -8.71711201470817,
          null,
          -8,
          -8.721572696792927,
          null,
          -8,
          -8.710388435447875,
          null,
          -8,
          -8.692451657468279,
          null,
          -8,
          -8.670640261791204,
          null,
          -8,
          -8.642688787188954,
          null,
          -6.222222222222222,
          -6.669198234989215,
          null,
          -6.222222222222222,
          -6.7391103149538925,
          null,
          -6.222222222222222,
          -6.817702336247024,
          null,
          -6.222222222222222,
          -6.887890963239824,
          null,
          -6.222222222222222,
          -6.929903761291014,
          null,
          -6.222222222222222,
          -6.938157806595058,
          null,
          -6.222222222222222,
          -6.923307426432123,
          null,
          -6.222222222222222,
          -6.897615064384204,
          null,
          -6.222222222222222,
          -6.862360313792749,
          null,
          -6.222222222222222,
          -6.815149834484793,
          null,
          -4.444444444444445,
          -4.820802799860335,
          null,
          -4.444444444444445,
          -4.876274590775488,
          null,
          -4.444444444444445,
          -4.9643581558528815,
          null,
          -4.444444444444445,
          -5.062688210380841,
          null,
          -4.444444444444445,
          -5.132211219360526,
          null,
          -4.444444444444445,
          -5.148716454102243,
          null,
          -4.444444444444445,
          -5.125595329747683,
          null,
          -4.444444444444445,
          -5.0794430561160855,
          null,
          -4.444444444444445,
          -5.014298789148583,
          null,
          -4.444444444444445,
          -4.9431799601509985,
          null,
          -2.666666666666667,
          -3.016197234685711,
          null,
          -2.666666666666667,
          -3.0295105093399632,
          null,
          -2.666666666666667,
          -3.0805946411248915,
          null,
          -2.666666666666667,
          -3.1903072606814247,
          null,
          -2.666666666666667,
          -3.3046161710301063,
          null,
          -2.666666666666667,
          -3.337754880175321,
          null,
          -2.666666666666667,
          -3.2865800068137436,
          null,
          -2.666666666666667,
          -3.192853352325937,
          null,
          -2.666666666666667,
          -3.1084693343159833,
          null,
          -2.666666666666667,
          -3.057914235174535,
          null,
          -0.8888888888888893,
          -1.2356469737142768,
          null,
          -0.8888888888888893,
          -1.237030306797166,
          null,
          -0.8888888888888893,
          -1.2449242207743016,
          null,
          -0.8888888888888893,
          -1.2833455536105327,
          null,
          -0.8888888888888893,
          -1.3828249735179718,
          null,
          -0.8888888888888893,
          -1.4144988937914422,
          null,
          -0.8888888888888893,
          -1.3216626730042322,
          null,
          -0.8888888888888893,
          -1.257764507633249,
          null,
          -0.8888888888888893,
          -1.2396292018177388,
          null,
          -0.8888888888888893,
          -1.2361018354117548,
          null,
          0.8888888888888893,
          0.543151991772518,
          null,
          0.8888888888888893,
          0.5466793581785022,
          null,
          0.8888888888888893,
          0.5648146639940125,
          null,
          0.8888888888888893,
          0.6287128293649953,
          null,
          0.8888888888888893,
          0.7215490501522055,
          null,
          0.8888888888888893,
          0.6898751298787351,
          null,
          0.8888888888888893,
          0.5903957099712958,
          null,
          0.8888888888888893,
          0.5519743771350649,
          null,
          0.8888888888888893,
          0.5440804631579295,
          null,
          0.8888888888888893,
          0.5426971300750403,
          null,
          2.666666666666666,
          2.364964391535298,
          null,
          2.666666666666666,
          2.4155194906767457,
          null,
          2.666666666666666,
          2.499903508686699,
          null,
          2.666666666666666,
          2.5936301631745056,
          null,
          2.666666666666666,
          2.6448050365360833,
          null,
          2.666666666666666,
          2.6116663273908687,
          null,
          2.666666666666666,
          2.4973574170421866,
          null,
          2.666666666666666,
          2.387644797485654,
          null,
          2.666666666666666,
          2.3365606657007256,
          null,
          2.666666666666666,
          2.3232473910464733,
          null,
          4.444444444444443,
          4.2502301165117595,
          null,
          4.444444444444443,
          4.321348945509345,
          null,
          4.444444444444443,
          4.3864932124768465,
          null,
          4.444444444444443,
          4.432645486108444,
          null,
          4.444444444444443,
          4.455766610463005,
          null,
          4.444444444444443,
          4.439261375721287,
          null,
          4.444444444444443,
          4.369738366741602,
          null,
          4.444444444444443,
          4.2714083122136435,
          null,
          4.444444444444443,
          4.183324747136249,
          null,
          4.444444444444443,
          4.127852956221096,
          null,
          6.222222222222221,
          6.122199990845555,
          null,
          6.222222222222221,
          6.169410470153511,
          null,
          6.222222222222221,
          6.204665220744966,
          null,
          6.222222222222221,
          6.230357582792885,
          null,
          6.222222222222221,
          6.245207962955821,
          null,
          6.222222222222221,
          6.236953917651776,
          null,
          6.222222222222221,
          6.194941119600586,
          null,
          6.222222222222221,
          6.1247524926077865,
          null,
          6.222222222222221,
          6.046160471314654,
          null,
          6.222222222222221,
          5.976248391349977,
          null,
          8,
          7.949738943549717,
          null,
          8,
          7.977690418151967,
          null,
          8,
          7.999501813829042,
          null,
          8,
          8.017438591808638,
          null,
          8,
          8.02862285315369,
          null,
          8,
          8.024162171068934,
          null,
          8,
          7.99725496546726,
          null,
          8,
          7.948244490957298,
          null,
          8,
          7.885680053599634,
          null,
          8,
          7.822043583047649,
          null,
          -8.289994439913825,
          -8.514993426686885,
          -8.352843995211215,
          null,
          -8.340386781375482,
          -8.578629897238871,
          -8.38188561742108,
          null,
          -8.39316475255853,
          -8.641194334596536,
          -8.407203448866467,
          null,
          -8.43923817139759,
          -8.690204809106497,
          -8.422307154056746,
          null,
          -8.471138723885826,
          -8.71711201470817,
          -8.42399341073197,
          null,
          -8.48687879245416,
          -8.721572696792927,
          -8.413821370302173,
          null,
          -8.490086059551487,
          -8.710388435447875,
          -8.396653394798651,
          null,
          -8.485901078497783,
          -8.692451657468279,
          -8.378448866219646,
          null,
          -8.477256420399435,
          -8.670640261791204,
          -8.359867539017275,
          null,
          -8.46417145041172,
          -8.642688787188954,
          -8.338062195339543,
          null,
          -6.461217982859747,
          -6.669198234989215,
          -6.541162438426323,
          null,
          -6.5143727866689,
          -6.7391103149538925,
          -6.575275102029242,
          null,
          -6.57761228888757,
          -6.817702336247024,
          -6.610137768427391,
          null,
          -6.639599982657193,
          -6.887890963239824,
          -6.635762740764786,
          null,
          -6.684845307837925,
          -6.929903761291014,
          -6.642959718640617,
          null,
          -6.706324786106072,
          -6.938157806595058,
          -6.631783318609482,
          null,
          -6.708992420027336,
          -6.923307426432123,
          -6.610578758486329,
          null,
          -6.700776187916464,
          -6.897615064384204,
          -6.5867246049229555,
          null,
          -6.684765392345436,
          -6.862360313792749,
          -6.558728802493824,
          null,
          -6.6610388731805115,
          -6.815149834484793,
          -6.523525034266398,
          null,
          -4.632067213225129,
          -4.820802799860335,
          -4.7266094510111945,
          null,
          -4.672895759428031,
          -4.876274590775488,
          -4.7550233405708,
          null,
          -4.74051104251495,
          -4.9643581558528815,
          -4.797358006746075,
          null,
          -4.822156670450483,
          -5.062688210380841,
          -4.838452466553342,
          null,
          -4.890147349188904,
          -5.132211219360526,
          -4.857243598963857,
          null,
          -4.9221641841233295,
          -5.148716454102243,
          -4.84582935567996,
          null,
          -4.922512069094241,
          -5.125595329747683,
          -4.816620621952132,
          null,
          -4.903416180919608,
          -5.0794430561160855,
          -4.778107123634853,
          null,
          -4.8707438214247585,
          -5.014298789148583,
          -4.729463418759393,
          null,
          -4.832958278511047,
          -4.9431799601509985,
          -4.678475174724308,
          null,
          -2.835057852635476,
          -3.016197234685711,
          -2.9345755803306637,
          null,
          -2.84489483319449,
          -3.0295105093399632,
          -2.941356840319277,
          null,
          -2.8833286815033192,
          -3.0805946411248915,
          -2.9666885502382625,
          null,
          -2.970166242245432,
          -3.1903072606814247,
          -3.0167993174057233,
          null,
          -3.0729228071354635,
          -3.3046161710301063,
          -3.0567283815772677,
          null,
          -3.1250559733266168,
          -3.337754880175321,
          -3.0459604733196413,
          null,
          -3.113917319513012,
          -3.2865800068137436,
          -2.993220301104113,
          null,
          -3.0685052278588842,
          -3.192853352325937,
          -2.921638480257141,
          null,
          -3.0234785696534368,
          -3.1084693343159833,
          -2.861333133671656,
          null,
          -2.9953862083028735,
          -3.057914235174535,
          -2.8263202996243786,
          null,
          -1.05527228717511,
          -1.2356469737142768,
          -1.1553448494468272,
          null,
          -1.0564414296910574,
          -1.237030306797166,
          -1.155902446784594,
          null,
          -1.0631362859223845,
          -1.2449242207743016,
          -1.1590611363367915,
          null,
          -1.096356650228497,
          -1.2833455536105327,
          -1.1738000433455689,
          null,
          -1.1910682312124412,
          -1.3828249735179718,
          -1.2032632407308361,
          null,
          -1.2609319119856484,
          -1.4144988937914422,
          -1.1729364011826968,
          null,
          -1.233523498385225,
          -1.3216626730042322,
          -1.0844623825010142,
          null,
          -1.2032955941024102,
          -1.257764507633249,
          -1.034929663626559,
          null,
          -1.1940521983693628,
          -1.2396292018177388,
          -1.0215357381690107,
          null,
          -1.192224726259358,
          -1.2361018354117548,
          -1.0189601896130565,
          null,
          0.7231282175859388,
          0.543151991772518,
          0.623084894722034,
          null,
          0.7249556896959437,
          0.5466793581785022,
          0.6256604432779882,
          null,
          0.7341990854289911,
          0.5648146639940125,
          0.6390543687355368,
          null,
          0.7644269897118058,
          0.6287128293649953,
          0.6885870876099917,
          null,
          0.7918354033122292,
          0.7215490501522055,
          0.7770611062916742,
          null,
          0.7219717225390221,
          0.6898751298787351,
          0.8073879458398137,
          null,
          0.6272601415550777,
          0.5903957099712958,
          0.7779247484545463,
          null,
          0.5940397772489655,
          0.5519743771350649,
          0.7631858414457692,
          null,
          0.5873449210176384,
          0.5440804631579295,
          0.7600271518935717,
          null,
          0.5861757785016907,
          0.5426971300750403,
          0.759469554555805,
          null,
          2.5262896996294537,
          2.364964391535298,
          2.4304450047333557,
          null,
          2.554382060980017,
          2.4155194906767457,
          2.465457838780633,
          null,
          2.5994087191854645,
          2.499903508686699,
          2.5257631853661175,
          null,
          2.6448208108395916,
          2.5936301631745056,
          2.59734500621309,
          null,
          2.6559594646531965,
          2.6448050365360833,
          2.6500851784286175,
          null,
          2.6038262984620433,
          2.6116663273908687,
          2.6608530866862443,
          null,
          2.501069733572012,
          2.4973574170421866,
          2.6209240225146995,
          null,
          2.4142321728298994,
          2.387644797485654,
          2.570813255347239,
          null,
          2.3757983245210696,
          2.3365606657007256,
          2.5454815454282538,
          null,
          2.365961343962056,
          2.3232473910464733,
          2.5387002854396403,
          null,
          4.363861769837626,
          4.2502301165117595,
          4.282599879833283,
          null,
          4.401647312751337,
          4.321348945509345,
          4.33358812386837,
          null,
          4.434319672246187,
          4.3864932124768465,
          4.382231828743828,
          null,
          4.45341556042082,
          4.432645486108444,
          4.420745327061107,
          null,
          4.453067675449909,
          4.455766610463005,
          4.4499540607889365,
          null,
          4.421050840515483,
          4.439261375721287,
          4.461368304072832,
          null,
          4.353060161777062,
          4.369738366741602,
          4.442577171662317,
          null,
          4.27141453384153,
          4.2714083122136435,
          4.401482711855051,
          null,
          4.20379925075461,
          4.183324747136249,
          4.359148045679775,
          null,
          4.162970704551708,
          4.127852956221096,
          4.33073415612017,
          null,
          6.191942364507091,
          6.122199990845555,
          6.127649739375374,
          null,
          6.2156688836720155,
          6.169410470153511,
          6.1628535076028,
          null,
          6.231679679243044,
          6.204665220744966,
          6.190849310031932,
          null,
          6.239895911353916,
          6.230357582792885,
          6.214703463595306,
          null,
          6.237228277432653,
          6.245207962955821,
          6.235908023718459,
          null,
          6.215748799164504,
          6.236953917651776,
          6.247084423749593,
          null,
          6.170503473983773,
          6.194941119600586,
          6.239887445873762,
          null,
          6.108515780214151,
          6.1247524926077865,
          6.214262473536368,
          null,
          6.045276277995479,
          6.046160471314654,
          6.1793998071382195,
          null,
          5.992121474186327,
          5.976248391349977,
          6.145287143535299,
          null,
          7.995074941738301,
          7.949738943549717,
          7.942186900448521,
          null,
          8.008159911726015,
          7.977690418151967,
          7.963992244126252,
          null,
          8.016804569824362,
          7.999501813829042,
          7.982573571328622,
          null,
          8.020989550878067,
          8.017438591808638,
          8.00077809990763,
          null,
          8.01778228378074,
          8.02862285315369,
          8.017946075411151,
          null,
          8.002042215212406,
          8.024162171068934,
          8.028118115840947,
          null,
          7.9701416627241715,
          7.99725496546726,
          8.026431859165724,
          null,
          7.9240682438851096,
          7.948244490957298,
          8.011328153975443,
          null,
          7.871290272702062,
          7.885680053599634,
          7.986010322530057,
          null,
          7.820897931240405,
          7.822043583047649,
          7.956968700320193,
          null
         ]
        }
       ],
       "layout": {
        "hovermode": "closest",
        "template": {
         "data": {
          "bar": [
           {
            "error_x": {
             "color": "#2a3f5f"
            },
            "error_y": {
             "color": "#2a3f5f"
            },
            "marker": {
             "line": {
              "color": "#E5ECF6",
              "width": 0.5
             }
            },
            "type": "bar"
           }
          ],
          "barpolar": [
           {
            "marker": {
             "line": {
              "color": "#E5ECF6",
              "width": 0.5
             }
            },
            "type": "barpolar"
           }
          ],
          "carpet": [
           {
            "aaxis": {
             "endlinecolor": "#2a3f5f",
             "gridcolor": "white",
             "linecolor": "white",
             "minorgridcolor": "white",
             "startlinecolor": "#2a3f5f"
            },
            "baxis": {
             "endlinecolor": "#2a3f5f",
             "gridcolor": "white",
             "linecolor": "white",
             "minorgridcolor": "white",
             "startlinecolor": "#2a3f5f"
            },
            "type": "carpet"
           }
          ],
          "choropleth": [
           {
            "colorbar": {
             "outlinewidth": 0,
             "ticks": ""
            },
            "type": "choropleth"
           }
          ],
          "contour": [
           {
            "colorbar": {
             "outlinewidth": 0,
             "ticks": ""
            },
            "colorscale": [
             [
              0,
              "#0d0887"
             ],
             [
              0.1111111111111111,
              "#46039f"
             ],
             [
              0.2222222222222222,
              "#7201a8"
             ],
             [
              0.3333333333333333,
              "#9c179e"
             ],
             [
              0.4444444444444444,
              "#bd3786"
             ],
             [
              0.5555555555555556,
              "#d8576b"
             ],
             [
              0.6666666666666666,
              "#ed7953"
             ],
             [
              0.7777777777777778,
              "#fb9f3a"
             ],
             [
              0.8888888888888888,
              "#fdca26"
             ],
             [
              1,
              "#f0f921"
             ]
            ],
            "type": "contour"
           }
          ],
          "contourcarpet": [
           {
            "colorbar": {
             "outlinewidth": 0,
             "ticks": ""
            },
            "type": "contourcarpet"
           }
          ],
          "heatmap": [
           {
            "colorbar": {
             "outlinewidth": 0,
             "ticks": ""
            },
            "colorscale": [
             [
              0,
              "#0d0887"
             ],
             [
              0.1111111111111111,
              "#46039f"
             ],
             [
              0.2222222222222222,
              "#7201a8"
             ],
             [
              0.3333333333333333,
              "#9c179e"
             ],
             [
              0.4444444444444444,
              "#bd3786"
             ],
             [
              0.5555555555555556,
              "#d8576b"
             ],
             [
              0.6666666666666666,
              "#ed7953"
             ],
             [
              0.7777777777777778,
              "#fb9f3a"
             ],
             [
              0.8888888888888888,
              "#fdca26"
             ],
             [
              1,
              "#f0f921"
             ]
            ],
            "type": "heatmap"
           }
          ],
          "heatmapgl": [
           {
            "colorbar": {
             "outlinewidth": 0,
             "ticks": ""
            },
            "colorscale": [
             [
              0,
              "#0d0887"
             ],
             [
              0.1111111111111111,
              "#46039f"
             ],
             [
              0.2222222222222222,
              "#7201a8"
             ],
             [
              0.3333333333333333,
              "#9c179e"
             ],
             [
              0.4444444444444444,
              "#bd3786"
             ],
             [
              0.5555555555555556,
              "#d8576b"
             ],
             [
              0.6666666666666666,
              "#ed7953"
             ],
             [
              0.7777777777777778,
              "#fb9f3a"
             ],
             [
              0.8888888888888888,
              "#fdca26"
             ],
             [
              1,
              "#f0f921"
             ]
            ],
            "type": "heatmapgl"
           }
          ],
          "histogram": [
           {
            "marker": {
             "colorbar": {
              "outlinewidth": 0,
              "ticks": ""
             }
            },
            "type": "histogram"
           }
          ],
          "histogram2d": [
           {
            "colorbar": {
             "outlinewidth": 0,
             "ticks": ""
            },
            "colorscale": [
             [
              0,
              "#0d0887"
             ],
             [
              0.1111111111111111,
              "#46039f"
             ],
             [
              0.2222222222222222,
              "#7201a8"
             ],
             [
              0.3333333333333333,
              "#9c179e"
             ],
             [
              0.4444444444444444,
              "#bd3786"
             ],
             [
              0.5555555555555556,
              "#d8576b"
             ],
             [
              0.6666666666666666,
              "#ed7953"
             ],
             [
              0.7777777777777778,
              "#fb9f3a"
             ],
             [
              0.8888888888888888,
              "#fdca26"
             ],
             [
              1,
              "#f0f921"
             ]
            ],
            "type": "histogram2d"
           }
          ],
          "histogram2dcontour": [
           {
            "colorbar": {
             "outlinewidth": 0,
             "ticks": ""
            },
            "colorscale": [
             [
              0,
              "#0d0887"
             ],
             [
              0.1111111111111111,
              "#46039f"
             ],
             [
              0.2222222222222222,
              "#7201a8"
             ],
             [
              0.3333333333333333,
              "#9c179e"
             ],
             [
              0.4444444444444444,
              "#bd3786"
             ],
             [
              0.5555555555555556,
              "#d8576b"
             ],
             [
              0.6666666666666666,
              "#ed7953"
             ],
             [
              0.7777777777777778,
              "#fb9f3a"
             ],
             [
              0.8888888888888888,
              "#fdca26"
             ],
             [
              1,
              "#f0f921"
             ]
            ],
            "type": "histogram2dcontour"
           }
          ],
          "mesh3d": [
           {
            "colorbar": {
             "outlinewidth": 0,
             "ticks": ""
            },
            "type": "mesh3d"
           }
          ],
          "parcoords": [
           {
            "line": {
             "colorbar": {
              "outlinewidth": 0,
              "ticks": ""
             }
            },
            "type": "parcoords"
           }
          ],
          "scatter": [
           {
            "marker": {
             "colorbar": {
              "outlinewidth": 0,
              "ticks": ""
             }
            },
            "type": "scatter"
           }
          ],
          "scatter3d": [
           {
            "line": {
             "colorbar": {
              "outlinewidth": 0,
              "ticks": ""
             }
            },
            "marker": {
             "colorbar": {
              "outlinewidth": 0,
              "ticks": ""
             }
            },
            "type": "scatter3d"
           }
          ],
          "scattercarpet": [
           {
            "marker": {
             "colorbar": {
              "outlinewidth": 0,
              "ticks": ""
             }
            },
            "type": "scattercarpet"
           }
          ],
          "scattergeo": [
           {
            "marker": {
             "colorbar": {
              "outlinewidth": 0,
              "ticks": ""
             }
            },
            "type": "scattergeo"
           }
          ],
          "scattergl": [
           {
            "marker": {
             "colorbar": {
              "outlinewidth": 0,
              "ticks": ""
             }
            },
            "type": "scattergl"
           }
          ],
          "scattermapbox": [
           {
            "marker": {
             "colorbar": {
              "outlinewidth": 0,
              "ticks": ""
             }
            },
            "type": "scattermapbox"
           }
          ],
          "scatterpolar": [
           {
            "marker": {
             "colorbar": {
              "outlinewidth": 0,
              "ticks": ""
             }
            },
            "type": "scatterpolar"
           }
          ],
          "scatterpolargl": [
           {
            "marker": {
             "colorbar": {
              "outlinewidth": 0,
              "ticks": ""
             }
            },
            "type": "scatterpolargl"
           }
          ],
          "scatterternary": [
           {
            "marker": {
             "colorbar": {
              "outlinewidth": 0,
              "ticks": ""
             }
            },
            "type": "scatterternary"
           }
          ],
          "surface": [
           {
            "colorbar": {
             "outlinewidth": 0,
             "ticks": ""
            },
            "colorscale": [
             [
              0,
              "#0d0887"
             ],
             [
              0.1111111111111111,
              "#46039f"
             ],
             [
              0.2222222222222222,
              "#7201a8"
             ],
             [
              0.3333333333333333,
              "#9c179e"
             ],
             [
              0.4444444444444444,
              "#bd3786"
             ],
             [
              0.5555555555555556,
              "#d8576b"
             ],
             [
              0.6666666666666666,
              "#ed7953"
             ],
             [
              0.7777777777777778,
              "#fb9f3a"
             ],
             [
              0.8888888888888888,
              "#fdca26"
             ],
             [
              1,
              "#f0f921"
             ]
            ],
            "type": "surface"
           }
          ],
          "table": [
           {
            "cells": {
             "fill": {
              "color": "#EBF0F8"
             },
             "line": {
              "color": "white"
             }
            },
            "header": {
             "fill": {
              "color": "#C8D4E3"
             },
             "line": {
              "color": "white"
             }
            },
            "type": "table"
           }
          ]
         },
         "layout": {
          "annotationdefaults": {
           "arrowcolor": "#2a3f5f",
           "arrowhead": 0,
           "arrowwidth": 1
          },
          "colorscale": {
           "diverging": [
            [
             0,
             "#8e0152"
            ],
            [
             0.1,
             "#c51b7d"
            ],
            [
             0.2,
             "#de77ae"
            ],
            [
             0.3,
             "#f1b6da"
            ],
            [
             0.4,
             "#fde0ef"
            ],
            [
             0.5,
             "#f7f7f7"
            ],
            [
             0.6,
             "#e6f5d0"
            ],
            [
             0.7,
             "#b8e186"
            ],
            [
             0.8,
             "#7fbc41"
            ],
            [
             0.9,
             "#4d9221"
            ],
            [
             1,
             "#276419"
            ]
           ],
           "sequential": [
            [
             0,
             "#0d0887"
            ],
            [
             0.1111111111111111,
             "#46039f"
            ],
            [
             0.2222222222222222,
             "#7201a8"
            ],
            [
             0.3333333333333333,
             "#9c179e"
            ],
            [
             0.4444444444444444,
             "#bd3786"
            ],
            [
             0.5555555555555556,
             "#d8576b"
            ],
            [
             0.6666666666666666,
             "#ed7953"
            ],
            [
             0.7777777777777778,
             "#fb9f3a"
            ],
            [
             0.8888888888888888,
             "#fdca26"
            ],
            [
             1,
             "#f0f921"
            ]
           ],
           "sequentialminus": [
            [
             0,
             "#0d0887"
            ],
            [
             0.1111111111111111,
             "#46039f"
            ],
            [
             0.2222222222222222,
             "#7201a8"
            ],
            [
             0.3333333333333333,
             "#9c179e"
            ],
            [
             0.4444444444444444,
             "#bd3786"
            ],
            [
             0.5555555555555556,
             "#d8576b"
            ],
            [
             0.6666666666666666,
             "#ed7953"
            ],
            [
             0.7777777777777778,
             "#fb9f3a"
            ],
            [
             0.8888888888888888,
             "#fdca26"
            ],
            [
             1,
             "#f0f921"
            ]
           ]
          },
          "colorway": [
           "#636efa",
           "#EF553B",
           "#00cc96",
           "#ab63fa",
           "#FFA15A",
           "#19d3f3",
           "#FF6692",
           "#B6E880",
           "#FF97FF",
           "#FECB52"
          ],
          "font": {
           "color": "#2a3f5f"
          },
          "geo": {
           "bgcolor": "white",
           "lakecolor": "white",
           "landcolor": "#E5ECF6",
           "showlakes": true,
           "showland": true,
           "subunitcolor": "white"
          },
          "hoverlabel": {
           "align": "left"
          },
          "hovermode": "closest",
          "mapbox": {
           "style": "light"
          },
          "paper_bgcolor": "white",
          "plot_bgcolor": "#E5ECF6",
          "polar": {
           "angularaxis": {
            "gridcolor": "white",
            "linecolor": "white",
            "ticks": ""
           },
           "bgcolor": "#E5ECF6",
           "radialaxis": {
            "gridcolor": "white",
            "linecolor": "white",
            "ticks": ""
           }
          },
          "scene": {
           "xaxis": {
            "backgroundcolor": "#E5ECF6",
            "gridcolor": "white",
            "gridwidth": 2,
            "linecolor": "white",
            "showbackground": true,
            "ticks": "",
            "zerolinecolor": "white"
           },
           "yaxis": {
            "backgroundcolor": "#E5ECF6",
            "gridcolor": "white",
            "gridwidth": 2,
            "linecolor": "white",
            "showbackground": true,
            "ticks": "",
            "zerolinecolor": "white"
           },
           "zaxis": {
            "backgroundcolor": "#E5ECF6",
            "gridcolor": "white",
            "gridwidth": 2,
            "linecolor": "white",
            "showbackground": true,
            "ticks": "",
            "zerolinecolor": "white"
           }
          },
          "shapedefaults": {
           "line": {
            "color": "#2a3f5f"
           }
          },
          "ternary": {
           "aaxis": {
            "gridcolor": "white",
            "linecolor": "white",
            "ticks": ""
           },
           "baxis": {
            "gridcolor": "white",
            "linecolor": "white",
            "ticks": ""
           },
           "bgcolor": "#E5ECF6",
           "caxis": {
            "gridcolor": "white",
            "linecolor": "white",
            "ticks": ""
           }
          },
          "title": {
           "x": 0.05
          },
          "xaxis": {
           "automargin": true,
           "gridcolor": "white",
           "linecolor": "white",
           "ticks": "",
           "zerolinecolor": "white",
           "zerolinewidth": 2
          },
          "yaxis": {
           "automargin": true,
           "gridcolor": "white",
           "linecolor": "white",
           "ticks": "",
           "zerolinecolor": "white",
           "zerolinewidth": 2
          }
         }
        }
       }
      },
      "text/html": [
       "<div>\n",
       "        \n",
       "        \n",
       "            <div id=\"7f9f4780-9dc6-4bc2-8803-15c236f177d1\" class=\"plotly-graph-div\" style=\"height:525px; width:100%;\"></div>\n",
       "            <script type=\"text/javascript\">\n",
       "                require([\"plotly\"], function(Plotly) {\n",
       "                    window.PLOTLYENV=window.PLOTLYENV || {};\n",
       "                    \n",
       "                if (document.getElementById(\"7f9f4780-9dc6-4bc2-8803-15c236f177d1\")) {\n",
       "                    Plotly.newPlot(\n",
       "                        '7f9f4780-9dc6-4bc2-8803-15c236f177d1',\n",
       "                        [{\"line\": {\"width\": 1}, \"mode\": \"lines\", \"name\": \"quiver\", \"type\": \"scatter\", \"x\": [-8.0, -8.229699757908502, null, -6.222222222222222, -6.373890321511931, null, -4.444444444444445, -4.495752446991567, null, -2.666666666666667, -2.6047879379161687, null, -0.8888888888888893, -0.7165842963310035, null, 0.8888888888888893, 1.1558959043295762, null, 2.666666666666666, 3.0081402120707956, null, 4.444444444444443, 4.837156008277038, null, 6.222222222222221, 6.651249882116451, null, 8.0, 8.460898493601654, null, -8.0, -8.292177438692745, null, -6.222222222222222, -6.444805294260585, null, -4.444444444444445, -4.563317119689373, null, -2.666666666666667, -2.6526424857547806, null, -0.8888888888888893, -0.7358073013907482, null, 0.8888888888888893, 1.161319727215317, null, 2.666666666666666, 3.0263445374788605, null, 4.444444444444443, 4.861275094696925, null, 6.222222222222221, 6.682855142209337, null, 8.0, 8.502579459125505, null, -8.0, -8.3455287635502, null, -6.222222222222222, -6.5223784511221945, null, -4.444444444444445, -4.652206199638037, null, -2.666666666666667, -2.7262238171037905, null, -0.8888888888888893, -0.7686337267765629, null, 0.8888888888888893, 1.1678740229994125, null, 2.666666666666666, 3.053674015533837, null, 4.444444444444443, 4.902418410781265, null, 6.222222222222221, 6.738567550934479, null, 8.0, 8.564597973253147, null, -8.0, -8.363712962661777, null, -6.222222222222222, -6.574767273322243, null, -4.444444444444445, -4.749104383199749, null, -2.666666666666667, -2.83709915460016, null, -0.8888888888888893, -0.8297022230074315, null, 0.8888888888888893, 1.1779636025807574, null, 2.666666666666666, 3.107784758554794, null, 4.444444444444443, 4.981206498038966, null, 6.222222222222221, 6.814824146209586, null, 8.0, 8.617894559639693, null, -8.0, -8.365740747382052, null, -6.222222222222222, -6.585727921500696, null, -4.444444444444445, -4.795026319102731, null, -2.666666666666667, -2.949703333615735, null, -0.8888888888888893, -0.9334586670012816, null, 0.8888888888888893, 1.2104909659892247, null, 2.666666666666666, 3.2114485998110105, null, 4.444444444444443, 5.059780754898, null, 6.222222222222221, 6.852727704015159, null, 8.0, 8.633239518298343, null, -8.0, -8.365633884495526, null, -6.222222222222222, -6.585122070212343, null, -4.444444444444445, -4.792175121095185, null, -2.666666666666667, -2.9438429660081944, null, -0.8888888888888893, -0.9428853321864079, null, 0.8888888888888893, 1.2010643008040982, null, 2.666666666666666, 3.217308967418551, null, 4.444444444444443, 5.062631952905546, null, 6.222222222222221, 6.853333555303512, null, 8.0, 8.63334638118487, null, -8.0, -8.350288925836875, null, -6.222222222222222, -6.54721851240677, null, -4.444444444444445, -4.713600864236151, null, -2.666666666666667, -2.840179124751978, null, -0.8888888888888893, -0.9103579687779408, null, 0.8888888888888893, 1.0973078568102483, null, 2.666666666666666, 3.104704788402976, null, 4.444444444444443, 5.0167100170025645, null, 6.222222222222221, 6.842372907125058, null, 8.0, 8.631318596464594, null, -8.0, -8.29699233945033, null, -6.222222222222222, -6.470961917131663, null, -4.444444444444445, -4.63481277697845, null, -2.666666666666667, -2.7860683817310212, null, -0.8888888888888893, -0.9002683891965957, null, 0.8888888888888893, 1.0362393605793798, null, 2.666666666666666, 2.9938294509066066, null, 4.444444444444443, 4.9198118334408525, null, 6.222222222222221, 6.78998408492501, null, 8.0, 8.613134397353017, null, -8.0, -8.234973825322687, null, -6.222222222222222, -6.415249508406521, null, -4.444444444444445, -4.59366946089411, null, -2.666666666666667, -2.7587389036760444, null, -0.8888888888888893, -0.8937140934125002, null, 0.8888888888888893, 1.0034129351935652, null, 2.666666666666666, 2.9202481195575967, null, 4.444444444444443, 4.830922753492187, null, 6.222222222222221, 6.7124109280634014, null, 8.0, 8.559783072495563, null, -8.0, -8.193292859798836, null, -6.222222222222222, -6.383644248313635, null, -4.444444444444445, -4.569550374474223, null, -2.666666666666667, -2.7405345782679795, null, -0.8888888888888893, -0.8882902705267592, null, 0.8888888888888893, 0.9841899301338204, null, 2.666666666666666, 2.8723935717189844, null, 4.444444444444443, 4.763358080794382, null, 6.222222222222221, 6.641495955314746, null, 8.0, 8.49730539171132, null, -8.213816141150222, -8.229699757908502, -8.072905640664441, null, -6.396042996181928, -6.373890321511931, -6.237720531873004, null, -4.564187497726574, -4.495752446991567, -4.388746395151923, null, -2.722472310926219, -2.6047879379161687, -2.5336211527384833, null, -0.8794563396130897, -0.7165842963310035, -0.6832429363722515, null, 0.9568171366157007, 1.1558959043295762, 1.1542510543573057, null, 2.7826012819433386, 3.0081402120707956, 2.9769750055503628, null, 4.594811778771366, 4.837156008277038, 4.784277710878084, null, 6.398239240287072, 6.651249882116451, 6.581737223053306, null, 8.199732323810862, 8.460898493601654, 8.375582332697395, null, -8.243504565432746, -8.292177438692745, -8.121204725472984, null, -6.4318558819618294, -6.444805294260585, -6.290426970314296, null, -4.600102086971616, -4.563317119689373, -4.437169131814538, null, -2.7489827007650702, -2.6526424857547806, -2.566845006196864, null, -0.8901636932193215, -0.7358073013907482, -0.6965306200823314, null, 0.9609734713637144, 1.161319727215317, 1.1568649843070293, null, 2.7952357762430275, 3.0263445374788605, 2.9870639858649284, null, 4.612198837562117, 4.861275094696925, 4.796997202904014, null, 6.422137751157285, 6.682855142209337, 6.597289848619022, null, 8.232554100714864, 8.502579459125505, 8.394788650257096, null, -8.267141287263701, -8.3455287635502, -8.164163576334778, null, -6.4686344571862975, -6.5223784511221945, -6.350478770353908, null, -4.645241709180416, -4.652206199638037, -4.502984939506101, null, -2.788418379765777, -2.7262238171037905, -2.619256922617163, null, -0.907926918528482, -0.7686337267765629, -0.719742845783337, null, 0.9666598287929953, 1.1678740229994125, 1.159359999739729, null, 2.8150199061985495, 3.053674015533837, 3.0013937649328057, null, 4.643403581639545, 4.902418410781265, 4.817149434579973, null, 6.46652452700702, 6.738567550934479, 6.622445858727391, null, 8.28414751655706, 8.564597973253147, 8.420609590607905, null, -8.274820205811027, -8.363712962661777, -8.179183009834565, null, -6.491893641347313, -6.574767273322243, -6.3926137188865475, null, -4.691218386741053, -4.749104383199749, -4.577961022620489, null, -2.8446757465052714, -2.83709915460016, -2.701399241692419, null, -0.9392257646452914, -0.8297022230074315, -0.7646724999117531, null, 0.9774967776685796, 1.1779636025807574, 1.161117327243297, null, 2.8571694524391815, 3.107784758554794, 3.0267877319964596, null, 4.707463383428603, 4.981206498038966, 4.851436539944797, null, 6.53163651951137, 6.814824146209586, 6.652520848880235, null, 8.332116356610069, 8.617894559639693, 8.439167996175573, null, -8.275706494756323, -8.365740747382052, -8.180827894859272, null, -6.4967230232706905, -6.585727921500696, -6.401465921150218, null, -4.711959140959839, -4.795026319102731, -4.6145421367674775, null, -2.8972811966797285, -2.949703333615735, -2.7893514966766393, null, -0.9842803465437928, -0.9334586670012816, -0.849131474176946, null, 1.0177004428329117, 1.2104909659892247, 1.161515810201053, null, 2.947470634137433, 3.2114485998110105, 3.06588451547401, null, 4.77802480200715, 5.059780754898, 4.8789551156009825, null, 6.567751063733598, 6.852727704015159, 6.66371926541201, null, 8.347717788590641, 8.633239518298343, 8.442720845978064, null, -8.27550009246952, -8.365633884495526, -8.180900905985748, null, -6.495533367612476, -6.585122070212343, -6.401899325419695, null, -4.705807105886029, -4.792175121095185, -4.617135175608668, null, -2.8752529380163105, -2.9438429660081944, -2.8040645754816946, null, -0.9454827467117887, -0.9428853321864079, -0.8996958702087368, null, 1.0564980426649158, 1.2010643008040982, 1.1109514141692622, null, 2.9694988928008508, 3.217308967418551, 3.0511714366689544, null, 4.78417683708096, 5.062631952905546, 4.876362076759793, null, 6.568940719391813, 6.853333555303512, 6.663285861142533, null, 8.347924190877446, 8.63334638118487, 8.442647834851588, null, -8.259898660488945, -8.350288925836875, -8.177348056183257, null, -6.459418823390248, -6.54721851240677, -6.39070090888792, null, -4.635245687307482, -4.713600864236151, -4.589616599952483, null, -2.7849517563180592, -2.840179124751978, -2.764967792004144, null, -0.9052790815474567, -0.9103579687779408, -0.899297387250981, null, 1.0114434607664144, 1.0973078568102483, 1.0264924399040694, null, 2.9168934426263937, 3.104704788402976, 2.9632191816847344, null, 4.7634360828621745, 5.0167100170025645, 4.839780962612803, null, 6.564111337468435, 6.842372907125058, 6.654433658878863, null, 8.347037901932149, 8.631318596464594, 8.441002949826881, null, -8.211929820435937, -8.29699233945033, -8.158789650615589, null, -6.394306830885898, -6.470961917131663, -6.360625918735076, null, -4.571185885518423, -4.63481277697845, -4.555329494587658, null, -2.7428022100774276, -2.7860683817310212, -2.73957382494049, null, -0.8944421326718723, -0.9002683891965957, -0.8975400597474129, null, 0.9801446146496049, 1.0362393605793798, 0.9815627857756533, null, 2.8606360758868994, 2.9938294509066066, 2.8810768626094783, null, 4.717459405301537, 4.9198118334408525, 4.764804879498415, null, 6.540852153307419, 6.78998408492501, 6.612298710346223, null, 8.339358983384825, 8.613134397353017, 8.425983516327094, null, -8.16033640459374, -8.234973825322687, -8.13296871026478, null, -6.349920055036162, -6.415249508406521, -6.335469908626707, null, -4.539981141440995, -4.59366946089411, -4.5351772629116995, null, -2.7230180801219053, -2.7587389036760444, -2.725244045872613, null, -0.8887557752425913, -0.8937140934125002, -0.8950450443147131, null, 0.9623813893404447, 1.0034129351935652, 0.9583505600746477, null, 2.8212003968861925, 2.9202481195575967, 2.8286649461891793, null, 4.672319783092737, 4.830922753492187, 4.698989071806852, null, 6.504073578082951, 6.7124109280634014, 6.552246910306611, null, 8.31572226155387, 8.559783072495563, 8.383024665465301, null, -8.127514627689738, -8.193292859798836, -8.113762392705077, null, -6.32602154416595, -6.383644248313635, -6.319917283060991, null, -4.522594082650244, -4.569550374474223, -4.522457770885769, null, -2.7103835858222167, -2.7405345782679795, -2.715155065558047, null, -0.8845994404945776, -0.8882902705267592, -0.8924311143649893, null, 0.9516740357342127, 0.9841899301338204, 0.9450628763645679, null, 2.794690007047341, 2.8723935717189844, 2.7954410927307984, null, 4.636405193847695, 4.763358080794382, 4.650566335144238, null, 6.4682606923030495, 6.641495955314746, 6.499540471865318, null, 8.286033837271345, 8.49730539171132, 8.334725580656757, null], \"y\": [-8.0, -8.514993426686885, null, -8.0, -8.578629897238871, null, -8.0, -8.641194334596536, null, -8.0, -8.690204809106497, null, -8.0, -8.71711201470817, null, -8.0, -8.721572696792927, null, -8.0, -8.710388435447875, null, -8.0, -8.692451657468279, null, -8.0, -8.670640261791204, null, -8.0, -8.642688787188954, null, -6.222222222222222, -6.669198234989215, null, -6.222222222222222, -6.7391103149538925, null, -6.222222222222222, -6.817702336247024, null, -6.222222222222222, -6.887890963239824, null, -6.222222222222222, -6.929903761291014, null, -6.222222222222222, -6.938157806595058, null, -6.222222222222222, -6.923307426432123, null, -6.222222222222222, -6.897615064384204, null, -6.222222222222222, -6.862360313792749, null, -6.222222222222222, -6.815149834484793, null, -4.444444444444445, -4.820802799860335, null, -4.444444444444445, -4.876274590775488, null, -4.444444444444445, -4.9643581558528815, null, -4.444444444444445, -5.062688210380841, null, -4.444444444444445, -5.132211219360526, null, -4.444444444444445, -5.148716454102243, null, -4.444444444444445, -5.125595329747683, null, -4.444444444444445, -5.0794430561160855, null, -4.444444444444445, -5.014298789148583, null, -4.444444444444445, -4.9431799601509985, null, -2.666666666666667, -3.016197234685711, null, -2.666666666666667, -3.0295105093399632, null, -2.666666666666667, -3.0805946411248915, null, -2.666666666666667, -3.1903072606814247, null, -2.666666666666667, -3.3046161710301063, null, -2.666666666666667, -3.337754880175321, null, -2.666666666666667, -3.2865800068137436, null, -2.666666666666667, -3.192853352325937, null, -2.666666666666667, -3.1084693343159833, null, -2.666666666666667, -3.057914235174535, null, -0.8888888888888893, -1.2356469737142768, null, -0.8888888888888893, -1.237030306797166, null, -0.8888888888888893, -1.2449242207743016, null, -0.8888888888888893, -1.2833455536105327, null, -0.8888888888888893, -1.3828249735179718, null, -0.8888888888888893, -1.4144988937914422, null, -0.8888888888888893, -1.3216626730042322, null, -0.8888888888888893, -1.257764507633249, null, -0.8888888888888893, -1.2396292018177388, null, -0.8888888888888893, -1.2361018354117548, null, 0.8888888888888893, 0.543151991772518, null, 0.8888888888888893, 0.5466793581785022, null, 0.8888888888888893, 0.5648146639940125, null, 0.8888888888888893, 0.6287128293649953, null, 0.8888888888888893, 0.7215490501522055, null, 0.8888888888888893, 0.6898751298787351, null, 0.8888888888888893, 0.5903957099712958, null, 0.8888888888888893, 0.5519743771350649, null, 0.8888888888888893, 0.5440804631579295, null, 0.8888888888888893, 0.5426971300750403, null, 2.666666666666666, 2.364964391535298, null, 2.666666666666666, 2.4155194906767457, null, 2.666666666666666, 2.499903508686699, null, 2.666666666666666, 2.5936301631745056, null, 2.666666666666666, 2.6448050365360833, null, 2.666666666666666, 2.6116663273908687, null, 2.666666666666666, 2.4973574170421866, null, 2.666666666666666, 2.387644797485654, null, 2.666666666666666, 2.3365606657007256, null, 2.666666666666666, 2.3232473910464733, null, 4.444444444444443, 4.2502301165117595, null, 4.444444444444443, 4.321348945509345, null, 4.444444444444443, 4.3864932124768465, null, 4.444444444444443, 4.432645486108444, null, 4.444444444444443, 4.455766610463005, null, 4.444444444444443, 4.439261375721287, null, 4.444444444444443, 4.369738366741602, null, 4.444444444444443, 4.2714083122136435, null, 4.444444444444443, 4.183324747136249, null, 4.444444444444443, 4.127852956221096, null, 6.222222222222221, 6.122199990845555, null, 6.222222222222221, 6.169410470153511, null, 6.222222222222221, 6.204665220744966, null, 6.222222222222221, 6.230357582792885, null, 6.222222222222221, 6.245207962955821, null, 6.222222222222221, 6.236953917651776, null, 6.222222222222221, 6.194941119600586, null, 6.222222222222221, 6.1247524926077865, null, 6.222222222222221, 6.046160471314654, null, 6.222222222222221, 5.976248391349977, null, 8.0, 7.949738943549717, null, 8.0, 7.977690418151967, null, 8.0, 7.999501813829042, null, 8.0, 8.017438591808638, null, 8.0, 8.02862285315369, null, 8.0, 8.024162171068934, null, 8.0, 7.99725496546726, null, 8.0, 7.948244490957298, null, 8.0, 7.885680053599634, null, 8.0, 7.822043583047649, null, -8.289994439913825, -8.514993426686885, -8.352843995211215, null, -8.340386781375482, -8.578629897238871, -8.38188561742108, null, -8.39316475255853, -8.641194334596536, -8.407203448866467, null, -8.43923817139759, -8.690204809106497, -8.422307154056746, null, -8.471138723885826, -8.71711201470817, -8.42399341073197, null, -8.48687879245416, -8.721572696792927, -8.413821370302173, null, -8.490086059551487, -8.710388435447875, -8.396653394798651, null, -8.485901078497783, -8.692451657468279, -8.378448866219646, null, -8.477256420399435, -8.670640261791204, -8.359867539017275, null, -8.46417145041172, -8.642688787188954, -8.338062195339543, null, -6.461217982859747, -6.669198234989215, -6.541162438426323, null, -6.5143727866689, -6.7391103149538925, -6.575275102029242, null, -6.57761228888757, -6.817702336247024, -6.610137768427391, null, -6.639599982657193, -6.887890963239824, -6.635762740764786, null, -6.684845307837925, -6.929903761291014, -6.642959718640617, null, -6.706324786106072, -6.938157806595058, -6.631783318609482, null, -6.708992420027336, -6.923307426432123, -6.610578758486329, null, -6.700776187916464, -6.897615064384204, -6.5867246049229555, null, -6.684765392345436, -6.862360313792749, -6.558728802493824, null, -6.6610388731805115, -6.815149834484793, -6.523525034266398, null, -4.632067213225129, -4.820802799860335, -4.7266094510111945, null, -4.672895759428031, -4.876274590775488, -4.7550233405708, null, -4.74051104251495, -4.9643581558528815, -4.797358006746075, null, -4.822156670450483, -5.062688210380841, -4.838452466553342, null, -4.890147349188904, -5.132211219360526, -4.857243598963857, null, -4.9221641841233295, -5.148716454102243, -4.84582935567996, null, -4.922512069094241, -5.125595329747683, -4.816620621952132, null, -4.903416180919608, -5.0794430561160855, -4.778107123634853, null, -4.8707438214247585, -5.014298789148583, -4.729463418759393, null, -4.832958278511047, -4.9431799601509985, -4.678475174724308, null, -2.835057852635476, -3.016197234685711, -2.9345755803306637, null, -2.84489483319449, -3.0295105093399632, -2.941356840319277, null, -2.8833286815033192, -3.0805946411248915, -2.9666885502382625, null, -2.970166242245432, -3.1903072606814247, -3.0167993174057233, null, -3.0729228071354635, -3.3046161710301063, -3.0567283815772677, null, -3.1250559733266168, -3.337754880175321, -3.0459604733196413, null, -3.113917319513012, -3.2865800068137436, -2.993220301104113, null, -3.0685052278588842, -3.192853352325937, -2.921638480257141, null, -3.0234785696534368, -3.1084693343159833, -2.861333133671656, null, -2.9953862083028735, -3.057914235174535, -2.8263202996243786, null, -1.05527228717511, -1.2356469737142768, -1.1553448494468272, null, -1.0564414296910574, -1.237030306797166, -1.155902446784594, null, -1.0631362859223845, -1.2449242207743016, -1.1590611363367915, null, -1.096356650228497, -1.2833455536105327, -1.1738000433455689, null, -1.1910682312124412, -1.3828249735179718, -1.2032632407308361, null, -1.2609319119856484, -1.4144988937914422, -1.1729364011826968, null, -1.233523498385225, -1.3216626730042322, -1.0844623825010142, null, -1.2032955941024102, -1.257764507633249, -1.034929663626559, null, -1.1940521983693628, -1.2396292018177388, -1.0215357381690107, null, -1.192224726259358, -1.2361018354117548, -1.0189601896130565, null, 0.7231282175859388, 0.543151991772518, 0.623084894722034, null, 0.7249556896959437, 0.5466793581785022, 0.6256604432779882, null, 0.7341990854289911, 0.5648146639940125, 0.6390543687355368, null, 0.7644269897118058, 0.6287128293649953, 0.6885870876099917, null, 0.7918354033122292, 0.7215490501522055, 0.7770611062916742, null, 0.7219717225390221, 0.6898751298787351, 0.8073879458398137, null, 0.6272601415550777, 0.5903957099712958, 0.7779247484545463, null, 0.5940397772489655, 0.5519743771350649, 0.7631858414457692, null, 0.5873449210176384, 0.5440804631579295, 0.7600271518935717, null, 0.5861757785016907, 0.5426971300750403, 0.759469554555805, null, 2.5262896996294537, 2.364964391535298, 2.4304450047333557, null, 2.554382060980017, 2.4155194906767457, 2.465457838780633, null, 2.5994087191854645, 2.499903508686699, 2.5257631853661175, null, 2.6448208108395916, 2.5936301631745056, 2.59734500621309, null, 2.6559594646531965, 2.6448050365360833, 2.6500851784286175, null, 2.6038262984620433, 2.6116663273908687, 2.6608530866862443, null, 2.501069733572012, 2.4973574170421866, 2.6209240225146995, null, 2.4142321728298994, 2.387644797485654, 2.570813255347239, null, 2.3757983245210696, 2.3365606657007256, 2.5454815454282538, null, 2.365961343962056, 2.3232473910464733, 2.5387002854396403, null, 4.363861769837626, 4.2502301165117595, 4.282599879833283, null, 4.401647312751337, 4.321348945509345, 4.33358812386837, null, 4.434319672246187, 4.3864932124768465, 4.382231828743828, null, 4.45341556042082, 4.432645486108444, 4.420745327061107, null, 4.453067675449909, 4.455766610463005, 4.4499540607889365, null, 4.421050840515483, 4.439261375721287, 4.461368304072832, null, 4.353060161777062, 4.369738366741602, 4.442577171662317, null, 4.27141453384153, 4.2714083122136435, 4.401482711855051, null, 4.20379925075461, 4.183324747136249, 4.359148045679775, null, 4.162970704551708, 4.127852956221096, 4.33073415612017, null, 6.191942364507091, 6.122199990845555, 6.127649739375374, null, 6.2156688836720155, 6.169410470153511, 6.1628535076028, null, 6.231679679243044, 6.204665220744966, 6.190849310031932, null, 6.239895911353916, 6.230357582792885, 6.214703463595306, null, 6.237228277432653, 6.245207962955821, 6.235908023718459, null, 6.215748799164504, 6.236953917651776, 6.247084423749593, null, 6.170503473983773, 6.194941119600586, 6.239887445873762, null, 6.108515780214151, 6.1247524926077865, 6.214262473536368, null, 6.045276277995479, 6.046160471314654, 6.1793998071382195, null, 5.992121474186327, 5.976248391349977, 6.145287143535299, null, 7.995074941738301, 7.949738943549717, 7.942186900448521, null, 8.008159911726015, 7.977690418151967, 7.963992244126252, null, 8.016804569824362, 7.999501813829042, 7.982573571328622, null, 8.020989550878067, 8.017438591808638, 8.00077809990763, null, 8.01778228378074, 8.02862285315369, 8.017946075411151, null, 8.002042215212406, 8.024162171068934, 8.028118115840947, null, 7.9701416627241715, 7.99725496546726, 8.026431859165724, null, 7.9240682438851096, 7.948244490957298, 8.011328153975443, null, 7.871290272702062, 7.885680053599634, 7.986010322530057, null, 7.820897931240405, 7.822043583047649, 7.956968700320193, null]}],\n",
       "                        {\"hovermode\": \"closest\", \"template\": {\"data\": {\"bar\": [{\"error_x\": {\"color\": \"#2a3f5f\"}, \"error_y\": {\"color\": \"#2a3f5f\"}, \"marker\": {\"line\": {\"color\": \"#E5ECF6\", \"width\": 0.5}}, \"type\": \"bar\"}], \"barpolar\": [{\"marker\": {\"line\": {\"color\": \"#E5ECF6\", \"width\": 0.5}}, \"type\": \"barpolar\"}], \"carpet\": [{\"aaxis\": {\"endlinecolor\": \"#2a3f5f\", \"gridcolor\": \"white\", \"linecolor\": \"white\", \"minorgridcolor\": \"white\", \"startlinecolor\": \"#2a3f5f\"}, \"baxis\": {\"endlinecolor\": \"#2a3f5f\", \"gridcolor\": \"white\", \"linecolor\": \"white\", \"minorgridcolor\": \"white\", \"startlinecolor\": \"#2a3f5f\"}, \"type\": \"carpet\"}], \"choropleth\": [{\"colorbar\": {\"outlinewidth\": 0, \"ticks\": \"\"}, \"type\": \"choropleth\"}], \"contour\": [{\"colorbar\": {\"outlinewidth\": 0, \"ticks\": \"\"}, \"colorscale\": [[0.0, \"#0d0887\"], [0.1111111111111111, \"#46039f\"], [0.2222222222222222, \"#7201a8\"], [0.3333333333333333, \"#9c179e\"], [0.4444444444444444, \"#bd3786\"], [0.5555555555555556, \"#d8576b\"], [0.6666666666666666, \"#ed7953\"], [0.7777777777777778, \"#fb9f3a\"], [0.8888888888888888, \"#fdca26\"], [1.0, \"#f0f921\"]], \"type\": \"contour\"}], \"contourcarpet\": [{\"colorbar\": {\"outlinewidth\": 0, \"ticks\": \"\"}, \"type\": \"contourcarpet\"}], \"heatmap\": [{\"colorbar\": {\"outlinewidth\": 0, \"ticks\": \"\"}, \"colorscale\": [[0.0, \"#0d0887\"], [0.1111111111111111, \"#46039f\"], [0.2222222222222222, \"#7201a8\"], [0.3333333333333333, \"#9c179e\"], [0.4444444444444444, \"#bd3786\"], [0.5555555555555556, \"#d8576b\"], [0.6666666666666666, \"#ed7953\"], [0.7777777777777778, \"#fb9f3a\"], [0.8888888888888888, \"#fdca26\"], [1.0, \"#f0f921\"]], \"type\": \"heatmap\"}], \"heatmapgl\": [{\"colorbar\": {\"outlinewidth\": 0, \"ticks\": \"\"}, \"colorscale\": [[0.0, \"#0d0887\"], [0.1111111111111111, \"#46039f\"], [0.2222222222222222, \"#7201a8\"], [0.3333333333333333, \"#9c179e\"], [0.4444444444444444, \"#bd3786\"], [0.5555555555555556, \"#d8576b\"], [0.6666666666666666, \"#ed7953\"], [0.7777777777777778, \"#fb9f3a\"], [0.8888888888888888, \"#fdca26\"], [1.0, \"#f0f921\"]], \"type\": \"heatmapgl\"}], \"histogram\": [{\"marker\": {\"colorbar\": {\"outlinewidth\": 0, \"ticks\": \"\"}}, \"type\": \"histogram\"}], \"histogram2d\": [{\"colorbar\": {\"outlinewidth\": 0, \"ticks\": \"\"}, \"colorscale\": [[0.0, \"#0d0887\"], [0.1111111111111111, \"#46039f\"], [0.2222222222222222, \"#7201a8\"], [0.3333333333333333, \"#9c179e\"], [0.4444444444444444, \"#bd3786\"], [0.5555555555555556, \"#d8576b\"], [0.6666666666666666, \"#ed7953\"], [0.7777777777777778, \"#fb9f3a\"], [0.8888888888888888, \"#fdca26\"], [1.0, \"#f0f921\"]], \"type\": \"histogram2d\"}], \"histogram2dcontour\": [{\"colorbar\": {\"outlinewidth\": 0, \"ticks\": \"\"}, \"colorscale\": [[0.0, \"#0d0887\"], [0.1111111111111111, \"#46039f\"], [0.2222222222222222, \"#7201a8\"], [0.3333333333333333, \"#9c179e\"], [0.4444444444444444, \"#bd3786\"], [0.5555555555555556, \"#d8576b\"], [0.6666666666666666, \"#ed7953\"], [0.7777777777777778, \"#fb9f3a\"], [0.8888888888888888, \"#fdca26\"], [1.0, \"#f0f921\"]], \"type\": \"histogram2dcontour\"}], \"mesh3d\": [{\"colorbar\": {\"outlinewidth\": 0, \"ticks\": \"\"}, \"type\": \"mesh3d\"}], \"parcoords\": [{\"line\": {\"colorbar\": {\"outlinewidth\": 0, \"ticks\": \"\"}}, \"type\": \"parcoords\"}], \"scatter\": [{\"marker\": {\"colorbar\": {\"outlinewidth\": 0, \"ticks\": \"\"}}, \"type\": \"scatter\"}], \"scatter3d\": [{\"line\": {\"colorbar\": {\"outlinewidth\": 0, \"ticks\": \"\"}}, \"marker\": {\"colorbar\": {\"outlinewidth\": 0, \"ticks\": \"\"}}, \"type\": \"scatter3d\"}], \"scattercarpet\": [{\"marker\": {\"colorbar\": {\"outlinewidth\": 0, \"ticks\": \"\"}}, \"type\": \"scattercarpet\"}], \"scattergeo\": [{\"marker\": {\"colorbar\": {\"outlinewidth\": 0, \"ticks\": \"\"}}, \"type\": \"scattergeo\"}], \"scattergl\": [{\"marker\": {\"colorbar\": {\"outlinewidth\": 0, \"ticks\": \"\"}}, \"type\": \"scattergl\"}], \"scattermapbox\": [{\"marker\": {\"colorbar\": {\"outlinewidth\": 0, \"ticks\": \"\"}}, \"type\": \"scattermapbox\"}], \"scatterpolar\": [{\"marker\": {\"colorbar\": {\"outlinewidth\": 0, \"ticks\": \"\"}}, \"type\": \"scatterpolar\"}], \"scatterpolargl\": [{\"marker\": {\"colorbar\": {\"outlinewidth\": 0, \"ticks\": \"\"}}, \"type\": \"scatterpolargl\"}], \"scatterternary\": [{\"marker\": {\"colorbar\": {\"outlinewidth\": 0, \"ticks\": \"\"}}, \"type\": \"scatterternary\"}], \"surface\": [{\"colorbar\": {\"outlinewidth\": 0, \"ticks\": \"\"}, \"colorscale\": [[0.0, \"#0d0887\"], [0.1111111111111111, \"#46039f\"], [0.2222222222222222, \"#7201a8\"], [0.3333333333333333, \"#9c179e\"], [0.4444444444444444, \"#bd3786\"], [0.5555555555555556, \"#d8576b\"], [0.6666666666666666, \"#ed7953\"], [0.7777777777777778, \"#fb9f3a\"], [0.8888888888888888, \"#fdca26\"], [1.0, \"#f0f921\"]], \"type\": \"surface\"}], \"table\": [{\"cells\": {\"fill\": {\"color\": \"#EBF0F8\"}, \"line\": {\"color\": \"white\"}}, \"header\": {\"fill\": {\"color\": \"#C8D4E3\"}, \"line\": {\"color\": \"white\"}}, \"type\": \"table\"}]}, \"layout\": {\"annotationdefaults\": {\"arrowcolor\": \"#2a3f5f\", \"arrowhead\": 0, \"arrowwidth\": 1}, \"colorscale\": {\"diverging\": [[0, \"#8e0152\"], [0.1, \"#c51b7d\"], [0.2, \"#de77ae\"], [0.3, \"#f1b6da\"], [0.4, \"#fde0ef\"], [0.5, \"#f7f7f7\"], [0.6, \"#e6f5d0\"], [0.7, \"#b8e186\"], [0.8, \"#7fbc41\"], [0.9, \"#4d9221\"], [1, \"#276419\"]], \"sequential\": [[0.0, \"#0d0887\"], [0.1111111111111111, \"#46039f\"], [0.2222222222222222, \"#7201a8\"], [0.3333333333333333, \"#9c179e\"], [0.4444444444444444, \"#bd3786\"], [0.5555555555555556, \"#d8576b\"], [0.6666666666666666, \"#ed7953\"], [0.7777777777777778, \"#fb9f3a\"], [0.8888888888888888, \"#fdca26\"], [1.0, \"#f0f921\"]], \"sequentialminus\": [[0.0, \"#0d0887\"], [0.1111111111111111, \"#46039f\"], [0.2222222222222222, \"#7201a8\"], [0.3333333333333333, \"#9c179e\"], [0.4444444444444444, \"#bd3786\"], [0.5555555555555556, \"#d8576b\"], [0.6666666666666666, \"#ed7953\"], [0.7777777777777778, \"#fb9f3a\"], [0.8888888888888888, \"#fdca26\"], [1.0, \"#f0f921\"]]}, \"colorway\": [\"#636efa\", \"#EF553B\", \"#00cc96\", \"#ab63fa\", \"#FFA15A\", \"#19d3f3\", \"#FF6692\", \"#B6E880\", \"#FF97FF\", \"#FECB52\"], \"font\": {\"color\": \"#2a3f5f\"}, \"geo\": {\"bgcolor\": \"white\", \"lakecolor\": \"white\", \"landcolor\": \"#E5ECF6\", \"showlakes\": true, \"showland\": true, \"subunitcolor\": \"white\"}, \"hoverlabel\": {\"align\": \"left\"}, \"hovermode\": \"closest\", \"mapbox\": {\"style\": \"light\"}, \"paper_bgcolor\": \"white\", \"plot_bgcolor\": \"#E5ECF6\", \"polar\": {\"angularaxis\": {\"gridcolor\": \"white\", \"linecolor\": \"white\", \"ticks\": \"\"}, \"bgcolor\": \"#E5ECF6\", \"radialaxis\": {\"gridcolor\": \"white\", \"linecolor\": \"white\", \"ticks\": \"\"}}, \"scene\": {\"xaxis\": {\"backgroundcolor\": \"#E5ECF6\", \"gridcolor\": \"white\", \"gridwidth\": 2, \"linecolor\": \"white\", \"showbackground\": true, \"ticks\": \"\", \"zerolinecolor\": \"white\"}, \"yaxis\": {\"backgroundcolor\": \"#E5ECF6\", \"gridcolor\": \"white\", \"gridwidth\": 2, \"linecolor\": \"white\", \"showbackground\": true, \"ticks\": \"\", \"zerolinecolor\": \"white\"}, \"zaxis\": {\"backgroundcolor\": \"#E5ECF6\", \"gridcolor\": \"white\", \"gridwidth\": 2, \"linecolor\": \"white\", \"showbackground\": true, \"ticks\": \"\", \"zerolinecolor\": \"white\"}}, \"shapedefaults\": {\"line\": {\"color\": \"#2a3f5f\"}}, \"ternary\": {\"aaxis\": {\"gridcolor\": \"white\", \"linecolor\": \"white\", \"ticks\": \"\"}, \"baxis\": {\"gridcolor\": \"white\", \"linecolor\": \"white\", \"ticks\": \"\"}, \"bgcolor\": \"#E5ECF6\", \"caxis\": {\"gridcolor\": \"white\", \"linecolor\": \"white\", \"ticks\": \"\"}}, \"title\": {\"x\": 0.05}, \"xaxis\": {\"automargin\": true, \"gridcolor\": \"white\", \"linecolor\": \"white\", \"ticks\": \"\", \"zerolinecolor\": \"white\", \"zerolinewidth\": 2}, \"yaxis\": {\"automargin\": true, \"gridcolor\": \"white\", \"linecolor\": \"white\", \"ticks\": \"\", \"zerolinecolor\": \"white\", \"zerolinewidth\": 2}}}},\n",
       "                        {\"responsive\": true}\n",
       "                    ).then(function(){\n",
       "                            \n",
       "var gd = document.getElementById('7f9f4780-9dc6-4bc2-8803-15c236f177d1');\n",
       "var x = new MutationObserver(function (mutations, observer) {{\n",
       "        var display = window.getComputedStyle(gd).display;\n",
       "        if (!display || display === 'none') {{\n",
       "            console.log([gd, 'removed!']);\n",
       "            Plotly.purge(gd);\n",
       "            observer.disconnect();\n",
       "        }}\n",
       "}});\n",
       "\n",
       "// Listen for the removal of the full notebook cells\n",
       "var notebookContainer = gd.closest('#notebook-container');\n",
       "if (notebookContainer) {{\n",
       "    x.observe(notebookContainer, {childList: true});\n",
       "}}\n",
       "\n",
       "// Listen for the clearing of the current output cell\n",
       "var outputEl = gd.closest('.output');\n",
       "if (outputEl) {{\n",
       "    x.observe(outputEl, {childList: true});\n",
       "}}\n",
       "\n",
       "                        })\n",
       "                };\n",
       "                });\n",
       "            </script>\n",
       "        </div>"
      ]
     },
     "metadata": {},
     "output_type": "display_data"
    }
   ],
   "source": [
    "import plotly.graph_objects as go\n",
    "import plotly.figure_factory as ff\n",
    "\n",
    "\n",
    "num_points = 10\n",
    "uvalues = np.linspace(-8, 8, num_points)\n",
    "vvalues = np.linspace(-8, 8, num_points)\n",
    "(u,v) = np.meshgrid(uvalues, vvalues)\n",
    "betas = np.vstack((u.flatten(),v.flatten()))\n",
    "\n",
    "gradients = np.array([risk_gradient(b, X_1f_scaled_train, y_train) for b in betas.T])\n",
    "gradients_u = np.reshape(gradients[:, 0], u.shape)\n",
    "gradients_v = np.reshape(gradients[:, 1], u.shape)\n",
    "\n",
    "fig = ff.create_quiver(u, v, gradients_u, gradients_v,\n",
    "                       scale=1,\n",
    "                       arrow_scale=.4,\n",
    "                       name='quiver',\n",
    "                       line_width=1)\n",
    "\n",
    "fig.show()\n"
   ]
  },
  {
   "cell_type": "markdown",
   "metadata": {},
   "source": [
    "## Assessing the Quality of our Classifier"
   ]
  },
  {
   "cell_type": "markdown",
   "metadata": {},
   "source": [
    "First we define a function `print_accuracy` that will print the accuracy of our model based on the given x data, y data, beta, and classification threshold."
   ]
  },
  {
   "cell_type": "code",
   "execution_count": 196,
   "metadata": {},
   "outputs": [],
   "source": [
    "def print_ratio(n, d, prefix = \"\"):\n",
    "    \"\"\"Prints the ratio of the two given quantities\"\"\"\n",
    "    print(f'{prefix}{n}/{d} ({100 * n/d:.1f}%)')\n",
    "\n",
    "def print_accuracy(X, y_obs, beta, threshold, prefix = \"\"):\n",
    "    \"\"\"Prints the accuracy of a logistic classifier trained on the\n",
    "       given x, y_obs data using the provided beta and threshold\"\"\"\n",
    "    y_hat = sigma(X @ beta) > threshold\n",
    "    guesses = np.round(y_hat)\n",
    "    correct = y_obs == guesses\n",
    "    print_ratio(sum(correct), len(guesses), prefix)"
   ]
  },
  {
   "cell_type": "markdown",
   "metadata": {},
   "source": [
    "Below we see that our model that we trained using gradient descent gets around 87% accuracy on the training set with a threshold of 0.5."
   ]
  },
  {
   "cell_type": "code",
   "execution_count": 122,
   "metadata": {},
   "outputs": [
    {
     "name": "stdout",
     "output_type": "stream",
     "text": [
      "Train Accuracy: 371/426 (87.1%)\n"
     ]
    }
   ],
   "source": [
    "print_accuracy(X_1f_train, y_train, beta_1f, 0.5, \"Train Accuracy: \")"
   ]
  },
  {
   "cell_type": "markdown",
   "metadata": {},
   "source": [
    "Or using our scaled version:"
   ]
  },
  {
   "cell_type": "code",
   "execution_count": 123,
   "metadata": {
    "scrolled": true
   },
   "outputs": [
    {
     "name": "stdout",
     "output_type": "stream",
     "text": [
      "Train Accuracy: 370/426 (86.9%)\n"
     ]
    }
   ],
   "source": [
    "print_accuracy(X_1f_scaled_train, y_train, beta_1f_scaled, 0.5, \"Train Accuracy: \")"
   ]
  },
  {
   "cell_type": "markdown",
   "metadata": {},
   "source": [
    "Below we put our test data in the `x_test` and `y_test` variables, and observe that 60.8% of the observations are malignant. Because we have a relatively balanced test set, accuracy should give us a fairly good picture of performance."
   ]
  },
  {
   "cell_type": "code",
   "execution_count": 124,
   "metadata": {},
   "outputs": [
    {
     "name": "stdout",
     "output_type": "stream",
     "text": [
      "Fraction Malignant in Test Set: 87/143 (60.8%)\n"
     ]
    }
   ],
   "source": [
    "X_1f_test = create_radius_and_bias_design_matrix(test)\n",
    "y_test = test['malignant'].values\n",
    "print_ratio(sum(1-y_test), len(y_test), \"Fraction Malignant in Test Set: \")"
   ]
  },
  {
   "cell_type": "markdown",
   "metadata": {},
   "source": [
    "On this test set, we see our unscaled model gets 91% accuracy."
   ]
  },
  {
   "cell_type": "code",
   "execution_count": 125,
   "metadata": {
    "scrolled": false
   },
   "outputs": [
    {
     "name": "stdout",
     "output_type": "stream",
     "text": [
      "Test Accuracy: 130/143 (90.9%)\n"
     ]
    }
   ],
   "source": [
    "print_accuracy(X_1f_test, y_test, beta_1f, 0.5, \"Test Accuracy: \")"
   ]
  },
  {
   "cell_type": "markdown",
   "metadata": {},
   "source": [
    "And our scaled model gets the exact same accuracy."
   ]
  },
  {
   "cell_type": "code",
   "execution_count": 127,
   "metadata": {},
   "outputs": [],
   "source": [
    "X_1f_scaled_test = X_1f_scaler.transform(X_1f_test)"
   ]
  },
  {
   "cell_type": "code",
   "execution_count": 128,
   "metadata": {},
   "outputs": [
    {
     "name": "stdout",
     "output_type": "stream",
     "text": [
      "Test Accuracy: 130/143 (90.9%)\n"
     ]
    }
   ],
   "source": [
    "print_accuracy(X_1f_scaled_test, y_test, beta_1f_scaled, 0.5, \"Test Accuracy: \")"
   ]
  },
  {
   "cell_type": "markdown",
   "metadata": {},
   "source": [
    "#### Brief Digression"
   ]
  },
  {
   "cell_type": "markdown",
   "metadata": {},
   "source": [
    "The careful reader will observe that the X_1f_scaler object used to create X_1f_scaled_test was created using the training set, not the test set. \n",
    "\n",
    "That means that the radius in our `X_1f_scaled_test` data will not actually have zero mean or unit variance. Instead we see the average radius in our scaled test set is 0.11 and the variance is 1.02."
   ]
  },
  {
   "cell_type": "code",
   "execution_count": 129,
   "metadata": {},
   "outputs": [
    {
     "data": {
      "text/plain": [
       "array([1.        , 0.11037364])"
      ]
     },
     "execution_count": 129,
     "metadata": {},
     "output_type": "execute_result"
    }
   ],
   "source": [
    "np.mean(X_1f_scaled_test, axis = 0)"
   ]
  },
  {
   "cell_type": "code",
   "execution_count": 130,
   "metadata": {},
   "outputs": [
    {
     "data": {
      "text/plain": [
       "array([0.        , 1.02013996])"
      ]
     },
     "execution_count": 130,
     "metadata": {},
     "output_type": "execute_result"
    }
   ],
   "source": [
    "np.std(X_1f_scaled_test, axis = 0)"
   ]
  },
  {
   "cell_type": "markdown",
   "metadata": {},
   "source": [
    "This is a good thing! The model was built using units derived from the training data, not the test data.\n",
    "\n",
    "If you'd like, check the accuracy of the model if we center and scale our test data using the test mean and std. You'll see it's somewhat worse.\n",
    "\n",
    "On large samples where the training and test were drawn from the same population there won't be much of a difference, but in this example, the difference is noticeable because the dataset is small."
   ]
  },
  {
   "cell_type": "markdown",
   "metadata": {},
   "source": [
    "#### End of Digression, Back to Model Quality Assessment"
   ]
  },
  {
   "cell_type": "markdown",
   "metadata": {},
   "source": [
    "To summarize the quality of a given beta on a given training and test set, we will define the handy utility function `print_test_and_train_accuracy` which shows the training and test accuracy for the given `beta` on the provided data."
   ]
  },
  {
   "cell_type": "code",
   "execution_count": 197,
   "metadata": {},
   "outputs": [],
   "source": [
    "def print_test_and_train_accuracy(beta, X_train, y_train, X_test, y_test):\n",
    "    print_accuracy(X_train, y_train, beta, 0.5, \"Train Accuracy: \")\n",
    "    print_accuracy(X_test, y_test, beta, 0.5, \"Test Accuracy: \")"
   ]
  },
  {
   "cell_type": "markdown",
   "metadata": {},
   "source": [
    "For example, we can use this function to summarize the performance of our model, which uses only the radius and a bias term."
   ]
  },
  {
   "cell_type": "code",
   "execution_count": 198,
   "metadata": {},
   "outputs": [
    {
     "name": "stdout",
     "output_type": "stream",
     "text": [
      "Train Accuracy: 370/426 (86.9%)\n",
      "Test Accuracy: 130/143 (90.9%)\n"
     ]
    }
   ],
   "source": [
    "print_test_and_train_accuracy(beta_1f_scaled, X_1f_scaled_train, y_train, X_1f_scaled_test, y_test)"
   ]
  },
  {
   "cell_type": "markdown",
   "metadata": {},
   "source": [
    "Let's see how a model trained on all available features performs. Let's start by defining a design matrix that uses all features."
   ]
  },
  {
   "cell_type": "code",
   "execution_count": 133,
   "metadata": {},
   "outputs": [],
   "source": [
    "def create_all_feature_design_matrix(t):\n",
    "    \"\"\"Creates a design matrix that uses all features except for the right answer.\"\"\"\n",
    "    return t.drop('malignant', axis=1).values\n",
    "\n",
    "X_allf_train = create_all_feature_design_matrix(train)\n",
    "X_allf_test =  create_all_feature_design_matrix(test)"
   ]
  },
  {
   "cell_type": "code",
   "execution_count": 134,
   "metadata": {},
   "outputs": [
    {
     "data": {
      "text/plain": [
       "(426, 31)"
      ]
     },
     "execution_count": 134,
     "metadata": {},
     "output_type": "execute_result"
    }
   ],
   "source": [
    "X_allf_train.shape"
   ]
  },
  {
   "cell_type": "code",
   "execution_count": 135,
   "metadata": {},
   "outputs": [
    {
     "data": {
      "text/plain": [
       "array([[1.000e+00, 1.263e+01, 2.076e+01, 8.215e+01, 4.804e+02, 9.933e-02,\n",
       "        1.209e-01, 1.065e-01, 6.021e-02, 1.735e-01, 7.070e-02, 3.424e-01,\n",
       "        1.803e+00, 2.711e+00, 2.048e+01, 1.291e-02, 4.042e-02, 5.101e-02,\n",
       "        2.295e-02, 2.144e-02, 5.891e-03, 1.333e+01, 2.547e+01, 8.900e+01,\n",
       "        5.274e+02, 1.287e-01, 2.250e-01, 2.216e-01, 1.105e-01, 2.226e-01,\n",
       "        8.486e-02],\n",
       "       [1.000e+00, 1.371e+01, 1.868e+01, 8.873e+01, 5.710e+02, 9.916e-02,\n",
       "        1.070e-01, 5.385e-02, 3.783e-02, 1.714e-01, 6.843e-02, 3.191e-01,\n",
       "        1.249e+00, 2.284e+00, 2.645e+01, 6.739e-03, 2.251e-02, 2.086e-02,\n",
       "        1.352e-02, 1.870e-02, 3.747e-03, 1.511e+01, 2.563e+01, 9.943e+01,\n",
       "        7.019e+02, 1.425e-01, 2.566e-01, 1.935e-01, 1.284e-01, 2.849e-01,\n",
       "        9.031e-02]])"
      ]
     },
     "execution_count": 135,
     "metadata": {},
     "output_type": "execute_result"
    }
   ],
   "source": [
    "X_allf_train[0:2, :]"
   ]
  },
  {
   "cell_type": "markdown",
   "metadata": {},
   "source": [
    "As before, we scale our data so that gradient descent will complete more quickly."
   ]
  },
  {
   "cell_type": "code",
   "execution_count": 199,
   "metadata": {},
   "outputs": [],
   "source": [
    "X_allf_scaler = train_scaler_that_ignores_bias(X_allf_train)"
   ]
  },
  {
   "cell_type": "code",
   "execution_count": 200,
   "metadata": {},
   "outputs": [],
   "source": [
    "X_allf_scaled_train  = X_allf_scaler.transform(X_allf_train)\n",
    "X_allf_scaled_test  = X_allf_scaler.transform(X_allf_test)"
   ]
  },
  {
   "cell_type": "code",
   "execution_count": 138,
   "metadata": {},
   "outputs": [
    {
     "data": {
      "text/plain": [
       "array([[ 1.        , -0.40016643,  0.34471677, -0.37980495, -0.47716792,\n",
       "         0.23498099,  0.34703847,  0.27330103,  0.32195529, -0.26482442,\n",
       "         1.17169325, -0.22082134,  1.01524506, -0.06269651, -0.4530114 ,\n",
       "         1.8875189 ,  0.82686744,  0.74284158,  1.85286562,  0.09488428,\n",
       "         0.81597281, -0.58907559, -0.02953003, -0.52450369, -0.61623851,\n",
       "        -0.13927685, -0.166986  , -0.21350526, -0.04438005, -1.13586608,\n",
       "         0.06583523],\n",
       "       [ 1.        , -0.09151733, -0.14480458, -0.10586151, -0.21489406,\n",
       "         0.22247708,  0.07163644, -0.43321005, -0.27279167, -0.34588647,\n",
       "         0.83506685, -0.30937255,  0.03139068, -0.28588371, -0.30846669,\n",
       "        -0.12048906, -0.17311202, -0.39270267,  0.27703554, -0.2448772 ,\n",
       "        -0.0311098 , -0.21124974, -0.00308453, -0.20419842, -0.29311679,\n",
       "         0.48760813,  0.03931744, -0.35442614,  0.23300959, -0.05034187,\n",
       "         0.37866712]])"
      ]
     },
     "execution_count": 138,
     "metadata": {},
     "output_type": "execute_result"
    }
   ],
   "source": [
    "X_allf_scaled_train[0:2, :]"
   ]
  },
  {
   "cell_type": "markdown",
   "metadata": {},
   "source": [
    "Using `print_test_and_train_accuracy` on a feature set that includes all available features, we see we get better training and test error."
   ]
  },
  {
   "cell_type": "code",
   "execution_count": 139,
   "metadata": {
    "scrolled": true
   },
   "outputs": [
    {
     "name": "stdout",
     "output_type": "stream",
     "text": [
      "Train Accuracy: 370/426 (86.9%)\n",
      "Test Accuracy: 130/143 (90.9%)\n"
     ]
    }
   ],
   "source": [
    "print_test_and_train_accuracy(beta_1f_scaled, X_1f_scaled_train, y_train, X_1f_scaled_test, y_test)"
   ]
  },
  {
   "cell_type": "code",
   "execution_count": 211,
   "metadata": {},
   "outputs": [
    {
     "name": "stdout",
     "output_type": "stream",
     "text": [
      "Completed in 99999 iterations, norm of gradient is 0.0003529669400620736\n",
      "Train Accuracy: 426/426 (100.0%)\n",
      "Test Accuracy: 134/143 (93.7%)\n",
      "CPU times: user 1min 48s, sys: 1min 36s, total: 3min 24s\n",
      "Wall time: 33.5 s\n"
     ]
    }
   ],
   "source": [
    "%%time\n",
    "beta_allf_scaled = logistic_regression(X_allf_scaled_train, y_train, lr=10)\n",
    "print_test_and_train_accuracy(beta_allf_scaled, X_allf_scaled_train, y_train, X_allf_scaled_test, y_test)"
   ]
  },
  {
   "cell_type": "markdown",
   "metadata": {},
   "source": [
    "We see that we have achieved 100% accuracy on our training set. This means that the data is linearly separable. \n",
    "\n",
    "As a result, the betas are quite large for a logistic regression model, e.g. one of them is greater than 16."
   ]
  },
  {
   "cell_type": "code",
   "execution_count": 204,
   "metadata": {},
   "outputs": [
    {
     "data": {
      "text/plain": [
       "array([  2.15277182,  -4.16836775,  -2.0746336 ,  -2.63839969,\n",
       "        -2.00715374,   3.09760169, -11.56550051,   5.71852387,\n",
       "         8.19448688,  -3.40419765,  -3.46098538,   8.3595231 ,\n",
       "        -2.99249773,   0.48449704,  16.21351354,   0.54434541,\n",
       "         0.73152425,  -5.59049671,   9.47024877,   3.35158481,\n",
       "       -11.84465888,   3.57230995,   9.76675742,   6.47211394,\n",
       "         6.12690779,   2.78259362,  -3.2889228 ,   5.80220893,\n",
       "         2.61788599,  -0.57666457,  14.88615644])"
      ]
     },
     "execution_count": 204,
     "metadata": {},
     "output_type": "execute_result"
    }
   ],
   "source": [
    "beta_allf_scaled"
   ]
  },
  {
   "cell_type": "markdown",
   "metadata": {},
   "source": [
    "To deal with this, we can employ regularization."
   ]
  },
  {
   "cell_type": "markdown",
   "metadata": {},
   "source": [
    "### Regularized Logistic Regression\n",
    "\n",
    "As with linear regression, one common way of reducing the variance of the parameter estimator is to add a regularization term to the empirical risk objective, e.g.:\n",
    "\n",
    "\\begin{align*}\n",
    "R(\\beta, x, y, \\lambda) &= - \\frac{1}{n}\\sum_{i=1}^n \\left[ y_i x_i^T\\beta + \\log \\sigma(-x_i^T\\beta) \\right] + \\lambda \\sum_{j=1}^J \\beta_j^2 \\\\[10pt]\n",
    "\\nabla_{\\beta} R(\\beta, x, y, \\lambda) &=  - \\frac{1}{n}\\sum_{i=1}^n \\left(y_i - \\sigma(x_i^T\\beta)\\right) x_i + 2 \\lambda \\beta \\\\[10pt]\n",
    "\\end{align*}"
   ]
  },
  {
   "cell_type": "markdown",
   "metadata": {},
   "source": [
    "Let's try to find the lambda which yields the best accuracy for this regularized model. \n",
    "\n",
    "**Note:** When using regularization, we do not include the $\\beta_1$ corresponding to our bias term. This is because a large $\\beta_1$ is not overemphasizing any specific feature and is instead simply a fixed offset.\n",
    "\n",
    "**Note:** We have arbitrarily chosen accuracy here to evaluate the quality of our parameters. We could use other characterizations, e.g. average cross entropy loss, ROC curves, area under ROC curves, precision recall curves, etc.\n",
    "\n",
    "**Note:** In the example below, we compute the test error directly to assess the quality of a given hyperparameter lambda. In a real world setting, we would probably use cross validation instead."
   ]
  },
  {
   "cell_type": "code",
   "execution_count": 213,
   "metadata": {},
   "outputs": [
    {
     "name": "stdout",
     "output_type": "stream",
     "text": [
      "lambda = 0.0\n",
      "Completed in 99999 iterations, norm of gradient is 0.0003529669400620736\n",
      "sum(beta**2) =  1387.9140857705347\n",
      "Train Accuracy: 426/426 (100.0%)\n",
      "Test Accuracy: 134/143 (93.7%)\n",
      "\n",
      "lambda = 1e-05\n",
      "Completed in 99999 iterations, norm of gradient is 8.807390247528443e-05\n",
      "sum(beta**2) =  670.5993974159401\n",
      "Train Accuracy: 425/426 (99.8%)\n",
      "Test Accuracy: 134/143 (93.7%)\n",
      "\n",
      "lambda = 0.0001\n",
      "Completed in 99999 iterations, norm of gradient is 1.1893257782423182e-08\n",
      "sum(beta**2) =  90.5781189859934\n",
      "Train Accuracy: 423/426 (99.3%)\n",
      "Test Accuracy: 137/143 (95.8%)\n",
      "\n",
      "lambda = 0.001\n",
      "Completed in 713 iterations, norm of gradient is 9.988959233581244e-09\n",
      "sum(beta**2) =  14.481685548603306\n",
      "Train Accuracy: 423/426 (99.3%)\n",
      "Test Accuracy: 138/143 (96.5%)\n",
      "\n",
      "lambda = 0.01\n",
      "Completed in 656 iterations, norm of gradient is 9.064871643706416e-09\n",
      "sum(beta**2) =  4.125599021786446\n",
      "Train Accuracy: 421/426 (98.8%)\n",
      "Test Accuracy: 138/143 (96.5%)\n",
      "\n",
      "lambda = 0.1\n",
      "Completed in 3587 iterations, norm of gradient is 9.372258013584649e-09\n",
      "sum(beta**2) =  1.2489507414521632\n",
      "Train Accuracy: 407/426 (95.5%)\n",
      "Test Accuracy: 136/143 (95.1%)\n",
      "\n",
      "lambda = 1.0\n",
      "Completed in 18930 iterations, norm of gradient is 9.889303850067293e-09\n",
      "sum(beta**2) =  0.481417012139909\n",
      "Train Accuracy: 385/426 (90.4%)\n",
      "Test Accuracy: 130/143 (90.9%)\n",
      "\n"
     ]
    }
   ],
   "source": [
    "def regularized_logistic_regression(X, y, lam, lr):\n",
    "    \"\"\"Train a logistic regression classifier using gradient descent.\"\"\"\n",
    "\n",
    "    def l2_regularized_gradient(beta, X, y, lr=lr):\n",
    "        non_bias_betas = np.hstack(([0], beta[1:]))\n",
    "        return risk_gradient(beta, X, y) + 2 * lam * non_bias_betas\n",
    "\n",
    "    beta0 = np.zeros(X.shape[1])\n",
    "    beta = gradient_descent(X, y, beta0, l2_regularized_gradient, lr=lr)\n",
    "    return beta    \n",
    "\n",
    "def search_for_lambda(X_train, y_train, X_test, y_test, lambdas):\n",
    "    for lam in lambdas:\n",
    "        print(\"lambda =\", lam)\n",
    "        beta = regularized_logistic_regression(X_train, y_train, lam, 10)\n",
    "        print(\"sum(beta**2) = \", sum(beta**2))\n",
    "        print_test_and_train_accuracy(beta, X_train, y_train, X_test, y_test)\n",
    "        print()\n",
    "        \n",
    "\n",
    "lambdas = np.hstack(([0], 10.0 ** np.linspace(-5, 0, 6)))\n",
    "search_for_lambda(X_allf_scaled_train, y_train, X_allf_scaled_test, y_test, lambdas)"
   ]
  },
  {
   "cell_type": "markdown",
   "metadata": {},
   "source": [
    "Above we see the bias-variance tradeoff in action. For lambda = 0, model variance is high and bias is low. In fact, we get perfect accuracy on our linearly seperable training set.\n",
    "\n",
    "As lambda increases, variance decrease and bias increases. As you'd expect, our training set performance degrades steadily. By contrast our test error improves at first, before eventually declining as the model bias becomes too large. \n",
    "\n",
    "Our best lambda from our list appears to be 0.001, which yields a 96.5% accuracy on the test set, which is better than the unregularized version which only achieved 93.7% accuracy on the test set.\n",
    "\n",
    "0.001 is not necessarily the best possible lambda, it's just the best lambda we tried. It turns out that there are better lambdas, e.g. lambda = 0.006 yields a 97.2% accuracy."
   ]
  },
  {
   "cell_type": "code",
   "execution_count": 143,
   "metadata": {},
   "outputs": [
    {
     "name": "stdout",
     "output_type": "stream",
     "text": [
      "Completed in 99999 iterations, norm of gradient is 5.335692904806397e-08\n"
     ]
    }
   ],
   "source": [
    "optimal_beta = regularized_logistic_regression(X_allf_scaled_train, y_train, 0.001, 1)"
   ]
  },
  {
   "cell_type": "markdown",
   "metadata": {},
   "source": [
    "To do this same exercise in scikit learn, we can use LogisticRegressionCV. In this case, we need to remove the bias term since this sklearn module will automatically add one."
   ]
  },
  {
   "cell_type": "code",
   "execution_count": 144,
   "metadata": {},
   "outputs": [],
   "source": [
    "candidate_Cs = np.hstack(([1e9], 1 / 10.0 ** np.linspace(-5, 5, 11)))"
   ]
  },
  {
   "cell_type": "code",
   "execution_count": 145,
   "metadata": {},
   "outputs": [
    {
     "name": "stdout",
     "output_type": "stream",
     "text": [
      "138/143 (96.5%)\n"
     ]
    }
   ],
   "source": [
    "from sklearn.linear_model import LogisticRegressionCV\n",
    "model = LogisticRegressionCV(Cs=candidate_Cs, solver='lbfgs')\n",
    "model.fit(X_allf_scaled_train[:, 1:], y_train)\n",
    "y_hat = model.predict(X_allf_scaled_test[:, 1:])\n",
    "print_ratio(sum(y_hat == y_test), len(y_test))"
   ]
  },
  {
   "cell_type": "markdown",
   "metadata": {},
   "source": [
    "Note that the parameter that sklearn calls C has the opposite effect as lambda because the regularization term is 1/c * sum(beta^2). That is, a larger C means less regularization. "
   ]
  },
  {
   "cell_type": "code",
   "execution_count": 146,
   "metadata": {},
   "outputs": [
    {
     "data": {
      "text/plain": [
       "array([0.1])"
      ]
     },
     "execution_count": 146,
     "metadata": {},
     "output_type": "execute_result"
    }
   ],
   "source": [
    "model.C_"
   ]
  },
  {
   "cell_type": "markdown",
   "metadata": {},
   "source": [
    "### ROC Curves"
   ]
  },
  {
   "cell_type": "markdown",
   "metadata": {},
   "source": [
    "Of course, accuracy isn't the whole story. We can also look at, for example, our true positive and false positive rates:"
   ]
  },
  {
   "cell_type": "code",
   "execution_count": 214,
   "metadata": {},
   "outputs": [],
   "source": [
    "def compute_TPR_FPR(y_obs, y_hat):\n",
    "    TP = sum((y_obs == y_hat) & (y_obs == 1))\n",
    "    FN = sum((y_obs != y_hat) & (y_obs == 1))\n",
    "    TPR = TP / (TP + FN)\n",
    "    \n",
    "    TN = sum((y_obs == y_hat) & (y_obs == 0))\n",
    "    FP = sum((y_obs != y_hat) & (y_obs == 0))\n",
    "    FPR = FP / (FP + TN)\n",
    "       \n",
    "    return TPR, FPR\n",
    "\n",
    "def compute_model_TPR_FPR(X, y_obs, beta, threshold):    \n",
    "    y_hat = sigma(X @ beta) > threshold\n",
    "    guesses = np.round(y_hat)\n",
    "    return compute_TPR_FPR(y_obs, y_hat)\n",
    "    \n",
    "def print_model_TPR_FPR(X, y_obs, beta, threshold):\n",
    "    TPR, FPR = compute_model_TPR_FPR(X, y_obs, beta, threshold)\n",
    "    print(f'TPR: {TPR * 100:.1f}%, FPR: {FPR * 100:.1f}%')"
   ]
  },
  {
   "cell_type": "markdown",
   "metadata": {},
   "source": [
    "By adjusting the threshold, we can see our true positive rate (good) and false positive rate (bad) change."
   ]
  },
  {
   "cell_type": "code",
   "execution_count": 148,
   "metadata": {},
   "outputs": [
    {
     "name": "stdout",
     "output_type": "stream",
     "text": [
      "TPR: 100.0%, FPR: 100.0%\n"
     ]
    }
   ],
   "source": [
    "print_model_TPR_FPR(X_allf_scaled_test, y_test, optimal_beta, 0)"
   ]
  },
  {
   "cell_type": "code",
   "execution_count": 149,
   "metadata": {},
   "outputs": [
    {
     "name": "stdout",
     "output_type": "stream",
     "text": [
      "TPR: 100.0%, FPR: 24.1%\n"
     ]
    }
   ],
   "source": [
    "print_model_TPR_FPR(X_allf_scaled_test, y_test, optimal_beta, 0.01)"
   ]
  },
  {
   "cell_type": "code",
   "execution_count": 150,
   "metadata": {},
   "outputs": [
    {
     "name": "stdout",
     "output_type": "stream",
     "text": [
      "TPR: 98.2%, FPR: 14.9%\n"
     ]
    }
   ],
   "source": [
    "print_model_TPR_FPR(X_allf_scaled_test, y_test, optimal_beta, 0.05)"
   ]
  },
  {
   "cell_type": "code",
   "execution_count": 151,
   "metadata": {},
   "outputs": [
    {
     "name": "stdout",
     "output_type": "stream",
     "text": [
      "TPR: 92.9%, FPR: 0.0%\n"
     ]
    }
   ],
   "source": [
    "print_model_TPR_FPR(X_allf_scaled_test, y_test, optimal_beta, 0.44)"
   ]
  },
  {
   "cell_type": "code",
   "execution_count": 152,
   "metadata": {
    "scrolled": true
   },
   "outputs": [
    {
     "name": "stdout",
     "output_type": "stream",
     "text": [
      "TPR: 0.0%, FPR: 0.0%\n"
     ]
    }
   ],
   "source": [
    "print_model_TPR_FPR(X_allf_scaled_test, y_test, optimal_beta, 1)"
   ]
  },
  {
   "cell_type": "markdown",
   "metadata": {},
   "source": [
    "Or we can generate a ROC curve for a sweep of various thresholds."
   ]
  },
  {
   "cell_type": "code",
   "execution_count": 153,
   "metadata": {
    "scrolled": false
   },
   "outputs": [
    {
     "data": {
      "image/png": "[encoded data removed]",
      "text/plain": [
       "<Figure size 450x450 with 1 Axes>"
      ]
     },
     "metadata": {},
     "output_type": "display_data"
    }
   ],
   "source": [
    "thresholds = np.linspace(0, 1, 101)\n",
    "TPRs_best_model = []\n",
    "FPRs_best_model = []\n",
    "for threshold in thresholds:\n",
    "    TPR, FPR = compute_model_TPR_FPR(X_allf_scaled_test, y_test, optimal_beta, threshold)\n",
    "    TPRs_best_model.append(TPR)\n",
    "    FPRs_best_model.append(FPR)\n",
    "\n",
    "plt.plot(FPRs_best_model, TPRs_best_model)\n",
    "plt.xlabel('False Positive Rate')\n",
    "plt.ylabel('True Positive Rate')\n",
    "plt.title('ROC Curve for Test Data');"
   ]
  },
  {
   "cell_type": "markdown",
   "metadata": {},
   "source": [
    "For comparison, lets look at the performance of: \n",
    "1. Our most sophisticated model: Regularized model using scaled design matrix with all available features and a bias term.\n",
    "2. Our first model: Unregularized model using only the mean radius and a bias term."
   ]
  },
  {
   "cell_type": "code",
   "execution_count": 154,
   "metadata": {},
   "outputs": [
    {
     "data": {
      "image/png": "[encoded data removed]",
      "text/plain": [
       "<Figure size 450x450 with 1 Axes>"
      ]
     },
     "metadata": {},
     "output_type": "display_data"
    }
   ],
   "source": [
    "# thresholds = np.linspace(0, 1, 100)\n",
    "TPRs_one_feature_only = []\n",
    "FPRs_one_feature_only = []\n",
    "for threshold in thresholds:\n",
    "    TPR, FPR = compute_model_TPR_FPR(X_1f_test, y_test, beta_1f, threshold)\n",
    "    TPRs_one_feature_only.append(TPR)\n",
    "    FPRs_one_feature_only.append(FPR)\n",
    "\n",
    "plt.plot(FPRs_best_model, TPRs_best_model)\n",
    "plt.plot(FPRs_one_feature_only, TPRs_one_feature_only)\n",
    "plt.xlabel('False Positive Rate')\n",
    "plt.ylabel('True Positive Rate')\n",
    "plt.legend(['All Features', 'One Feature'])\n",
    "plt.title('ROC Curve for Test Data');"
   ]
  },
  {
   "cell_type": "markdown",
   "metadata": {},
   "source": [
    "We see that using all features is clearly much better than using just 1 on the training set."
   ]
  },
  {
   "cell_type": "markdown",
   "metadata": {},
   "source": [
    "### Precision Recall Curves"
   ]
  },
  {
   "cell_type": "code",
   "execution_count": 155,
   "metadata": {},
   "outputs": [],
   "source": [
    "def compute_precision_recall(y_obs, y_hat):\n",
    "    TP = sum((y_obs == y_hat) & (y_obs == 1))\n",
    "    FN = sum((y_obs != y_hat) & (y_obs == 1))\n",
    "    \n",
    "    TN = sum((y_obs == y_hat) & (y_obs == 0))\n",
    "    FP = sum((y_obs != y_hat) & (y_obs == 0))\n",
    "    precision = TP / (TP + FP)\n",
    "    recall = TP / (TP + FN)\n",
    "       \n",
    "    return precision, recall\n",
    "\n",
    "def compute_model_precision_recall(X, y_obs, beta, threshold):    \n",
    "    y_hat = sigma(X @ beta) > threshold\n",
    "    guesses = np.round(y_hat)\n",
    "    return compute_precision_recall(y_obs, y_hat)\n",
    "    \n",
    "def print_model_precision_recall(X, y_obs, beta, threshold):\n",
    "    precision, recall = compute_model_precision_recall(X, y_obs, beta, threshold)\n",
    "    print(f'precision: {precision * 100:.1f}%, recall: {recall * 100:.1f}%')"
   ]
  },
  {
   "cell_type": "code",
   "execution_count": 156,
   "metadata": {},
   "outputs": [
    {
     "name": "stdout",
     "output_type": "stream",
     "text": [
      "precision: 82.1%, recall: 98.2%\n"
     ]
    }
   ],
   "source": [
    "print_model_precision_recall(X_allf_scaled_test, y_test, beta_allf_scaled, 0.01)"
   ]
  },
  {
   "cell_type": "code",
   "execution_count": 157,
   "metadata": {
    "scrolled": true
   },
   "outputs": [
    {
     "name": "stderr",
     "output_type": "stream",
     "text": [
      "/home/hug/miniconda2/envs/data100/lib/python3.6/site-packages/ipykernel_launcher.py:7: RuntimeWarning:\n",
      "\n",
      "invalid value encountered in long_scalars\n",
      "\n"
     ]
    },
    {
     "data": {
      "image/png": "[encoded data removed]",
      "text/plain": [
       "<Figure size 450x450 with 1 Axes>"
      ]
     },
     "metadata": {},
     "output_type": "display_data"
    }
   ],
   "source": [
    "thresholds = np.linspace(0, 1, 101)\n",
    "precisions_best_model = []\n",
    "recalls_best_model = []\n",
    "for threshold in thresholds:\n",
    "    precision, recall = compute_model_precision_recall(X_allf_scaled_test, y_test, optimal_beta, threshold)\n",
    "    precisions_best_model.append(precision)\n",
    "    recalls_best_model.append(recall)\n",
    "\n",
    "plt.plot(recalls_best_model, precisions_best_model)\n",
    "plt.xlabel('Recall')\n",
    "plt.ylabel('Precision')\n",
    "plt.title('PR Curve for Test Data');"
   ]
  },
  {
   "cell_type": "code",
   "execution_count": 158,
   "metadata": {},
   "outputs": [
    {
     "name": "stderr",
     "output_type": "stream",
     "text": [
      "/home/hug/miniconda2/envs/data100/lib/python3.6/site-packages/ipykernel_launcher.py:7: RuntimeWarning:\n",
      "\n",
      "invalid value encountered in long_scalars\n",
      "\n"
     ]
    },
    {
     "data": {
      "image/png": "[encoded data removed]",
      "text/plain": [
       "<Figure size 450x450 with 1 Axes>"
      ]
     },
     "metadata": {},
     "output_type": "display_data"
    }
   ],
   "source": [
    "thresholds = np.linspace(0, 1, 101)\n",
    "precisions_one_feature_only = []\n",
    "recalls_one_feature_only = []\n",
    "for threshold in thresholds:\n",
    "    precision, recall = compute_model_precision_recall(X_1f_scaled_test, y_test, beta_1f_scaled, threshold)\n",
    "    precisions_one_feature_only.append(precision)\n",
    "    recalls_one_feature_only.append(recall)\n",
    "\n",
    "\n",
    "plt.plot(recalls_best_model, precisions_best_model)\n",
    "plt.plot(recalls_one_feature_only, precisions_one_feature_only)\n",
    "plt.xlabel('Recall')\n",
    "plt.ylabel('Precision')\n",
    "plt.legend(['All Features', 'One Feature'])\n",
    "plt.title('PR Curve for Test Data');"
   ]
  },
  {
   "cell_type": "markdown",
   "metadata": {},
   "source": [
    "## Extra: Full Derivation of Gradient of Average Cross Entropy Loss"
   ]
  },
  {
   "cell_type": "markdown",
   "metadata": {},
   "source": [
    "This derivation uses $X$ instead of $\\Bbb{X}$, $\\beta$ instead of $\\vec{\\beta}$ and $x_i$ to represent the ith row of the design matrix rather than $\\Bbb{X}_i$. \n",
    "\n",
    "Sorry about the inconsistent notation, but I took this derivation from Spring 2019, and it didn't seem worth the typesetting time since I'm guessing only a small fraction of you will be interested in all the details of the calculus/algebra."
   ]
  },
  {
   "cell_type": "markdown",
   "metadata": {},
   "source": [
    "### Logistic regression summary\n",
    "\n",
    "First we observe that the logistic or sigmoid function can be written two equivalent ways:\n",
    "\n",
    "$$\\sigma(t) = \\frac{1}{1 + \\exp(-t)} = \\frac{\\exp(t)}{1 + \\exp(t)} $$\n",
    "\n",
    "The logistic regression model assumes the following probabilities of $Y \\in \\{0, 1\\}$ given column vector $X$:\n",
    "\n",
    "\\begin{align*}\n",
    "P(Y=1|X) &= \\sigma(X^T \\beta) &&= \\frac{1}{1 + \\exp(-X^T \\beta)} &= \\frac{\\exp(X^T\\beta)}{1 + \\exp(X^T\\beta)} \\\\[10pt]\n",
    "P(Y=0|X) &= \\sigma(-X^T \\beta) &&= \\frac{1}{1 + \\exp(X^T \\beta)}  \\\\\n",
    "\\end{align*}\n",
    "\n",
    "The loss most typically used to fit $\\beta$ is the log loss or cross-entropy loss, which is the negative log probability of the correct (observed) $Y$ value. This loss for true $Y \\in \\{0, 1\\}$ and predicted probability $\\hat Y \\in [0, 1]$ is often written:\n",
    "\n",
    "$$-Y \\log(\\hat Y) - (1-Y)\\log(1- \\hat Y)$$"
   ]
  },
  {
   "cell_type": "markdown",
   "metadata": {},
   "source": [
    "### Empirical Risk\n",
    "\n",
    "Filling in $\\hat Y = P(Y=1|X)$ and filling in the form of the model, we find different ways of expressing the same loss:\n",
    "\n",
    "\\begin{align*}\n",
    "L(\\beta) &= -Y \\log(\\hat Y) - (1-Y)\\log(1- \\hat Y) \\\\[10pt]\n",
    "         &= - Y \\log P(Y=1|X) - (1-Y) \\log P(Y=0|X)  \\\\[10pt]\n",
    "         &= - Y \\log \\frac{\\exp(X^T\\beta)}{1 + \\exp(X^T\\beta)} - (1-Y) \\log \\frac{1}{1 + \\exp(X^T\\beta)}  \\\\[10pt]\n",
    "         &= - Y (\\log(\\exp(X^T\\beta)) - \\log(1 + \\exp(X^T\\beta))) - (1-Y) (-\\log (1 + \\exp(X^T\\beta)))  \\\\[10pt]\n",
    "         &= - YX^T\\beta + Y \\log(1 + \\exp(X^T\\beta))) - Y \\log(1 + \\exp(X^T\\beta))) + \\log (1 + \\exp(X^T\\beta))  \\\\[10pt]\n",
    "         &= - YX^T\\beta + \\log (1 + \\exp(X^T\\beta)) \\\\[10pt]\n",
    "         &= -\\left(YX^T\\beta + \\log \\sigma(-X^T\\beta)\\right)\n",
    "\\end{align*}\n",
    "\n",
    "Where the last step follows from $\\log (1 + \\exp(X^T\\beta)) = -(- \\log (1 + \\exp(X^T\\beta))) = -\\log \\frac{1}{1 + \\exp(X^T\\beta)} = -\\log \\sigma(-X^T\\beta)$.\n",
    "\n",
    "The empirical risk (average loss across a sample) for a set of observations $(x_1, y_1) \\dots (x_n, y_n)$ is often written:\n",
    "\n",
    "$$R(\\beta, x, y) = - \\frac{1}{n} \\sum_{i=1}^n \\left[ y_i x_i^T\\beta + \\log \\sigma(-x_i^T\\beta) \\right]$$"
   ]
  },
  {
   "cell_type": "markdown",
   "metadata": {},
   "source": [
    "### Logistic Regression Gradient\n",
    "\n",
    "Using the logistic regression model and log loss, find the gradient of the empirical risk.\n",
    "\n",
    "First, we compute the derivative of the sigmoid function since we'll use it in our gradient calculation.\n",
    "\n",
    "$$\n",
    "\\begin{aligned}\n",
    "\\sigma(t) &= \\frac{1}{1 + e^{-t}} \\\\[10pt]\n",
    "\\sigma'(t) &= \\frac{e^{-t}}{(1 + e^{-t})^2} \\\\[10pt]\n",
    "\\sigma'(t) &= \\frac{1}{1 + e^{-t}} \\cdot \\left(1 - \\frac{1}{1 + e^{-t}} \\right) \\\\[10pt]\n",
    "\\sigma'(t) &= \\sigma(t) (1 - \\sigma(t))\n",
    "\\end{aligned}\n",
    "$$"
   ]
  },
  {
   "cell_type": "markdown",
   "metadata": {},
   "source": [
    "As a shorthand, we define $ \\sigma_i = \\sigma(-x_i^T \\beta) $. We will soon need the gradient of $ \\sigma_i $ with respect to the vector $ \\beta $ so we will derive it now using the chain rule. \n",
    "\n",
    "\\begin{align*}\n",
    "\\nabla_{\\beta} \\sigma_i\n",
    "&= \\nabla_{\\beta} \\sigma(-x_i^T \\beta) \\\\[10pt]\n",
    "&= \\sigma\\left(-x_i^T \\beta\\right) \\left(1 - \\sigma(-x_i^T \\beta)\\right)  \\nabla_{\\beta} \\left(-x_i^T \\beta\\right) \\\\[10pt]\n",
    "&= -\\sigma_i (1 - \\sigma_i) x_i \n",
    "\\end{align*}"
   ]
  },
  {
   "cell_type": "markdown",
   "metadata": {},
   "source": [
    "Now, we derive the gradient of the cross-entropy loss with respect to the model parameters $ \\boldsymbol{\\beta} $. We use the fact that $(1-\\sigma_i) = \\sigma(x_i^T\\beta)$, since $\\sigma(x^T\\beta) + \\sigma(-x^T\\beta) = 1$.\n",
    "\n",
    "\\begin{align*}\n",
    "R(\\beta, x, y) &= - \\frac{1}{n}\\sum_{i=1}^n \\left[ y_i x_i^T\\beta + \\log \\sigma_i \\right] \\\\[10pt]\n",
    "\\nabla_{\\beta} R(\\beta, x, y) &= - \\frac{1}{n}\\sum_{i=1}^n \\left( y_i x_i - \\frac{1}{\\sigma_i} \\sigma_i (1 - \\sigma_i) x_i \\right) \\\\[10pt]\n",
    "                              &= - \\frac{1}{n}\\sum_{i=1}^n \\left( y_i x_i - \\sigma(x_i^T\\beta) x_i \\right) \\\\[10pt]\n",
    "                              &= - \\frac{1}{n}\\sum_{i=1}^n \\left(y_i - \\sigma(x_i^T\\beta)\\right) x_i  \\\\[10pt]\n",
    "\\end{align*}"
   ]
  }
 ],
 "metadata": {
  "kernelspec": {
   "display_name": "Python 3",
   "language": "python",
   "name": "python3"
  },
  "language_info": {
   "codemirror_mode": {
    "name": "ipython",
    "version": 3
   },
   "file_extension": ".py",
   "mimetype": "text/x-python",
   "name": "python",
   "nbconvert_exporter": "python",
   "pygments_lexer": "ipython3",
   "version": "3.6.4"
  }
 },
 "nbformat": 4,
 "nbformat_minor": 2
}

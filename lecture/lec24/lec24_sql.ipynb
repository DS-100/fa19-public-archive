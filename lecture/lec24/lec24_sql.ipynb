{
 "cells": [
  {
   "cell_type": "code",
   "execution_count": 1,
   "metadata": {},
   "outputs": [],
   "source": [
    "import os\n",
    "import pandas as pd\n",
    "import numpy as np\n",
    "import matplotlib.pyplot as plt\n",
    "import seaborn as sns\n",
    "%matplotlib inline\n",
    "\n",
    "from pathlib import Path\n",
    "from sqlalchemy import create_engine\n",
    "from ds100_utils import fetch_and_cache\n",
    "\n",
    "sns.set()\n",
    "sns.set_context('talk')\n",
    "np.set_printoptions(threshold=20, precision=2, suppress=True)\n",
    "pd.set_option('display.max_rows', 7)\n",
    "pd.set_option('display.max_columns', 8)\n",
    "pd.set_option('precision', 2)"
   ]
  },
  {
   "cell_type": "markdown",
   "metadata": {},
   "source": [
    "## SQL Joins"
   ]
  },
  {
   "cell_type": "code",
   "execution_count": 2,
   "metadata": {},
   "outputs": [],
   "source": [
    "import sqlite3\n",
    "conn = sqlite3.connect('test.db')"
   ]
  },
  {
   "cell_type": "code",
   "execution_count": 3,
   "metadata": {},
   "outputs": [],
   "source": [
    "conn.executescript(\"\"\"\n",
    "DROP TABLE IF EXISTS s;\n",
    "DROP TABLE IF EXISTS t;\n",
    "\n",
    "CREATE TABLE s(\n",
    "    id INTEGER PRIMARY KEY, \n",
    "    name TEXT\n",
    ");\n",
    "\n",
    "INSERT INTO s VALUES \n",
    "    (0, 'Apricot'),\n",
    "    (1, 'Boots'),\n",
    "    (2, 'Cally'),\n",
    "    (4, 'Eugene');\n",
    "\n",
    "CREATE TABLE t(\n",
    "    id INTEGER PRIMARY KEY,\n",
    "    breed TEXT\n",
    ");\n",
    "\n",
    "INSERT INTO t VALUES \n",
    "    (1, 'persian'),\n",
    "    (2, 'ragdoll'),\n",
    "    (4, 'bengal'),\n",
    "    (5, 'persian');\n",
    "\"\"\");"
   ]
  },
  {
   "cell_type": "code",
   "execution_count": 4,
   "metadata": {},
   "outputs": [
    {
     "name": "stdout",
     "output_type": "stream",
     "text": [
      "sql> SELECT * FROM s;\n",
      "(0, 'Apricot')\n",
      "(1, 'Boots')\n",
      "(2, 'Cally')\n",
      "(4, 'Eugene')\n",
      "sql> SELECT * FROM t;\n",
      "(1, 'persian')\n",
      "(2, 'ragdoll')\n",
      "(4, 'bengal')\n",
      "(5, 'persian')\n"
     ]
    }
   ],
   "source": [
    "def print_sql(s):\n",
    "    first, *rest = s.strip().split('\\n')\n",
    "    print(f'sql> {first}')\n",
    "    for line in rest:\n",
    "        print(f'...> {line}')\n",
    "    for result in conn.execute(s):\n",
    "        print(result)\n",
    "\n",
    "print_sql('SELECT * FROM s;')\n",
    "print_sql('SELECT * FROM t;')"
   ]
  },
  {
   "cell_type": "code",
   "execution_count": 5,
   "metadata": {},
   "outputs": [
    {
     "name": "stdout",
     "output_type": "stream",
     "text": [
      "sql> SELECT *\n",
      "...> FROM s\n",
      "...> WHERE id >= 2;\n",
      "(2, 'Cally')\n",
      "(4, 'Eugene')\n"
     ]
    }
   ],
   "source": [
    "query = '''\n",
    "SELECT *\n",
    "FROM s\n",
    "WHERE id >= 2;\n",
    "'''\n",
    "\n",
    "print_sql(query)"
   ]
  },
  {
   "cell_type": "code",
   "execution_count": 6,
   "metadata": {},
   "outputs": [
    {
     "name": "stdout",
     "output_type": "stream",
     "text": [
      "sql> SELECT *\n",
      "...> FROM s, t\n",
      "(0, 'Apricot', 1, 'persian')\n",
      "(0, 'Apricot', 2, 'ragdoll')\n",
      "(0, 'Apricot', 4, 'bengal')\n",
      "(0, 'Apricot', 5, 'persian')\n",
      "(1, 'Boots', 1, 'persian')\n",
      "(1, 'Boots', 2, 'ragdoll')\n",
      "(1, 'Boots', 4, 'bengal')\n",
      "(1, 'Boots', 5, 'persian')\n",
      "(2, 'Cally', 1, 'persian')\n",
      "(2, 'Cally', 2, 'ragdoll')\n",
      "(2, 'Cally', 4, 'bengal')\n",
      "(2, 'Cally', 5, 'persian')\n",
      "(4, 'Eugene', 1, 'persian')\n",
      "(4, 'Eugene', 2, 'ragdoll')\n",
      "(4, 'Eugene', 4, 'bengal')\n",
      "(4, 'Eugene', 5, 'persian')\n"
     ]
    }
   ],
   "source": [
    "#cross join\n",
    "query = '''\n",
    "SELECT *\n",
    "FROM s, t\n",
    "'''\n",
    "print_sql(query)"
   ]
  },
  {
   "cell_type": "code",
   "execution_count": 7,
   "metadata": {},
   "outputs": [
    {
     "name": "stdout",
     "output_type": "stream",
     "text": [
      "sql> SELECT *\n",
      "...> FROM s JOIN t\n",
      "...>   ON s.id = t.id\n",
      "(1, 'Boots', 1, 'persian')\n",
      "(2, 'Cally', 2, 'ragdoll')\n",
      "(4, 'Eugene', 4, 'bengal')\n"
     ]
    }
   ],
   "source": [
    "#inner join\n",
    "query = '''\n",
    "SELECT *\n",
    "FROM s JOIN t\n",
    "  ON s.id = t.id\n",
    "'''\n",
    "print_sql(query)"
   ]
  },
  {
   "cell_type": "code",
   "execution_count": 8,
   "metadata": {},
   "outputs": [
    {
     "name": "stdout",
     "output_type": "stream",
     "text": [
      "sql> SELECT *\n",
      "...> FROM s LEFT JOIN t\n",
      "...>   ON s.id = t.id\n",
      "(0, 'Apricot', None, None)\n",
      "(1, 'Boots', 1, 'persian')\n",
      "(2, 'Cally', 2, 'ragdoll')\n",
      "(4, 'Eugene', 4, 'bengal')\n"
     ]
    }
   ],
   "source": [
    "#left inner join\n",
    "query = '''\n",
    "SELECT *\n",
    "FROM s LEFT JOIN t\n",
    "  ON s.id = t.id\n",
    "'''\n",
    "print_sql(query)"
   ]
  },
  {
   "cell_type": "code",
   "execution_count": 9,
   "metadata": {},
   "outputs": [
    {
     "name": "stdout",
     "output_type": "stream",
     "text": [
      "sql> SELECT *\n",
      "...> FROM t LEFT JOIN s\n",
      "...>   ON s.id = t.id\n",
      "(1, 'persian', 1, 'Boots')\n",
      "(2, 'ragdoll', 2, 'Cally')\n",
      "(4, 'bengal', 4, 'Eugene')\n",
      "(5, 'persian', None, None)\n"
     ]
    }
   ],
   "source": [
    "#right inner join unsupported, so we have to switch s and t\n",
    "query = '''\n",
    "SELECT *\n",
    "FROM t LEFT JOIN s\n",
    "  ON s.id = t.id\n",
    "'''\n",
    "print_sql(query)"
   ]
  },
  {
   "cell_type": "markdown",
   "metadata": {},
   "source": [
    "Doing an outer join is possible but is not very concise and requires UNION keyword. Not shown here."
   ]
  },
  {
   "cell_type": "markdown",
   "metadata": {},
   "source": [
    "## Legislator Example"
   ]
  },
  {
   "cell_type": "code",
   "execution_count": 10,
   "metadata": {},
   "outputs": [],
   "source": [
    "pd.set_option('display.max_columns', None)\n",
    "pd.set_option('display.max_rows', 5)"
   ]
  },
  {
   "cell_type": "markdown",
   "metadata": {},
   "source": [
    "In lecture 12, we wanted to create a table where every row contained the age of a congressperson on January 25th of a given year. Our ultimate goal was to produce the plot below:"
   ]
  },
  {
   "cell_type": "markdown",
   "metadata": {},
   "source": [
    "![legislator_figure.png](legislator_figure.png)"
   ]
  },
  {
   "cell_type": "markdown",
   "metadata": {},
   "source": [
    "First we created a table with each legislator's terms."
   ]
  },
  {
   "cell_type": "code",
   "execution_count": 11,
   "metadata": {},
   "outputs": [
    {
     "data": {
      "text/html": [
       "<div>\n",
       "<style scoped>\n",
       "    .dataframe tbody tr th:only-of-type {\n",
       "        vertical-align: middle;\n",
       "    }\n",
       "\n",
       "    .dataframe tbody tr th {\n",
       "        vertical-align: top;\n",
       "    }\n",
       "\n",
       "    .dataframe thead th {\n",
       "        text-align: right;\n",
       "    }\n",
       "</style>\n",
       "<table border=\"1\" class=\"dataframe\">\n",
       "  <thead>\n",
       "    <tr style=\"text-align: right;\">\n",
       "      <th></th>\n",
       "      <th>leg_id</th>\n",
       "      <th>term</th>\n",
       "      <th>type</th>\n",
       "      <th>start</th>\n",
       "      <th>end</th>\n",
       "      <th>first</th>\n",
       "      <th>last</th>\n",
       "      <th>terms</th>\n",
       "      <th>birthday</th>\n",
       "    </tr>\n",
       "  </thead>\n",
       "  <tbody>\n",
       "    <tr>\n",
       "      <td>41917</td>\n",
       "      <td>G000562</td>\n",
       "      <td>1</td>\n",
       "      <td>House</td>\n",
       "      <td>2011-01-05</td>\n",
       "      <td>2013-01-03</td>\n",
       "      <td>Cory</td>\n",
       "      <td>Gardner</td>\n",
       "      <td>3</td>\n",
       "      <td>1974-08-22</td>\n",
       "    </tr>\n",
       "    <tr>\n",
       "      <td>41918</td>\n",
       "      <td>G000562</td>\n",
       "      <td>2</td>\n",
       "      <td>House</td>\n",
       "      <td>2013-01-03</td>\n",
       "      <td>2015-01-03</td>\n",
       "      <td>Cory</td>\n",
       "      <td>Gardner</td>\n",
       "      <td>3</td>\n",
       "      <td>1974-08-22</td>\n",
       "    </tr>\n",
       "    <tr>\n",
       "      <td>41919</td>\n",
       "      <td>G000562</td>\n",
       "      <td>3</td>\n",
       "      <td>Senate</td>\n",
       "      <td>2015-01-06</td>\n",
       "      <td>2021-01-03</td>\n",
       "      <td>Cory</td>\n",
       "      <td>Gardner</td>\n",
       "      <td>3</td>\n",
       "      <td>1974-08-22</td>\n",
       "    </tr>\n",
       "    <tr>\n",
       "      <td>43620</td>\n",
       "      <td>B001288</td>\n",
       "      <td>1</td>\n",
       "      <td>Senate</td>\n",
       "      <td>2013-10-31</td>\n",
       "      <td>2015-01-03</td>\n",
       "      <td>Cory</td>\n",
       "      <td>Booker</td>\n",
       "      <td>2</td>\n",
       "      <td>1969-04-27</td>\n",
       "    </tr>\n",
       "    <tr>\n",
       "      <td>43621</td>\n",
       "      <td>B001288</td>\n",
       "      <td>2</td>\n",
       "      <td>Senate</td>\n",
       "      <td>2015-01-06</td>\n",
       "      <td>2021-01-03</td>\n",
       "      <td>Cory</td>\n",
       "      <td>Booker</td>\n",
       "      <td>2</td>\n",
       "      <td>1969-04-27</td>\n",
       "    </tr>\n",
       "  </tbody>\n",
       "</table>\n",
       "</div>"
      ],
      "text/plain": [
       "        leg_id  term    type      start        end first     last  terms  \\\n",
       "41917  G000562     1   House 2011-01-05 2013-01-03  Cory  Gardner      3   \n",
       "41918  G000562     2   House 2013-01-03 2015-01-03  Cory  Gardner      3   \n",
       "41919  G000562     3  Senate 2015-01-06 2021-01-03  Cory  Gardner      3   \n",
       "43620  B001288     1  Senate 2013-10-31 2015-01-03  Cory   Booker      2   \n",
       "43621  B001288     2  Senate 2015-01-06 2021-01-03  Cory   Booker      2   \n",
       "\n",
       "        birthday  \n",
       "41917 1974-08-22  \n",
       "41918 1974-08-22  \n",
       "41919 1974-08-22  \n",
       "43620 1969-04-27  \n",
       "43621 1969-04-27  "
      ]
     },
     "execution_count": 11,
     "metadata": {},
     "output_type": "execute_result"
    }
   ],
   "source": [
    "legs_with_terms = pd.read_csv(\"legs_with_terms.csv\")\n",
    "legs_with_terms = legs_with_terms.drop([\"state\", \"party\", \"gender\"], axis = 1)\n",
    "legs_with_terms[\"start\"] = pd.to_datetime(legs_with_terms[\"start\"])\n",
    "legs_with_terms[\"end\"] = pd.to_datetime(legs_with_terms[\"end\"])\n",
    "legs_with_terms[\"birthday\"] = pd.to_datetime(legs_with_terms[\"birthday\"])\n",
    "legs_with_terms.query(\"first == 'Cory'\")\n",
    "#legs_with_terms.iloc[[24003, 24004, 24005, -2, -1], :]"
   ]
  },
  {
   "cell_type": "markdown",
   "metadata": {},
   "source": [
    "Above, each row gives the date that each congressperson began each of their terms. This is not quite what we want.\n",
    "\n",
    "Instead, we want to know the date that each congressperson was on January 25th of the given year. For example, above, we'd want to compute that Cory Gardner was 36, 38, 40, 42, and 44 in the years 2011, 2013, 2015, 2017, 2019 and that Cory Booker was 45, 47, and 49 in the years 2015, 2017, and 2019."
   ]
  },
  {
   "cell_type": "markdown",
   "metadata": {},
   "source": [
    "To do this, we created a series of dates corresponding to January 25th of each year, starting in 1941 (we ignored sessions of congress before 1941)."
   ]
  },
  {
   "cell_type": "code",
   "execution_count": 12,
   "metadata": {},
   "outputs": [
    {
     "data": {
      "text/html": [
       "<div>\n",
       "<style scoped>\n",
       "    .dataframe tbody tr th:only-of-type {\n",
       "        vertical-align: middle;\n",
       "    }\n",
       "\n",
       "    .dataframe tbody tr th {\n",
       "        vertical-align: top;\n",
       "    }\n",
       "\n",
       "    .dataframe thead th {\n",
       "        text-align: right;\n",
       "    }\n",
       "</style>\n",
       "<table border=\"1\" class=\"dataframe\">\n",
       "  <thead>\n",
       "    <tr style=\"text-align: right;\">\n",
       "      <th></th>\n",
       "      <th>target_dates</th>\n",
       "    </tr>\n",
       "  </thead>\n",
       "  <tbody>\n",
       "    <tr>\n",
       "      <td>0</td>\n",
       "      <td>1941-01-25</td>\n",
       "    </tr>\n",
       "    <tr>\n",
       "      <td>1</td>\n",
       "      <td>1943-01-25</td>\n",
       "    </tr>\n",
       "    <tr>\n",
       "      <td>...</td>\n",
       "      <td>...</td>\n",
       "    </tr>\n",
       "    <tr>\n",
       "      <td>38</td>\n",
       "      <td>2017-01-25</td>\n",
       "    </tr>\n",
       "    <tr>\n",
       "      <td>39</td>\n",
       "      <td>2019-01-25</td>\n",
       "    </tr>\n",
       "  </tbody>\n",
       "</table>\n",
       "<p>40 rows × 1 columns</p>\n",
       "</div>"
      ],
      "text/plain": [
       "   target_dates\n",
       "0    1941-01-25\n",
       "1    1943-01-25\n",
       "..          ...\n",
       "38   2017-01-25\n",
       "39   2019-01-25\n",
       "\n",
       "[40 rows x 1 columns]"
      ]
     },
     "execution_count": 12,
     "metadata": {},
     "output_type": "execute_result"
    }
   ],
   "source": [
    "target_dates = pd.to_datetime([f'01-25-{n}' for n in range(1941, 2020, 2)])\n",
    "#the line below is just a fancy way of making the target_dates object look nice\n",
    "target_dates.to_frame().reset_index().drop(\"index\", axis = 1).rename(columns = {0: \"target_dates\"})"
   ]
  },
  {
   "cell_type": "markdown",
   "metadata": {},
   "source": [
    "With some clever joining we can combine these two tables. First we create a SQL database and put our two tables from above into this database."
   ]
  },
  {
   "cell_type": "code",
   "execution_count": 14,
   "metadata": {},
   "outputs": [
    {
     "name": "stdout",
     "output_type": "stream",
     "text": [
      "CREATE TABLE \"legs_with_terms\" (\n",
      "\"index\" INTEGER,\n",
      "  \"leg_id\" TEXT,\n",
      "  \"term\" INTEGER,\n",
      "  \"type\" TEXT,\n",
      "  \"start\" TIMESTAMP,\n",
      "  \"end\" TIMESTAMP,\n",
      "  \"first\" TEXT,\n",
      "  \"last\" TEXT,\n",
      "  \"terms\" INTEGER,\n",
      "  \"birthday\" TIMESTAMP\n",
      ")\n",
      "CREATE INDEX \"ix_legs_with_terms_index\"ON \"legs_with_terms\" (\"index\")\n",
      "CREATE TABLE \"target_dates\" (\n",
      "\"index\" INTEGER,\n",
      "  \"target_date\" TIMESTAMP\n",
      ")\n",
      "CREATE INDEX \"ix_target_dates_index\"ON \"target_dates\" (\"index\")\n"
     ]
    }
   ],
   "source": [
    "import sqlite3\n",
    "conn = sqlite3.connect(':memory:')\n",
    "legs_with_terms.to_sql(\"legs_with_terms\", conn)\n",
    "pd.DataFrame({'target_date': target_dates}).to_sql('target_dates', conn)\n",
    "for exp in conn.execute('SELECT sql FROM sqlite_master'):\n",
    "    print(exp[0])"
   ]
  },
  {
   "cell_type": "markdown",
   "metadata": {},
   "source": [
    "All it takes is a clever join condition. "
   ]
  },
  {
   "cell_type": "code",
   "execution_count": 15,
   "metadata": {
    "scrolled": true
   },
   "outputs": [
    {
     "data": {
      "text/html": [
       "<div>\n",
       "<style scoped>\n",
       "    .dataframe tbody tr th:only-of-type {\n",
       "        vertical-align: middle;\n",
       "    }\n",
       "\n",
       "    .dataframe tbody tr th {\n",
       "        vertical-align: top;\n",
       "    }\n",
       "\n",
       "    .dataframe thead th {\n",
       "        text-align: right;\n",
       "    }\n",
       "</style>\n",
       "<table border=\"1\" class=\"dataframe\">\n",
       "  <thead>\n",
       "    <tr style=\"text-align: right;\">\n",
       "      <th></th>\n",
       "      <th>target_date</th>\n",
       "      <th>type</th>\n",
       "      <th>first</th>\n",
       "      <th>last</th>\n",
       "      <th>birthday</th>\n",
       "      <th>age</th>\n",
       "    </tr>\n",
       "  </thead>\n",
       "  <tbody>\n",
       "    <tr>\n",
       "      <td>19573</td>\n",
       "      <td>2011-01-25 00:00:00</td>\n",
       "      <td>House</td>\n",
       "      <td>Cory</td>\n",
       "      <td>Gardner</td>\n",
       "      <td>1974-08-22 00:00:00</td>\n",
       "      <td>37.0</td>\n",
       "    </tr>\n",
       "    <tr>\n",
       "      <td>19574</td>\n",
       "      <td>2013-01-25 00:00:00</td>\n",
       "      <td>House</td>\n",
       "      <td>Cory</td>\n",
       "      <td>Gardner</td>\n",
       "      <td>1974-08-22 00:00:00</td>\n",
       "      <td>39.0</td>\n",
       "    </tr>\n",
       "    <tr>\n",
       "      <td>...</td>\n",
       "      <td>...</td>\n",
       "      <td>...</td>\n",
       "      <td>...</td>\n",
       "      <td>...</td>\n",
       "      <td>...</td>\n",
       "      <td>...</td>\n",
       "    </tr>\n",
       "    <tr>\n",
       "      <td>21384</td>\n",
       "      <td>2017-01-25 00:00:00</td>\n",
       "      <td>Senate</td>\n",
       "      <td>Cory</td>\n",
       "      <td>Booker</td>\n",
       "      <td>1969-04-27 00:00:00</td>\n",
       "      <td>48.0</td>\n",
       "    </tr>\n",
       "    <tr>\n",
       "      <td>21385</td>\n",
       "      <td>2019-01-25 00:00:00</td>\n",
       "      <td>Senate</td>\n",
       "      <td>Cory</td>\n",
       "      <td>Booker</td>\n",
       "      <td>1969-04-27 00:00:00</td>\n",
       "      <td>50.0</td>\n",
       "    </tr>\n",
       "  </tbody>\n",
       "</table>\n",
       "<p>8 rows × 6 columns</p>\n",
       "</div>"
      ],
      "text/plain": [
       "               target_date    type first     last             birthday   age\n",
       "19573  2011-01-25 00:00:00   House  Cory  Gardner  1974-08-22 00:00:00  37.0\n",
       "19574  2013-01-25 00:00:00   House  Cory  Gardner  1974-08-22 00:00:00  39.0\n",
       "...                    ...     ...   ...      ...                  ...   ...\n",
       "21384  2017-01-25 00:00:00  Senate  Cory   Booker  1969-04-27 00:00:00  48.0\n",
       "21385  2019-01-25 00:00:00  Senate  Cory   Booker  1969-04-27 00:00:00  50.0\n",
       "\n",
       "[8 rows x 6 columns]"
      ]
     },
     "execution_count": 15,
     "metadata": {},
     "output_type": "execute_result"
    }
   ],
   "source": [
    "query = \"\"\"\n",
    "    SELECT target_date, type, first, last, \n",
    "           birthday, target_date - birthday AS age\n",
    "    FROM legs_with_terms, target_dates \n",
    "    WHERE start <= target_date AND target_date < end\n",
    "    \"\"\"\n",
    "\n",
    "df_sql = pd.read_sql(query, conn)\n",
    "df_sql.query(\"first == 'Cory'\")"
   ]
  },
  {
   "cell_type": "markdown",
   "metadata": {},
   "source": [
    "#### Pandas Version"
   ]
  },
  {
   "cell_type": "markdown",
   "metadata": {},
   "source": [
    "In pandas, we have to somehow combine our two tables (legs_with_terms and target_dates). Doing this efficiently in pandas is hard and requires some fairly tricky syntax that I basically just copied from stack overflow and don't fully understand. The code I used in lecture 12 is below"
   ]
  },
  {
   "cell_type": "code",
   "execution_count": 38,
   "metadata": {},
   "outputs": [],
   "source": [
    "# a bit of hack inspired by https://stackoverflow.com/questions/44367672/best-way-to-join-merge-by-range-in-pandas\n",
    "\n",
    "dates_of_interest = target_dates.values\n",
    "term_endings = legs_with_terms[\"end\"].values\n",
    "term_beginnings = legs_with_terms[\"start\"].values\n",
    "\n",
    "i, j = np.where((dates_of_interest[:, None] >= term_beginnings) \n",
    "                & (dates_of_interest[:, None] <= term_endings))\n",
    "\n",
    "df_pandas = pd.DataFrame(\n",
    "    np.column_stack([target_dates.values[i], legs_with_terms.values[j]]),\n",
    "    columns=pd.Index([\"target_date\"]).append(legs_with_terms.columns)\n",
    ")\n",
    "df_pandas = df_pandas.astype({\"target_date\": \"datetime64[ns]\"})\n",
    "\n",
    "df_pandas[\"age\"] = np.round((df_pandas[\"target_date\"] - df_pandas[\"birthday\"]).dt.days / 365.0, 2)"
   ]
  },
  {
   "cell_type": "code",
   "execution_count": 39,
   "metadata": {},
   "outputs": [
    {
     "data": {
      "text/html": [
       "<div>\n",
       "<style scoped>\n",
       "    .dataframe tbody tr th:only-of-type {\n",
       "        vertical-align: middle;\n",
       "    }\n",
       "\n",
       "    .dataframe tbody tr th {\n",
       "        vertical-align: top;\n",
       "    }\n",
       "\n",
       "    .dataframe thead th {\n",
       "        text-align: right;\n",
       "    }\n",
       "</style>\n",
       "<table border=\"1\" class=\"dataframe\">\n",
       "  <thead>\n",
       "    <tr style=\"text-align: right;\">\n",
       "      <th></th>\n",
       "      <th>target_date</th>\n",
       "      <th>leg_id</th>\n",
       "      <th>term</th>\n",
       "      <th>type</th>\n",
       "      <th>start</th>\n",
       "      <th>end</th>\n",
       "      <th>first</th>\n",
       "      <th>last</th>\n",
       "      <th>terms</th>\n",
       "      <th>birthday</th>\n",
       "      <th>age</th>\n",
       "    </tr>\n",
       "  </thead>\n",
       "  <tbody>\n",
       "    <tr>\n",
       "      <td>19442</td>\n",
       "      <td>2011-01-25</td>\n",
       "      <td>G000562</td>\n",
       "      <td>1</td>\n",
       "      <td>House</td>\n",
       "      <td>2011-01-05</td>\n",
       "      <td>2013-01-03</td>\n",
       "      <td>Cory</td>\n",
       "      <td>Gardner</td>\n",
       "      <td>3</td>\n",
       "      <td>1974-08-22</td>\n",
       "      <td>36.45</td>\n",
       "    </tr>\n",
       "    <tr>\n",
       "      <td>19912</td>\n",
       "      <td>2013-01-25</td>\n",
       "      <td>G000562</td>\n",
       "      <td>2</td>\n",
       "      <td>House</td>\n",
       "      <td>2013-01-03</td>\n",
       "      <td>2015-01-03</td>\n",
       "      <td>Cory</td>\n",
       "      <td>Gardner</td>\n",
       "      <td>3</td>\n",
       "      <td>1974-08-22</td>\n",
       "      <td>38.45</td>\n",
       "    </tr>\n",
       "    <tr>\n",
       "      <td>...</td>\n",
       "      <td>...</td>\n",
       "      <td>...</td>\n",
       "      <td>...</td>\n",
       "      <td>...</td>\n",
       "      <td>...</td>\n",
       "      <td>...</td>\n",
       "      <td>...</td>\n",
       "      <td>...</td>\n",
       "      <td>...</td>\n",
       "      <td>...</td>\n",
       "      <td>...</td>\n",
       "    </tr>\n",
       "    <tr>\n",
       "      <td>21318</td>\n",
       "      <td>2019-01-25</td>\n",
       "      <td>G000562</td>\n",
       "      <td>3</td>\n",
       "      <td>Senate</td>\n",
       "      <td>2015-01-06</td>\n",
       "      <td>2021-01-03</td>\n",
       "      <td>Cory</td>\n",
       "      <td>Gardner</td>\n",
       "      <td>3</td>\n",
       "      <td>1974-08-22</td>\n",
       "      <td>44.46</td>\n",
       "    </tr>\n",
       "    <tr>\n",
       "      <td>21545</td>\n",
       "      <td>2019-01-25</td>\n",
       "      <td>B001288</td>\n",
       "      <td>2</td>\n",
       "      <td>Senate</td>\n",
       "      <td>2015-01-06</td>\n",
       "      <td>2021-01-03</td>\n",
       "      <td>Cory</td>\n",
       "      <td>Booker</td>\n",
       "      <td>2</td>\n",
       "      <td>1969-04-27</td>\n",
       "      <td>49.78</td>\n",
       "    </tr>\n",
       "  </tbody>\n",
       "</table>\n",
       "<p>8 rows × 11 columns</p>\n",
       "</div>"
      ],
      "text/plain": [
       "      target_date   leg_id term    type      start        end first     last  \\\n",
       "19442  2011-01-25  G000562    1   House 2011-01-05 2013-01-03  Cory  Gardner   \n",
       "19912  2013-01-25  G000562    2   House 2013-01-03 2015-01-03  Cory  Gardner   \n",
       "...           ...      ...  ...     ...        ...        ...   ...      ...   \n",
       "21318  2019-01-25  G000562    3  Senate 2015-01-06 2021-01-03  Cory  Gardner   \n",
       "21545  2019-01-25  B001288    2  Senate 2015-01-06 2021-01-03  Cory   Booker   \n",
       "\n",
       "      terms   birthday    age  \n",
       "19442     3 1974-08-22  36.45  \n",
       "19912     3 1974-08-22  38.45  \n",
       "...     ...        ...    ...  \n",
       "21318     3 1974-08-22  44.46  \n",
       "21545     2 1969-04-27  49.78  \n",
       "\n",
       "[8 rows x 11 columns]"
      ]
     },
     "execution_count": 39,
     "metadata": {},
     "output_type": "execute_result"
    }
   ],
   "source": [
    "df_pandas.query(\"first == 'Cory'\") "
   ]
  },
  {
   "cell_type": "markdown",
   "metadata": {},
   "source": [
    "## IMDB Data"
   ]
  },
  {
   "cell_type": "code",
   "execution_count": 40,
   "metadata": {},
   "outputs": [],
   "source": [
    "data_directory = './'"
   ]
  },
  {
   "cell_type": "code",
   "execution_count": 41,
   "metadata": {
    "scrolled": true
   },
   "outputs": [
    {
     "name": "stdout",
     "output_type": "stream",
     "text": [
      "Using cached version that was downloaded (UTC): Tue Nov 19 06:02:39 2019\n",
      "Using cached version that was downloaded (UTC): Tue Nov 19 06:02:44 2019\n",
      "total 2.5G\n",
      "-rwxrwxrwx 1 hug hug 1.2G Nov 19 09:11 imdb.db\n",
      "-rwxrwxrwx 1 hug hug 554M Nov 19 06:02 names.tsv\n",
      "-rwxrwxrwx 1 hug hug 181M Nov 19 06:02 names.tsv.gz\n",
      "-rwxrwxrwx 1 hug hug 513M Nov 19 06:02 titles.tsv\n",
      "-rwxrwxrwx 1 hug hug 108M Nov 19 06:02 titles.tsv.gz\n"
     ]
    }
   ],
   "source": [
    "# From https://www.imdb.com/interfaces/\n",
    "fetch_and_cache('https://datasets.imdbws.com/title.basics.tsv.gz', 'titles.tsv.gz', data_directory)\n",
    "fetch_and_cache('https://datasets.imdbws.com/name.basics.tsv.gz', 'names.tsv.gz', data_directory)\n",
    "!gunzip -kf {data_directory}/titles.tsv.gz\n",
    "!gunzip -kf {data_directory}/names.tsv.gz\n",
    "!ls -lh {data_directory}"
   ]
  },
  {
   "cell_type": "code",
   "execution_count": 42,
   "metadata": {
    "scrolled": true
   },
   "outputs": [],
   "source": [
    "# Running the line below will probaly crash your kernel because the names \n",
    "# dataset is too big to comfortable fit into main memory. \n",
    "#pd.read_csv(f'{data_directory}/names.tsv', sep='\\t')"
   ]
  },
  {
   "cell_type": "code",
   "execution_count": 43,
   "metadata": {},
   "outputs": [],
   "source": [
    "# Using sqlite3 instead allows us to (must be run from the terminal)\n",
    "# note: To close sqlite3, press ctrl-d\n",
    "\"\"\"\n",
    "$ sqlite3 imdb.db\n",
    "sqlite> .mode tabs\n",
    "sqlite> .import titles.tsv titles\n",
    "sqlite> .import names.tsv names\n",
    "\"\"\";"
   ]
  },
  {
   "cell_type": "markdown",
   "metadata": {},
   "source": [
    "While the code above runs, let's explore the data files a bit."
   ]
  },
  {
   "cell_type": "code",
   "execution_count": 44,
   "metadata": {
    "scrolled": true
   },
   "outputs": [
    {
     "name": "stdout",
     "output_type": "stream",
     "text": [
      "   9708708   66861040  579862674 /home/hug/X/temp/lec24/names.tsv\n",
      "   6323825   85897998  537278118 /home/hug/X/temp/lec24/titles.tsv\n",
      "  16032533  152759038 1117140792 total\n"
     ]
    }
   ],
   "source": [
    "!wc {data_directory}/*.tsv"
   ]
  },
  {
   "cell_type": "code",
   "execution_count": 45,
   "metadata": {},
   "outputs": [
    {
     "name": "stdout",
     "output_type": "stream",
     "text": [
      "tconst\ttitleType\tprimaryTitle\toriginalTitle\tisAdult\tstartYear\tendYear\truntimeMinutes\tgenres\r\n",
      "tt0000001\tshort\tCarmencita\tCarmencita\t0\t1894\t\\N\t1\tDocumentary,Short\r\n",
      "tt0000002\tshort\tLe clown et ses chiens\tLe clown et ses chiens\t0\t1892\t\\N\t5\tAnimation,Short\r\n",
      "tt0000003\tshort\tPauvre Pierrot\tPauvre Pierrot\t0\t1892\t\\N\t4\tAnimation,Comedy,Romance\r\n",
      "tt0000004\tshort\tUn bon bock\tUn bon bock\t0\t1892\t\\N\t\\N\tAnimation,Short\r\n"
     ]
    }
   ],
   "source": [
    "!head -n5 {data_directory}/titles.tsv"
   ]
  },
  {
   "cell_type": "code",
   "execution_count": 46,
   "metadata": {},
   "outputs": [
    {
     "name": "stdout",
     "output_type": "stream",
     "text": [
      "nconst\tprimaryName\tbirthYear\tdeathYear\tprimaryProfession\tknownForTitles\r\n",
      "nm0000001\tFred Astaire\t1899\t1987\tsoundtrack,actor,miscellaneous\ttt0050419,tt0043044,tt0053137,tt0072308\r\n",
      "nm0000002\tLauren Bacall\t1924\t2014\tactress,soundtrack\ttt0117057,tt0038355,tt0071877,tt0037382\r\n",
      "nm0000003\tBrigitte Bardot\t1934\t\\N\tactress,soundtrack,producer\ttt0057345,tt0054452,tt0049189,tt0059956\r\n",
      "nm0000004\tJohn Belushi\t1949\t1982\tactor,writer,soundtrack\ttt0078723,tt0080455,tt0077975,tt0072562\r\n"
     ]
    }
   ],
   "source": [
    "!head -n5 {data_directory}/names.tsv"
   ]
  },
  {
   "cell_type": "code",
   "execution_count": 47,
   "metadata": {},
   "outputs": [
    {
     "name": "stdout",
     "output_type": "stream",
     "text": [
      "sql> SELECT * FROM titles LIMIT 10;\n",
      "('tt0000001', 'short', 'Carmencita', 'Carmencita', '0', '1894', '\\\\N', '1', 'Documentary,Short')\n",
      "('tt0000002', 'short', 'Le clown et ses chiens', 'Le clown et ses chiens', '0', '1892', '\\\\N', '5', 'Animation,Short')\n",
      "('tt0000003', 'short', 'Pauvre Pierrot', 'Pauvre Pierrot', '0', '1892', '\\\\N', '4', 'Animation,Comedy,Romance')\n",
      "('tt0000004', 'short', 'Un bon bock', 'Un bon bock', '0', '1892', '\\\\N', '\\\\N', 'Animation,Short')\n",
      "('tt0000005', 'short', 'Blacksmith Scene', 'Blacksmith Scene', '0', '1893', '\\\\N', '1', 'Comedy,Short')\n",
      "('tt0000006', 'short', 'Chinese Opium Den', 'Chinese Opium Den', '0', '1894', '\\\\N', '1', 'Short')\n",
      "('tt0000007', 'short', 'Corbett and Courtney Before the Kinetograph', 'Corbett and Courtney Before the Kinetograph', '0', '1894', '\\\\N', '1', 'Short,Sport')\n",
      "('tt0000008', 'short', 'Edison Kinetoscopic Record of a Sneeze', 'Edison Kinetoscopic Record of a Sneeze', '0', '1894', '\\\\N', '1', 'Documentary,Short')\n",
      "('tt0000009', 'movie', 'Miss Jerry', 'Miss Jerry', '0', '1894', '\\\\N', '45', 'Romance')\n",
      "('tt0000010', 'short', 'Exiting the Factory', \"La sortie de l'usine Lumière à Lyon\", '0', '1895', '\\\\N', '1', 'Documentary,Short')\n"
     ]
    }
   ],
   "source": [
    "conn = sqlite3.connect(data_directory + '/imdb.db')\n",
    "print_sql('SELECT * FROM titles LIMIT 10;')"
   ]
  },
  {
   "cell_type": "code",
   "execution_count": 48,
   "metadata": {},
   "outputs": [
    {
     "name": "stdout",
     "output_type": "stream",
     "text": [
      "CREATE TABLE titles(\n",
      "  \"tconst\" TEXT,\n",
      "  \"titleType\" TEXT,\n",
      "  \"primaryTitle\" TEXT,\n",
      "  \"originalTitle\" TEXT,\n",
      "  \"isAdult\" TEXT,\n",
      "  \"startYear\" TEXT,\n",
      "  \"endYear\" TEXT,\n",
      "  \"runtimeMinutes\" TEXT,\n",
      "  \"genres\" TEXT\n",
      ")\n",
      "CREATE TABLE names(\n",
      "  \"nconst\" TEXT,\n",
      "  \"primaryName\" TEXT,\n",
      "  \"birthYear\" TEXT,\n",
      "  \"deathYear\" TEXT,\n",
      "  \"primaryProfession\" TEXT,\n",
      "  \"knownForTitles\" TEXT\n",
      ")\n",
      "CREATE TABLE \"action\"(\n",
      "  id TEXT,\n",
      "  title TEXT,\n",
      "  time INT,\n",
      "  year INT\n",
      ")\n",
      "CREATE TABLE action_movie(\n",
      "  id TEXT,\n",
      "  title TEXT,\n",
      "  time INT,\n",
      "  year INT\n",
      ")\n",
      "CREATE TABLE action_ppl(\n",
      "  name TEXT,\n",
      "  profession,\n",
      "  born INT,\n",
      "  title TEXT,\n",
      "  year INT\n",
      ")\n"
     ]
    }
   ],
   "source": [
    "for exp in conn.execute('SELECT sql FROM sqlite_master;'):\n",
    "    print(exp[0])"
   ]
  },
  {
   "cell_type": "code",
   "execution_count": 49,
   "metadata": {},
   "outputs": [
    {
     "data": {
      "text/plain": [
       "'John is here'"
      ]
     },
     "execution_count": 49,
     "metadata": {},
     "output_type": "execute_result"
    }
   ],
   "source": [
    "# Reminder: Python f strings\n",
    "who, where = 'John', 'here'\n",
    "f\"{who} is {where}\""
   ]
  },
  {
   "cell_type": "code",
   "execution_count": 50,
   "metadata": {},
   "outputs": [
    {
     "name": "stdout",
     "output_type": "stream",
     "text": [
      "sql> SELECT primaryTitle AS title, \n",
      "...>   runtimeMinutes AS time\n",
      "...> FROM titles\n",
      "...> LIMIT 10;\n",
      "('Carmencita', '1')\n",
      "('Le clown et ses chiens', '5')\n",
      "('Pauvre Pierrot', '4')\n",
      "('Un bon bock', '\\\\N')\n",
      "('Blacksmith Scene', '1')\n",
      "('Chinese Opium Den', '1')\n",
      "('Corbett and Courtney Before the Kinetograph', '1')\n",
      "('Edison Kinetoscopic Record of a Sneeze', '1')\n",
      "('Miss Jerry', '45')\n",
      "('Exiting the Factory', '1')\n"
     ]
    }
   ],
   "source": [
    "get_10_movies = f'''\n",
    "SELECT primaryTitle AS title, \n",
    "  runtimeMinutes AS time\n",
    "FROM titles\n",
    "LIMIT 10;\n",
    "'''\n",
    "\n",
    "print_sql(get_10_movies)"
   ]
  },
  {
   "cell_type": "code",
   "execution_count": 51,
   "metadata": {},
   "outputs": [
    {
     "name": "stdout",
     "output_type": "stream",
     "text": [
      "sql> SELECT primaryTitle AS title, \n",
      "...>   CAST(runtimeMinutes as int) AS time\n",
      "...> FROM titles\n",
      "...> LIMIT 10;\n",
      "('Carmencita', 1)\n",
      "('Le clown et ses chiens', 5)\n",
      "('Pauvre Pierrot', 4)\n",
      "('Un bon bock', 0)\n",
      "('Blacksmith Scene', 1)\n",
      "('Chinese Opium Den', 1)\n",
      "('Corbett and Courtney Before the Kinetograph', 1)\n",
      "('Edison Kinetoscopic Record of a Sneeze', 1)\n",
      "('Miss Jerry', 45)\n",
      "('Exiting the Factory', 1)\n"
     ]
    }
   ],
   "source": [
    "get_10_movies_time_as_int = f'''\n",
    "SELECT primaryTitle AS title, \n",
    "  CAST(runtimeMinutes as int) AS time\n",
    "FROM titles\n",
    "LIMIT 10;\n",
    "'''\n",
    "\n",
    "print_sql(get_10_movies_time_as_int)"
   ]
  },
  {
   "cell_type": "code",
   "execution_count": 52,
   "metadata": {},
   "outputs": [
    {
     "name": "stdout",
     "output_type": "stream",
     "text": [
      "sql> SELECT * FROM action_movie LIMIT 10\n",
      "('tt0004223', 'The Life of General Villa', 105, 1914)\n",
      "('tt0004450', 'Die Pagode', 82, 1917)\n",
      "('tt0004635', 'The Squaw Man', 74, 1914)\n",
      "('tt0005073', 'The Chalice of Courage', 65, 1915)\n",
      "('tt0006333', '20,000 Leagues Under the Sea', 105, 1916)\n",
      "('tt0006997', 'The Warrior', 95, 1916)\n",
      "('tt0007168', 'Die Peitsche', 85, 1916)\n",
      "('tt0008114', 'Die Hochzeit im Excentricclub', 70, 1917)\n",
      "('tt0008915', 'Bound in Morocco', 64, 1918)\n",
      "('tt0009560', 'The Romance of Tarzan', 70, 1918)\n"
     ]
    }
   ],
   "source": [
    "select_action = f'''\n",
    "SELECT tconst AS id,\n",
    "  primaryTitle AS title, \n",
    "  CAST(runtimeMinutes AS int) AS time, \n",
    "  CAST(startYear AS int) AS year\n",
    "FROM titles\n",
    "WHERE genres LIKE '%Action%' AND\n",
    "  year > 1900 AND \n",
    "  isAdult = '0' AND\n",
    "  titleType = 'movie' AND\n",
    "  time > 60 AND time < 180\n",
    "'''\n",
    "\n",
    "create_action_table = f'''\n",
    "DROP TABLE IF EXISTS action_movie;\n",
    "CREATE TABLE action_movie AS {select_action};\n",
    "'''\n",
    "\n",
    "conn.executescript(create_action_table)\n",
    "print_sql('SELECT * FROM action_movie LIMIT 10')"
   ]
  },
  {
   "cell_type": "markdown",
   "metadata": {},
   "source": [
    "We can check to see whether this table is small enough to read into pandas:"
   ]
  },
  {
   "cell_type": "code",
   "execution_count": 53,
   "metadata": {},
   "outputs": [
    {
     "name": "stdout",
     "output_type": "stream",
     "text": [
      "sql> SELECT COUNT(*) from action_movie\n",
      "(20139,)\n"
     ]
    }
   ],
   "source": [
    "print_sql('SELECT COUNT(*) from action_movie')"
   ]
  },
  {
   "cell_type": "code",
   "execution_count": 54,
   "metadata": {
    "scrolled": true
   },
   "outputs": [
    {
     "data": {
      "text/html": [
       "<div>\n",
       "<style scoped>\n",
       "    .dataframe tbody tr th:only-of-type {\n",
       "        vertical-align: middle;\n",
       "    }\n",
       "\n",
       "    .dataframe tbody tr th {\n",
       "        vertical-align: top;\n",
       "    }\n",
       "\n",
       "    .dataframe thead th {\n",
       "        text-align: right;\n",
       "    }\n",
       "</style>\n",
       "<table border=\"1\" class=\"dataframe\">\n",
       "  <thead>\n",
       "    <tr style=\"text-align: right;\">\n",
       "      <th></th>\n",
       "      <th>id</th>\n",
       "      <th>title</th>\n",
       "      <th>time</th>\n",
       "      <th>year</th>\n",
       "    </tr>\n",
       "  </thead>\n",
       "  <tbody>\n",
       "    <tr>\n",
       "      <td>0</td>\n",
       "      <td>tt0004223</td>\n",
       "      <td>The Life of General Villa</td>\n",
       "      <td>105</td>\n",
       "      <td>1914</td>\n",
       "    </tr>\n",
       "    <tr>\n",
       "      <td>1</td>\n",
       "      <td>tt0004450</td>\n",
       "      <td>Die Pagode</td>\n",
       "      <td>82</td>\n",
       "      <td>1917</td>\n",
       "    </tr>\n",
       "    <tr>\n",
       "      <td>...</td>\n",
       "      <td>...</td>\n",
       "      <td>...</td>\n",
       "      <td>...</td>\n",
       "      <td>...</td>\n",
       "    </tr>\n",
       "    <tr>\n",
       "      <td>20137</td>\n",
       "      <td>tt9904066</td>\n",
       "      <td>Fox Hunting</td>\n",
       "      <td>66</td>\n",
       "      <td>2019</td>\n",
       "    </tr>\n",
       "    <tr>\n",
       "      <td>20138</td>\n",
       "      <td>tt9916190</td>\n",
       "      <td>Safeguard</td>\n",
       "      <td>90</td>\n",
       "      <td>2020</td>\n",
       "    </tr>\n",
       "  </tbody>\n",
       "</table>\n",
       "<p>20139 rows × 4 columns</p>\n",
       "</div>"
      ],
      "text/plain": [
       "              id                      title  time  year\n",
       "0      tt0004223  The Life of General Villa   105  1914\n",
       "1      tt0004450                 Die Pagode    82  1917\n",
       "...          ...                        ...   ...   ...\n",
       "20137  tt9904066                Fox Hunting    66  2019\n",
       "20138  tt9916190                  Safeguard    90  2020\n",
       "\n",
       "[20139 rows x 4 columns]"
      ]
     },
     "execution_count": 54,
     "metadata": {},
     "output_type": "execute_result"
    }
   ],
   "source": [
    "df = pd.read_sql('SELECT * FROM action_movie', conn)\n",
    "df"
   ]
  },
  {
   "cell_type": "code",
   "execution_count": 55,
   "metadata": {},
   "outputs": [
    {
     "data": {
      "text/plain": [
       "(20139, 4)"
      ]
     },
     "execution_count": 55,
     "metadata": {},
     "output_type": "execute_result"
    }
   ],
   "source": [
    "df.shape"
   ]
  },
  {
   "cell_type": "code",
   "execution_count": 56,
   "metadata": {},
   "outputs": [
    {
     "data": {
      "image/png": "[encoded data removed]",
      "text/plain": [
       "<Figure size 432x288 with 1 Axes>"
      ]
     },
     "metadata": {},
     "output_type": "display_data"
    }
   ],
   "source": [
    "df.hist('year');"
   ]
  },
  {
   "cell_type": "code",
   "execution_count": 57,
   "metadata": {},
   "outputs": [
    {
     "data": {
      "image/png": "[encoded data removed]",
      "text/plain": [
       "<Figure size 432x288 with 1 Axes>"
      ]
     },
     "metadata": {},
     "output_type": "display_data"
    }
   ],
   "source": [
    "sns.scatterplot(df['year'], df['time']);"
   ]
  },
  {
   "cell_type": "code",
   "execution_count": 58,
   "metadata": {},
   "outputs": [
    {
     "data": {
      "image/png": "[encoded data removed]",
      "text/plain": [
       "<Figure size 432x288 with 1 Axes>"
      ]
     },
     "metadata": {},
     "output_type": "display_data"
    }
   ],
   "source": [
    "sns.kdeplot(df['year'], df['time']);"
   ]
  },
  {
   "cell_type": "code",
   "execution_count": 59,
   "metadata": {},
   "outputs": [
    {
     "data": {
      "image/png": "[encoded data removed]",
      "text/plain": [
       "<Figure size 432x288 with 1 Axes>"
      ]
     },
     "metadata": {},
     "output_type": "display_data"
    }
   ],
   "source": [
    "df['time'].groupby(df['year']).mean().plot();"
   ]
  },
  {
   "cell_type": "code",
   "execution_count": 60,
   "metadata": {},
   "outputs": [
    {
     "data": {
      "image/png": "[encoded data removed]",
      "text/plain": [
       "<Figure size 432x288 with 1 Axes>"
      ]
     },
     "metadata": {},
     "output_type": "display_data"
    }
   ],
   "source": [
    "df['decade'] = (df['year'] // 10) * 10\n",
    "sns.boxplot('decade', 'time', data=df)\n",
    "plt.xticks(rotation=45);"
   ]
  },
  {
   "cell_type": "markdown",
   "metadata": {},
   "source": [
    "## Sampling in SQL"
   ]
  },
  {
   "cell_type": "code",
   "execution_count": 61,
   "metadata": {},
   "outputs": [
    {
     "data": {
      "text/html": [
       "<div>\n",
       "<style scoped>\n",
       "    .dataframe tbody tr th:only-of-type {\n",
       "        vertical-align: middle;\n",
       "    }\n",
       "\n",
       "    .dataframe tbody tr th {\n",
       "        vertical-align: top;\n",
       "    }\n",
       "\n",
       "    .dataframe thead th {\n",
       "        text-align: right;\n",
       "    }\n",
       "</style>\n",
       "<table border=\"1\" class=\"dataframe\">\n",
       "  <thead>\n",
       "    <tr style=\"text-align: right;\">\n",
       "      <th></th>\n",
       "      <th>id</th>\n",
       "      <th>title</th>\n",
       "      <th>time</th>\n",
       "      <th>year</th>\n",
       "    </tr>\n",
       "  </thead>\n",
       "  <tbody>\n",
       "    <tr>\n",
       "      <td>0</td>\n",
       "      <td>tt2193151</td>\n",
       "      <td>Mantera</td>\n",
       "      <td>117</td>\n",
       "      <td>2012</td>\n",
       "    </tr>\n",
       "    <tr>\n",
       "      <td>1</td>\n",
       "      <td>tt0198370</td>\n",
       "      <td>Chu cu chuo tou fa cu cai</td>\n",
       "      <td>82</td>\n",
       "      <td>1980</td>\n",
       "    </tr>\n",
       "    <tr>\n",
       "      <td>2</td>\n",
       "      <td>tt6170804</td>\n",
       "      <td>The Assassin's Code</td>\n",
       "      <td>95</td>\n",
       "      <td>2018</td>\n",
       "    </tr>\n",
       "  </tbody>\n",
       "</table>\n",
       "</div>"
      ],
      "text/plain": [
       "          id                      title  time  year\n",
       "0  tt2193151                    Mantera   117  2012\n",
       "1  tt0198370  Chu cu chuo tou fa cu cai    82  1980\n",
       "2  tt6170804        The Assassin's Code    95  2018"
      ]
     },
     "execution_count": 61,
     "metadata": {},
     "output_type": "execute_result"
    }
   ],
   "source": [
    "pd.read_sql('SELECT * FROM action_movie ORDER BY RANDOM() LIMIT 3', conn)"
   ]
  },
  {
   "cell_type": "code",
   "execution_count": 62,
   "metadata": {},
   "outputs": [
    {
     "data": {
      "text/html": [
       "<div>\n",
       "<style scoped>\n",
       "    .dataframe tbody tr th:only-of-type {\n",
       "        vertical-align: middle;\n",
       "    }\n",
       "\n",
       "    .dataframe tbody tr th {\n",
       "        vertical-align: top;\n",
       "    }\n",
       "\n",
       "    .dataframe thead th {\n",
       "        text-align: right;\n",
       "    }\n",
       "</style>\n",
       "<table border=\"1\" class=\"dataframe\">\n",
       "  <thead>\n",
       "    <tr style=\"text-align: right;\">\n",
       "      <th></th>\n",
       "      <th>year</th>\n",
       "    </tr>\n",
       "  </thead>\n",
       "  <tbody>\n",
       "    <tr>\n",
       "      <td>0</td>\n",
       "      <td>1935</td>\n",
       "    </tr>\n",
       "    <tr>\n",
       "      <td>1</td>\n",
       "      <td>1974</td>\n",
       "    </tr>\n",
       "    <tr>\n",
       "      <td>2</td>\n",
       "      <td>1994</td>\n",
       "    </tr>\n",
       "  </tbody>\n",
       "</table>\n",
       "</div>"
      ],
      "text/plain": [
       "   year\n",
       "0  1935\n",
       "1  1974\n",
       "2  1994"
      ]
     },
     "execution_count": 62,
     "metadata": {},
     "output_type": "execute_result"
    }
   ],
   "source": [
    "#selecting 3 random years\n",
    "three_years = '''\n",
    "SELECT year FROM action_movie \n",
    "  GROUP BY year \n",
    "  ORDER BY RANDOM()\n",
    "  LIMIT 3\n",
    "'''\n",
    "\n",
    "pd.read_sql(three_years, conn)"
   ]
  },
  {
   "cell_type": "code",
   "execution_count": 63,
   "metadata": {},
   "outputs": [
    {
     "data": {
      "text/html": [
       "<div>\n",
       "<style scoped>\n",
       "    .dataframe tbody tr th:only-of-type {\n",
       "        vertical-align: middle;\n",
       "    }\n",
       "\n",
       "    .dataframe tbody tr th {\n",
       "        vertical-align: top;\n",
       "    }\n",
       "\n",
       "    .dataframe thead th {\n",
       "        text-align: right;\n",
       "    }\n",
       "</style>\n",
       "<table border=\"1\" class=\"dataframe\">\n",
       "  <thead>\n",
       "    <tr style=\"text-align: right;\">\n",
       "      <th></th>\n",
       "      <th>id</th>\n",
       "      <th>title</th>\n",
       "      <th>time</th>\n",
       "      <th>year</th>\n",
       "    </tr>\n",
       "  </thead>\n",
       "  <tbody>\n",
       "    <tr>\n",
       "      <td>0</td>\n",
       "      <td>tt0010879</td>\n",
       "      <td>When the Clouds Roll by</td>\n",
       "      <td>85</td>\n",
       "      <td>1919</td>\n",
       "    </tr>\n",
       "    <tr>\n",
       "      <td>1</td>\n",
       "      <td>tt0080828</td>\n",
       "      <td>Encounter of the Spooky Kind II</td>\n",
       "      <td>87</td>\n",
       "      <td>1989</td>\n",
       "    </tr>\n",
       "    <tr>\n",
       "      <td>...</td>\n",
       "      <td>...</td>\n",
       "      <td>...</td>\n",
       "      <td>...</td>\n",
       "      <td>...</td>\n",
       "    </tr>\n",
       "    <tr>\n",
       "      <td>739</td>\n",
       "      <td>tt9486348</td>\n",
       "      <td>Cinema Enthusiast</td>\n",
       "      <td>95</td>\n",
       "      <td>2000</td>\n",
       "    </tr>\n",
       "    <tr>\n",
       "      <td>740</td>\n",
       "      <td>tt9697960</td>\n",
       "      <td>Nommara 17</td>\n",
       "      <td>107</td>\n",
       "      <td>1989</td>\n",
       "    </tr>\n",
       "  </tbody>\n",
       "</table>\n",
       "<p>741 rows × 4 columns</p>\n",
       "</div>"
      ],
      "text/plain": [
       "            id                            title  time  year\n",
       "0    tt0010879          When the Clouds Roll by    85  1919\n",
       "1    tt0080828  Encounter of the Spooky Kind II    87  1989\n",
       "..         ...                              ...   ...   ...\n",
       "739  tt9486348                Cinema Enthusiast    95  2000\n",
       "740  tt9697960                       Nommara 17   107  1989\n",
       "\n",
       "[741 rows x 4 columns]"
      ]
     },
     "execution_count": 63,
     "metadata": {},
     "output_type": "execute_result"
    }
   ],
   "source": [
    "#selecting all movies from 3 random years\n",
    "three_years = '''\n",
    "SELECT year FROM action_movie \n",
    "  GROUP BY year \n",
    "  ORDER BY RANDOM()\n",
    "  LIMIT 3\n",
    "'''\n",
    "\n",
    "cluster_sample = f'''\n",
    "SELECT * FROM action_movie \n",
    "WHERE year IN ({three_years})\n",
    "'''\n",
    "\n",
    "pd.read_sql(f'''\n",
    "SELECT *\n",
    "FROM ({cluster_sample}) \n",
    "''', conn)"
   ]
  },
  {
   "cell_type": "code",
   "execution_count": 64,
   "metadata": {},
   "outputs": [
    {
     "name": "stdout",
     "output_type": "stream",
     "text": [
      "\n",
      "SELECT * FROM action_movie \n",
      "WHERE year IN (\n",
      "SELECT year FROM action_movie \n",
      "  GROUP BY year \n",
      "  ORDER BY RANDOM()\n",
      "  LIMIT 3\n",
      ")\n",
      "\n"
     ]
    }
   ],
   "source": [
    "# Query has two select statements\n",
    "# Inner select statement creates the table of 3 randomly chosen years.\n",
    "print(cluster_sample)"
   ]
  },
  {
   "cell_type": "markdown",
   "metadata": {},
   "source": [
    "## Ages of Fame"
   ]
  },
  {
   "cell_type": "markdown",
   "metadata": {},
   "source": [
    "#### CASE Example"
   ]
  },
  {
   "cell_type": "code",
   "execution_count": 65,
   "metadata": {},
   "outputs": [
    {
     "data": {
      "text/html": [
       "<div>\n",
       "<style scoped>\n",
       "    .dataframe tbody tr th:only-of-type {\n",
       "        vertical-align: middle;\n",
       "    }\n",
       "\n",
       "    .dataframe tbody tr th {\n",
       "        vertical-align: top;\n",
       "    }\n",
       "\n",
       "    .dataframe thead th {\n",
       "        text-align: right;\n",
       "    }\n",
       "</style>\n",
       "<table border=\"1\" class=\"dataframe\">\n",
       "  <thead>\n",
       "    <tr style=\"text-align: right;\">\n",
       "      <th></th>\n",
       "      <th>id</th>\n",
       "      <th>title</th>\n",
       "      <th>time</th>\n",
       "      <th>year</th>\n",
       "      <th>length</th>\n",
       "    </tr>\n",
       "  </thead>\n",
       "  <tbody>\n",
       "    <tr>\n",
       "      <td>11389</td>\n",
       "      <td>tt0479660</td>\n",
       "      <td>Exodus: Tales from the Enchanted Kingdom</td>\n",
       "      <td>106</td>\n",
       "      <td>2005</td>\n",
       "      <td>medium</td>\n",
       "    </tr>\n",
       "    <tr>\n",
       "      <td>18209</td>\n",
       "      <td>tt5495248</td>\n",
       "      <td>Boxer</td>\n",
       "      <td>124</td>\n",
       "      <td>2015</td>\n",
       "      <td>long</td>\n",
       "    </tr>\n",
       "    <tr>\n",
       "      <td>...</td>\n",
       "      <td>...</td>\n",
       "      <td>...</td>\n",
       "      <td>...</td>\n",
       "      <td>...</td>\n",
       "      <td>...</td>\n",
       "    </tr>\n",
       "    <tr>\n",
       "      <td>6602</td>\n",
       "      <td>tt0221383</td>\n",
       "      <td>Mashamal - ritorno al deserto</td>\n",
       "      <td>98</td>\n",
       "      <td>1998</td>\n",
       "      <td>medium</td>\n",
       "    </tr>\n",
       "    <tr>\n",
       "      <td>5291</td>\n",
       "      <td>tt0165764</td>\n",
       "      <td>Ever Victorious Hall</td>\n",
       "      <td>76</td>\n",
       "      <td>1973</td>\n",
       "      <td>medium</td>\n",
       "    </tr>\n",
       "  </tbody>\n",
       "</table>\n",
       "<p>10 rows × 5 columns</p>\n",
       "</div>"
      ],
      "text/plain": [
       "              id                                     title  time  year  length\n",
       "11389  tt0479660  Exodus: Tales from the Enchanted Kingdom   106  2005  medium\n",
       "18209  tt5495248                                     Boxer   124  2015    long\n",
       "...          ...                                       ...   ...   ...     ...\n",
       "6602   tt0221383             Mashamal - ritorno al deserto    98  1998  medium\n",
       "5291   tt0165764                      Ever Victorious Hall    76  1973  medium\n",
       "\n",
       "[10 rows x 5 columns]"
      ]
     },
     "execution_count": 65,
     "metadata": {},
     "output_type": "execute_result"
    }
   ],
   "source": [
    "#case statement example\n",
    "pd.read_sql('''\n",
    "SELECT id, title, time, year,\n",
    "     CASE WHEN time < 70 THEN 'short'\n",
    "          WHEN time < 120 THEN 'medium'\n",
    "          ELSE 'long'\n",
    "     END as length\n",
    "          \n",
    "FROM action_movie\n",
    "''', conn).sample(10)"
   ]
  },
  {
   "cell_type": "code",
   "execution_count": 66,
   "metadata": {},
   "outputs": [
    {
     "data": {
      "text/html": [
       "<div>\n",
       "<style scoped>\n",
       "    .dataframe tbody tr th:only-of-type {\n",
       "        vertical-align: middle;\n",
       "    }\n",
       "\n",
       "    .dataframe tbody tr th {\n",
       "        vertical-align: top;\n",
       "    }\n",
       "\n",
       "    .dataframe thead th {\n",
       "        text-align: right;\n",
       "    }\n",
       "</style>\n",
       "<table border=\"1\" class=\"dataframe\">\n",
       "  <thead>\n",
       "    <tr style=\"text-align: right;\">\n",
       "      <th></th>\n",
       "      <th>id</th>\n",
       "      <th>title</th>\n",
       "      <th>time</th>\n",
       "      <th>year</th>\n",
       "      <th>decade</th>\n",
       "    </tr>\n",
       "  </thead>\n",
       "  <tbody>\n",
       "    <tr>\n",
       "      <td>7125</td>\n",
       "      <td>tt0251767</td>\n",
       "      <td>Karakumy, 45 v teni</td>\n",
       "      <td>95</td>\n",
       "      <td>1982</td>\n",
       "      <td>not 70s</td>\n",
       "    </tr>\n",
       "    <tr>\n",
       "      <td>7689</td>\n",
       "      <td>tt0279848</td>\n",
       "      <td>El halcón solitario</td>\n",
       "      <td>75</td>\n",
       "      <td>1964</td>\n",
       "      <td>not 70s</td>\n",
       "    </tr>\n",
       "    <tr>\n",
       "      <td>...</td>\n",
       "      <td>...</td>\n",
       "      <td>...</td>\n",
       "      <td>...</td>\n",
       "      <td>...</td>\n",
       "      <td>...</td>\n",
       "    </tr>\n",
       "    <tr>\n",
       "      <td>1997</td>\n",
       "      <td>tt0090062</td>\n",
       "      <td>Stand Alone</td>\n",
       "      <td>94</td>\n",
       "      <td>1985</td>\n",
       "      <td>not 70s</td>\n",
       "    </tr>\n",
       "    <tr>\n",
       "      <td>7090</td>\n",
       "      <td>tt0249863</td>\n",
       "      <td>Pancho Villa and Valentina</td>\n",
       "      <td>87</td>\n",
       "      <td>1960</td>\n",
       "      <td>not 70s</td>\n",
       "    </tr>\n",
       "  </tbody>\n",
       "</table>\n",
       "<p>10 rows × 5 columns</p>\n",
       "</div>"
      ],
      "text/plain": [
       "             id                       title  time  year   decade\n",
       "7125  tt0251767         Karakumy, 45 v teni    95  1982  not 70s\n",
       "7689  tt0279848         El halcón solitario    75  1964  not 70s\n",
       "...         ...                         ...   ...   ...      ...\n",
       "1997  tt0090062                 Stand Alone    94  1985  not 70s\n",
       "7090  tt0249863  Pancho Villa and Valentina    87  1960  not 70s\n",
       "\n",
       "[10 rows x 5 columns]"
      ]
     },
     "execution_count": 66,
     "metadata": {},
     "output_type": "execute_result"
    }
   ],
   "source": [
    "#case statement example with a base expression\n",
    "pd.read_sql('''\n",
    "SELECT id, title, time, year,\n",
    "     CASE year LIKE '%197%' WHEN True THEN '70s'          \n",
    "          ELSE 'not 70s'\n",
    "     END as decade\n",
    "          \n",
    "FROM action_movie\n",
    "''', conn).sample(10)"
   ]
  },
  {
   "cell_type": "markdown",
   "metadata": {},
   "source": [
    "#### SUBSTR Example"
   ]
  },
  {
   "cell_type": "code",
   "execution_count": 67,
   "metadata": {},
   "outputs": [
    {
     "data": {
      "text/html": [
       "<div>\n",
       "<style scoped>\n",
       "    .dataframe tbody tr th:only-of-type {\n",
       "        vertical-align: middle;\n",
       "    }\n",
       "\n",
       "    .dataframe tbody tr th {\n",
       "        vertical-align: top;\n",
       "    }\n",
       "\n",
       "    .dataframe thead th {\n",
       "        text-align: right;\n",
       "    }\n",
       "</style>\n",
       "<table border=\"1\" class=\"dataframe\">\n",
       "  <thead>\n",
       "    <tr style=\"text-align: right;\">\n",
       "      <th></th>\n",
       "      <th>name</th>\n",
       "      <th>knownForTitles</th>\n",
       "    </tr>\n",
       "  </thead>\n",
       "  <tbody>\n",
       "    <tr>\n",
       "      <td>0</td>\n",
       "      <td>Fred Astaire</td>\n",
       "      <td>tt0050419,tt0043044,tt0053137,tt0072308</td>\n",
       "    </tr>\n",
       "    <tr>\n",
       "      <td>1</td>\n",
       "      <td>Lauren Bacall</td>\n",
       "      <td>tt0117057,tt0038355,tt0071877,tt0037382</td>\n",
       "    </tr>\n",
       "    <tr>\n",
       "      <td>...</td>\n",
       "      <td>...</td>\n",
       "      <td>...</td>\n",
       "    </tr>\n",
       "    <tr>\n",
       "      <td>8</td>\n",
       "      <td>Richard Burton</td>\n",
       "      <td>tt0087803,tt0061184,tt0057877,tt0059749</td>\n",
       "    </tr>\n",
       "    <tr>\n",
       "      <td>9</td>\n",
       "      <td>James Cagney</td>\n",
       "      <td>tt0042041,tt0035575,tt0031867,tt0029870</td>\n",
       "    </tr>\n",
       "  </tbody>\n",
       "</table>\n",
       "<p>10 rows × 2 columns</p>\n",
       "</div>"
      ],
      "text/plain": [
       "              name                           knownForTitles\n",
       "0     Fred Astaire  tt0050419,tt0043044,tt0053137,tt0072308\n",
       "1    Lauren Bacall  tt0117057,tt0038355,tt0071877,tt0037382\n",
       "..             ...                                      ...\n",
       "8   Richard Burton  tt0087803,tt0061184,tt0057877,tt0059749\n",
       "9     James Cagney  tt0042041,tt0035575,tt0031867,tt0029870\n",
       "\n",
       "[10 rows x 2 columns]"
      ]
     },
     "execution_count": 67,
     "metadata": {},
     "output_type": "execute_result"
    }
   ],
   "source": [
    "select_people = f'''\n",
    "SELECT primaryName AS name, knownForTitles  \n",
    "FROM names\n",
    "'''\n",
    "\n",
    "pd.read_sql(f'{select_people} LIMIT 10', conn)"
   ]
  },
  {
   "cell_type": "code",
   "execution_count": 68,
   "metadata": {
    "scrolled": true
   },
   "outputs": [
    {
     "data": {
      "text/html": [
       "<div>\n",
       "<style scoped>\n",
       "    .dataframe tbody tr th:only-of-type {\n",
       "        vertical-align: middle;\n",
       "    }\n",
       "\n",
       "    .dataframe tbody tr th {\n",
       "        vertical-align: top;\n",
       "    }\n",
       "\n",
       "    .dataframe thead th {\n",
       "        text-align: right;\n",
       "    }\n",
       "</style>\n",
       "<table border=\"1\" class=\"dataframe\">\n",
       "  <thead>\n",
       "    <tr style=\"text-align: right;\">\n",
       "      <th></th>\n",
       "      <th>name</th>\n",
       "      <th>most_popular_id</th>\n",
       "    </tr>\n",
       "  </thead>\n",
       "  <tbody>\n",
       "    <tr>\n",
       "      <td>0</td>\n",
       "      <td>Fred Astaire</td>\n",
       "      <td>tt0050419</td>\n",
       "    </tr>\n",
       "    <tr>\n",
       "      <td>1</td>\n",
       "      <td>Lauren Bacall</td>\n",
       "      <td>tt0117057</td>\n",
       "    </tr>\n",
       "    <tr>\n",
       "      <td>...</td>\n",
       "      <td>...</td>\n",
       "      <td>...</td>\n",
       "    </tr>\n",
       "    <tr>\n",
       "      <td>8</td>\n",
       "      <td>Richard Burton</td>\n",
       "      <td>tt0087803</td>\n",
       "    </tr>\n",
       "    <tr>\n",
       "      <td>9</td>\n",
       "      <td>James Cagney</td>\n",
       "      <td>tt0042041</td>\n",
       "    </tr>\n",
       "  </tbody>\n",
       "</table>\n",
       "<p>10 rows × 2 columns</p>\n",
       "</div>"
      ],
      "text/plain": [
       "              name most_popular_id\n",
       "0     Fred Astaire       tt0050419\n",
       "1    Lauren Bacall       tt0117057\n",
       "..             ...             ...\n",
       "8   Richard Burton       tt0087803\n",
       "9     James Cagney       tt0042041\n",
       "\n",
       "[10 rows x 2 columns]"
      ]
     },
     "execution_count": 68,
     "metadata": {},
     "output_type": "execute_result"
    }
   ],
   "source": [
    "select_people = f'''\n",
    "SELECT primaryName AS name,   \n",
    "  SUBSTR(knownForTitles, 0, INSTR(knownForTitles, ',')) AS most_popular_id\n",
    "FROM names\n",
    "'''\n",
    "\n",
    "pd.read_sql(f'{select_people} LIMIT 10', conn)"
   ]
  },
  {
   "cell_type": "markdown",
   "metadata": {},
   "source": [
    "### Age Trends"
   ]
  },
  {
   "cell_type": "code",
   "execution_count": 69,
   "metadata": {},
   "outputs": [
    {
     "data": {
      "text/html": [
       "<div>\n",
       "<style scoped>\n",
       "    .dataframe tbody tr th:only-of-type {\n",
       "        vertical-align: middle;\n",
       "    }\n",
       "\n",
       "    .dataframe tbody tr th {\n",
       "        vertical-align: top;\n",
       "    }\n",
       "\n",
       "    .dataframe thead th {\n",
       "        text-align: right;\n",
       "    }\n",
       "</style>\n",
       "<table border=\"1\" class=\"dataframe\">\n",
       "  <thead>\n",
       "    <tr style=\"text-align: right;\">\n",
       "      <th></th>\n",
       "      <th>nconst</th>\n",
       "      <th>primaryName</th>\n",
       "      <th>birthYear</th>\n",
       "      <th>deathYear</th>\n",
       "      <th>primaryProfession</th>\n",
       "      <th>knownForTitles</th>\n",
       "    </tr>\n",
       "  </thead>\n",
       "  <tbody>\n",
       "    <tr>\n",
       "      <td>0</td>\n",
       "      <td>nm0000001</td>\n",
       "      <td>Fred Astaire</td>\n",
       "      <td>1899</td>\n",
       "      <td>1987</td>\n",
       "      <td>soundtrack,actor,miscellaneous</td>\n",
       "      <td>tt0050419,tt0043044,tt0053137,tt0072308</td>\n",
       "    </tr>\n",
       "    <tr>\n",
       "      <td>1</td>\n",
       "      <td>nm0000002</td>\n",
       "      <td>Lauren Bacall</td>\n",
       "      <td>1924</td>\n",
       "      <td>2014</td>\n",
       "      <td>actress,soundtrack</td>\n",
       "      <td>tt0117057,tt0038355,tt0071877,tt0037382</td>\n",
       "    </tr>\n",
       "    <tr>\n",
       "      <td>...</td>\n",
       "      <td>...</td>\n",
       "      <td>...</td>\n",
       "      <td>...</td>\n",
       "      <td>...</td>\n",
       "      <td>...</td>\n",
       "      <td>...</td>\n",
       "    </tr>\n",
       "    <tr>\n",
       "      <td>8</td>\n",
       "      <td>nm0000009</td>\n",
       "      <td>Richard Burton</td>\n",
       "      <td>1925</td>\n",
       "      <td>1984</td>\n",
       "      <td>actor,producer,soundtrack</td>\n",
       "      <td>tt0087803,tt0061184,tt0057877,tt0059749</td>\n",
       "    </tr>\n",
       "    <tr>\n",
       "      <td>9</td>\n",
       "      <td>nm0000010</td>\n",
       "      <td>James Cagney</td>\n",
       "      <td>1899</td>\n",
       "      <td>1986</td>\n",
       "      <td>actor,soundtrack,director</td>\n",
       "      <td>tt0042041,tt0035575,tt0031867,tt0029870</td>\n",
       "    </tr>\n",
       "  </tbody>\n",
       "</table>\n",
       "<p>10 rows × 6 columns</p>\n",
       "</div>"
      ],
      "text/plain": [
       "       nconst     primaryName birthYear deathYear  \\\n",
       "0   nm0000001    Fred Astaire      1899      1987   \n",
       "1   nm0000002   Lauren Bacall      1924      2014   \n",
       "..        ...             ...       ...       ...   \n",
       "8   nm0000009  Richard Burton      1925      1984   \n",
       "9   nm0000010    James Cagney      1899      1986   \n",
       "\n",
       "                 primaryProfession                           knownForTitles  \n",
       "0   soundtrack,actor,miscellaneous  tt0050419,tt0043044,tt0053137,tt0072308  \n",
       "1               actress,soundtrack  tt0117057,tt0038355,tt0071877,tt0037382  \n",
       "..                             ...                                      ...  \n",
       "8        actor,producer,soundtrack  tt0087803,tt0061184,tt0057877,tt0059749  \n",
       "9        actor,soundtrack,director  tt0042041,tt0035575,tt0031867,tt0029870  \n",
       "\n",
       "[10 rows x 6 columns]"
      ]
     },
     "execution_count": 69,
     "metadata": {},
     "output_type": "execute_result"
    }
   ],
   "source": [
    "pd.read_sql('SELECT * FROM names LIMIT 10;', conn)"
   ]
  },
  {
   "cell_type": "code",
   "execution_count": 70,
   "metadata": {},
   "outputs": [
    {
     "data": {
      "text/html": [
       "<div>\n",
       "<style scoped>\n",
       "    .dataframe tbody tr th:only-of-type {\n",
       "        vertical-align: middle;\n",
       "    }\n",
       "\n",
       "    .dataframe tbody tr th {\n",
       "        vertical-align: top;\n",
       "    }\n",
       "\n",
       "    .dataframe thead th {\n",
       "        text-align: right;\n",
       "    }\n",
       "</style>\n",
       "<table border=\"1\" class=\"dataframe\">\n",
       "  <thead>\n",
       "    <tr style=\"text-align: right;\">\n",
       "      <th></th>\n",
       "      <th>name</th>\n",
       "      <th>born</th>\n",
       "      <th>movie_id</th>\n",
       "      <th>profession</th>\n",
       "    </tr>\n",
       "  </thead>\n",
       "  <tbody>\n",
       "    <tr>\n",
       "      <td>0</td>\n",
       "      <td>Fred Astaire</td>\n",
       "      <td>1899</td>\n",
       "      <td>tt0050419</td>\n",
       "      <td>actor</td>\n",
       "    </tr>\n",
       "    <tr>\n",
       "      <td>1</td>\n",
       "      <td>Lauren Bacall</td>\n",
       "      <td>1924</td>\n",
       "      <td>tt0117057</td>\n",
       "      <td>actress</td>\n",
       "    </tr>\n",
       "    <tr>\n",
       "      <td>...</td>\n",
       "      <td>...</td>\n",
       "      <td>...</td>\n",
       "      <td>...</td>\n",
       "      <td>...</td>\n",
       "    </tr>\n",
       "    <tr>\n",
       "      <td>8</td>\n",
       "      <td>Richard Burton</td>\n",
       "      <td>1925</td>\n",
       "      <td>tt0087803</td>\n",
       "      <td>actor</td>\n",
       "    </tr>\n",
       "    <tr>\n",
       "      <td>9</td>\n",
       "      <td>James Cagney</td>\n",
       "      <td>1899</td>\n",
       "      <td>tt0042041</td>\n",
       "      <td>actor</td>\n",
       "    </tr>\n",
       "  </tbody>\n",
       "</table>\n",
       "<p>10 rows × 4 columns</p>\n",
       "</div>"
      ],
      "text/plain": [
       "              name  born   movie_id profession\n",
       "0     Fred Astaire  1899  tt0050419      actor\n",
       "1    Lauren Bacall  1924  tt0117057    actress\n",
       "..             ...   ...        ...        ...\n",
       "8   Richard Burton  1925  tt0087803      actor\n",
       "9     James Cagney  1899  tt0042041      actor\n",
       "\n",
       "[10 rows x 4 columns]"
      ]
     },
     "execution_count": 70,
     "metadata": {},
     "output_type": "execute_result"
    }
   ],
   "source": [
    "select_actors = f'''\n",
    "SELECT primaryName AS name, \n",
    "  CAST(birthYear AS int) AS born,\n",
    "  SUBSTR(knownForTitles, 0, INSTR(knownForTitles, ',')) AS movie_id,\n",
    "  CASE WHEN primaryProfession LIKE '%actor%' THEN 'actor' \n",
    "    WHEN primaryProfession LIKE '%actress%' THEN 'actress'   \n",
    "    END AS profession\n",
    "FROM names\n",
    "WHERE primaryProfession LIKE '%act%' AND\n",
    "  born > 1800\n",
    "'''\n",
    "\n",
    "pd.read_sql(f'{select_actors} LIMIT 10', conn)"
   ]
  },
  {
   "cell_type": "code",
   "execution_count": 71,
   "metadata": {
    "scrolled": true
   },
   "outputs": [
    {
     "data": {
      "text/html": [
       "<div>\n",
       "<style scoped>\n",
       "    .dataframe tbody tr th:only-of-type {\n",
       "        vertical-align: middle;\n",
       "    }\n",
       "\n",
       "    .dataframe tbody tr th {\n",
       "        vertical-align: top;\n",
       "    }\n",
       "\n",
       "    .dataframe thead th {\n",
       "        text-align: right;\n",
       "    }\n",
       "</style>\n",
       "<table border=\"1\" class=\"dataframe\">\n",
       "  <thead>\n",
       "    <tr style=\"text-align: right;\">\n",
       "      <th></th>\n",
       "      <th>name</th>\n",
       "      <th>profession</th>\n",
       "      <th>born</th>\n",
       "      <th>title</th>\n",
       "      <th>year</th>\n",
       "    </tr>\n",
       "  </thead>\n",
       "  <tbody>\n",
       "    <tr>\n",
       "      <td>0</td>\n",
       "      <td>John Belushi</td>\n",
       "      <td>actor</td>\n",
       "      <td>1949</td>\n",
       "      <td>1941</td>\n",
       "      <td>1979</td>\n",
       "    </tr>\n",
       "    <tr>\n",
       "      <td>1</td>\n",
       "      <td>Alec Guinness</td>\n",
       "      <td>actor</td>\n",
       "      <td>1914</td>\n",
       "      <td>Star Wars: Episode IV - A New Hope</td>\n",
       "      <td>1977</td>\n",
       "    </tr>\n",
       "    <tr>\n",
       "      <td>...</td>\n",
       "      <td>...</td>\n",
       "      <td>...</td>\n",
       "      <td>...</td>\n",
       "      <td>...</td>\n",
       "      <td>...</td>\n",
       "    </tr>\n",
       "    <tr>\n",
       "      <td>8</td>\n",
       "      <td>Antonio Banderas</td>\n",
       "      <td>actor</td>\n",
       "      <td>1960</td>\n",
       "      <td>Desperado</td>\n",
       "      <td>1995</td>\n",
       "    </tr>\n",
       "    <tr>\n",
       "      <td>9</td>\n",
       "      <td>Adrienne Barbeau</td>\n",
       "      <td>actress</td>\n",
       "      <td>1945</td>\n",
       "      <td>Escape from New York</td>\n",
       "      <td>1981</td>\n",
       "    </tr>\n",
       "  </tbody>\n",
       "</table>\n",
       "<p>10 rows × 5 columns</p>\n",
       "</div>"
      ],
      "text/plain": [
       "                name profession  born                               title  \\\n",
       "0       John Belushi      actor  1949                                1941   \n",
       "1      Alec Guinness      actor  1914  Star Wars: Episode IV - A New Hope   \n",
       "..               ...        ...   ...                                 ...   \n",
       "8   Antonio Banderas      actor  1960                           Desperado   \n",
       "9   Adrienne Barbeau    actress  1945                Escape from New York   \n",
       "\n",
       "    year  \n",
       "0   1979  \n",
       "1   1977  \n",
       "..   ...  \n",
       "8   1995  \n",
       "9   1981  \n",
       "\n",
       "[10 rows x 5 columns]"
      ]
     },
     "execution_count": 71,
     "metadata": {},
     "output_type": "execute_result"
    }
   ],
   "source": [
    "select = f'''\n",
    "SELECT name, profession, born, title, year\n",
    "FROM ({select_actors}) JOIN action_movie\n",
    "  ON movie_id = id;\n",
    "'''\n",
    "\n",
    "conn.executescript(f'''\n",
    "DROP TABLE IF EXISTS action_ppl;\n",
    "CREATE TABLE action_ppl AS {select};\n",
    "''')\n",
    "\n",
    "pd.read_sql('SELECT * FROM action_ppl LIMIT 10', conn)"
   ]
  },
  {
   "cell_type": "markdown",
   "metadata": {},
   "source": [
    "The table above gives us all the people whose first movie in IMDB's \"known for\" list is an action movie, along with the name of that movie. We call these people \"action people\"."
   ]
  },
  {
   "cell_type": "markdown",
   "metadata": {},
   "source": [
    "There's a lot we can do with this table, i.e. we can find all the people whose top role has the word \"Vampire\" in it."
   ]
  },
  {
   "cell_type": "code",
   "execution_count": 72,
   "metadata": {
    "scrolled": true
   },
   "outputs": [
    {
     "data": {
      "text/html": [
       "<div>\n",
       "<style scoped>\n",
       "    .dataframe tbody tr th:only-of-type {\n",
       "        vertical-align: middle;\n",
       "    }\n",
       "\n",
       "    .dataframe tbody tr th {\n",
       "        vertical-align: top;\n",
       "    }\n",
       "\n",
       "    .dataframe thead th {\n",
       "        text-align: right;\n",
       "    }\n",
       "</style>\n",
       "<table border=\"1\" class=\"dataframe\">\n",
       "  <thead>\n",
       "    <tr style=\"text-align: right;\">\n",
       "      <th></th>\n",
       "      <th>name</th>\n",
       "      <th>profession</th>\n",
       "      <th>born</th>\n",
       "      <th>title</th>\n",
       "      <th>year</th>\n",
       "    </tr>\n",
       "  </thead>\n",
       "  <tbody>\n",
       "    <tr>\n",
       "      <td>0</td>\n",
       "      <td>Luke Perry</td>\n",
       "      <td>actor</td>\n",
       "      <td>1966</td>\n",
       "      <td>Buffy the Vampire Slayer</td>\n",
       "      <td>1992</td>\n",
       "    </tr>\n",
       "    <tr>\n",
       "      <td>1</td>\n",
       "      <td>Thomas Ian Griffith</td>\n",
       "      <td>actor</td>\n",
       "      <td>1962</td>\n",
       "      <td>Vampires</td>\n",
       "      <td>1998</td>\n",
       "    </tr>\n",
       "    <tr>\n",
       "      <td>...</td>\n",
       "      <td>...</td>\n",
       "      <td>...</td>\n",
       "      <td>...</td>\n",
       "      <td>...</td>\n",
       "      <td>...</td>\n",
       "    </tr>\n",
       "    <tr>\n",
       "      <td>52</td>\n",
       "      <td>Tim L. Brennon</td>\n",
       "      <td>actor</td>\n",
       "      <td>1961</td>\n",
       "      <td>Cirque du Freak: The Vampire's Assistant</td>\n",
       "      <td>2009</td>\n",
       "    </tr>\n",
       "    <tr>\n",
       "      <td>53</td>\n",
       "      <td>Iggy Azalea</td>\n",
       "      <td>actress</td>\n",
       "      <td>1990</td>\n",
       "      <td>Vampire Academy</td>\n",
       "      <td>2014</td>\n",
       "    </tr>\n",
       "  </tbody>\n",
       "</table>\n",
       "<p>54 rows × 5 columns</p>\n",
       "</div>"
      ],
      "text/plain": [
       "                   name profession  born  \\\n",
       "0            Luke Perry      actor  1966   \n",
       "1   Thomas Ian Griffith      actor  1962   \n",
       "..                  ...        ...   ...   \n",
       "52       Tim L. Brennon      actor  1961   \n",
       "53          Iggy Azalea    actress  1990   \n",
       "\n",
       "                                       title  year  \n",
       "0                   Buffy the Vampire Slayer  1992  \n",
       "1                                   Vampires  1998  \n",
       "..                                       ...   ...  \n",
       "52  Cirque du Freak: The Vampire's Assistant  2009  \n",
       "53                           Vampire Academy  2014  \n",
       "\n",
       "[54 rows x 5 columns]"
      ]
     },
     "execution_count": 72,
     "metadata": {},
     "output_type": "execute_result"
    }
   ],
   "source": [
    "vampire_people = '''\n",
    "SELECT *\n",
    "FROM action_ppl\n",
    "WHERE title LIKE \"%Vampire%\"\n",
    "'''\n",
    "\n",
    "pd.read_sql(vampire_people, conn)"
   ]
  },
  {
   "cell_type": "markdown",
   "metadata": {},
   "source": [
    "Or we can read in our dataframe into pandas and make a plot. Let's see the age of each actor when their best known movie was made."
   ]
  },
  {
   "cell_type": "code",
   "execution_count": 73,
   "metadata": {},
   "outputs": [
    {
     "data": {
      "text/plain": [
       "(17810, 5)"
      ]
     },
     "execution_count": 73,
     "metadata": {},
     "output_type": "execute_result"
    }
   ],
   "source": [
    "df = pd.read_sql('SELECT * FROM action_ppl', conn)\n",
    "df.shape"
   ]
  },
  {
   "cell_type": "code",
   "execution_count": 74,
   "metadata": {},
   "outputs": [
    {
     "data": {
      "image/png": "[encoded data removed]",
      "text/plain": [
       "<Figure size 432x288 with 1 Axes>"
      ]
     },
     "metadata": {},
     "output_type": "display_data"
    }
   ],
   "source": [
    "df['age'] = df['year'] - df['born']\n",
    "bins = np.linspace(0, 100, 21)\n",
    "sns.distplot(df[df['profession']=='actor']['age'], bins=bins)\n",
    "sns.distplot(df[df['profession']=='actress']['age'], bins=bins)\n",
    "plt.legend(labels=['Actor', 'Actress'])\n",
    "plt.xticks(bins, rotation=90)\n",
    "plt.xlim(0, 100)\n",
    "plt.ylabel('density');\n",
    "plt.title('Ages of actors in the Action movies they are known for');"
   ]
  }
 ],
 "metadata": {
  "kernelspec": {
   "display_name": "Python 3",
   "language": "python",
   "name": "python3"
  },
  "language_info": {
   "codemirror_mode": {
    "name": "ipython",
    "version": 3
   },
   "file_extension": ".py",
   "mimetype": "text/x-python",
   "name": "python",
   "nbconvert_exporter": "python",
   "pygments_lexer": "ipython3",
   "version": "3.6.4"
  }
 },
 "nbformat": 4,
 "nbformat_minor": 2
}
